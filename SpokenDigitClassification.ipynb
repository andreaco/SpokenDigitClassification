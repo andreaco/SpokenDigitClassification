{
  "nbformat": 4,
  "nbformat_minor": 0,
  "metadata": {
    "colab": {
      "name": "SpokenDigitClassification.ipynb",
      "provenance": [],
      "collapsed_sections": []
    },
    "kernelspec": {
      "name": "python3",
      "display_name": "Python 3"
    },
    "widgets": {
      "application/vnd.jupyter.widget-state+json": {
        "9a38c41ec896448e9f2a7b2f961d45d3": {
          "model_module": "@jupyter-widgets/controls",
          "model_name": "HBoxModel",
          "state": {
            "_view_name": "HBoxView",
            "_dom_classes": [],
            "_model_name": "HBoxModel",
            "_view_module": "@jupyter-widgets/controls",
            "_model_module_version": "1.5.0",
            "_view_count": null,
            "_view_module_version": "1.5.0",
            "box_style": "",
            "layout": "IPY_MODEL_277eb9e28de54c1aa8372c735c6c32cb",
            "_model_module": "@jupyter-widgets/controls",
            "children": [
              "IPY_MODEL_9b09374039094c51b3924f6ed2cef17d",
              "IPY_MODEL_1ba6e7d580744e39ab56d3c140654fd6"
            ]
          }
        },
        "277eb9e28de54c1aa8372c735c6c32cb": {
          "model_module": "@jupyter-widgets/base",
          "model_name": "LayoutModel",
          "state": {
            "_view_name": "LayoutView",
            "grid_template_rows": null,
            "right": null,
            "justify_content": null,
            "_view_module": "@jupyter-widgets/base",
            "overflow": null,
            "_model_module_version": "1.2.0",
            "_view_count": null,
            "flex_flow": null,
            "width": null,
            "min_width": null,
            "border": null,
            "align_items": null,
            "bottom": null,
            "_model_module": "@jupyter-widgets/base",
            "top": null,
            "grid_column": null,
            "overflow_y": null,
            "overflow_x": null,
            "grid_auto_flow": null,
            "grid_area": null,
            "grid_template_columns": null,
            "flex": null,
            "_model_name": "LayoutModel",
            "justify_items": null,
            "grid_row": null,
            "max_height": null,
            "align_content": null,
            "visibility": null,
            "align_self": null,
            "height": null,
            "min_height": null,
            "padding": null,
            "grid_auto_rows": null,
            "grid_gap": null,
            "max_width": null,
            "order": null,
            "_view_module_version": "1.2.0",
            "grid_template_areas": null,
            "object_position": null,
            "object_fit": null,
            "grid_auto_columns": null,
            "margin": null,
            "display": null,
            "left": null
          }
        },
        "9b09374039094c51b3924f6ed2cef17d": {
          "model_module": "@jupyter-widgets/controls",
          "model_name": "FloatProgressModel",
          "state": {
            "_view_name": "ProgressView",
            "style": "IPY_MODEL_532f8421fc5746cc95a5b805723780e2",
            "_dom_classes": [],
            "description": "Loading audio samples: 100%",
            "_model_name": "FloatProgressModel",
            "bar_style": "info",
            "max": 2000,
            "_view_module": "@jupyter-widgets/controls",
            "_model_module_version": "1.5.0",
            "value": 2000,
            "_view_count": null,
            "_view_module_version": "1.5.0",
            "orientation": "horizontal",
            "min": 0,
            "description_tooltip": null,
            "_model_module": "@jupyter-widgets/controls",
            "layout": "IPY_MODEL_aa23b9c25ec545779034b722a25f1e4e"
          }
        },
        "1ba6e7d580744e39ab56d3c140654fd6": {
          "model_module": "@jupyter-widgets/controls",
          "model_name": "HTMLModel",
          "state": {
            "_view_name": "HTMLView",
            "style": "IPY_MODEL_a08717101cf64f92802da425d96472b7",
            "_dom_classes": [],
            "description": "",
            "_model_name": "HTMLModel",
            "placeholder": "​",
            "_view_module": "@jupyter-widgets/controls",
            "_model_module_version": "1.5.0",
            "value": " 2000/2000 [03:25&lt;00:00,  9.46it/s]",
            "_view_count": null,
            "_view_module_version": "1.5.0",
            "description_tooltip": null,
            "_model_module": "@jupyter-widgets/controls",
            "layout": "IPY_MODEL_06cc05eea6bd4d09a65a7aa301c3ee6e"
          }
        },
        "532f8421fc5746cc95a5b805723780e2": {
          "model_module": "@jupyter-widgets/controls",
          "model_name": "ProgressStyleModel",
          "state": {
            "_view_name": "StyleView",
            "_model_name": "ProgressStyleModel",
            "description_width": "initial",
            "_view_module": "@jupyter-widgets/base",
            "_model_module_version": "1.5.0",
            "_view_count": null,
            "_view_module_version": "1.2.0",
            "bar_color": null,
            "_model_module": "@jupyter-widgets/controls"
          }
        },
        "aa23b9c25ec545779034b722a25f1e4e": {
          "model_module": "@jupyter-widgets/base",
          "model_name": "LayoutModel",
          "state": {
            "_view_name": "LayoutView",
            "grid_template_rows": null,
            "right": null,
            "justify_content": null,
            "_view_module": "@jupyter-widgets/base",
            "overflow": null,
            "_model_module_version": "1.2.0",
            "_view_count": null,
            "flex_flow": null,
            "width": null,
            "min_width": null,
            "border": null,
            "align_items": null,
            "bottom": null,
            "_model_module": "@jupyter-widgets/base",
            "top": null,
            "grid_column": null,
            "overflow_y": null,
            "overflow_x": null,
            "grid_auto_flow": null,
            "grid_area": null,
            "grid_template_columns": null,
            "flex": null,
            "_model_name": "LayoutModel",
            "justify_items": null,
            "grid_row": null,
            "max_height": null,
            "align_content": null,
            "visibility": null,
            "align_self": null,
            "height": null,
            "min_height": null,
            "padding": null,
            "grid_auto_rows": null,
            "grid_gap": null,
            "max_width": null,
            "order": null,
            "_view_module_version": "1.2.0",
            "grid_template_areas": null,
            "object_position": null,
            "object_fit": null,
            "grid_auto_columns": null,
            "margin": null,
            "display": null,
            "left": null
          }
        },
        "a08717101cf64f92802da425d96472b7": {
          "model_module": "@jupyter-widgets/controls",
          "model_name": "DescriptionStyleModel",
          "state": {
            "_view_name": "StyleView",
            "_model_name": "DescriptionStyleModel",
            "description_width": "",
            "_view_module": "@jupyter-widgets/base",
            "_model_module_version": "1.5.0",
            "_view_count": null,
            "_view_module_version": "1.2.0",
            "_model_module": "@jupyter-widgets/controls"
          }
        },
        "06cc05eea6bd4d09a65a7aa301c3ee6e": {
          "model_module": "@jupyter-widgets/base",
          "model_name": "LayoutModel",
          "state": {
            "_view_name": "LayoutView",
            "grid_template_rows": null,
            "right": null,
            "justify_content": null,
            "_view_module": "@jupyter-widgets/base",
            "overflow": null,
            "_model_module_version": "1.2.0",
            "_view_count": null,
            "flex_flow": null,
            "width": null,
            "min_width": null,
            "border": null,
            "align_items": null,
            "bottom": null,
            "_model_module": "@jupyter-widgets/base",
            "top": null,
            "grid_column": null,
            "overflow_y": null,
            "overflow_x": null,
            "grid_auto_flow": null,
            "grid_area": null,
            "grid_template_columns": null,
            "flex": null,
            "_model_name": "LayoutModel",
            "justify_items": null,
            "grid_row": null,
            "max_height": null,
            "align_content": null,
            "visibility": null,
            "align_self": null,
            "height": null,
            "min_height": null,
            "padding": null,
            "grid_auto_rows": null,
            "grid_gap": null,
            "max_width": null,
            "order": null,
            "_view_module_version": "1.2.0",
            "grid_template_areas": null,
            "object_position": null,
            "object_fit": null,
            "grid_auto_columns": null,
            "margin": null,
            "display": null,
            "left": null
          }
        },
        "121cb83e474b424390261c8ffbdda8d5": {
          "model_module": "@jupyter-widgets/controls",
          "model_name": "HBoxModel",
          "state": {
            "_view_name": "HBoxView",
            "_dom_classes": [],
            "_model_name": "HBoxModel",
            "_view_module": "@jupyter-widgets/controls",
            "_model_module_version": "1.5.0",
            "_view_count": null,
            "_view_module_version": "1.5.0",
            "box_style": "",
            "layout": "IPY_MODEL_8a5d78918ecd415e8d472136662360a5",
            "_model_module": "@jupyter-widgets/controls",
            "children": [
              "IPY_MODEL_d9c5acc98374441f8b8f25b466a5993c",
              "IPY_MODEL_4edf40c1796e4e12b43b21afcf0b3ecb"
            ]
          }
        },
        "8a5d78918ecd415e8d472136662360a5": {
          "model_module": "@jupyter-widgets/base",
          "model_name": "LayoutModel",
          "state": {
            "_view_name": "LayoutView",
            "grid_template_rows": null,
            "right": null,
            "justify_content": null,
            "_view_module": "@jupyter-widgets/base",
            "overflow": null,
            "_model_module_version": "1.2.0",
            "_view_count": null,
            "flex_flow": null,
            "width": null,
            "min_width": null,
            "border": null,
            "align_items": null,
            "bottom": null,
            "_model_module": "@jupyter-widgets/base",
            "top": null,
            "grid_column": null,
            "overflow_y": null,
            "overflow_x": null,
            "grid_auto_flow": null,
            "grid_area": null,
            "grid_template_columns": null,
            "flex": null,
            "_model_name": "LayoutModel",
            "justify_items": null,
            "grid_row": null,
            "max_height": null,
            "align_content": null,
            "visibility": null,
            "align_self": null,
            "height": null,
            "min_height": null,
            "padding": null,
            "grid_auto_rows": null,
            "grid_gap": null,
            "max_width": null,
            "order": null,
            "_view_module_version": "1.2.0",
            "grid_template_areas": null,
            "object_position": null,
            "object_fit": null,
            "grid_auto_columns": null,
            "margin": null,
            "display": null,
            "left": null
          }
        },
        "d9c5acc98374441f8b8f25b466a5993c": {
          "model_module": "@jupyter-widgets/controls",
          "model_name": "FloatProgressModel",
          "state": {
            "_view_name": "ProgressView",
            "style": "IPY_MODEL_12fb46cd843349c5873a1b87f61e4193",
            "_dom_classes": [],
            "description": "Zero Padding and trimming: 100%",
            "_model_name": "FloatProgressModel",
            "bar_style": "info",
            "max": 2000,
            "_view_module": "@jupyter-widgets/controls",
            "_model_module_version": "1.5.0",
            "value": 2000,
            "_view_count": null,
            "_view_module_version": "1.5.0",
            "orientation": "horizontal",
            "min": 0,
            "description_tooltip": null,
            "_model_module": "@jupyter-widgets/controls",
            "layout": "IPY_MODEL_1f03c7e2c6204fd2b8012a7ed712bb5a"
          }
        },
        "4edf40c1796e4e12b43b21afcf0b3ecb": {
          "model_module": "@jupyter-widgets/controls",
          "model_name": "HTMLModel",
          "state": {
            "_view_name": "HTMLView",
            "style": "IPY_MODEL_49e23cc1a06f4425bd6565497c4a9fcf",
            "_dom_classes": [],
            "description": "",
            "_model_name": "HTMLModel",
            "placeholder": "​",
            "_view_module": "@jupyter-widgets/controls",
            "_model_module_version": "1.5.0",
            "value": " 2000/2000 [00:00&lt;00:00, 48430.28it/s]",
            "_view_count": null,
            "_view_module_version": "1.5.0",
            "description_tooltip": null,
            "_model_module": "@jupyter-widgets/controls",
            "layout": "IPY_MODEL_84c4c5b824e742169de74110cdfe541f"
          }
        },
        "12fb46cd843349c5873a1b87f61e4193": {
          "model_module": "@jupyter-widgets/controls",
          "model_name": "ProgressStyleModel",
          "state": {
            "_view_name": "StyleView",
            "_model_name": "ProgressStyleModel",
            "description_width": "initial",
            "_view_module": "@jupyter-widgets/base",
            "_model_module_version": "1.5.0",
            "_view_count": null,
            "_view_module_version": "1.2.0",
            "bar_color": null,
            "_model_module": "@jupyter-widgets/controls"
          }
        },
        "1f03c7e2c6204fd2b8012a7ed712bb5a": {
          "model_module": "@jupyter-widgets/base",
          "model_name": "LayoutModel",
          "state": {
            "_view_name": "LayoutView",
            "grid_template_rows": null,
            "right": null,
            "justify_content": null,
            "_view_module": "@jupyter-widgets/base",
            "overflow": null,
            "_model_module_version": "1.2.0",
            "_view_count": null,
            "flex_flow": null,
            "width": null,
            "min_width": null,
            "border": null,
            "align_items": null,
            "bottom": null,
            "_model_module": "@jupyter-widgets/base",
            "top": null,
            "grid_column": null,
            "overflow_y": null,
            "overflow_x": null,
            "grid_auto_flow": null,
            "grid_area": null,
            "grid_template_columns": null,
            "flex": null,
            "_model_name": "LayoutModel",
            "justify_items": null,
            "grid_row": null,
            "max_height": null,
            "align_content": null,
            "visibility": null,
            "align_self": null,
            "height": null,
            "min_height": null,
            "padding": null,
            "grid_auto_rows": null,
            "grid_gap": null,
            "max_width": null,
            "order": null,
            "_view_module_version": "1.2.0",
            "grid_template_areas": null,
            "object_position": null,
            "object_fit": null,
            "grid_auto_columns": null,
            "margin": null,
            "display": null,
            "left": null
          }
        },
        "49e23cc1a06f4425bd6565497c4a9fcf": {
          "model_module": "@jupyter-widgets/controls",
          "model_name": "DescriptionStyleModel",
          "state": {
            "_view_name": "StyleView",
            "_model_name": "DescriptionStyleModel",
            "description_width": "",
            "_view_module": "@jupyter-widgets/base",
            "_model_module_version": "1.5.0",
            "_view_count": null,
            "_view_module_version": "1.2.0",
            "_model_module": "@jupyter-widgets/controls"
          }
        },
        "84c4c5b824e742169de74110cdfe541f": {
          "model_module": "@jupyter-widgets/base",
          "model_name": "LayoutModel",
          "state": {
            "_view_name": "LayoutView",
            "grid_template_rows": null,
            "right": null,
            "justify_content": null,
            "_view_module": "@jupyter-widgets/base",
            "overflow": null,
            "_model_module_version": "1.2.0",
            "_view_count": null,
            "flex_flow": null,
            "width": null,
            "min_width": null,
            "border": null,
            "align_items": null,
            "bottom": null,
            "_model_module": "@jupyter-widgets/base",
            "top": null,
            "grid_column": null,
            "overflow_y": null,
            "overflow_x": null,
            "grid_auto_flow": null,
            "grid_area": null,
            "grid_template_columns": null,
            "flex": null,
            "_model_name": "LayoutModel",
            "justify_items": null,
            "grid_row": null,
            "max_height": null,
            "align_content": null,
            "visibility": null,
            "align_self": null,
            "height": null,
            "min_height": null,
            "padding": null,
            "grid_auto_rows": null,
            "grid_gap": null,
            "max_width": null,
            "order": null,
            "_view_module_version": "1.2.0",
            "grid_template_areas": null,
            "object_position": null,
            "object_fit": null,
            "grid_auto_columns": null,
            "margin": null,
            "display": null,
            "left": null
          }
        },
        "350d5f6609d844b6bab33dd85fdd82db": {
          "model_module": "@jupyter-widgets/controls",
          "model_name": "HBoxModel",
          "state": {
            "_view_name": "HBoxView",
            "_dom_classes": [],
            "_model_name": "HBoxModel",
            "_view_module": "@jupyter-widgets/controls",
            "_model_module_version": "1.5.0",
            "_view_count": null,
            "_view_module_version": "1.5.0",
            "box_style": "",
            "layout": "IPY_MODEL_2d8afa547a8a4fd3ae77da91637f1766",
            "_model_module": "@jupyter-widgets/controls",
            "children": [
              "IPY_MODEL_c833c36f09bd49478413c7f660ada609",
              "IPY_MODEL_20e02f9a102d483ba515036ae78b2be8"
            ]
          }
        },
        "2d8afa547a8a4fd3ae77da91637f1766": {
          "model_module": "@jupyter-widgets/base",
          "model_name": "LayoutModel",
          "state": {
            "_view_name": "LayoutView",
            "grid_template_rows": null,
            "right": null,
            "justify_content": null,
            "_view_module": "@jupyter-widgets/base",
            "overflow": null,
            "_model_module_version": "1.2.0",
            "_view_count": null,
            "flex_flow": null,
            "width": null,
            "min_width": null,
            "border": null,
            "align_items": null,
            "bottom": null,
            "_model_module": "@jupyter-widgets/base",
            "top": null,
            "grid_column": null,
            "overflow_y": null,
            "overflow_x": null,
            "grid_auto_flow": null,
            "grid_area": null,
            "grid_template_columns": null,
            "flex": null,
            "_model_name": "LayoutModel",
            "justify_items": null,
            "grid_row": null,
            "max_height": null,
            "align_content": null,
            "visibility": null,
            "align_self": null,
            "height": null,
            "min_height": null,
            "padding": null,
            "grid_auto_rows": null,
            "grid_gap": null,
            "max_width": null,
            "order": null,
            "_view_module_version": "1.2.0",
            "grid_template_areas": null,
            "object_position": null,
            "object_fit": null,
            "grid_auto_columns": null,
            "margin": null,
            "display": null,
            "left": null
          }
        },
        "c833c36f09bd49478413c7f660ada609": {
          "model_module": "@jupyter-widgets/controls",
          "model_name": "FloatProgressModel",
          "state": {
            "_view_name": "ProgressView",
            "style": "IPY_MODEL_67d815b4e0d74c7f9567ae4b22140393",
            "_dom_classes": [],
            "description": "Feature extracion... [mfcc13]: 100%",
            "_model_name": "FloatProgressModel",
            "bar_style": "info",
            "max": 1800,
            "_view_module": "@jupyter-widgets/controls",
            "_model_module_version": "1.5.0",
            "value": 1800,
            "_view_count": null,
            "_view_module_version": "1.5.0",
            "orientation": "horizontal",
            "min": 0,
            "description_tooltip": null,
            "_model_module": "@jupyter-widgets/controls",
            "layout": "IPY_MODEL_bc7b8a1775c248dab3fd344150dbb638"
          }
        },
        "20e02f9a102d483ba515036ae78b2be8": {
          "model_module": "@jupyter-widgets/controls",
          "model_name": "HTMLModel",
          "state": {
            "_view_name": "HTMLView",
            "style": "IPY_MODEL_fa61f5d8190a4d11836f34270eabe9e5",
            "_dom_classes": [],
            "description": "",
            "_model_name": "HTMLModel",
            "placeholder": "​",
            "_view_module": "@jupyter-widgets/controls",
            "_model_module_version": "1.5.0",
            "value": " 1800/1800 [00:21&lt;00:00, 419.56it/s]",
            "_view_count": null,
            "_view_module_version": "1.5.0",
            "description_tooltip": null,
            "_model_module": "@jupyter-widgets/controls",
            "layout": "IPY_MODEL_14af7e19684a4c53b79261f0bf6acbd4"
          }
        },
        "67d815b4e0d74c7f9567ae4b22140393": {
          "model_module": "@jupyter-widgets/controls",
          "model_name": "ProgressStyleModel",
          "state": {
            "_view_name": "StyleView",
            "_model_name": "ProgressStyleModel",
            "description_width": "initial",
            "_view_module": "@jupyter-widgets/base",
            "_model_module_version": "1.5.0",
            "_view_count": null,
            "_view_module_version": "1.2.0",
            "bar_color": null,
            "_model_module": "@jupyter-widgets/controls"
          }
        },
        "bc7b8a1775c248dab3fd344150dbb638": {
          "model_module": "@jupyter-widgets/base",
          "model_name": "LayoutModel",
          "state": {
            "_view_name": "LayoutView",
            "grid_template_rows": null,
            "right": null,
            "justify_content": null,
            "_view_module": "@jupyter-widgets/base",
            "overflow": null,
            "_model_module_version": "1.2.0",
            "_view_count": null,
            "flex_flow": null,
            "width": null,
            "min_width": null,
            "border": null,
            "align_items": null,
            "bottom": null,
            "_model_module": "@jupyter-widgets/base",
            "top": null,
            "grid_column": null,
            "overflow_y": null,
            "overflow_x": null,
            "grid_auto_flow": null,
            "grid_area": null,
            "grid_template_columns": null,
            "flex": null,
            "_model_name": "LayoutModel",
            "justify_items": null,
            "grid_row": null,
            "max_height": null,
            "align_content": null,
            "visibility": null,
            "align_self": null,
            "height": null,
            "min_height": null,
            "padding": null,
            "grid_auto_rows": null,
            "grid_gap": null,
            "max_width": null,
            "order": null,
            "_view_module_version": "1.2.0",
            "grid_template_areas": null,
            "object_position": null,
            "object_fit": null,
            "grid_auto_columns": null,
            "margin": null,
            "display": null,
            "left": null
          }
        },
        "fa61f5d8190a4d11836f34270eabe9e5": {
          "model_module": "@jupyter-widgets/controls",
          "model_name": "DescriptionStyleModel",
          "state": {
            "_view_name": "StyleView",
            "_model_name": "DescriptionStyleModel",
            "description_width": "",
            "_view_module": "@jupyter-widgets/base",
            "_model_module_version": "1.5.0",
            "_view_count": null,
            "_view_module_version": "1.2.0",
            "_model_module": "@jupyter-widgets/controls"
          }
        },
        "14af7e19684a4c53b79261f0bf6acbd4": {
          "model_module": "@jupyter-widgets/base",
          "model_name": "LayoutModel",
          "state": {
            "_view_name": "LayoutView",
            "grid_template_rows": null,
            "right": null,
            "justify_content": null,
            "_view_module": "@jupyter-widgets/base",
            "overflow": null,
            "_model_module_version": "1.2.0",
            "_view_count": null,
            "flex_flow": null,
            "width": null,
            "min_width": null,
            "border": null,
            "align_items": null,
            "bottom": null,
            "_model_module": "@jupyter-widgets/base",
            "top": null,
            "grid_column": null,
            "overflow_y": null,
            "overflow_x": null,
            "grid_auto_flow": null,
            "grid_area": null,
            "grid_template_columns": null,
            "flex": null,
            "_model_name": "LayoutModel",
            "justify_items": null,
            "grid_row": null,
            "max_height": null,
            "align_content": null,
            "visibility": null,
            "align_self": null,
            "height": null,
            "min_height": null,
            "padding": null,
            "grid_auto_rows": null,
            "grid_gap": null,
            "max_width": null,
            "order": null,
            "_view_module_version": "1.2.0",
            "grid_template_areas": null,
            "object_position": null,
            "object_fit": null,
            "grid_auto_columns": null,
            "margin": null,
            "display": null,
            "left": null
          }
        },
        "6fe884df7cb14adea1b82b987cabd255": {
          "model_module": "@jupyter-widgets/controls",
          "model_name": "HBoxModel",
          "state": {
            "_view_name": "HBoxView",
            "_dom_classes": [],
            "_model_name": "HBoxModel",
            "_view_module": "@jupyter-widgets/controls",
            "_model_module_version": "1.5.0",
            "_view_count": null,
            "_view_module_version": "1.5.0",
            "box_style": "",
            "layout": "IPY_MODEL_024efd14e6a64505bef34bc6ee8a40c8",
            "_model_module": "@jupyter-widgets/controls",
            "children": [
              "IPY_MODEL_e87232a355904b70b2baaaf89add8512",
              "IPY_MODEL_45568ce4ac6949ab906534d3a67e289c"
            ]
          }
        },
        "024efd14e6a64505bef34bc6ee8a40c8": {
          "model_module": "@jupyter-widgets/base",
          "model_name": "LayoutModel",
          "state": {
            "_view_name": "LayoutView",
            "grid_template_rows": null,
            "right": null,
            "justify_content": null,
            "_view_module": "@jupyter-widgets/base",
            "overflow": null,
            "_model_module_version": "1.2.0",
            "_view_count": null,
            "flex_flow": null,
            "width": null,
            "min_width": null,
            "border": null,
            "align_items": null,
            "bottom": null,
            "_model_module": "@jupyter-widgets/base",
            "top": null,
            "grid_column": null,
            "overflow_y": null,
            "overflow_x": null,
            "grid_auto_flow": null,
            "grid_area": null,
            "grid_template_columns": null,
            "flex": null,
            "_model_name": "LayoutModel",
            "justify_items": null,
            "grid_row": null,
            "max_height": null,
            "align_content": null,
            "visibility": null,
            "align_self": null,
            "height": null,
            "min_height": null,
            "padding": null,
            "grid_auto_rows": null,
            "grid_gap": null,
            "max_width": null,
            "order": null,
            "_view_module_version": "1.2.0",
            "grid_template_areas": null,
            "object_position": null,
            "object_fit": null,
            "grid_auto_columns": null,
            "margin": null,
            "display": null,
            "left": null
          }
        },
        "e87232a355904b70b2baaaf89add8512": {
          "model_module": "@jupyter-widgets/controls",
          "model_name": "FloatProgressModel",
          "state": {
            "_view_name": "ProgressView",
            "style": "IPY_MODEL_46e762dfeeb0485483ba91ab9fb6fca2",
            "_dom_classes": [],
            "description": "Feature extracion... [mfcc20]: 100%",
            "_model_name": "FloatProgressModel",
            "bar_style": "info",
            "max": 1800,
            "_view_module": "@jupyter-widgets/controls",
            "_model_module_version": "1.5.0",
            "value": 1800,
            "_view_count": null,
            "_view_module_version": "1.5.0",
            "orientation": "horizontal",
            "min": 0,
            "description_tooltip": null,
            "_model_module": "@jupyter-widgets/controls",
            "layout": "IPY_MODEL_593bf8330ae44b16a3562539db9ff343"
          }
        },
        "45568ce4ac6949ab906534d3a67e289c": {
          "model_module": "@jupyter-widgets/controls",
          "model_name": "HTMLModel",
          "state": {
            "_view_name": "HTMLView",
            "style": "IPY_MODEL_c8ba168872b947dfadee8584f9781007",
            "_dom_classes": [],
            "description": "",
            "_model_name": "HTMLModel",
            "placeholder": "​",
            "_view_module": "@jupyter-widgets/controls",
            "_model_module_version": "1.5.0",
            "value": " 1800/1800 [00:17&lt;00:00, 417.52it/s]",
            "_view_count": null,
            "_view_module_version": "1.5.0",
            "description_tooltip": null,
            "_model_module": "@jupyter-widgets/controls",
            "layout": "IPY_MODEL_37be2079e0b1491ba2adddcce379d5d0"
          }
        },
        "46e762dfeeb0485483ba91ab9fb6fca2": {
          "model_module": "@jupyter-widgets/controls",
          "model_name": "ProgressStyleModel",
          "state": {
            "_view_name": "StyleView",
            "_model_name": "ProgressStyleModel",
            "description_width": "initial",
            "_view_module": "@jupyter-widgets/base",
            "_model_module_version": "1.5.0",
            "_view_count": null,
            "_view_module_version": "1.2.0",
            "bar_color": null,
            "_model_module": "@jupyter-widgets/controls"
          }
        },
        "593bf8330ae44b16a3562539db9ff343": {
          "model_module": "@jupyter-widgets/base",
          "model_name": "LayoutModel",
          "state": {
            "_view_name": "LayoutView",
            "grid_template_rows": null,
            "right": null,
            "justify_content": null,
            "_view_module": "@jupyter-widgets/base",
            "overflow": null,
            "_model_module_version": "1.2.0",
            "_view_count": null,
            "flex_flow": null,
            "width": null,
            "min_width": null,
            "border": null,
            "align_items": null,
            "bottom": null,
            "_model_module": "@jupyter-widgets/base",
            "top": null,
            "grid_column": null,
            "overflow_y": null,
            "overflow_x": null,
            "grid_auto_flow": null,
            "grid_area": null,
            "grid_template_columns": null,
            "flex": null,
            "_model_name": "LayoutModel",
            "justify_items": null,
            "grid_row": null,
            "max_height": null,
            "align_content": null,
            "visibility": null,
            "align_self": null,
            "height": null,
            "min_height": null,
            "padding": null,
            "grid_auto_rows": null,
            "grid_gap": null,
            "max_width": null,
            "order": null,
            "_view_module_version": "1.2.0",
            "grid_template_areas": null,
            "object_position": null,
            "object_fit": null,
            "grid_auto_columns": null,
            "margin": null,
            "display": null,
            "left": null
          }
        },
        "c8ba168872b947dfadee8584f9781007": {
          "model_module": "@jupyter-widgets/controls",
          "model_name": "DescriptionStyleModel",
          "state": {
            "_view_name": "StyleView",
            "_model_name": "DescriptionStyleModel",
            "description_width": "",
            "_view_module": "@jupyter-widgets/base",
            "_model_module_version": "1.5.0",
            "_view_count": null,
            "_view_module_version": "1.2.0",
            "_model_module": "@jupyter-widgets/controls"
          }
        },
        "37be2079e0b1491ba2adddcce379d5d0": {
          "model_module": "@jupyter-widgets/base",
          "model_name": "LayoutModel",
          "state": {
            "_view_name": "LayoutView",
            "grid_template_rows": null,
            "right": null,
            "justify_content": null,
            "_view_module": "@jupyter-widgets/base",
            "overflow": null,
            "_model_module_version": "1.2.0",
            "_view_count": null,
            "flex_flow": null,
            "width": null,
            "min_width": null,
            "border": null,
            "align_items": null,
            "bottom": null,
            "_model_module": "@jupyter-widgets/base",
            "top": null,
            "grid_column": null,
            "overflow_y": null,
            "overflow_x": null,
            "grid_auto_flow": null,
            "grid_area": null,
            "grid_template_columns": null,
            "flex": null,
            "_model_name": "LayoutModel",
            "justify_items": null,
            "grid_row": null,
            "max_height": null,
            "align_content": null,
            "visibility": null,
            "align_self": null,
            "height": null,
            "min_height": null,
            "padding": null,
            "grid_auto_rows": null,
            "grid_gap": null,
            "max_width": null,
            "order": null,
            "_view_module_version": "1.2.0",
            "grid_template_areas": null,
            "object_position": null,
            "object_fit": null,
            "grid_auto_columns": null,
            "margin": null,
            "display": null,
            "left": null
          }
        },
        "24da3e8b002b437da0b11c571c990bc9": {
          "model_module": "@jupyter-widgets/controls",
          "model_name": "HBoxModel",
          "state": {
            "_view_name": "HBoxView",
            "_dom_classes": [],
            "_model_name": "HBoxModel",
            "_view_module": "@jupyter-widgets/controls",
            "_model_module_version": "1.5.0",
            "_view_count": null,
            "_view_module_version": "1.5.0",
            "box_style": "",
            "layout": "IPY_MODEL_87ca432b7bb34929a150c6b9ebc06865",
            "_model_module": "@jupyter-widgets/controls",
            "children": [
              "IPY_MODEL_3c3c07bfd84d4c34b35bf36531180499",
              "IPY_MODEL_b51e54c90c6046cab9ab04db1626c559"
            ]
          }
        },
        "87ca432b7bb34929a150c6b9ebc06865": {
          "model_module": "@jupyter-widgets/base",
          "model_name": "LayoutModel",
          "state": {
            "_view_name": "LayoutView",
            "grid_template_rows": null,
            "right": null,
            "justify_content": null,
            "_view_module": "@jupyter-widgets/base",
            "overflow": null,
            "_model_module_version": "1.2.0",
            "_view_count": null,
            "flex_flow": null,
            "width": null,
            "min_width": null,
            "border": null,
            "align_items": null,
            "bottom": null,
            "_model_module": "@jupyter-widgets/base",
            "top": null,
            "grid_column": null,
            "overflow_y": null,
            "overflow_x": null,
            "grid_auto_flow": null,
            "grid_area": null,
            "grid_template_columns": null,
            "flex": null,
            "_model_name": "LayoutModel",
            "justify_items": null,
            "grid_row": null,
            "max_height": null,
            "align_content": null,
            "visibility": null,
            "align_self": null,
            "height": null,
            "min_height": null,
            "padding": null,
            "grid_auto_rows": null,
            "grid_gap": null,
            "max_width": null,
            "order": null,
            "_view_module_version": "1.2.0",
            "grid_template_areas": null,
            "object_position": null,
            "object_fit": null,
            "grid_auto_columns": null,
            "margin": null,
            "display": null,
            "left": null
          }
        },
        "3c3c07bfd84d4c34b35bf36531180499": {
          "model_module": "@jupyter-widgets/controls",
          "model_name": "FloatProgressModel",
          "state": {
            "_view_name": "ProgressView",
            "style": "IPY_MODEL_06643120e1f04331b10d91acffd767bc",
            "_dom_classes": [],
            "description": "Feature extracion... [zcr]: 100%",
            "_model_name": "FloatProgressModel",
            "bar_style": "info",
            "max": 1800,
            "_view_module": "@jupyter-widgets/controls",
            "_model_module_version": "1.5.0",
            "value": 1800,
            "_view_count": null,
            "_view_module_version": "1.5.0",
            "orientation": "horizontal",
            "min": 0,
            "description_tooltip": null,
            "_model_module": "@jupyter-widgets/controls",
            "layout": "IPY_MODEL_6090c4abcf3c4b5b94300eb6958f849f"
          }
        },
        "b51e54c90c6046cab9ab04db1626c559": {
          "model_module": "@jupyter-widgets/controls",
          "model_name": "HTMLModel",
          "state": {
            "_view_name": "HTMLView",
            "style": "IPY_MODEL_4e2ea019d93c4be78d34c8360d5bfacd",
            "_dom_classes": [],
            "description": "",
            "_model_name": "HTMLModel",
            "placeholder": "​",
            "_view_module": "@jupyter-widgets/controls",
            "_model_module_version": "1.5.0",
            "value": " 1800/1800 [00:13&lt;00:00, 719.36it/s]",
            "_view_count": null,
            "_view_module_version": "1.5.0",
            "description_tooltip": null,
            "_model_module": "@jupyter-widgets/controls",
            "layout": "IPY_MODEL_887155e2385b4506b9b505bcbbfb49d4"
          }
        },
        "06643120e1f04331b10d91acffd767bc": {
          "model_module": "@jupyter-widgets/controls",
          "model_name": "ProgressStyleModel",
          "state": {
            "_view_name": "StyleView",
            "_model_name": "ProgressStyleModel",
            "description_width": "initial",
            "_view_module": "@jupyter-widgets/base",
            "_model_module_version": "1.5.0",
            "_view_count": null,
            "_view_module_version": "1.2.0",
            "bar_color": null,
            "_model_module": "@jupyter-widgets/controls"
          }
        },
        "6090c4abcf3c4b5b94300eb6958f849f": {
          "model_module": "@jupyter-widgets/base",
          "model_name": "LayoutModel",
          "state": {
            "_view_name": "LayoutView",
            "grid_template_rows": null,
            "right": null,
            "justify_content": null,
            "_view_module": "@jupyter-widgets/base",
            "overflow": null,
            "_model_module_version": "1.2.0",
            "_view_count": null,
            "flex_flow": null,
            "width": null,
            "min_width": null,
            "border": null,
            "align_items": null,
            "bottom": null,
            "_model_module": "@jupyter-widgets/base",
            "top": null,
            "grid_column": null,
            "overflow_y": null,
            "overflow_x": null,
            "grid_auto_flow": null,
            "grid_area": null,
            "grid_template_columns": null,
            "flex": null,
            "_model_name": "LayoutModel",
            "justify_items": null,
            "grid_row": null,
            "max_height": null,
            "align_content": null,
            "visibility": null,
            "align_self": null,
            "height": null,
            "min_height": null,
            "padding": null,
            "grid_auto_rows": null,
            "grid_gap": null,
            "max_width": null,
            "order": null,
            "_view_module_version": "1.2.0",
            "grid_template_areas": null,
            "object_position": null,
            "object_fit": null,
            "grid_auto_columns": null,
            "margin": null,
            "display": null,
            "left": null
          }
        },
        "4e2ea019d93c4be78d34c8360d5bfacd": {
          "model_module": "@jupyter-widgets/controls",
          "model_name": "DescriptionStyleModel",
          "state": {
            "_view_name": "StyleView",
            "_model_name": "DescriptionStyleModel",
            "description_width": "",
            "_view_module": "@jupyter-widgets/base",
            "_model_module_version": "1.5.0",
            "_view_count": null,
            "_view_module_version": "1.2.0",
            "_model_module": "@jupyter-widgets/controls"
          }
        },
        "887155e2385b4506b9b505bcbbfb49d4": {
          "model_module": "@jupyter-widgets/base",
          "model_name": "LayoutModel",
          "state": {
            "_view_name": "LayoutView",
            "grid_template_rows": null,
            "right": null,
            "justify_content": null,
            "_view_module": "@jupyter-widgets/base",
            "overflow": null,
            "_model_module_version": "1.2.0",
            "_view_count": null,
            "flex_flow": null,
            "width": null,
            "min_width": null,
            "border": null,
            "align_items": null,
            "bottom": null,
            "_model_module": "@jupyter-widgets/base",
            "top": null,
            "grid_column": null,
            "overflow_y": null,
            "overflow_x": null,
            "grid_auto_flow": null,
            "grid_area": null,
            "grid_template_columns": null,
            "flex": null,
            "_model_name": "LayoutModel",
            "justify_items": null,
            "grid_row": null,
            "max_height": null,
            "align_content": null,
            "visibility": null,
            "align_self": null,
            "height": null,
            "min_height": null,
            "padding": null,
            "grid_auto_rows": null,
            "grid_gap": null,
            "max_width": null,
            "order": null,
            "_view_module_version": "1.2.0",
            "grid_template_areas": null,
            "object_position": null,
            "object_fit": null,
            "grid_auto_columns": null,
            "margin": null,
            "display": null,
            "left": null
          }
        },
        "000e4eb9b5994934ab4b087581e64cbd": {
          "model_module": "@jupyter-widgets/controls",
          "model_name": "HBoxModel",
          "state": {
            "_view_name": "HBoxView",
            "_dom_classes": [],
            "_model_name": "HBoxModel",
            "_view_module": "@jupyter-widgets/controls",
            "_model_module_version": "1.5.0",
            "_view_count": null,
            "_view_module_version": "1.5.0",
            "box_style": "",
            "layout": "IPY_MODEL_18b4a60c56c04f59b49222a04677bd97",
            "_model_module": "@jupyter-widgets/controls",
            "children": [
              "IPY_MODEL_d0bdb294db0a42978d736778f421d54f",
              "IPY_MODEL_5b77982b16b24153a5c608b0e52568b7"
            ]
          }
        },
        "18b4a60c56c04f59b49222a04677bd97": {
          "model_module": "@jupyter-widgets/base",
          "model_name": "LayoutModel",
          "state": {
            "_view_name": "LayoutView",
            "grid_template_rows": null,
            "right": null,
            "justify_content": null,
            "_view_module": "@jupyter-widgets/base",
            "overflow": null,
            "_model_module_version": "1.2.0",
            "_view_count": null,
            "flex_flow": null,
            "width": null,
            "min_width": null,
            "border": null,
            "align_items": null,
            "bottom": null,
            "_model_module": "@jupyter-widgets/base",
            "top": null,
            "grid_column": null,
            "overflow_y": null,
            "overflow_x": null,
            "grid_auto_flow": null,
            "grid_area": null,
            "grid_template_columns": null,
            "flex": null,
            "_model_name": "LayoutModel",
            "justify_items": null,
            "grid_row": null,
            "max_height": null,
            "align_content": null,
            "visibility": null,
            "align_self": null,
            "height": null,
            "min_height": null,
            "padding": null,
            "grid_auto_rows": null,
            "grid_gap": null,
            "max_width": null,
            "order": null,
            "_view_module_version": "1.2.0",
            "grid_template_areas": null,
            "object_position": null,
            "object_fit": null,
            "grid_auto_columns": null,
            "margin": null,
            "display": null,
            "left": null
          }
        },
        "d0bdb294db0a42978d736778f421d54f": {
          "model_module": "@jupyter-widgets/controls",
          "model_name": "FloatProgressModel",
          "state": {
            "_view_name": "ProgressView",
            "style": "IPY_MODEL_22873c87ec0342ad8949503244a49c68",
            "_dom_classes": [],
            "description": "Feature extracion... [zcr+mfcc20]: 100%",
            "_model_name": "FloatProgressModel",
            "bar_style": "info",
            "max": 1800,
            "_view_module": "@jupyter-widgets/controls",
            "_model_module_version": "1.5.0",
            "value": 1800,
            "_view_count": null,
            "_view_module_version": "1.5.0",
            "orientation": "horizontal",
            "min": 0,
            "description_tooltip": null,
            "_model_module": "@jupyter-widgets/controls",
            "layout": "IPY_MODEL_1ae5f3b096c7475db575b695e5c7e632"
          }
        },
        "5b77982b16b24153a5c608b0e52568b7": {
          "model_module": "@jupyter-widgets/controls",
          "model_name": "HTMLModel",
          "state": {
            "_view_name": "HTMLView",
            "style": "IPY_MODEL_ad2506532a724baa88d4c1f432f16207",
            "_dom_classes": [],
            "description": "",
            "_model_name": "HTMLModel",
            "placeholder": "​",
            "_view_module": "@jupyter-widgets/controls",
            "_model_module_version": "1.5.0",
            "value": " 1800/1800 [00:20&lt;00:00, 192.84it/s]",
            "_view_count": null,
            "_view_module_version": "1.5.0",
            "description_tooltip": null,
            "_model_module": "@jupyter-widgets/controls",
            "layout": "IPY_MODEL_5596106b6da748df925e09e5517fedbd"
          }
        },
        "22873c87ec0342ad8949503244a49c68": {
          "model_module": "@jupyter-widgets/controls",
          "model_name": "ProgressStyleModel",
          "state": {
            "_view_name": "StyleView",
            "_model_name": "ProgressStyleModel",
            "description_width": "initial",
            "_view_module": "@jupyter-widgets/base",
            "_model_module_version": "1.5.0",
            "_view_count": null,
            "_view_module_version": "1.2.0",
            "bar_color": null,
            "_model_module": "@jupyter-widgets/controls"
          }
        },
        "1ae5f3b096c7475db575b695e5c7e632": {
          "model_module": "@jupyter-widgets/base",
          "model_name": "LayoutModel",
          "state": {
            "_view_name": "LayoutView",
            "grid_template_rows": null,
            "right": null,
            "justify_content": null,
            "_view_module": "@jupyter-widgets/base",
            "overflow": null,
            "_model_module_version": "1.2.0",
            "_view_count": null,
            "flex_flow": null,
            "width": null,
            "min_width": null,
            "border": null,
            "align_items": null,
            "bottom": null,
            "_model_module": "@jupyter-widgets/base",
            "top": null,
            "grid_column": null,
            "overflow_y": null,
            "overflow_x": null,
            "grid_auto_flow": null,
            "grid_area": null,
            "grid_template_columns": null,
            "flex": null,
            "_model_name": "LayoutModel",
            "justify_items": null,
            "grid_row": null,
            "max_height": null,
            "align_content": null,
            "visibility": null,
            "align_self": null,
            "height": null,
            "min_height": null,
            "padding": null,
            "grid_auto_rows": null,
            "grid_gap": null,
            "max_width": null,
            "order": null,
            "_view_module_version": "1.2.0",
            "grid_template_areas": null,
            "object_position": null,
            "object_fit": null,
            "grid_auto_columns": null,
            "margin": null,
            "display": null,
            "left": null
          }
        },
        "ad2506532a724baa88d4c1f432f16207": {
          "model_module": "@jupyter-widgets/controls",
          "model_name": "DescriptionStyleModel",
          "state": {
            "_view_name": "StyleView",
            "_model_name": "DescriptionStyleModel",
            "description_width": "",
            "_view_module": "@jupyter-widgets/base",
            "_model_module_version": "1.5.0",
            "_view_count": null,
            "_view_module_version": "1.2.0",
            "_model_module": "@jupyter-widgets/controls"
          }
        },
        "5596106b6da748df925e09e5517fedbd": {
          "model_module": "@jupyter-widgets/base",
          "model_name": "LayoutModel",
          "state": {
            "_view_name": "LayoutView",
            "grid_template_rows": null,
            "right": null,
            "justify_content": null,
            "_view_module": "@jupyter-widgets/base",
            "overflow": null,
            "_model_module_version": "1.2.0",
            "_view_count": null,
            "flex_flow": null,
            "width": null,
            "min_width": null,
            "border": null,
            "align_items": null,
            "bottom": null,
            "_model_module": "@jupyter-widgets/base",
            "top": null,
            "grid_column": null,
            "overflow_y": null,
            "overflow_x": null,
            "grid_auto_flow": null,
            "grid_area": null,
            "grid_template_columns": null,
            "flex": null,
            "_model_name": "LayoutModel",
            "justify_items": null,
            "grid_row": null,
            "max_height": null,
            "align_content": null,
            "visibility": null,
            "align_self": null,
            "height": null,
            "min_height": null,
            "padding": null,
            "grid_auto_rows": null,
            "grid_gap": null,
            "max_width": null,
            "order": null,
            "_view_module_version": "1.2.0",
            "grid_template_areas": null,
            "object_position": null,
            "object_fit": null,
            "grid_auto_columns": null,
            "margin": null,
            "display": null,
            "left": null
          }
        },
        "1366123982aa4b66920bb8e5062583b7": {
          "model_module": "@jupyter-widgets/controls",
          "model_name": "HBoxModel",
          "state": {
            "_view_name": "HBoxView",
            "_dom_classes": [],
            "_model_name": "HBoxModel",
            "_view_module": "@jupyter-widgets/controls",
            "_model_module_version": "1.5.0",
            "_view_count": null,
            "_view_module_version": "1.5.0",
            "box_style": "",
            "layout": "IPY_MODEL_c8dd58dc510a4bb2a000cc4e435257ba",
            "_model_module": "@jupyter-widgets/controls",
            "children": [
              "IPY_MODEL_8799e7dcf25a4288919a85bf81f52fc0",
              "IPY_MODEL_a47f94fb27404dc2882431b74a23ddff"
            ]
          }
        },
        "c8dd58dc510a4bb2a000cc4e435257ba": {
          "model_module": "@jupyter-widgets/base",
          "model_name": "LayoutModel",
          "state": {
            "_view_name": "LayoutView",
            "grid_template_rows": null,
            "right": null,
            "justify_content": null,
            "_view_module": "@jupyter-widgets/base",
            "overflow": null,
            "_model_module_version": "1.2.0",
            "_view_count": null,
            "flex_flow": null,
            "width": null,
            "min_width": null,
            "border": null,
            "align_items": null,
            "bottom": null,
            "_model_module": "@jupyter-widgets/base",
            "top": null,
            "grid_column": null,
            "overflow_y": null,
            "overflow_x": null,
            "grid_auto_flow": null,
            "grid_area": null,
            "grid_template_columns": null,
            "flex": null,
            "_model_name": "LayoutModel",
            "justify_items": null,
            "grid_row": null,
            "max_height": null,
            "align_content": null,
            "visibility": null,
            "align_self": null,
            "height": null,
            "min_height": null,
            "padding": null,
            "grid_auto_rows": null,
            "grid_gap": null,
            "max_width": null,
            "order": null,
            "_view_module_version": "1.2.0",
            "grid_template_areas": null,
            "object_position": null,
            "object_fit": null,
            "grid_auto_columns": null,
            "margin": null,
            "display": null,
            "left": null
          }
        },
        "8799e7dcf25a4288919a85bf81f52fc0": {
          "model_module": "@jupyter-widgets/controls",
          "model_name": "FloatProgressModel",
          "state": {
            "_view_name": "ProgressView",
            "style": "IPY_MODEL_9fe29581b80a46e8b5120aaee0eac6a9",
            "_dom_classes": [],
            "description": "Feature extracion... [mfcc13]: 100%",
            "_model_name": "FloatProgressModel",
            "bar_style": "success",
            "max": 200,
            "_view_module": "@jupyter-widgets/controls",
            "_model_module_version": "1.5.0",
            "value": 200,
            "_view_count": null,
            "_view_module_version": "1.5.0",
            "orientation": "horizontal",
            "min": 0,
            "description_tooltip": null,
            "_model_module": "@jupyter-widgets/controls",
            "layout": "IPY_MODEL_8d56f8126cab4d2d9d5b5b0fbc65c7d8"
          }
        },
        "a47f94fb27404dc2882431b74a23ddff": {
          "model_module": "@jupyter-widgets/controls",
          "model_name": "HTMLModel",
          "state": {
            "_view_name": "HTMLView",
            "style": "IPY_MODEL_f1f79619940d4d4989759ad00aeeaeae",
            "_dom_classes": [],
            "description": "",
            "_model_name": "HTMLModel",
            "placeholder": "​",
            "_view_module": "@jupyter-widgets/controls",
            "_model_module_version": "1.5.0",
            "value": " 200/200 [00:00&lt;00:00, 320.06it/s]",
            "_view_count": null,
            "_view_module_version": "1.5.0",
            "description_tooltip": null,
            "_model_module": "@jupyter-widgets/controls",
            "layout": "IPY_MODEL_e5a40cbda400458f814098c24d756c95"
          }
        },
        "9fe29581b80a46e8b5120aaee0eac6a9": {
          "model_module": "@jupyter-widgets/controls",
          "model_name": "ProgressStyleModel",
          "state": {
            "_view_name": "StyleView",
            "_model_name": "ProgressStyleModel",
            "description_width": "initial",
            "_view_module": "@jupyter-widgets/base",
            "_model_module_version": "1.5.0",
            "_view_count": null,
            "_view_module_version": "1.2.0",
            "bar_color": null,
            "_model_module": "@jupyter-widgets/controls"
          }
        },
        "8d56f8126cab4d2d9d5b5b0fbc65c7d8": {
          "model_module": "@jupyter-widgets/base",
          "model_name": "LayoutModel",
          "state": {
            "_view_name": "LayoutView",
            "grid_template_rows": null,
            "right": null,
            "justify_content": null,
            "_view_module": "@jupyter-widgets/base",
            "overflow": null,
            "_model_module_version": "1.2.0",
            "_view_count": null,
            "flex_flow": null,
            "width": null,
            "min_width": null,
            "border": null,
            "align_items": null,
            "bottom": null,
            "_model_module": "@jupyter-widgets/base",
            "top": null,
            "grid_column": null,
            "overflow_y": null,
            "overflow_x": null,
            "grid_auto_flow": null,
            "grid_area": null,
            "grid_template_columns": null,
            "flex": null,
            "_model_name": "LayoutModel",
            "justify_items": null,
            "grid_row": null,
            "max_height": null,
            "align_content": null,
            "visibility": null,
            "align_self": null,
            "height": null,
            "min_height": null,
            "padding": null,
            "grid_auto_rows": null,
            "grid_gap": null,
            "max_width": null,
            "order": null,
            "_view_module_version": "1.2.0",
            "grid_template_areas": null,
            "object_position": null,
            "object_fit": null,
            "grid_auto_columns": null,
            "margin": null,
            "display": null,
            "left": null
          }
        },
        "f1f79619940d4d4989759ad00aeeaeae": {
          "model_module": "@jupyter-widgets/controls",
          "model_name": "DescriptionStyleModel",
          "state": {
            "_view_name": "StyleView",
            "_model_name": "DescriptionStyleModel",
            "description_width": "",
            "_view_module": "@jupyter-widgets/base",
            "_model_module_version": "1.5.0",
            "_view_count": null,
            "_view_module_version": "1.2.0",
            "_model_module": "@jupyter-widgets/controls"
          }
        },
        "e5a40cbda400458f814098c24d756c95": {
          "model_module": "@jupyter-widgets/base",
          "model_name": "LayoutModel",
          "state": {
            "_view_name": "LayoutView",
            "grid_template_rows": null,
            "right": null,
            "justify_content": null,
            "_view_module": "@jupyter-widgets/base",
            "overflow": null,
            "_model_module_version": "1.2.0",
            "_view_count": null,
            "flex_flow": null,
            "width": null,
            "min_width": null,
            "border": null,
            "align_items": null,
            "bottom": null,
            "_model_module": "@jupyter-widgets/base",
            "top": null,
            "grid_column": null,
            "overflow_y": null,
            "overflow_x": null,
            "grid_auto_flow": null,
            "grid_area": null,
            "grid_template_columns": null,
            "flex": null,
            "_model_name": "LayoutModel",
            "justify_items": null,
            "grid_row": null,
            "max_height": null,
            "align_content": null,
            "visibility": null,
            "align_self": null,
            "height": null,
            "min_height": null,
            "padding": null,
            "grid_auto_rows": null,
            "grid_gap": null,
            "max_width": null,
            "order": null,
            "_view_module_version": "1.2.0",
            "grid_template_areas": null,
            "object_position": null,
            "object_fit": null,
            "grid_auto_columns": null,
            "margin": null,
            "display": null,
            "left": null
          }
        },
        "8dc6d59f66b64ec79a01390870587cea": {
          "model_module": "@jupyter-widgets/controls",
          "model_name": "HBoxModel",
          "state": {
            "_view_name": "HBoxView",
            "_dom_classes": [],
            "_model_name": "HBoxModel",
            "_view_module": "@jupyter-widgets/controls",
            "_model_module_version": "1.5.0",
            "_view_count": null,
            "_view_module_version": "1.5.0",
            "box_style": "",
            "layout": "IPY_MODEL_e4b3039c5ee949e684335c4bf7c5a9e2",
            "_model_module": "@jupyter-widgets/controls",
            "children": [
              "IPY_MODEL_676ab5e96be34ddc9a61c5e69a76e778",
              "IPY_MODEL_31caa59b1e55472f81cc1a77fb7b977c"
            ]
          }
        },
        "e4b3039c5ee949e684335c4bf7c5a9e2": {
          "model_module": "@jupyter-widgets/base",
          "model_name": "LayoutModel",
          "state": {
            "_view_name": "LayoutView",
            "grid_template_rows": null,
            "right": null,
            "justify_content": null,
            "_view_module": "@jupyter-widgets/base",
            "overflow": null,
            "_model_module_version": "1.2.0",
            "_view_count": null,
            "flex_flow": null,
            "width": null,
            "min_width": null,
            "border": null,
            "align_items": null,
            "bottom": null,
            "_model_module": "@jupyter-widgets/base",
            "top": null,
            "grid_column": null,
            "overflow_y": null,
            "overflow_x": null,
            "grid_auto_flow": null,
            "grid_area": null,
            "grid_template_columns": null,
            "flex": null,
            "_model_name": "LayoutModel",
            "justify_items": null,
            "grid_row": null,
            "max_height": null,
            "align_content": null,
            "visibility": null,
            "align_self": null,
            "height": null,
            "min_height": null,
            "padding": null,
            "grid_auto_rows": null,
            "grid_gap": null,
            "max_width": null,
            "order": null,
            "_view_module_version": "1.2.0",
            "grid_template_areas": null,
            "object_position": null,
            "object_fit": null,
            "grid_auto_columns": null,
            "margin": null,
            "display": null,
            "left": null
          }
        },
        "676ab5e96be34ddc9a61c5e69a76e778": {
          "model_module": "@jupyter-widgets/controls",
          "model_name": "FloatProgressModel",
          "state": {
            "_view_name": "ProgressView",
            "style": "IPY_MODEL_f59b5040108e43a282d8557ade521855",
            "_dom_classes": [],
            "description": "Feature extracion... [mfcc20]: 100%",
            "_model_name": "FloatProgressModel",
            "bar_style": "success",
            "max": 200,
            "_view_module": "@jupyter-widgets/controls",
            "_model_module_version": "1.5.0",
            "value": 200,
            "_view_count": null,
            "_view_module_version": "1.5.0",
            "orientation": "horizontal",
            "min": 0,
            "description_tooltip": null,
            "_model_module": "@jupyter-widgets/controls",
            "layout": "IPY_MODEL_c9fe65c65cbc474c8a40f72201dd346e"
          }
        },
        "31caa59b1e55472f81cc1a77fb7b977c": {
          "model_module": "@jupyter-widgets/controls",
          "model_name": "HTMLModel",
          "state": {
            "_view_name": "HTMLView",
            "style": "IPY_MODEL_30fd7f60c92340caa96e34db2f5351d5",
            "_dom_classes": [],
            "description": "",
            "_model_name": "HTMLModel",
            "placeholder": "​",
            "_view_module": "@jupyter-widgets/controls",
            "_model_module_version": "1.5.0",
            "value": " 200/200 [00:00&lt;00:00, 357.52it/s]",
            "_view_count": null,
            "_view_module_version": "1.5.0",
            "description_tooltip": null,
            "_model_module": "@jupyter-widgets/controls",
            "layout": "IPY_MODEL_f1834ff4b2d842d282ed3f291f8505ec"
          }
        },
        "f59b5040108e43a282d8557ade521855": {
          "model_module": "@jupyter-widgets/controls",
          "model_name": "ProgressStyleModel",
          "state": {
            "_view_name": "StyleView",
            "_model_name": "ProgressStyleModel",
            "description_width": "initial",
            "_view_module": "@jupyter-widgets/base",
            "_model_module_version": "1.5.0",
            "_view_count": null,
            "_view_module_version": "1.2.0",
            "bar_color": null,
            "_model_module": "@jupyter-widgets/controls"
          }
        },
        "c9fe65c65cbc474c8a40f72201dd346e": {
          "model_module": "@jupyter-widgets/base",
          "model_name": "LayoutModel",
          "state": {
            "_view_name": "LayoutView",
            "grid_template_rows": null,
            "right": null,
            "justify_content": null,
            "_view_module": "@jupyter-widgets/base",
            "overflow": null,
            "_model_module_version": "1.2.0",
            "_view_count": null,
            "flex_flow": null,
            "width": null,
            "min_width": null,
            "border": null,
            "align_items": null,
            "bottom": null,
            "_model_module": "@jupyter-widgets/base",
            "top": null,
            "grid_column": null,
            "overflow_y": null,
            "overflow_x": null,
            "grid_auto_flow": null,
            "grid_area": null,
            "grid_template_columns": null,
            "flex": null,
            "_model_name": "LayoutModel",
            "justify_items": null,
            "grid_row": null,
            "max_height": null,
            "align_content": null,
            "visibility": null,
            "align_self": null,
            "height": null,
            "min_height": null,
            "padding": null,
            "grid_auto_rows": null,
            "grid_gap": null,
            "max_width": null,
            "order": null,
            "_view_module_version": "1.2.0",
            "grid_template_areas": null,
            "object_position": null,
            "object_fit": null,
            "grid_auto_columns": null,
            "margin": null,
            "display": null,
            "left": null
          }
        },
        "30fd7f60c92340caa96e34db2f5351d5": {
          "model_module": "@jupyter-widgets/controls",
          "model_name": "DescriptionStyleModel",
          "state": {
            "_view_name": "StyleView",
            "_model_name": "DescriptionStyleModel",
            "description_width": "",
            "_view_module": "@jupyter-widgets/base",
            "_model_module_version": "1.5.0",
            "_view_count": null,
            "_view_module_version": "1.2.0",
            "_model_module": "@jupyter-widgets/controls"
          }
        },
        "f1834ff4b2d842d282ed3f291f8505ec": {
          "model_module": "@jupyter-widgets/base",
          "model_name": "LayoutModel",
          "state": {
            "_view_name": "LayoutView",
            "grid_template_rows": null,
            "right": null,
            "justify_content": null,
            "_view_module": "@jupyter-widgets/base",
            "overflow": null,
            "_model_module_version": "1.2.0",
            "_view_count": null,
            "flex_flow": null,
            "width": null,
            "min_width": null,
            "border": null,
            "align_items": null,
            "bottom": null,
            "_model_module": "@jupyter-widgets/base",
            "top": null,
            "grid_column": null,
            "overflow_y": null,
            "overflow_x": null,
            "grid_auto_flow": null,
            "grid_area": null,
            "grid_template_columns": null,
            "flex": null,
            "_model_name": "LayoutModel",
            "justify_items": null,
            "grid_row": null,
            "max_height": null,
            "align_content": null,
            "visibility": null,
            "align_self": null,
            "height": null,
            "min_height": null,
            "padding": null,
            "grid_auto_rows": null,
            "grid_gap": null,
            "max_width": null,
            "order": null,
            "_view_module_version": "1.2.0",
            "grid_template_areas": null,
            "object_position": null,
            "object_fit": null,
            "grid_auto_columns": null,
            "margin": null,
            "display": null,
            "left": null
          }
        },
        "f78694c39c2741d0b45d7fa8807d6925": {
          "model_module": "@jupyter-widgets/controls",
          "model_name": "HBoxModel",
          "state": {
            "_view_name": "HBoxView",
            "_dom_classes": [],
            "_model_name": "HBoxModel",
            "_view_module": "@jupyter-widgets/controls",
            "_model_module_version": "1.5.0",
            "_view_count": null,
            "_view_module_version": "1.5.0",
            "box_style": "",
            "layout": "IPY_MODEL_081d8d3554734603a8310cdbfe8e3199",
            "_model_module": "@jupyter-widgets/controls",
            "children": [
              "IPY_MODEL_3bc54b1f00b4475fa1ecfd76041f9e77",
              "IPY_MODEL_60e6e76d6ac04583b76e77afb0986131"
            ]
          }
        },
        "081d8d3554734603a8310cdbfe8e3199": {
          "model_module": "@jupyter-widgets/base",
          "model_name": "LayoutModel",
          "state": {
            "_view_name": "LayoutView",
            "grid_template_rows": null,
            "right": null,
            "justify_content": null,
            "_view_module": "@jupyter-widgets/base",
            "overflow": null,
            "_model_module_version": "1.2.0",
            "_view_count": null,
            "flex_flow": null,
            "width": null,
            "min_width": null,
            "border": null,
            "align_items": null,
            "bottom": null,
            "_model_module": "@jupyter-widgets/base",
            "top": null,
            "grid_column": null,
            "overflow_y": null,
            "overflow_x": null,
            "grid_auto_flow": null,
            "grid_area": null,
            "grid_template_columns": null,
            "flex": null,
            "_model_name": "LayoutModel",
            "justify_items": null,
            "grid_row": null,
            "max_height": null,
            "align_content": null,
            "visibility": null,
            "align_self": null,
            "height": null,
            "min_height": null,
            "padding": null,
            "grid_auto_rows": null,
            "grid_gap": null,
            "max_width": null,
            "order": null,
            "_view_module_version": "1.2.0",
            "grid_template_areas": null,
            "object_position": null,
            "object_fit": null,
            "grid_auto_columns": null,
            "margin": null,
            "display": null,
            "left": null
          }
        },
        "3bc54b1f00b4475fa1ecfd76041f9e77": {
          "model_module": "@jupyter-widgets/controls",
          "model_name": "FloatProgressModel",
          "state": {
            "_view_name": "ProgressView",
            "style": "IPY_MODEL_7db032d45e394bacbca34473520ab3ec",
            "_dom_classes": [],
            "description": "Feature extracion... [zcr]: 100%",
            "_model_name": "FloatProgressModel",
            "bar_style": "success",
            "max": 200,
            "_view_module": "@jupyter-widgets/controls",
            "_model_module_version": "1.5.0",
            "value": 200,
            "_view_count": null,
            "_view_module_version": "1.5.0",
            "orientation": "horizontal",
            "min": 0,
            "description_tooltip": null,
            "_model_module": "@jupyter-widgets/controls",
            "layout": "IPY_MODEL_a7dc11b354b94ca0a12582b51b25eb84"
          }
        },
        "60e6e76d6ac04583b76e77afb0986131": {
          "model_module": "@jupyter-widgets/controls",
          "model_name": "HTMLModel",
          "state": {
            "_view_name": "HTMLView",
            "style": "IPY_MODEL_3b62e59002064c5d906fd9a7d9890bf0",
            "_dom_classes": [],
            "description": "",
            "_model_name": "HTMLModel",
            "placeholder": "​",
            "_view_module": "@jupyter-widgets/controls",
            "_model_module_version": "1.5.0",
            "value": " 200/200 [00:00&lt;00:00, 519.15it/s]",
            "_view_count": null,
            "_view_module_version": "1.5.0",
            "description_tooltip": null,
            "_model_module": "@jupyter-widgets/controls",
            "layout": "IPY_MODEL_3f767dbdd75c466691a47381f39cb2f4"
          }
        },
        "7db032d45e394bacbca34473520ab3ec": {
          "model_module": "@jupyter-widgets/controls",
          "model_name": "ProgressStyleModel",
          "state": {
            "_view_name": "StyleView",
            "_model_name": "ProgressStyleModel",
            "description_width": "initial",
            "_view_module": "@jupyter-widgets/base",
            "_model_module_version": "1.5.0",
            "_view_count": null,
            "_view_module_version": "1.2.0",
            "bar_color": null,
            "_model_module": "@jupyter-widgets/controls"
          }
        },
        "a7dc11b354b94ca0a12582b51b25eb84": {
          "model_module": "@jupyter-widgets/base",
          "model_name": "LayoutModel",
          "state": {
            "_view_name": "LayoutView",
            "grid_template_rows": null,
            "right": null,
            "justify_content": null,
            "_view_module": "@jupyter-widgets/base",
            "overflow": null,
            "_model_module_version": "1.2.0",
            "_view_count": null,
            "flex_flow": null,
            "width": null,
            "min_width": null,
            "border": null,
            "align_items": null,
            "bottom": null,
            "_model_module": "@jupyter-widgets/base",
            "top": null,
            "grid_column": null,
            "overflow_y": null,
            "overflow_x": null,
            "grid_auto_flow": null,
            "grid_area": null,
            "grid_template_columns": null,
            "flex": null,
            "_model_name": "LayoutModel",
            "justify_items": null,
            "grid_row": null,
            "max_height": null,
            "align_content": null,
            "visibility": null,
            "align_self": null,
            "height": null,
            "min_height": null,
            "padding": null,
            "grid_auto_rows": null,
            "grid_gap": null,
            "max_width": null,
            "order": null,
            "_view_module_version": "1.2.0",
            "grid_template_areas": null,
            "object_position": null,
            "object_fit": null,
            "grid_auto_columns": null,
            "margin": null,
            "display": null,
            "left": null
          }
        },
        "3b62e59002064c5d906fd9a7d9890bf0": {
          "model_module": "@jupyter-widgets/controls",
          "model_name": "DescriptionStyleModel",
          "state": {
            "_view_name": "StyleView",
            "_model_name": "DescriptionStyleModel",
            "description_width": "",
            "_view_module": "@jupyter-widgets/base",
            "_model_module_version": "1.5.0",
            "_view_count": null,
            "_view_module_version": "1.2.0",
            "_model_module": "@jupyter-widgets/controls"
          }
        },
        "3f767dbdd75c466691a47381f39cb2f4": {
          "model_module": "@jupyter-widgets/base",
          "model_name": "LayoutModel",
          "state": {
            "_view_name": "LayoutView",
            "grid_template_rows": null,
            "right": null,
            "justify_content": null,
            "_view_module": "@jupyter-widgets/base",
            "overflow": null,
            "_model_module_version": "1.2.0",
            "_view_count": null,
            "flex_flow": null,
            "width": null,
            "min_width": null,
            "border": null,
            "align_items": null,
            "bottom": null,
            "_model_module": "@jupyter-widgets/base",
            "top": null,
            "grid_column": null,
            "overflow_y": null,
            "overflow_x": null,
            "grid_auto_flow": null,
            "grid_area": null,
            "grid_template_columns": null,
            "flex": null,
            "_model_name": "LayoutModel",
            "justify_items": null,
            "grid_row": null,
            "max_height": null,
            "align_content": null,
            "visibility": null,
            "align_self": null,
            "height": null,
            "min_height": null,
            "padding": null,
            "grid_auto_rows": null,
            "grid_gap": null,
            "max_width": null,
            "order": null,
            "_view_module_version": "1.2.0",
            "grid_template_areas": null,
            "object_position": null,
            "object_fit": null,
            "grid_auto_columns": null,
            "margin": null,
            "display": null,
            "left": null
          }
        },
        "a4a312219871438ead20555d70d3c5e6": {
          "model_module": "@jupyter-widgets/controls",
          "model_name": "HBoxModel",
          "state": {
            "_view_name": "HBoxView",
            "_dom_classes": [],
            "_model_name": "HBoxModel",
            "_view_module": "@jupyter-widgets/controls",
            "_model_module_version": "1.5.0",
            "_view_count": null,
            "_view_module_version": "1.5.0",
            "box_style": "",
            "layout": "IPY_MODEL_65d0ed76173a4f56bf90eafa1a18ad0a",
            "_model_module": "@jupyter-widgets/controls",
            "children": [
              "IPY_MODEL_40f6fdb0fc4d4d8b9c0ba859b2e009ad",
              "IPY_MODEL_cb80fa219f0246aa88b066f3a54463b3"
            ]
          }
        },
        "65d0ed76173a4f56bf90eafa1a18ad0a": {
          "model_module": "@jupyter-widgets/base",
          "model_name": "LayoutModel",
          "state": {
            "_view_name": "LayoutView",
            "grid_template_rows": null,
            "right": null,
            "justify_content": null,
            "_view_module": "@jupyter-widgets/base",
            "overflow": null,
            "_model_module_version": "1.2.0",
            "_view_count": null,
            "flex_flow": null,
            "width": null,
            "min_width": null,
            "border": null,
            "align_items": null,
            "bottom": null,
            "_model_module": "@jupyter-widgets/base",
            "top": null,
            "grid_column": null,
            "overflow_y": null,
            "overflow_x": null,
            "grid_auto_flow": null,
            "grid_area": null,
            "grid_template_columns": null,
            "flex": null,
            "_model_name": "LayoutModel",
            "justify_items": null,
            "grid_row": null,
            "max_height": null,
            "align_content": null,
            "visibility": null,
            "align_self": null,
            "height": null,
            "min_height": null,
            "padding": null,
            "grid_auto_rows": null,
            "grid_gap": null,
            "max_width": null,
            "order": null,
            "_view_module_version": "1.2.0",
            "grid_template_areas": null,
            "object_position": null,
            "object_fit": null,
            "grid_auto_columns": null,
            "margin": null,
            "display": null,
            "left": null
          }
        },
        "40f6fdb0fc4d4d8b9c0ba859b2e009ad": {
          "model_module": "@jupyter-widgets/controls",
          "model_name": "FloatProgressModel",
          "state": {
            "_view_name": "ProgressView",
            "style": "IPY_MODEL_3adb995626204563ab0c2016c0de225e",
            "_dom_classes": [],
            "description": "Feature extracion... [zcr+mfcc20]: 100%",
            "_model_name": "FloatProgressModel",
            "bar_style": "info",
            "max": 200,
            "_view_module": "@jupyter-widgets/controls",
            "_model_module_version": "1.5.0",
            "value": 200,
            "_view_count": null,
            "_view_module_version": "1.5.0",
            "orientation": "horizontal",
            "min": 0,
            "description_tooltip": null,
            "_model_module": "@jupyter-widgets/controls",
            "layout": "IPY_MODEL_d680c922ec1c481d995511690c708775"
          }
        },
        "cb80fa219f0246aa88b066f3a54463b3": {
          "model_module": "@jupyter-widgets/controls",
          "model_name": "HTMLModel",
          "state": {
            "_view_name": "HTMLView",
            "style": "IPY_MODEL_131c338edba040598634eff6d8565066",
            "_dom_classes": [],
            "description": "",
            "_model_name": "HTMLModel",
            "placeholder": "​",
            "_view_module": "@jupyter-widgets/controls",
            "_model_module_version": "1.5.0",
            "value": " 200/200 [00:20&lt;00:00, 192.38it/s]",
            "_view_count": null,
            "_view_module_version": "1.5.0",
            "description_tooltip": null,
            "_model_module": "@jupyter-widgets/controls",
            "layout": "IPY_MODEL_2c1d059ba8434a2abeefef1abb16c743"
          }
        },
        "3adb995626204563ab0c2016c0de225e": {
          "model_module": "@jupyter-widgets/controls",
          "model_name": "ProgressStyleModel",
          "state": {
            "_view_name": "StyleView",
            "_model_name": "ProgressStyleModel",
            "description_width": "initial",
            "_view_module": "@jupyter-widgets/base",
            "_model_module_version": "1.5.0",
            "_view_count": null,
            "_view_module_version": "1.2.0",
            "bar_color": null,
            "_model_module": "@jupyter-widgets/controls"
          }
        },
        "d680c922ec1c481d995511690c708775": {
          "model_module": "@jupyter-widgets/base",
          "model_name": "LayoutModel",
          "state": {
            "_view_name": "LayoutView",
            "grid_template_rows": null,
            "right": null,
            "justify_content": null,
            "_view_module": "@jupyter-widgets/base",
            "overflow": null,
            "_model_module_version": "1.2.0",
            "_view_count": null,
            "flex_flow": null,
            "width": null,
            "min_width": null,
            "border": null,
            "align_items": null,
            "bottom": null,
            "_model_module": "@jupyter-widgets/base",
            "top": null,
            "grid_column": null,
            "overflow_y": null,
            "overflow_x": null,
            "grid_auto_flow": null,
            "grid_area": null,
            "grid_template_columns": null,
            "flex": null,
            "_model_name": "LayoutModel",
            "justify_items": null,
            "grid_row": null,
            "max_height": null,
            "align_content": null,
            "visibility": null,
            "align_self": null,
            "height": null,
            "min_height": null,
            "padding": null,
            "grid_auto_rows": null,
            "grid_gap": null,
            "max_width": null,
            "order": null,
            "_view_module_version": "1.2.0",
            "grid_template_areas": null,
            "object_position": null,
            "object_fit": null,
            "grid_auto_columns": null,
            "margin": null,
            "display": null,
            "left": null
          }
        },
        "131c338edba040598634eff6d8565066": {
          "model_module": "@jupyter-widgets/controls",
          "model_name": "DescriptionStyleModel",
          "state": {
            "_view_name": "StyleView",
            "_model_name": "DescriptionStyleModel",
            "description_width": "",
            "_view_module": "@jupyter-widgets/base",
            "_model_module_version": "1.5.0",
            "_view_count": null,
            "_view_module_version": "1.2.0",
            "_model_module": "@jupyter-widgets/controls"
          }
        },
        "2c1d059ba8434a2abeefef1abb16c743": {
          "model_module": "@jupyter-widgets/base",
          "model_name": "LayoutModel",
          "state": {
            "_view_name": "LayoutView",
            "grid_template_rows": null,
            "right": null,
            "justify_content": null,
            "_view_module": "@jupyter-widgets/base",
            "overflow": null,
            "_model_module_version": "1.2.0",
            "_view_count": null,
            "flex_flow": null,
            "width": null,
            "min_width": null,
            "border": null,
            "align_items": null,
            "bottom": null,
            "_model_module": "@jupyter-widgets/base",
            "top": null,
            "grid_column": null,
            "overflow_y": null,
            "overflow_x": null,
            "grid_auto_flow": null,
            "grid_area": null,
            "grid_template_columns": null,
            "flex": null,
            "_model_name": "LayoutModel",
            "justify_items": null,
            "grid_row": null,
            "max_height": null,
            "align_content": null,
            "visibility": null,
            "align_self": null,
            "height": null,
            "min_height": null,
            "padding": null,
            "grid_auto_rows": null,
            "grid_gap": null,
            "max_width": null,
            "order": null,
            "_view_module_version": "1.2.0",
            "grid_template_areas": null,
            "object_position": null,
            "object_fit": null,
            "grid_auto_columns": null,
            "margin": null,
            "display": null,
            "left": null
          }
        },
        "1cc941826dab4e41801a6d7b36b7ce85": {
          "model_module": "@jupyter-widgets/controls",
          "model_name": "HBoxModel",
          "state": {
            "_view_name": "HBoxView",
            "_dom_classes": [],
            "_model_name": "HBoxModel",
            "_view_module": "@jupyter-widgets/controls",
            "_model_module_version": "1.5.0",
            "_view_count": null,
            "_view_module_version": "1.5.0",
            "box_style": "",
            "layout": "IPY_MODEL_9f1c75c2da6e43db97858dff2e980a31",
            "_model_module": "@jupyter-widgets/controls",
            "children": [
              "IPY_MODEL_eeea5f80e13f4e79b9ba76c17908b7c2",
              "IPY_MODEL_d5cfab57f2e14fc394b30b68eab635da"
            ]
          }
        },
        "9f1c75c2da6e43db97858dff2e980a31": {
          "model_module": "@jupyter-widgets/base",
          "model_name": "LayoutModel",
          "state": {
            "_view_name": "LayoutView",
            "grid_template_rows": null,
            "right": null,
            "justify_content": null,
            "_view_module": "@jupyter-widgets/base",
            "overflow": null,
            "_model_module_version": "1.2.0",
            "_view_count": null,
            "flex_flow": null,
            "width": null,
            "min_width": null,
            "border": null,
            "align_items": null,
            "bottom": null,
            "_model_module": "@jupyter-widgets/base",
            "top": null,
            "grid_column": null,
            "overflow_y": null,
            "overflow_x": null,
            "grid_auto_flow": null,
            "grid_area": null,
            "grid_template_columns": null,
            "flex": null,
            "_model_name": "LayoutModel",
            "justify_items": null,
            "grid_row": null,
            "max_height": null,
            "align_content": null,
            "visibility": null,
            "align_self": null,
            "height": null,
            "min_height": null,
            "padding": null,
            "grid_auto_rows": null,
            "grid_gap": null,
            "max_width": null,
            "order": null,
            "_view_module_version": "1.2.0",
            "grid_template_areas": null,
            "object_position": null,
            "object_fit": null,
            "grid_auto_columns": null,
            "margin": null,
            "display": null,
            "left": null
          }
        },
        "eeea5f80e13f4e79b9ba76c17908b7c2": {
          "model_module": "@jupyter-widgets/controls",
          "model_name": "FloatProgressModel",
          "state": {
            "_view_name": "ProgressView",
            "style": "IPY_MODEL_da9f22e0f3644c3185d1a61104847226",
            "_dom_classes": [],
            "description": "Feature extracion... [mfcc13]: 100%",
            "_model_name": "FloatProgressModel",
            "bar_style": "success",
            "max": 200,
            "_view_module": "@jupyter-widgets/controls",
            "_model_module_version": "1.5.0",
            "value": 200,
            "_view_count": null,
            "_view_module_version": "1.5.0",
            "orientation": "horizontal",
            "min": 0,
            "description_tooltip": null,
            "_model_module": "@jupyter-widgets/controls",
            "layout": "IPY_MODEL_650a6971694d401f8b6bb1e589e4392c"
          }
        },
        "d5cfab57f2e14fc394b30b68eab635da": {
          "model_module": "@jupyter-widgets/controls",
          "model_name": "HTMLModel",
          "state": {
            "_view_name": "HTMLView",
            "style": "IPY_MODEL_03a358be7bf84df783f0c906b699bddb",
            "_dom_classes": [],
            "description": "",
            "_model_name": "HTMLModel",
            "placeholder": "​",
            "_view_module": "@jupyter-widgets/controls",
            "_model_module_version": "1.5.0",
            "value": " 200/200 [00:00&lt;00:00, 344.52it/s]",
            "_view_count": null,
            "_view_module_version": "1.5.0",
            "description_tooltip": null,
            "_model_module": "@jupyter-widgets/controls",
            "layout": "IPY_MODEL_14c614c3c78948fdb2f92f6d98bb7c38"
          }
        },
        "da9f22e0f3644c3185d1a61104847226": {
          "model_module": "@jupyter-widgets/controls",
          "model_name": "ProgressStyleModel",
          "state": {
            "_view_name": "StyleView",
            "_model_name": "ProgressStyleModel",
            "description_width": "initial",
            "_view_module": "@jupyter-widgets/base",
            "_model_module_version": "1.5.0",
            "_view_count": null,
            "_view_module_version": "1.2.0",
            "bar_color": null,
            "_model_module": "@jupyter-widgets/controls"
          }
        },
        "650a6971694d401f8b6bb1e589e4392c": {
          "model_module": "@jupyter-widgets/base",
          "model_name": "LayoutModel",
          "state": {
            "_view_name": "LayoutView",
            "grid_template_rows": null,
            "right": null,
            "justify_content": null,
            "_view_module": "@jupyter-widgets/base",
            "overflow": null,
            "_model_module_version": "1.2.0",
            "_view_count": null,
            "flex_flow": null,
            "width": null,
            "min_width": null,
            "border": null,
            "align_items": null,
            "bottom": null,
            "_model_module": "@jupyter-widgets/base",
            "top": null,
            "grid_column": null,
            "overflow_y": null,
            "overflow_x": null,
            "grid_auto_flow": null,
            "grid_area": null,
            "grid_template_columns": null,
            "flex": null,
            "_model_name": "LayoutModel",
            "justify_items": null,
            "grid_row": null,
            "max_height": null,
            "align_content": null,
            "visibility": null,
            "align_self": null,
            "height": null,
            "min_height": null,
            "padding": null,
            "grid_auto_rows": null,
            "grid_gap": null,
            "max_width": null,
            "order": null,
            "_view_module_version": "1.2.0",
            "grid_template_areas": null,
            "object_position": null,
            "object_fit": null,
            "grid_auto_columns": null,
            "margin": null,
            "display": null,
            "left": null
          }
        },
        "03a358be7bf84df783f0c906b699bddb": {
          "model_module": "@jupyter-widgets/controls",
          "model_name": "DescriptionStyleModel",
          "state": {
            "_view_name": "StyleView",
            "_model_name": "DescriptionStyleModel",
            "description_width": "",
            "_view_module": "@jupyter-widgets/base",
            "_model_module_version": "1.5.0",
            "_view_count": null,
            "_view_module_version": "1.2.0",
            "_model_module": "@jupyter-widgets/controls"
          }
        },
        "14c614c3c78948fdb2f92f6d98bb7c38": {
          "model_module": "@jupyter-widgets/base",
          "model_name": "LayoutModel",
          "state": {
            "_view_name": "LayoutView",
            "grid_template_rows": null,
            "right": null,
            "justify_content": null,
            "_view_module": "@jupyter-widgets/base",
            "overflow": null,
            "_model_module_version": "1.2.0",
            "_view_count": null,
            "flex_flow": null,
            "width": null,
            "min_width": null,
            "border": null,
            "align_items": null,
            "bottom": null,
            "_model_module": "@jupyter-widgets/base",
            "top": null,
            "grid_column": null,
            "overflow_y": null,
            "overflow_x": null,
            "grid_auto_flow": null,
            "grid_area": null,
            "grid_template_columns": null,
            "flex": null,
            "_model_name": "LayoutModel",
            "justify_items": null,
            "grid_row": null,
            "max_height": null,
            "align_content": null,
            "visibility": null,
            "align_self": null,
            "height": null,
            "min_height": null,
            "padding": null,
            "grid_auto_rows": null,
            "grid_gap": null,
            "max_width": null,
            "order": null,
            "_view_module_version": "1.2.0",
            "grid_template_areas": null,
            "object_position": null,
            "object_fit": null,
            "grid_auto_columns": null,
            "margin": null,
            "display": null,
            "left": null
          }
        },
        "d49521c4d81a420284df67225870fa76": {
          "model_module": "@jupyter-widgets/controls",
          "model_name": "HBoxModel",
          "state": {
            "_view_name": "HBoxView",
            "_dom_classes": [],
            "_model_name": "HBoxModel",
            "_view_module": "@jupyter-widgets/controls",
            "_model_module_version": "1.5.0",
            "_view_count": null,
            "_view_module_version": "1.5.0",
            "box_style": "",
            "layout": "IPY_MODEL_7d27911641ff4ffa941f08fb0fb74535",
            "_model_module": "@jupyter-widgets/controls",
            "children": [
              "IPY_MODEL_98ddb22cbf9e4c1ab08c9edd0d65ebd7",
              "IPY_MODEL_0aa87fd2671a4170ab35f2a046f9fa19"
            ]
          }
        },
        "7d27911641ff4ffa941f08fb0fb74535": {
          "model_module": "@jupyter-widgets/base",
          "model_name": "LayoutModel",
          "state": {
            "_view_name": "LayoutView",
            "grid_template_rows": null,
            "right": null,
            "justify_content": null,
            "_view_module": "@jupyter-widgets/base",
            "overflow": null,
            "_model_module_version": "1.2.0",
            "_view_count": null,
            "flex_flow": null,
            "width": null,
            "min_width": null,
            "border": null,
            "align_items": null,
            "bottom": null,
            "_model_module": "@jupyter-widgets/base",
            "top": null,
            "grid_column": null,
            "overflow_y": null,
            "overflow_x": null,
            "grid_auto_flow": null,
            "grid_area": null,
            "grid_template_columns": null,
            "flex": null,
            "_model_name": "LayoutModel",
            "justify_items": null,
            "grid_row": null,
            "max_height": null,
            "align_content": null,
            "visibility": null,
            "align_self": null,
            "height": null,
            "min_height": null,
            "padding": null,
            "grid_auto_rows": null,
            "grid_gap": null,
            "max_width": null,
            "order": null,
            "_view_module_version": "1.2.0",
            "grid_template_areas": null,
            "object_position": null,
            "object_fit": null,
            "grid_auto_columns": null,
            "margin": null,
            "display": null,
            "left": null
          }
        },
        "98ddb22cbf9e4c1ab08c9edd0d65ebd7": {
          "model_module": "@jupyter-widgets/controls",
          "model_name": "FloatProgressModel",
          "state": {
            "_view_name": "ProgressView",
            "style": "IPY_MODEL_dcc70945730b41c2bf0104e894659e13",
            "_dom_classes": [],
            "description": "Feature extracion... [mfcc20]: 100%",
            "_model_name": "FloatProgressModel",
            "bar_style": "success",
            "max": 200,
            "_view_module": "@jupyter-widgets/controls",
            "_model_module_version": "1.5.0",
            "value": 200,
            "_view_count": null,
            "_view_module_version": "1.5.0",
            "orientation": "horizontal",
            "min": 0,
            "description_tooltip": null,
            "_model_module": "@jupyter-widgets/controls",
            "layout": "IPY_MODEL_470683bbb88f4aae901499302b730c75"
          }
        },
        "0aa87fd2671a4170ab35f2a046f9fa19": {
          "model_module": "@jupyter-widgets/controls",
          "model_name": "HTMLModel",
          "state": {
            "_view_name": "HTMLView",
            "style": "IPY_MODEL_068ff292b7e54c8dbf72f3c225756afb",
            "_dom_classes": [],
            "description": "",
            "_model_name": "HTMLModel",
            "placeholder": "​",
            "_view_module": "@jupyter-widgets/controls",
            "_model_module_version": "1.5.0",
            "value": " 200/200 [00:00&lt;00:00, 332.06it/s]",
            "_view_count": null,
            "_view_module_version": "1.5.0",
            "description_tooltip": null,
            "_model_module": "@jupyter-widgets/controls",
            "layout": "IPY_MODEL_5de13c42543445feb8653ced6abbc339"
          }
        },
        "dcc70945730b41c2bf0104e894659e13": {
          "model_module": "@jupyter-widgets/controls",
          "model_name": "ProgressStyleModel",
          "state": {
            "_view_name": "StyleView",
            "_model_name": "ProgressStyleModel",
            "description_width": "initial",
            "_view_module": "@jupyter-widgets/base",
            "_model_module_version": "1.5.0",
            "_view_count": null,
            "_view_module_version": "1.2.0",
            "bar_color": null,
            "_model_module": "@jupyter-widgets/controls"
          }
        },
        "470683bbb88f4aae901499302b730c75": {
          "model_module": "@jupyter-widgets/base",
          "model_name": "LayoutModel",
          "state": {
            "_view_name": "LayoutView",
            "grid_template_rows": null,
            "right": null,
            "justify_content": null,
            "_view_module": "@jupyter-widgets/base",
            "overflow": null,
            "_model_module_version": "1.2.0",
            "_view_count": null,
            "flex_flow": null,
            "width": null,
            "min_width": null,
            "border": null,
            "align_items": null,
            "bottom": null,
            "_model_module": "@jupyter-widgets/base",
            "top": null,
            "grid_column": null,
            "overflow_y": null,
            "overflow_x": null,
            "grid_auto_flow": null,
            "grid_area": null,
            "grid_template_columns": null,
            "flex": null,
            "_model_name": "LayoutModel",
            "justify_items": null,
            "grid_row": null,
            "max_height": null,
            "align_content": null,
            "visibility": null,
            "align_self": null,
            "height": null,
            "min_height": null,
            "padding": null,
            "grid_auto_rows": null,
            "grid_gap": null,
            "max_width": null,
            "order": null,
            "_view_module_version": "1.2.0",
            "grid_template_areas": null,
            "object_position": null,
            "object_fit": null,
            "grid_auto_columns": null,
            "margin": null,
            "display": null,
            "left": null
          }
        },
        "068ff292b7e54c8dbf72f3c225756afb": {
          "model_module": "@jupyter-widgets/controls",
          "model_name": "DescriptionStyleModel",
          "state": {
            "_view_name": "StyleView",
            "_model_name": "DescriptionStyleModel",
            "description_width": "",
            "_view_module": "@jupyter-widgets/base",
            "_model_module_version": "1.5.0",
            "_view_count": null,
            "_view_module_version": "1.2.0",
            "_model_module": "@jupyter-widgets/controls"
          }
        },
        "5de13c42543445feb8653ced6abbc339": {
          "model_module": "@jupyter-widgets/base",
          "model_name": "LayoutModel",
          "state": {
            "_view_name": "LayoutView",
            "grid_template_rows": null,
            "right": null,
            "justify_content": null,
            "_view_module": "@jupyter-widgets/base",
            "overflow": null,
            "_model_module_version": "1.2.0",
            "_view_count": null,
            "flex_flow": null,
            "width": null,
            "min_width": null,
            "border": null,
            "align_items": null,
            "bottom": null,
            "_model_module": "@jupyter-widgets/base",
            "top": null,
            "grid_column": null,
            "overflow_y": null,
            "overflow_x": null,
            "grid_auto_flow": null,
            "grid_area": null,
            "grid_template_columns": null,
            "flex": null,
            "_model_name": "LayoutModel",
            "justify_items": null,
            "grid_row": null,
            "max_height": null,
            "align_content": null,
            "visibility": null,
            "align_self": null,
            "height": null,
            "min_height": null,
            "padding": null,
            "grid_auto_rows": null,
            "grid_gap": null,
            "max_width": null,
            "order": null,
            "_view_module_version": "1.2.0",
            "grid_template_areas": null,
            "object_position": null,
            "object_fit": null,
            "grid_auto_columns": null,
            "margin": null,
            "display": null,
            "left": null
          }
        },
        "bbe0bb23f29f4c68b0b88900f1ea653a": {
          "model_module": "@jupyter-widgets/controls",
          "model_name": "HBoxModel",
          "state": {
            "_view_name": "HBoxView",
            "_dom_classes": [],
            "_model_name": "HBoxModel",
            "_view_module": "@jupyter-widgets/controls",
            "_model_module_version": "1.5.0",
            "_view_count": null,
            "_view_module_version": "1.5.0",
            "box_style": "",
            "layout": "IPY_MODEL_a0a98c346dc044efa1bbb77b812a5bfe",
            "_model_module": "@jupyter-widgets/controls",
            "children": [
              "IPY_MODEL_4ea9c2872085473798f1fddab14cbd50",
              "IPY_MODEL_b325ce70854f486e8c87a14c6e81b81a"
            ]
          }
        },
        "a0a98c346dc044efa1bbb77b812a5bfe": {
          "model_module": "@jupyter-widgets/base",
          "model_name": "LayoutModel",
          "state": {
            "_view_name": "LayoutView",
            "grid_template_rows": null,
            "right": null,
            "justify_content": null,
            "_view_module": "@jupyter-widgets/base",
            "overflow": null,
            "_model_module_version": "1.2.0",
            "_view_count": null,
            "flex_flow": null,
            "width": null,
            "min_width": null,
            "border": null,
            "align_items": null,
            "bottom": null,
            "_model_module": "@jupyter-widgets/base",
            "top": null,
            "grid_column": null,
            "overflow_y": null,
            "overflow_x": null,
            "grid_auto_flow": null,
            "grid_area": null,
            "grid_template_columns": null,
            "flex": null,
            "_model_name": "LayoutModel",
            "justify_items": null,
            "grid_row": null,
            "max_height": null,
            "align_content": null,
            "visibility": null,
            "align_self": null,
            "height": null,
            "min_height": null,
            "padding": null,
            "grid_auto_rows": null,
            "grid_gap": null,
            "max_width": null,
            "order": null,
            "_view_module_version": "1.2.0",
            "grid_template_areas": null,
            "object_position": null,
            "object_fit": null,
            "grid_auto_columns": null,
            "margin": null,
            "display": null,
            "left": null
          }
        },
        "4ea9c2872085473798f1fddab14cbd50": {
          "model_module": "@jupyter-widgets/controls",
          "model_name": "FloatProgressModel",
          "state": {
            "_view_name": "ProgressView",
            "style": "IPY_MODEL_a9c13bb7438741ec93795e0094d41b88",
            "_dom_classes": [],
            "description": "Feature extracion... [zcr]: 100%",
            "_model_name": "FloatProgressModel",
            "bar_style": "success",
            "max": 200,
            "_view_module": "@jupyter-widgets/controls",
            "_model_module_version": "1.5.0",
            "value": 200,
            "_view_count": null,
            "_view_module_version": "1.5.0",
            "orientation": "horizontal",
            "min": 0,
            "description_tooltip": null,
            "_model_module": "@jupyter-widgets/controls",
            "layout": "IPY_MODEL_5f6351e74c0e4ea485921dce57696b4d"
          }
        },
        "b325ce70854f486e8c87a14c6e81b81a": {
          "model_module": "@jupyter-widgets/controls",
          "model_name": "HTMLModel",
          "state": {
            "_view_name": "HTMLView",
            "style": "IPY_MODEL_1eb1e1ef79f74c28909cd67f66025f6d",
            "_dom_classes": [],
            "description": "",
            "_model_name": "HTMLModel",
            "placeholder": "​",
            "_view_module": "@jupyter-widgets/controls",
            "_model_module_version": "1.5.0",
            "value": " 200/200 [00:00&lt;00:00, 610.21it/s]",
            "_view_count": null,
            "_view_module_version": "1.5.0",
            "description_tooltip": null,
            "_model_module": "@jupyter-widgets/controls",
            "layout": "IPY_MODEL_b0d396bf65a14958b4a9a6b50754192a"
          }
        },
        "a9c13bb7438741ec93795e0094d41b88": {
          "model_module": "@jupyter-widgets/controls",
          "model_name": "ProgressStyleModel",
          "state": {
            "_view_name": "StyleView",
            "_model_name": "ProgressStyleModel",
            "description_width": "initial",
            "_view_module": "@jupyter-widgets/base",
            "_model_module_version": "1.5.0",
            "_view_count": null,
            "_view_module_version": "1.2.0",
            "bar_color": null,
            "_model_module": "@jupyter-widgets/controls"
          }
        },
        "5f6351e74c0e4ea485921dce57696b4d": {
          "model_module": "@jupyter-widgets/base",
          "model_name": "LayoutModel",
          "state": {
            "_view_name": "LayoutView",
            "grid_template_rows": null,
            "right": null,
            "justify_content": null,
            "_view_module": "@jupyter-widgets/base",
            "overflow": null,
            "_model_module_version": "1.2.0",
            "_view_count": null,
            "flex_flow": null,
            "width": null,
            "min_width": null,
            "border": null,
            "align_items": null,
            "bottom": null,
            "_model_module": "@jupyter-widgets/base",
            "top": null,
            "grid_column": null,
            "overflow_y": null,
            "overflow_x": null,
            "grid_auto_flow": null,
            "grid_area": null,
            "grid_template_columns": null,
            "flex": null,
            "_model_name": "LayoutModel",
            "justify_items": null,
            "grid_row": null,
            "max_height": null,
            "align_content": null,
            "visibility": null,
            "align_self": null,
            "height": null,
            "min_height": null,
            "padding": null,
            "grid_auto_rows": null,
            "grid_gap": null,
            "max_width": null,
            "order": null,
            "_view_module_version": "1.2.0",
            "grid_template_areas": null,
            "object_position": null,
            "object_fit": null,
            "grid_auto_columns": null,
            "margin": null,
            "display": null,
            "left": null
          }
        },
        "1eb1e1ef79f74c28909cd67f66025f6d": {
          "model_module": "@jupyter-widgets/controls",
          "model_name": "DescriptionStyleModel",
          "state": {
            "_view_name": "StyleView",
            "_model_name": "DescriptionStyleModel",
            "description_width": "",
            "_view_module": "@jupyter-widgets/base",
            "_model_module_version": "1.5.0",
            "_view_count": null,
            "_view_module_version": "1.2.0",
            "_model_module": "@jupyter-widgets/controls"
          }
        },
        "b0d396bf65a14958b4a9a6b50754192a": {
          "model_module": "@jupyter-widgets/base",
          "model_name": "LayoutModel",
          "state": {
            "_view_name": "LayoutView",
            "grid_template_rows": null,
            "right": null,
            "justify_content": null,
            "_view_module": "@jupyter-widgets/base",
            "overflow": null,
            "_model_module_version": "1.2.0",
            "_view_count": null,
            "flex_flow": null,
            "width": null,
            "min_width": null,
            "border": null,
            "align_items": null,
            "bottom": null,
            "_model_module": "@jupyter-widgets/base",
            "top": null,
            "grid_column": null,
            "overflow_y": null,
            "overflow_x": null,
            "grid_auto_flow": null,
            "grid_area": null,
            "grid_template_columns": null,
            "flex": null,
            "_model_name": "LayoutModel",
            "justify_items": null,
            "grid_row": null,
            "max_height": null,
            "align_content": null,
            "visibility": null,
            "align_self": null,
            "height": null,
            "min_height": null,
            "padding": null,
            "grid_auto_rows": null,
            "grid_gap": null,
            "max_width": null,
            "order": null,
            "_view_module_version": "1.2.0",
            "grid_template_areas": null,
            "object_position": null,
            "object_fit": null,
            "grid_auto_columns": null,
            "margin": null,
            "display": null,
            "left": null
          }
        },
        "9ea3bbcded0243709c172b2122063db3": {
          "model_module": "@jupyter-widgets/controls",
          "model_name": "HBoxModel",
          "state": {
            "_view_name": "HBoxView",
            "_dom_classes": [],
            "_model_name": "HBoxModel",
            "_view_module": "@jupyter-widgets/controls",
            "_model_module_version": "1.5.0",
            "_view_count": null,
            "_view_module_version": "1.5.0",
            "box_style": "",
            "layout": "IPY_MODEL_09c0111f4f304e6d9035b1ee287fb1a0",
            "_model_module": "@jupyter-widgets/controls",
            "children": [
              "IPY_MODEL_76ec1c9c2d514499bba2fdbcd791220d",
              "IPY_MODEL_ce7cb61a818f48d3b5d18fb2dc2f4061"
            ]
          }
        },
        "09c0111f4f304e6d9035b1ee287fb1a0": {
          "model_module": "@jupyter-widgets/base",
          "model_name": "LayoutModel",
          "state": {
            "_view_name": "LayoutView",
            "grid_template_rows": null,
            "right": null,
            "justify_content": null,
            "_view_module": "@jupyter-widgets/base",
            "overflow": null,
            "_model_module_version": "1.2.0",
            "_view_count": null,
            "flex_flow": null,
            "width": null,
            "min_width": null,
            "border": null,
            "align_items": null,
            "bottom": null,
            "_model_module": "@jupyter-widgets/base",
            "top": null,
            "grid_column": null,
            "overflow_y": null,
            "overflow_x": null,
            "grid_auto_flow": null,
            "grid_area": null,
            "grid_template_columns": null,
            "flex": null,
            "_model_name": "LayoutModel",
            "justify_items": null,
            "grid_row": null,
            "max_height": null,
            "align_content": null,
            "visibility": null,
            "align_self": null,
            "height": null,
            "min_height": null,
            "padding": null,
            "grid_auto_rows": null,
            "grid_gap": null,
            "max_width": null,
            "order": null,
            "_view_module_version": "1.2.0",
            "grid_template_areas": null,
            "object_position": null,
            "object_fit": null,
            "grid_auto_columns": null,
            "margin": null,
            "display": null,
            "left": null
          }
        },
        "76ec1c9c2d514499bba2fdbcd791220d": {
          "model_module": "@jupyter-widgets/controls",
          "model_name": "FloatProgressModel",
          "state": {
            "_view_name": "ProgressView",
            "style": "IPY_MODEL_e864772d650b4bbd84f81fda70d2eabd",
            "_dom_classes": [],
            "description": "Feature extracion... [zcr+mfcc20]: 100%",
            "_model_name": "FloatProgressModel",
            "bar_style": "success",
            "max": 200,
            "_view_module": "@jupyter-widgets/controls",
            "_model_module_version": "1.5.0",
            "value": 200,
            "_view_count": null,
            "_view_module_version": "1.5.0",
            "orientation": "horizontal",
            "min": 0,
            "description_tooltip": null,
            "_model_module": "@jupyter-widgets/controls",
            "layout": "IPY_MODEL_a92be6578d844d59b2cb493bf20a4105"
          }
        },
        "ce7cb61a818f48d3b5d18fb2dc2f4061": {
          "model_module": "@jupyter-widgets/controls",
          "model_name": "HTMLModel",
          "state": {
            "_view_name": "HTMLView",
            "style": "IPY_MODEL_213a2805167f4a4d8b38c59044479686",
            "_dom_classes": [],
            "description": "",
            "_model_name": "HTMLModel",
            "placeholder": "​",
            "_view_module": "@jupyter-widgets/controls",
            "_model_module_version": "1.5.0",
            "value": " 200/200 [00:01&lt;00:00, 183.36it/s]",
            "_view_count": null,
            "_view_module_version": "1.5.0",
            "description_tooltip": null,
            "_model_module": "@jupyter-widgets/controls",
            "layout": "IPY_MODEL_956e2ae9bbc0462085bcfd59755b1fb6"
          }
        },
        "e864772d650b4bbd84f81fda70d2eabd": {
          "model_module": "@jupyter-widgets/controls",
          "model_name": "ProgressStyleModel",
          "state": {
            "_view_name": "StyleView",
            "_model_name": "ProgressStyleModel",
            "description_width": "initial",
            "_view_module": "@jupyter-widgets/base",
            "_model_module_version": "1.5.0",
            "_view_count": null,
            "_view_module_version": "1.2.0",
            "bar_color": null,
            "_model_module": "@jupyter-widgets/controls"
          }
        },
        "a92be6578d844d59b2cb493bf20a4105": {
          "model_module": "@jupyter-widgets/base",
          "model_name": "LayoutModel",
          "state": {
            "_view_name": "LayoutView",
            "grid_template_rows": null,
            "right": null,
            "justify_content": null,
            "_view_module": "@jupyter-widgets/base",
            "overflow": null,
            "_model_module_version": "1.2.0",
            "_view_count": null,
            "flex_flow": null,
            "width": null,
            "min_width": null,
            "border": null,
            "align_items": null,
            "bottom": null,
            "_model_module": "@jupyter-widgets/base",
            "top": null,
            "grid_column": null,
            "overflow_y": null,
            "overflow_x": null,
            "grid_auto_flow": null,
            "grid_area": null,
            "grid_template_columns": null,
            "flex": null,
            "_model_name": "LayoutModel",
            "justify_items": null,
            "grid_row": null,
            "max_height": null,
            "align_content": null,
            "visibility": null,
            "align_self": null,
            "height": null,
            "min_height": null,
            "padding": null,
            "grid_auto_rows": null,
            "grid_gap": null,
            "max_width": null,
            "order": null,
            "_view_module_version": "1.2.0",
            "grid_template_areas": null,
            "object_position": null,
            "object_fit": null,
            "grid_auto_columns": null,
            "margin": null,
            "display": null,
            "left": null
          }
        },
        "213a2805167f4a4d8b38c59044479686": {
          "model_module": "@jupyter-widgets/controls",
          "model_name": "DescriptionStyleModel",
          "state": {
            "_view_name": "StyleView",
            "_model_name": "DescriptionStyleModel",
            "description_width": "",
            "_view_module": "@jupyter-widgets/base",
            "_model_module_version": "1.5.0",
            "_view_count": null,
            "_view_module_version": "1.2.0",
            "_model_module": "@jupyter-widgets/controls"
          }
        },
        "956e2ae9bbc0462085bcfd59755b1fb6": {
          "model_module": "@jupyter-widgets/base",
          "model_name": "LayoutModel",
          "state": {
            "_view_name": "LayoutView",
            "grid_template_rows": null,
            "right": null,
            "justify_content": null,
            "_view_module": "@jupyter-widgets/base",
            "overflow": null,
            "_model_module_version": "1.2.0",
            "_view_count": null,
            "flex_flow": null,
            "width": null,
            "min_width": null,
            "border": null,
            "align_items": null,
            "bottom": null,
            "_model_module": "@jupyter-widgets/base",
            "top": null,
            "grid_column": null,
            "overflow_y": null,
            "overflow_x": null,
            "grid_auto_flow": null,
            "grid_area": null,
            "grid_template_columns": null,
            "flex": null,
            "_model_name": "LayoutModel",
            "justify_items": null,
            "grid_row": null,
            "max_height": null,
            "align_content": null,
            "visibility": null,
            "align_self": null,
            "height": null,
            "min_height": null,
            "padding": null,
            "grid_auto_rows": null,
            "grid_gap": null,
            "max_width": null,
            "order": null,
            "_view_module_version": "1.2.0",
            "grid_template_areas": null,
            "object_position": null,
            "object_fit": null,
            "grid_auto_columns": null,
            "margin": null,
            "display": null,
            "left": null
          }
        },
        "c6363a268d424247a40b497a519c2b70": {
          "model_module": "@jupyter-widgets/controls",
          "model_name": "HBoxModel",
          "state": {
            "_view_name": "HBoxView",
            "_dom_classes": [],
            "_model_name": "HBoxModel",
            "_view_module": "@jupyter-widgets/controls",
            "_model_module_version": "1.5.0",
            "_view_count": null,
            "_view_module_version": "1.5.0",
            "box_style": "",
            "layout": "IPY_MODEL_38d7b98187fc4556aeefdaf82600e2fa",
            "_model_module": "@jupyter-widgets/controls",
            "children": [
              "IPY_MODEL_9df8658349d14817a4c6e515c2074724",
              "IPY_MODEL_61988be05a0341f3b44f1b9f2e35f1a1"
            ]
          }
        },
        "38d7b98187fc4556aeefdaf82600e2fa": {
          "model_module": "@jupyter-widgets/base",
          "model_name": "LayoutModel",
          "state": {
            "_view_name": "LayoutView",
            "grid_template_rows": null,
            "right": null,
            "justify_content": null,
            "_view_module": "@jupyter-widgets/base",
            "overflow": null,
            "_model_module_version": "1.2.0",
            "_view_count": null,
            "flex_flow": null,
            "width": null,
            "min_width": null,
            "border": null,
            "align_items": null,
            "bottom": null,
            "_model_module": "@jupyter-widgets/base",
            "top": null,
            "grid_column": null,
            "overflow_y": null,
            "overflow_x": null,
            "grid_auto_flow": null,
            "grid_area": null,
            "grid_template_columns": null,
            "flex": null,
            "_model_name": "LayoutModel",
            "justify_items": null,
            "grid_row": null,
            "max_height": null,
            "align_content": null,
            "visibility": null,
            "align_self": null,
            "height": null,
            "min_height": null,
            "padding": null,
            "grid_auto_rows": null,
            "grid_gap": null,
            "max_width": null,
            "order": null,
            "_view_module_version": "1.2.0",
            "grid_template_areas": null,
            "object_position": null,
            "object_fit": null,
            "grid_auto_columns": null,
            "margin": null,
            "display": null,
            "left": null
          }
        },
        "9df8658349d14817a4c6e515c2074724": {
          "model_module": "@jupyter-widgets/controls",
          "model_name": "FloatProgressModel",
          "state": {
            "_view_name": "ProgressView",
            "style": "IPY_MODEL_b30f3470c0384a83ad49b53bc3e3af96",
            "_dom_classes": [],
            "description": "Feature extracion... [mfcc20]: 100%",
            "_model_name": "FloatProgressModel",
            "bar_style": "success",
            "max": 200,
            "_view_module": "@jupyter-widgets/controls",
            "_model_module_version": "1.5.0",
            "value": 200,
            "_view_count": null,
            "_view_module_version": "1.5.0",
            "orientation": "horizontal",
            "min": 0,
            "description_tooltip": null,
            "_model_module": "@jupyter-widgets/controls",
            "layout": "IPY_MODEL_cb957317d74b4d33b241c4a377d2a183"
          }
        },
        "61988be05a0341f3b44f1b9f2e35f1a1": {
          "model_module": "@jupyter-widgets/controls",
          "model_name": "HTMLModel",
          "state": {
            "_view_name": "HTMLView",
            "style": "IPY_MODEL_784c315c228c4bcd9e844d2d742716c8",
            "_dom_classes": [],
            "description": "",
            "_model_name": "HTMLModel",
            "placeholder": "​",
            "_view_module": "@jupyter-widgets/controls",
            "_model_module_version": "1.5.0",
            "value": " 200/200 [00:00&lt;00:00, 552.17it/s]",
            "_view_count": null,
            "_view_module_version": "1.5.0",
            "description_tooltip": null,
            "_model_module": "@jupyter-widgets/controls",
            "layout": "IPY_MODEL_de9513854df44988bc609a940958b290"
          }
        },
        "b30f3470c0384a83ad49b53bc3e3af96": {
          "model_module": "@jupyter-widgets/controls",
          "model_name": "ProgressStyleModel",
          "state": {
            "_view_name": "StyleView",
            "_model_name": "ProgressStyleModel",
            "description_width": "initial",
            "_view_module": "@jupyter-widgets/base",
            "_model_module_version": "1.5.0",
            "_view_count": null,
            "_view_module_version": "1.2.0",
            "bar_color": null,
            "_model_module": "@jupyter-widgets/controls"
          }
        },
        "cb957317d74b4d33b241c4a377d2a183": {
          "model_module": "@jupyter-widgets/base",
          "model_name": "LayoutModel",
          "state": {
            "_view_name": "LayoutView",
            "grid_template_rows": null,
            "right": null,
            "justify_content": null,
            "_view_module": "@jupyter-widgets/base",
            "overflow": null,
            "_model_module_version": "1.2.0",
            "_view_count": null,
            "flex_flow": null,
            "width": null,
            "min_width": null,
            "border": null,
            "align_items": null,
            "bottom": null,
            "_model_module": "@jupyter-widgets/base",
            "top": null,
            "grid_column": null,
            "overflow_y": null,
            "overflow_x": null,
            "grid_auto_flow": null,
            "grid_area": null,
            "grid_template_columns": null,
            "flex": null,
            "_model_name": "LayoutModel",
            "justify_items": null,
            "grid_row": null,
            "max_height": null,
            "align_content": null,
            "visibility": null,
            "align_self": null,
            "height": null,
            "min_height": null,
            "padding": null,
            "grid_auto_rows": null,
            "grid_gap": null,
            "max_width": null,
            "order": null,
            "_view_module_version": "1.2.0",
            "grid_template_areas": null,
            "object_position": null,
            "object_fit": null,
            "grid_auto_columns": null,
            "margin": null,
            "display": null,
            "left": null
          }
        },
        "784c315c228c4bcd9e844d2d742716c8": {
          "model_module": "@jupyter-widgets/controls",
          "model_name": "DescriptionStyleModel",
          "state": {
            "_view_name": "StyleView",
            "_model_name": "DescriptionStyleModel",
            "description_width": "",
            "_view_module": "@jupyter-widgets/base",
            "_model_module_version": "1.5.0",
            "_view_count": null,
            "_view_module_version": "1.2.0",
            "_model_module": "@jupyter-widgets/controls"
          }
        },
        "de9513854df44988bc609a940958b290": {
          "model_module": "@jupyter-widgets/base",
          "model_name": "LayoutModel",
          "state": {
            "_view_name": "LayoutView",
            "grid_template_rows": null,
            "right": null,
            "justify_content": null,
            "_view_module": "@jupyter-widgets/base",
            "overflow": null,
            "_model_module_version": "1.2.0",
            "_view_count": null,
            "flex_flow": null,
            "width": null,
            "min_width": null,
            "border": null,
            "align_items": null,
            "bottom": null,
            "_model_module": "@jupyter-widgets/base",
            "top": null,
            "grid_column": null,
            "overflow_y": null,
            "overflow_x": null,
            "grid_auto_flow": null,
            "grid_area": null,
            "grid_template_columns": null,
            "flex": null,
            "_model_name": "LayoutModel",
            "justify_items": null,
            "grid_row": null,
            "max_height": null,
            "align_content": null,
            "visibility": null,
            "align_self": null,
            "height": null,
            "min_height": null,
            "padding": null,
            "grid_auto_rows": null,
            "grid_gap": null,
            "max_width": null,
            "order": null,
            "_view_module_version": "1.2.0",
            "grid_template_areas": null,
            "object_position": null,
            "object_fit": null,
            "grid_auto_columns": null,
            "margin": null,
            "display": null,
            "left": null
          }
        },
        "0aaaacd7f818409db10cd1d036de1de1": {
          "model_module": "@jupyter-widgets/controls",
          "model_name": "HBoxModel",
          "state": {
            "_view_name": "HBoxView",
            "_dom_classes": [],
            "_model_name": "HBoxModel",
            "_view_module": "@jupyter-widgets/controls",
            "_model_module_version": "1.5.0",
            "_view_count": null,
            "_view_module_version": "1.5.0",
            "box_style": "",
            "layout": "IPY_MODEL_aab730442f65468babd7bbdc19663656",
            "_model_module": "@jupyter-widgets/controls",
            "children": [
              "IPY_MODEL_6e44f8456e6f42e3ae2911944d0d8abb",
              "IPY_MODEL_b4609062f3704fdead0974c47a49e7c5"
            ]
          }
        },
        "aab730442f65468babd7bbdc19663656": {
          "model_module": "@jupyter-widgets/base",
          "model_name": "LayoutModel",
          "state": {
            "_view_name": "LayoutView",
            "grid_template_rows": null,
            "right": null,
            "justify_content": null,
            "_view_module": "@jupyter-widgets/base",
            "overflow": null,
            "_model_module_version": "1.2.0",
            "_view_count": null,
            "flex_flow": null,
            "width": null,
            "min_width": null,
            "border": null,
            "align_items": null,
            "bottom": null,
            "_model_module": "@jupyter-widgets/base",
            "top": null,
            "grid_column": null,
            "overflow_y": null,
            "overflow_x": null,
            "grid_auto_flow": null,
            "grid_area": null,
            "grid_template_columns": null,
            "flex": null,
            "_model_name": "LayoutModel",
            "justify_items": null,
            "grid_row": null,
            "max_height": null,
            "align_content": null,
            "visibility": null,
            "align_self": null,
            "height": null,
            "min_height": null,
            "padding": null,
            "grid_auto_rows": null,
            "grid_gap": null,
            "max_width": null,
            "order": null,
            "_view_module_version": "1.2.0",
            "grid_template_areas": null,
            "object_position": null,
            "object_fit": null,
            "grid_auto_columns": null,
            "margin": null,
            "display": null,
            "left": null
          }
        },
        "6e44f8456e6f42e3ae2911944d0d8abb": {
          "model_module": "@jupyter-widgets/controls",
          "model_name": "FloatProgressModel",
          "state": {
            "_view_name": "ProgressView",
            "style": "IPY_MODEL_ea762dd763b34d33aea78767e0a832db",
            "_dom_classes": [],
            "description": "Feature extracion... [mfcc20]: 100%",
            "_model_name": "FloatProgressModel",
            "bar_style": "info",
            "max": 23666,
            "_view_module": "@jupyter-widgets/controls",
            "_model_module_version": "1.5.0",
            "value": 23666,
            "_view_count": null,
            "_view_module_version": "1.5.0",
            "orientation": "horizontal",
            "min": 0,
            "description_tooltip": null,
            "_model_module": "@jupyter-widgets/controls",
            "layout": "IPY_MODEL_b3e8d0e5b062449286ffbc50d1995a67"
          }
        },
        "b4609062f3704fdead0974c47a49e7c5": {
          "model_module": "@jupyter-widgets/controls",
          "model_name": "HTMLModel",
          "state": {
            "_view_name": "HTMLView",
            "style": "IPY_MODEL_5b2f5ba300c94caf9722d7175b01a8ee",
            "_dom_classes": [],
            "description": "",
            "_model_name": "HTMLModel",
            "placeholder": "​",
            "_view_module": "@jupyter-widgets/controls",
            "_model_module_version": "1.5.0",
            "value": " 23666/23666 [01:16&lt;00:00, 402.52it/s]",
            "_view_count": null,
            "_view_module_version": "1.5.0",
            "description_tooltip": null,
            "_model_module": "@jupyter-widgets/controls",
            "layout": "IPY_MODEL_41acaac0a3584bed9df2d031147f16a6"
          }
        },
        "ea762dd763b34d33aea78767e0a832db": {
          "model_module": "@jupyter-widgets/controls",
          "model_name": "ProgressStyleModel",
          "state": {
            "_view_name": "StyleView",
            "_model_name": "ProgressStyleModel",
            "description_width": "initial",
            "_view_module": "@jupyter-widgets/base",
            "_model_module_version": "1.5.0",
            "_view_count": null,
            "_view_module_version": "1.2.0",
            "bar_color": null,
            "_model_module": "@jupyter-widgets/controls"
          }
        },
        "b3e8d0e5b062449286ffbc50d1995a67": {
          "model_module": "@jupyter-widgets/base",
          "model_name": "LayoutModel",
          "state": {
            "_view_name": "LayoutView",
            "grid_template_rows": null,
            "right": null,
            "justify_content": null,
            "_view_module": "@jupyter-widgets/base",
            "overflow": null,
            "_model_module_version": "1.2.0",
            "_view_count": null,
            "flex_flow": null,
            "width": null,
            "min_width": null,
            "border": null,
            "align_items": null,
            "bottom": null,
            "_model_module": "@jupyter-widgets/base",
            "top": null,
            "grid_column": null,
            "overflow_y": null,
            "overflow_x": null,
            "grid_auto_flow": null,
            "grid_area": null,
            "grid_template_columns": null,
            "flex": null,
            "_model_name": "LayoutModel",
            "justify_items": null,
            "grid_row": null,
            "max_height": null,
            "align_content": null,
            "visibility": null,
            "align_self": null,
            "height": null,
            "min_height": null,
            "padding": null,
            "grid_auto_rows": null,
            "grid_gap": null,
            "max_width": null,
            "order": null,
            "_view_module_version": "1.2.0",
            "grid_template_areas": null,
            "object_position": null,
            "object_fit": null,
            "grid_auto_columns": null,
            "margin": null,
            "display": null,
            "left": null
          }
        },
        "5b2f5ba300c94caf9722d7175b01a8ee": {
          "model_module": "@jupyter-widgets/controls",
          "model_name": "DescriptionStyleModel",
          "state": {
            "_view_name": "StyleView",
            "_model_name": "DescriptionStyleModel",
            "description_width": "",
            "_view_module": "@jupyter-widgets/base",
            "_model_module_version": "1.5.0",
            "_view_count": null,
            "_view_module_version": "1.2.0",
            "_model_module": "@jupyter-widgets/controls"
          }
        },
        "41acaac0a3584bed9df2d031147f16a6": {
          "model_module": "@jupyter-widgets/base",
          "model_name": "LayoutModel",
          "state": {
            "_view_name": "LayoutView",
            "grid_template_rows": null,
            "right": null,
            "justify_content": null,
            "_view_module": "@jupyter-widgets/base",
            "overflow": null,
            "_model_module_version": "1.2.0",
            "_view_count": null,
            "flex_flow": null,
            "width": null,
            "min_width": null,
            "border": null,
            "align_items": null,
            "bottom": null,
            "_model_module": "@jupyter-widgets/base",
            "top": null,
            "grid_column": null,
            "overflow_y": null,
            "overflow_x": null,
            "grid_auto_flow": null,
            "grid_area": null,
            "grid_template_columns": null,
            "flex": null,
            "_model_name": "LayoutModel",
            "justify_items": null,
            "grid_row": null,
            "max_height": null,
            "align_content": null,
            "visibility": null,
            "align_self": null,
            "height": null,
            "min_height": null,
            "padding": null,
            "grid_auto_rows": null,
            "grid_gap": null,
            "max_width": null,
            "order": null,
            "_view_module_version": "1.2.0",
            "grid_template_areas": null,
            "object_position": null,
            "object_fit": null,
            "grid_auto_columns": null,
            "margin": null,
            "display": null,
            "left": null
          }
        },
        "7dec3d6fe179455994c012b0f05c44e0": {
          "model_module": "@jupyter-widgets/controls",
          "model_name": "HBoxModel",
          "state": {
            "_view_name": "HBoxView",
            "_dom_classes": [],
            "_model_name": "HBoxModel",
            "_view_module": "@jupyter-widgets/controls",
            "_model_module_version": "1.5.0",
            "_view_count": null,
            "_view_module_version": "1.5.0",
            "box_style": "",
            "layout": "IPY_MODEL_9129b6fb281d45288d9c8519a1518563",
            "_model_module": "@jupyter-widgets/controls",
            "children": [
              "IPY_MODEL_89369e19a18a4a5c90dd6fd1d75279d4",
              "IPY_MODEL_f7a90e3f043145c8bdee20f19ea14d35"
            ]
          }
        },
        "9129b6fb281d45288d9c8519a1518563": {
          "model_module": "@jupyter-widgets/base",
          "model_name": "LayoutModel",
          "state": {
            "_view_name": "LayoutView",
            "grid_template_rows": null,
            "right": null,
            "justify_content": null,
            "_view_module": "@jupyter-widgets/base",
            "overflow": null,
            "_model_module_version": "1.2.0",
            "_view_count": null,
            "flex_flow": null,
            "width": null,
            "min_width": null,
            "border": null,
            "align_items": null,
            "bottom": null,
            "_model_module": "@jupyter-widgets/base",
            "top": null,
            "grid_column": null,
            "overflow_y": null,
            "overflow_x": null,
            "grid_auto_flow": null,
            "grid_area": null,
            "grid_template_columns": null,
            "flex": null,
            "_model_name": "LayoutModel",
            "justify_items": null,
            "grid_row": null,
            "max_height": null,
            "align_content": null,
            "visibility": null,
            "align_self": null,
            "height": null,
            "min_height": null,
            "padding": null,
            "grid_auto_rows": null,
            "grid_gap": null,
            "max_width": null,
            "order": null,
            "_view_module_version": "1.2.0",
            "grid_template_areas": null,
            "object_position": null,
            "object_fit": null,
            "grid_auto_columns": null,
            "margin": null,
            "display": null,
            "left": null
          }
        },
        "89369e19a18a4a5c90dd6fd1d75279d4": {
          "model_module": "@jupyter-widgets/controls",
          "model_name": "FloatProgressModel",
          "state": {
            "_view_name": "ProgressView",
            "style": "IPY_MODEL_f059bf5413b4417591dd1e2ba803ca2e",
            "_dom_classes": [],
            "description": "Feature extracion... [zcr+mfcc20]:   0%",
            "_model_name": "FloatProgressModel",
            "bar_style": "info",
            "max": 23666,
            "_view_module": "@jupyter-widgets/controls",
            "_model_module_version": "1.5.0",
            "value": 0,
            "_view_count": null,
            "_view_module_version": "1.5.0",
            "orientation": "horizontal",
            "min": 0,
            "description_tooltip": null,
            "_model_module": "@jupyter-widgets/controls",
            "layout": "IPY_MODEL_31b96c4d391c4110b57d3e7d86dd6d76"
          }
        },
        "f7a90e3f043145c8bdee20f19ea14d35": {
          "model_module": "@jupyter-widgets/controls",
          "model_name": "HTMLModel",
          "state": {
            "_view_name": "HTMLView",
            "style": "IPY_MODEL_dbcf70ee32fa40a9b6a6eb306630ef44",
            "_dom_classes": [],
            "description": "",
            "_model_name": "HTMLModel",
            "placeholder": "​",
            "_view_module": "@jupyter-widgets/controls",
            "_model_module_version": "1.5.0",
            "value": " 0/23666 [00:00&lt;?, ?it/s]",
            "_view_count": null,
            "_view_module_version": "1.5.0",
            "description_tooltip": null,
            "_model_module": "@jupyter-widgets/controls",
            "layout": "IPY_MODEL_20a14aed558a4792917821b48ba13a01"
          }
        },
        "f059bf5413b4417591dd1e2ba803ca2e": {
          "model_module": "@jupyter-widgets/controls",
          "model_name": "ProgressStyleModel",
          "state": {
            "_view_name": "StyleView",
            "_model_name": "ProgressStyleModel",
            "description_width": "initial",
            "_view_module": "@jupyter-widgets/base",
            "_model_module_version": "1.5.0",
            "_view_count": null,
            "_view_module_version": "1.2.0",
            "bar_color": null,
            "_model_module": "@jupyter-widgets/controls"
          }
        },
        "31b96c4d391c4110b57d3e7d86dd6d76": {
          "model_module": "@jupyter-widgets/base",
          "model_name": "LayoutModel",
          "state": {
            "_view_name": "LayoutView",
            "grid_template_rows": null,
            "right": null,
            "justify_content": null,
            "_view_module": "@jupyter-widgets/base",
            "overflow": null,
            "_model_module_version": "1.2.0",
            "_view_count": null,
            "flex_flow": null,
            "width": null,
            "min_width": null,
            "border": null,
            "align_items": null,
            "bottom": null,
            "_model_module": "@jupyter-widgets/base",
            "top": null,
            "grid_column": null,
            "overflow_y": null,
            "overflow_x": null,
            "grid_auto_flow": null,
            "grid_area": null,
            "grid_template_columns": null,
            "flex": null,
            "_model_name": "LayoutModel",
            "justify_items": null,
            "grid_row": null,
            "max_height": null,
            "align_content": null,
            "visibility": null,
            "align_self": null,
            "height": null,
            "min_height": null,
            "padding": null,
            "grid_auto_rows": null,
            "grid_gap": null,
            "max_width": null,
            "order": null,
            "_view_module_version": "1.2.0",
            "grid_template_areas": null,
            "object_position": null,
            "object_fit": null,
            "grid_auto_columns": null,
            "margin": null,
            "display": null,
            "left": null
          }
        },
        "dbcf70ee32fa40a9b6a6eb306630ef44": {
          "model_module": "@jupyter-widgets/controls",
          "model_name": "DescriptionStyleModel",
          "state": {
            "_view_name": "StyleView",
            "_model_name": "DescriptionStyleModel",
            "description_width": "",
            "_view_module": "@jupyter-widgets/base",
            "_model_module_version": "1.5.0",
            "_view_count": null,
            "_view_module_version": "1.2.0",
            "_model_module": "@jupyter-widgets/controls"
          }
        },
        "20a14aed558a4792917821b48ba13a01": {
          "model_module": "@jupyter-widgets/base",
          "model_name": "LayoutModel",
          "state": {
            "_view_name": "LayoutView",
            "grid_template_rows": null,
            "right": null,
            "justify_content": null,
            "_view_module": "@jupyter-widgets/base",
            "overflow": null,
            "_model_module_version": "1.2.0",
            "_view_count": null,
            "flex_flow": null,
            "width": null,
            "min_width": null,
            "border": null,
            "align_items": null,
            "bottom": null,
            "_model_module": "@jupyter-widgets/base",
            "top": null,
            "grid_column": null,
            "overflow_y": null,
            "overflow_x": null,
            "grid_auto_flow": null,
            "grid_area": null,
            "grid_template_columns": null,
            "flex": null,
            "_model_name": "LayoutModel",
            "justify_items": null,
            "grid_row": null,
            "max_height": null,
            "align_content": null,
            "visibility": null,
            "align_self": null,
            "height": null,
            "min_height": null,
            "padding": null,
            "grid_auto_rows": null,
            "grid_gap": null,
            "max_width": null,
            "order": null,
            "_view_module_version": "1.2.0",
            "grid_template_areas": null,
            "object_position": null,
            "object_fit": null,
            "grid_auto_columns": null,
            "margin": null,
            "display": null,
            "left": null
          }
        }
      }
    }
  },
  "cells": [
    {
      "cell_type": "markdown",
      "metadata": {
        "id": "9B-exD2Xwl2a",
        "colab_type": "text"
      },
      "source": [
        "# Spoken Digit Classification"
      ]
    },
    {
      "cell_type": "markdown",
      "metadata": {
        "id": "-KllSJGkZVfA",
        "colab_type": "text"
      },
      "source": [
        "## Imports"
      ]
    },
    {
      "cell_type": "code",
      "metadata": {
        "id": "vN6hujgRtPoR",
        "colab_type": "code",
        "colab": {
          "base_uri": "https://localhost:8080/",
          "height": 34
        },
        "outputId": "909525d2-86e9-433a-9d94-c93a0ee0eba6"
      },
      "source": [
        "# Python\n",
        "import numpy as np\n",
        "import pandas as pd\n",
        "import matplotlib.pyplot as plt\n",
        "import re\n",
        "import os\n",
        "import librosa\n",
        "import scipy as sp\n",
        "\n",
        "# Utility\n",
        "from tqdm.notebook import tqdm\n",
        "from sklearn.model_selection import train_test_split\n",
        "from IPython.display import Audio\n",
        "\n",
        "# Classifiers\n",
        "from sklearn import svm\n",
        "from sklearn.ensemble import RandomForestClassifier\n",
        "\n",
        "import keras\n",
        "from keras.models import Sequential\n",
        "from keras.layers import Dense, Dropout, Activation\n",
        "from keras.optimizers import SGD\n",
        "from sklearn.preprocessing import OneHotEncoder\n",
        "\n",
        "# Scalers\n",
        "from sklearn.preprocessing import MinMaxScaler\n",
        "\n",
        "# Metrics\n",
        "from sklearn.metrics import confusion_matrix, plot_confusion_matrix\n",
        "from sklearn.metrics import accuracy_score"
      ],
      "execution_count": 1,
      "outputs": [
        {
          "output_type": "stream",
          "text": [
            "Using TensorFlow backend.\n"
          ],
          "name": "stderr"
        }
      ]
    },
    {
      "cell_type": "markdown",
      "metadata": {
        "id": "a6L3C0SzESw2",
        "colab_type": "text"
      },
      "source": [
        "## Dataset download"
      ]
    },
    {
      "cell_type": "markdown",
      "metadata": {
        "id": "ayoS7lOxXs56",
        "colab_type": "text"
      },
      "source": [
        "Here we are downloading the [dataset from the assignment](https://github.com/Jakobovski/free-spoken-digit-dataset) (N = 2000) along with a custom made dataset obtained from a subset of the [Google Speech Commands Dataset](https://ai.googleblog.com/2017/08/launching-speech-commands-dataset.html) (N = 23666) for testing purposes.\n"
      ]
    },
    {
      "cell_type": "code",
      "metadata": {
        "id": "ph_o72b1tVm2",
        "colab_type": "code",
        "outputId": "48770d3e-4d74-47cd-d87a-581669e5b1dd",
        "colab": {
          "base_uri": "https://localhost:8080/",
          "height": 123
        }
      },
      "source": [
        "! git clone -q https://github.com/Jakobovski/free-spoken-digit-dataset\n",
        "\n",
        "os.environ['KAGGLE_USERNAME'] = \"andreacoppola\"\n",
        "os.environ['KAGGLE_KEY'] = \"8d841874df721c79c79ada9beec21904\"\n",
        "!kaggle datasets download -d andreacoppola/googlespokendigits\n",
        "!unzip googlespokendigits.zip"
      ],
      "execution_count": 2,
      "outputs": [
        {
          "output_type": "stream",
          "text": [
            "Downloading googlespokendigits.zip to /content\n",
            " 97% 649M/669M [00:14<00:00, 49.7MB/s]\n",
            "100% 669M/669M [00:14<00:00, 46.8MB/s]\n",
            "Archive:  googlespokendigits.zip\n",
            "  inflating: X_google_dataset.npy    \n",
            "  inflating: Y_google_dataset.npy    \n"
          ],
          "name": "stdout"
        }
      ]
    },
    {
      "cell_type": "markdown",
      "metadata": {
        "id": "PgrA782qDh0j",
        "colab_type": "text"
      },
      "source": [
        "## Dataset import "
      ]
    },
    {
      "cell_type": "markdown",
      "metadata": {
        "id": "5nLqh5FoMHB8",
        "colab_type": "text"
      },
      "source": [
        "The informations about the audio track are retrieved from the name using the following regexp\n",
        "```python\n",
        "'([0-9]+)_([a-z]+)_([0-9]+).wav'\n",
        "```\n",
        "With this we can retrieve from the 3 groups\n",
        "```python\n",
        "# Digit Label\n",
        "regexp.search(filename).group(1)\n",
        "# Spearker Name (maybe we'll need this later while analyzing the data?)\n",
        "regexp.search(filename).group(2)\n",
        "# File Index\n",
        "regexp.search(filename).group(3)\n",
        "```\n"
      ]
    },
    {
      "cell_type": "code",
      "metadata": {
        "id": "TPhQ5Df0FMjV",
        "colab_type": "code",
        "outputId": "f2cdd735-0ebe-4cc6-eab3-1c0ee544d2fa",
        "colab": {
          "base_uri": "https://localhost:8080/",
          "height": 48,
          "referenced_widgets": [
            "9a38c41ec896448e9f2a7b2f961d45d3",
            "277eb9e28de54c1aa8372c735c6c32cb",
            "9b09374039094c51b3924f6ed2cef17d",
            "1ba6e7d580744e39ab56d3c140654fd6",
            "532f8421fc5746cc95a5b805723780e2",
            "aa23b9c25ec545779034b722a25f1e4e",
            "a08717101cf64f92802da425d96472b7",
            "06cc05eea6bd4d09a65a7aa301c3ee6e"
          ]
        }
      },
      "source": [
        "# recordings directory\n",
        "directory = 'free-spoken-digit-dataset/recordings/'\n",
        "# regexp matching {digitLabel}_{speakerName}_{index}.wav\n",
        "regexp = re.compile('([0-9]+)_([a-z]+)_([0-9]+).wav') \n",
        "\n",
        "labels  = []\n",
        "audios  = []\n",
        "indexes = []\n",
        "sizes   = []\n",
        "names   = []\n",
        "\n",
        "# setup progress bar\n",
        "pbar = tqdm(desc='Loading audio samples')\n",
        "pbar.reset(total=len(os.listdir(directory))) \n",
        "\n",
        "for f in os.listdir(directory):\n",
        "  if f.endswith(\".wav\"): \n",
        "    labels.append(regexp.search(f).group(1))       # Take the first group (label)\n",
        "    names.append(regexp.search(f).group(2))        # Take the second group (name)\n",
        "    indexes.append(int(regexp.search(f).group(3))) # Take the last group (index)\n",
        "    x, sr = librosa.load(directory+f, sr=None)     # Load audio file\n",
        "    sizes.append(x.size)\n",
        "    audios.append(x)                               # Put it in the list\n",
        "  pbar.update()                                    # updates progress bar\n",
        "pbar.refresh();\n",
        "\n",
        "# python lists to np.ndarray\n",
        "Y = np.asarray(labels)\n",
        "X = np.asarray(audios)\n",
        "I = np.asarray(indexes)"
      ],
      "execution_count": 3,
      "outputs": [
        {
          "output_type": "display_data",
          "data": {
            "application/vnd.jupyter.widget-view+json": {
              "model_id": "9a38c41ec896448e9f2a7b2f961d45d3",
              "version_minor": 0,
              "version_major": 2
            },
            "text/plain": [
              "HBox(children=(FloatProgress(value=1.0, bar_style='info', description='Loading audio samples', max=1.0, style=…"
            ]
          },
          "metadata": {
            "tags": []
          }
        }
      ]
    },
    {
      "cell_type": "markdown",
      "metadata": {
        "id": "lTW0Do61cffx",
        "colab_type": "text"
      },
      "source": [
        "## Preprocessing\n",
        "\n"
      ]
    },
    {
      "cell_type": "markdown",
      "metadata": {
        "id": "yNGpOhq9cNlZ",
        "colab_type": "text"
      },
      "source": [
        "**Legend:**\n",
        "  - Y are the label for the assignment dataset\n",
        "  - X is the original dataset with tracks trimmed to be 1 second long at maximum to avoid unwantend noise\n",
        "  - L is an X version in which every audio track with less than 8000 samples is zero padded to be 8000 samples long, so each track is 1 sec long\n",
        "  - N and S are the names of the speakers and sizes\n",
        "  - X_GD and Y_GD are respectively the Google Dataset's _audio tracks_ and _labels_\n",
        "\n",
        "\n",
        "Each of the dataset test and train partitions can be obtaind by appending \"_test\" and \"_train\" on their name (except for the Google ones that are intended to be partitioned only if needed)\n"
      ]
    },
    {
      "cell_type": "markdown",
      "metadata": {
        "id": "0Uk5AFVwzjH8",
        "colab_type": "text"
      },
      "source": [
        "### Assignment Dataset"
      ]
    },
    {
      "cell_type": "markdown",
      "metadata": {
        "id": "yRy39tdHb_mC",
        "colab_type": "text"
      },
      "source": [
        "\n",
        "Create an array (L) of empty audio tracks of 8000 samples.\n",
        "For each audio track in X:\n",
        "if the track is too long, trim it to be 1 second long (8000 samples).\n",
        "Then fill the first."
      ]
    },
    {
      "cell_type": "code",
      "metadata": {
        "id": "5Pf4WjRYdOsk",
        "colab_type": "code",
        "outputId": "b37dee6d-f9a8-4649-cb5d-24f339033a68",
        "colab": {
          "base_uri": "https://localhost:8080/",
          "height": 48,
          "referenced_widgets": [
            "121cb83e474b424390261c8ffbdda8d5",
            "8a5d78918ecd415e8d472136662360a5",
            "d9c5acc98374441f8b8f25b466a5993c",
            "4edf40c1796e4e12b43b21afcf0b3ecb",
            "12fb46cd843349c5873a1b87f61e4193",
            "1f03c7e2c6204fd2b8012a7ed712bb5a",
            "49e23cc1a06f4425bd6565497c4a9fcf",
            "84c4c5b824e742169de74110cdfe541f"
          ]
        }
      },
      "source": [
        "# L is the trimmed and zero-padded dataset\n",
        "L = np.zeros((X.size, 8000))\n",
        "pbar = tqdm(desc='Zero Padding and trimming')\n",
        "pbar.reset(total=len(X))\n",
        "for i in range(len(X)):\n",
        "  if(X[i].size>8000): X[i] = X[i][0:8000] \n",
        "  L[i, 0:X[i].size] = X[i]                 \n",
        "  pbar.update();                             \n",
        "pbar.refresh();"
      ],
      "execution_count": 4,
      "outputs": [
        {
          "output_type": "display_data",
          "data": {
            "application/vnd.jupyter.widget-view+json": {
              "model_id": "121cb83e474b424390261c8ffbdda8d5",
              "version_minor": 0,
              "version_major": 2
            },
            "text/plain": [
              "HBox(children=(FloatProgress(value=1.0, bar_style='info', description='Zero Padding and trimming', max=1.0, st…"
            ]
          },
          "metadata": {
            "tags": []
          }
        }
      ]
    },
    {
      "cell_type": "markdown",
      "metadata": {
        "id": "1ea_n8zeMLPV",
        "colab_type": "text"
      },
      "source": [
        "Here we're doing a train-test split using the conditions stated in the github repository"
      ]
    },
    {
      "cell_type": "code",
      "metadata": {
        "id": "Y1NMjl3kswRs",
        "colab_type": "code",
        "colab": {}
      },
      "source": [
        "is_in_test  = I <= 4\n",
        "is_in_train = I >  4\n",
        "\n",
        "Y_test, Y_train = Y[is_in_test], Y[is_in_train]\n",
        "L_test, L_train = L[is_in_test], L[is_in_train]  # Trimmed and zero-padded dataset\n",
        "X_test, X_train = X[is_in_test], X[is_in_train]  # Original dataset"
      ],
      "execution_count": 0,
      "outputs": []
    },
    {
      "cell_type": "markdown",
      "metadata": {
        "id": "IVc-mLjDZyl9",
        "colab_type": "text"
      },
      "source": [
        "If needed we can extract the speaker name and sizes too.  \n",
        "_(NB: the sizes were used for analysis purposes on the dataset and don't necessarily reflect the sizes used after the preprocessing step)_"
      ]
    },
    {
      "cell_type": "code",
      "metadata": {
        "id": "q5BJTfqvb0CL",
        "colab_type": "code",
        "colab": {}
      },
      "source": [
        "N = np.asarray(names)\n",
        "S = np.asarray(sizes)\n",
        "\n",
        "N_test, N_train = N[is_in_test], N[is_in_train]\n",
        "S_test, S_train = S[is_in_test], S[is_in_train]"
      ],
      "execution_count": 0,
      "outputs": []
    },
    {
      "cell_type": "markdown",
      "metadata": {
        "id": "D4huRZ4vzoic",
        "colab_type": "text"
      },
      "source": [
        "### Google Dataset"
      ]
    },
    {
      "cell_type": "markdown",
      "metadata": {
        "id": "pWM13ERH9Db4",
        "colab_type": "text"
      },
      "source": [
        "Extraction of the spoken digits from the Google Dataset (the label here is an integer and not a string)"
      ]
    },
    {
      "cell_type": "code",
      "metadata": {
        "id": "_TnQjYDS9n93",
        "colab_type": "code",
        "colab": {}
      },
      "source": [
        "X_GD = np.load('X_google_dataset.npy', allow_pickle=True)\n",
        "Y_GD = np.load('Y_google_dataset.npy', allow_pickle=True)"
      ],
      "execution_count": 0,
      "outputs": []
    },
    {
      "cell_type": "markdown",
      "metadata": {
        "id": "34AWUjUc6vYC",
        "colab_type": "text"
      },
      "source": [
        "## Features"
      ]
    },
    {
      "cell_type": "markdown",
      "metadata": {
        "id": "bWDCL45a3yyW",
        "colab_type": "text"
      },
      "source": [
        "This is a series of functions we used to do classification tests"
      ]
    },
    {
      "cell_type": "markdown",
      "metadata": {
        "id": "915As-xTJ3sZ",
        "colab_type": "text"
      },
      "source": [
        "### MFCC"
      ]
    },
    {
      "cell_type": "code",
      "metadata": {
        "id": "bTJnaTXIbLBR",
        "colab_type": "code",
        "colab": {}
      },
      "source": [
        "def compute_mfcc(audio, fs, n_mfcc):\n",
        "    # Compute the spectrogram of the audio signal\n",
        "    X = np.abs(librosa.stft(\n",
        "        audio,\n",
        "        window='hamming',\n",
        "        n_fft=1024,\n",
        "        hop_length=512,)\n",
        "        )\n",
        "    \n",
        "    # Find the weights of the mel filters\n",
        "    mel = librosa.filters.mel(\n",
        "        sr=fs,\n",
        "        n_fft=1024,\n",
        "        n_mels=40,\n",
        "        fmin=133,\n",
        "        fmax=4000\n",
        "    )\n",
        "\n",
        "    # Apply the filters to spectrogram\n",
        "    melspectrogram = np.dot(mel, X)\n",
        "\n",
        "    # Logarithm\n",
        "    log_melspectrogram = np.log10(melspectrogram + 1e-16)\n",
        "    \n",
        "    # DCT\n",
        "    mfcc = sp.fftpack.dct(log_melspectrogram, axis=0, norm='ortho')[1:n_mfcc+1]\n",
        "\n",
        "    return mfcc"
      ],
      "execution_count": 0,
      "outputs": []
    },
    {
      "cell_type": "markdown",
      "metadata": {
        "id": "LbYbnpev23_s",
        "colab_type": "text"
      },
      "source": [
        "### Zero Crossing Rate"
      ]
    },
    {
      "cell_type": "code",
      "metadata": {
        "id": "64zIrdME2-nW",
        "colab_type": "code",
        "colab": {}
      },
      "source": [
        "Fs=8000\n",
        "win_length = int(np.floor(0.01 * Fs)) \n",
        "hop_size = int(np.floor(0.0075 * Fs))\n",
        "audio_ref = L_test[1]\n",
        "win_number = int(np.floor((audio_ref.shape[0] - win_length) / hop_size))\n",
        "window = sp.signal.get_window(window='hanning', Nx=win_length)\n",
        "\n",
        "def compute_zcr(audio, fs):\n",
        "  zcr = np.zeros(win_number)\n",
        "  for n in np.arange(win_number):\n",
        "    frame = audio[n * hop_size : n * hop_size + win_length]\n",
        "    frame_win = frame * window\n",
        "    win_sign = np.sign(frame_win)\n",
        "    N = np.shape(frame_win)[0]\n",
        "    sign_diff = np.abs(win_sign[: -1] - win_sign[1 :])\n",
        "    zcr[n] = (fs / 2*N) * np.sum(sign_diff) \n",
        "  return zcr"
      ],
      "execution_count": 0,
      "outputs": []
    },
    {
      "cell_type": "markdown",
      "metadata": {
        "id": "j4tcqY9mqp_V",
        "colab_type": "text"
      },
      "source": [
        "## Classification\n"
      ]
    },
    {
      "cell_type": "markdown",
      "metadata": {
        "id": "uimMGG-5zUXx",
        "colab_type": "text"
      },
      "source": [
        "### Functions for classification"
      ]
    },
    {
      "cell_type": "markdown",
      "metadata": {
        "id": "gi3bz9hQ5zKb",
        "colab_type": "text"
      },
      "source": [
        "This function encapsulates the previous functions to compare the performances during the classification step"
      ]
    },
    {
      "cell_type": "code",
      "metadata": {
        "id": "t64EJMJKm0Ef",
        "colab_type": "code",
        "colab": {}
      },
      "source": [
        "def feature_extraction(data, feat_type):\n",
        "  size = len(data)\n",
        "  \n",
        "  pbar = tqdm(desc='Feature extracion... [{}]'.format(feat_type))\n",
        "  pbar.reset(total=len(data))\n",
        "\n",
        "  Fs = 8000\n",
        "  features = None   \n",
        "  \n",
        "  if(feat_type == \"mfcc20\"):\n",
        "    n_mfcc = 20\n",
        "    features = np.zeros((size, n_mfcc))\n",
        "    for i in range(size):\n",
        "      mfcc = compute_mfcc(data[i], Fs, n_mfcc)\n",
        "      features[i, :] = np.mean(mfcc, axis=1)\n",
        "      pbar.update()\n",
        "    pbar.refresh()\n",
        "  if(feat_type == \"mfcc13\"):\n",
        "    n_mfcc = 13\n",
        "    features = np.zeros((size, n_mfcc))\n",
        "    for i in range(size):\n",
        "      mfcc = compute_mfcc(data[i], Fs, n_mfcc)\n",
        "      features[i, :] = np.mean(mfcc, axis=1)\n",
        "      pbar.update()\n",
        "    pbar.refresh()\n",
        "  if(feat_type == \"zcr\"):\n",
        "    features = np.zeros((size, win_number))\n",
        "    for i in range(size):\n",
        "      features[i, :] = compute_zcr(data[i], Fs)\n",
        "      pbar.update()\n",
        "    pbar.refresh()\n",
        "  if(feat_type == \"zcr+mfcc20\"):\n",
        "      n_mfcc = 20\n",
        "      features = np.zeros((size, n_mfcc + win_number +2)) \n",
        "      for i in range(size):\n",
        "        features[i,0:n_mfcc] = np.mean(compute_mfcc(data[i], Fs, n_mfcc), axis=1)\n",
        "        features[i,n_mfcc+1:-1] = compute_zcr(data[i], Fs)\n",
        "        pbar.update()\n",
        "      pbar.refresh()  \n",
        "  return features"
      ],
      "execution_count": 0,
      "outputs": []
    },
    {
      "cell_type": "markdown",
      "metadata": {
        "id": "sWQXm5Z6EvrU",
        "colab_type": "text"
      },
      "source": [
        "Metrics to be used"
      ]
    },
    {
      "cell_type": "code",
      "metadata": {
        "id": "7FWNV7hLCyxr",
        "colab_type": "code",
        "colab": {}
      },
      "source": [
        "def compute_metrics (y_pred, y_test):\n",
        "  acc = accuracy_score(y_test, y_pred)\n",
        "  cm  = confusion_matrix(y_test, y_pred)\n",
        "\n",
        "  return [(\"Accuracy\",acc), (\"ConfusionMatrix\",cm)]"
      ],
      "execution_count": 0,
      "outputs": []
    },
    {
      "cell_type": "markdown",
      "metadata": {
        "id": "sFEqcf3DDoWc",
        "colab_type": "text"
      },
      "source": [
        "### Feature extraction"
      ]
    },
    {
      "cell_type": "code",
      "metadata": {
        "id": "q2XaAWvyDjcT",
        "colab_type": "code",
        "outputId": "ab1d7492-dc1b-4306-e2ae-f1e4b7714921",
        "colab": {
          "base_uri": "https://localhost:8080/",
          "height": 144,
          "referenced_widgets": [
            "350d5f6609d844b6bab33dd85fdd82db",
            "2d8afa547a8a4fd3ae77da91637f1766",
            "c833c36f09bd49478413c7f660ada609",
            "20e02f9a102d483ba515036ae78b2be8",
            "67d815b4e0d74c7f9567ae4b22140393",
            "bc7b8a1775c248dab3fd344150dbb638",
            "fa61f5d8190a4d11836f34270eabe9e5",
            "14af7e19684a4c53b79261f0bf6acbd4",
            "6fe884df7cb14adea1b82b987cabd255",
            "024efd14e6a64505bef34bc6ee8a40c8",
            "e87232a355904b70b2baaaf89add8512",
            "45568ce4ac6949ab906534d3a67e289c",
            "46e762dfeeb0485483ba91ab9fb6fca2",
            "593bf8330ae44b16a3562539db9ff343",
            "c8ba168872b947dfadee8584f9781007",
            "37be2079e0b1491ba2adddcce379d5d0",
            "24da3e8b002b437da0b11c571c990bc9",
            "87ca432b7bb34929a150c6b9ebc06865",
            "3c3c07bfd84d4c34b35bf36531180499",
            "b51e54c90c6046cab9ab04db1626c559",
            "06643120e1f04331b10d91acffd767bc",
            "6090c4abcf3c4b5b94300eb6958f849f",
            "4e2ea019d93c4be78d34c8360d5bfacd",
            "887155e2385b4506b9b505bcbbfb49d4",
            "000e4eb9b5994934ab4b087581e64cbd",
            "18b4a60c56c04f59b49222a04677bd97",
            "d0bdb294db0a42978d736778f421d54f",
            "5b77982b16b24153a5c608b0e52568b7",
            "22873c87ec0342ad8949503244a49c68",
            "1ae5f3b096c7475db575b695e5c7e632",
            "ad2506532a724baa88d4c1f432f16207",
            "5596106b6da748df925e09e5517fedbd"
          ]
        }
      },
      "source": [
        "#This are the features that we want to extract using the feature_extraction function\n",
        "feature_methods = [\"mfcc13\", \"mfcc20\", \"zcr\", \"zcr+mfcc20\"]\n",
        "\n",
        "classifiers = []\n",
        "metrics_dict = {} # this will contain the metrics for each classifier and each feature\n",
        "                  # E.G.: for classifier \"foo\" and feature \"bar\" metrics_dict[\"foo\"][\"bar\"]\n",
        "\n",
        "# Feature Extraction and Scaling\n",
        "train_features_dict = {}\n",
        "\n",
        "scalers_dict = {}\n",
        "for fm in feature_methods:\n",
        "  train_feature = feature_extraction(L_train, fm)\n",
        "\n",
        "  scaler = MinMaxScaler()\n",
        "  scaler.fit(train_feature)\n",
        "  scaler.transform(train_feature)\n",
        "\n",
        "  train_features_dict[fm] = train_feature\n",
        "  scalers_dict[fm] = scaler"
      ],
      "execution_count": 31,
      "outputs": [
        {
          "output_type": "display_data",
          "data": {
            "application/vnd.jupyter.widget-view+json": {
              "model_id": "350d5f6609d844b6bab33dd85fdd82db",
              "version_minor": 0,
              "version_major": 2
            },
            "text/plain": [
              "HBox(children=(FloatProgress(value=1.0, bar_style='info', description='Feature extracion... [mfcc13]', max=1.0…"
            ]
          },
          "metadata": {
            "tags": []
          }
        },
        {
          "output_type": "display_data",
          "data": {
            "application/vnd.jupyter.widget-view+json": {
              "model_id": "6fe884df7cb14adea1b82b987cabd255",
              "version_minor": 0,
              "version_major": 2
            },
            "text/plain": [
              "HBox(children=(FloatProgress(value=1.0, bar_style='info', description='Feature extracion... [mfcc20]', max=1.0…"
            ]
          },
          "metadata": {
            "tags": []
          }
        },
        {
          "output_type": "display_data",
          "data": {
            "application/vnd.jupyter.widget-view+json": {
              "model_id": "24da3e8b002b437da0b11c571c990bc9",
              "version_minor": 0,
              "version_major": 2
            },
            "text/plain": [
              "HBox(children=(FloatProgress(value=1.0, bar_style='info', description='Feature extracion... [zcr]', max=1.0, s…"
            ]
          },
          "metadata": {
            "tags": []
          }
        },
        {
          "output_type": "display_data",
          "data": {
            "application/vnd.jupyter.widget-view+json": {
              "model_id": "000e4eb9b5994934ab4b087581e64cbd",
              "version_minor": 0,
              "version_major": 2
            },
            "text/plain": [
              "HBox(children=(FloatProgress(value=1.0, bar_style='info', description='Feature extracion... [zcr+mfcc20]', max…"
            ]
          },
          "metadata": {
            "tags": []
          }
        }
      ]
    },
    {
      "cell_type": "markdown",
      "metadata": {
        "id": "IPxDIjTTAZal",
        "colab_type": "text"
      },
      "source": [
        "### Support Vector Machine"
      ]
    },
    {
      "cell_type": "code",
      "metadata": {
        "id": "gnLQ6LBTcAFU",
        "colab_type": "code",
        "outputId": "bab98f77-1de1-40c0-db98-2f7872069cae",
        "colab": {
          "base_uri": "https://localhost:8080/",
          "height": 1000,
          "referenced_widgets": [
            "1366123982aa4b66920bb8e5062583b7",
            "c8dd58dc510a4bb2a000cc4e435257ba",
            "8799e7dcf25a4288919a85bf81f52fc0",
            "a47f94fb27404dc2882431b74a23ddff",
            "9fe29581b80a46e8b5120aaee0eac6a9",
            "8d56f8126cab4d2d9d5b5b0fbc65c7d8",
            "f1f79619940d4d4989759ad00aeeaeae",
            "e5a40cbda400458f814098c24d756c95",
            "8dc6d59f66b64ec79a01390870587cea",
            "e4b3039c5ee949e684335c4bf7c5a9e2",
            "676ab5e96be34ddc9a61c5e69a76e778",
            "31caa59b1e55472f81cc1a77fb7b977c",
            "f59b5040108e43a282d8557ade521855",
            "c9fe65c65cbc474c8a40f72201dd346e",
            "30fd7f60c92340caa96e34db2f5351d5",
            "f1834ff4b2d842d282ed3f291f8505ec",
            "f78694c39c2741d0b45d7fa8807d6925",
            "081d8d3554734603a8310cdbfe8e3199",
            "3bc54b1f00b4475fa1ecfd76041f9e77",
            "60e6e76d6ac04583b76e77afb0986131",
            "7db032d45e394bacbca34473520ab3ec",
            "a7dc11b354b94ca0a12582b51b25eb84",
            "3b62e59002064c5d906fd9a7d9890bf0",
            "3f767dbdd75c466691a47381f39cb2f4",
            "a4a312219871438ead20555d70d3c5e6",
            "65d0ed76173a4f56bf90eafa1a18ad0a",
            "40f6fdb0fc4d4d8b9c0ba859b2e009ad",
            "cb80fa219f0246aa88b066f3a54463b3",
            "3adb995626204563ab0c2016c0de225e",
            "d680c922ec1c481d995511690c708775",
            "131c338edba040598634eff6d8565066",
            "2c1d059ba8434a2abeefef1abb16c743"
          ]
        }
      },
      "source": [
        "# Classifier training\n",
        "SVM_dict = {}\n",
        "for fm in feature_methods:\n",
        "  clf = svm.SVC()\n",
        "  clf.fit(train_features_dict[fm], Y_train)\n",
        "  SVM_dict[fm] = clf\n",
        "\n",
        "\n",
        "# Test and metric computation\n",
        "SVM_metrics_dict = {}\n",
        "for fm in feature_methods:\n",
        "  # Feature extraction\n",
        "  test_features = feature_extraction(L_test, fm)\n",
        "  # Feature scaling\n",
        "  scalers_dict[fm].transform(test_features)\n",
        "\n",
        "  # Confusion Matrix Plot\n",
        "  disp = plot_confusion_matrix(SVM_dict[fm], test_features, Y_test)\n",
        "  disp.ax_.set_title(fm)\n",
        "  plt.show()\n",
        "\n",
        "  # Compute metrics\n",
        "  y_pred = SVM_dict[fm].predict(test_features)\n",
        "  metrics = compute_metrics (y_pred, Y_test)\n",
        "  SVM_metrics_dict[fm] = metrics\n",
        "\n",
        "classifiers.append('SVM')\n",
        "metrics_dict['SVM'] = SVM_metrics_dict"
      ],
      "execution_count": 32,
      "outputs": [
        {
          "output_type": "display_data",
          "data": {
            "application/vnd.jupyter.widget-view+json": {
              "model_id": "1366123982aa4b66920bb8e5062583b7",
              "version_minor": 0,
              "version_major": 2
            },
            "text/plain": [
              "HBox(children=(FloatProgress(value=1.0, bar_style='info', description='Feature extracion... [mfcc13]', max=1.0…"
            ]
          },
          "metadata": {
            "tags": []
          }
        },
        {
          "output_type": "stream",
          "text": [
            "\n"
          ],
          "name": "stdout"
        },
        {
          "output_type": "display_data",
          "data": {
            "image/png": "[encoded data removed]",
            "text/plain": [
              "<Figure size 432x288 with 2 Axes>"
            ]
          },
          "metadata": {
            "tags": [],
            "needs_background": "light"
          }
        },
        {
          "output_type": "display_data",
          "data": {
            "application/vnd.jupyter.widget-view+json": {
              "model_id": "8dc6d59f66b64ec79a01390870587cea",
              "version_minor": 0,
              "version_major": 2
            },
            "text/plain": [
              "HBox(children=(FloatProgress(value=1.0, bar_style='info', description='Feature extracion... [mfcc20]', max=1.0…"
            ]
          },
          "metadata": {
            "tags": []
          }
        },
        {
          "output_type": "stream",
          "text": [
            "\n"
          ],
          "name": "stdout"
        },
        {
          "output_type": "display_data",
          "data": {
            "image/png": "[encoded data removed]",
            "text/plain": [
              "<Figure size 432x288 with 2 Axes>"
            ]
          },
          "metadata": {
            "tags": [],
            "needs_background": "light"
          }
        },
        {
          "output_type": "display_data",
          "data": {
            "application/vnd.jupyter.widget-view+json": {
              "model_id": "f78694c39c2741d0b45d7fa8807d6925",
              "version_minor": 0,
              "version_major": 2
            },
            "text/plain": [
              "HBox(children=(FloatProgress(value=1.0, bar_style='info', description='Feature extracion... [zcr]', max=1.0, s…"
            ]
          },
          "metadata": {
            "tags": []
          }
        },
        {
          "output_type": "stream",
          "text": [
            "\n"
          ],
          "name": "stdout"
        },
        {
          "output_type": "display_data",
          "data": {
            "image/png": "[encoded data removed]",
            "text/plain": [
              "<Figure size 432x288 with 2 Axes>"
            ]
          },
          "metadata": {
            "tags": [],
            "needs_background": "light"
          }
        },
        {
          "output_type": "display_data",
          "data": {
            "application/vnd.jupyter.widget-view+json": {
              "model_id": "a4a312219871438ead20555d70d3c5e6",
              "version_minor": 0,
              "version_major": 2
            },
            "text/plain": [
              "HBox(children=(FloatProgress(value=1.0, bar_style='info', description='Feature extracion... [zcr+mfcc20]', max…"
            ]
          },
          "metadata": {
            "tags": []
          }
        },
        {
          "output_type": "display_data",
          "data": {
            "image/png": "[encoded data removed]",
            "text/plain": [
              "<Figure size 432x288 with 2 Axes>"
            ]
          },
          "metadata": {
            "tags": [],
            "needs_background": "light"
          }
        }
      ]
    },
    {
      "cell_type": "markdown",
      "metadata": {
        "id": "_VEynSXsAczO",
        "colab_type": "text"
      },
      "source": [
        "### Random Forest Classifier"
      ]
    },
    {
      "cell_type": "code",
      "metadata": {
        "id": "jbXl8i1PAxN7",
        "colab_type": "code",
        "outputId": "1e99e769-9109-4151-b61e-1e7d250e7805",
        "colab": {
          "base_uri": "https://localhost:8080/",
          "height": 1000,
          "referenced_widgets": [
            "1cc941826dab4e41801a6d7b36b7ce85",
            "9f1c75c2da6e43db97858dff2e980a31",
            "eeea5f80e13f4e79b9ba76c17908b7c2",
            "d5cfab57f2e14fc394b30b68eab635da",
            "da9f22e0f3644c3185d1a61104847226",
            "650a6971694d401f8b6bb1e589e4392c",
            "03a358be7bf84df783f0c906b699bddb",
            "14c614c3c78948fdb2f92f6d98bb7c38",
            "d49521c4d81a420284df67225870fa76",
            "7d27911641ff4ffa941f08fb0fb74535",
            "98ddb22cbf9e4c1ab08c9edd0d65ebd7",
            "0aa87fd2671a4170ab35f2a046f9fa19",
            "dcc70945730b41c2bf0104e894659e13",
            "470683bbb88f4aae901499302b730c75",
            "068ff292b7e54c8dbf72f3c225756afb",
            "5de13c42543445feb8653ced6abbc339",
            "bbe0bb23f29f4c68b0b88900f1ea653a",
            "a0a98c346dc044efa1bbb77b812a5bfe",
            "4ea9c2872085473798f1fddab14cbd50",
            "b325ce70854f486e8c87a14c6e81b81a",
            "a9c13bb7438741ec93795e0094d41b88",
            "5f6351e74c0e4ea485921dce57696b4d",
            "1eb1e1ef79f74c28909cd67f66025f6d",
            "b0d396bf65a14958b4a9a6b50754192a",
            "9ea3bbcded0243709c172b2122063db3",
            "09c0111f4f304e6d9035b1ee287fb1a0",
            "76ec1c9c2d514499bba2fdbcd791220d",
            "ce7cb61a818f48d3b5d18fb2dc2f4061",
            "e864772d650b4bbd84f81fda70d2eabd",
            "a92be6578d844d59b2cb493bf20a4105",
            "213a2805167f4a4d8b38c59044479686",
            "956e2ae9bbc0462085bcfd59755b1fb6"
          ]
        }
      },
      "source": [
        "# Classifier training\n",
        "RFC_dict = {}\n",
        "for fm in feature_methods:\n",
        "  clf = RandomForestClassifier(n_estimators=100, max_features=\"sqrt\", random_state=42)\n",
        "  clf.fit(train_features_dict[fm], Y_train)\n",
        "  RFC_dict[fm] = clf\n",
        "\n",
        "\n",
        "# Test and metric computation\n",
        "RFC_metrics_dict = {}\n",
        "for fm in feature_methods:\n",
        "  # Feature extraction\n",
        "  test_features = feature_extraction(L_test, fm)\n",
        "  # Feature scaling\n",
        "  scalers_dict[fm].transform(test_features)\n",
        "\n",
        "  # Confusion Matrix Plot\n",
        "  disp = plot_confusion_matrix(RFC_dict[fm], test_features, Y_test)\n",
        "  disp.ax_.set_title(fm)\n",
        "  plt.show()\n",
        "\n",
        "  y_pred = RFC_dict[fm].predict(test_features)\n",
        "  metrics = compute_metrics (y_pred, Y_test)\n",
        "  RFC_metrics_dict[fm] = metrics\n",
        "\n",
        "classifiers.append('RFC')\n",
        "metrics_dict['RFC'] = RFC_metrics_dict"
      ],
      "execution_count": 33,
      "outputs": [
        {
          "output_type": "display_data",
          "data": {
            "application/vnd.jupyter.widget-view+json": {
              "model_id": "1cc941826dab4e41801a6d7b36b7ce85",
              "version_minor": 0,
              "version_major": 2
            },
            "text/plain": [
              "HBox(children=(FloatProgress(value=1.0, bar_style='info', description='Feature extracion... [mfcc13]', max=1.0…"
            ]
          },
          "metadata": {
            "tags": []
          }
        },
        {
          "output_type": "stream",
          "text": [
            "\n"
          ],
          "name": "stdout"
        },
        {
          "output_type": "display_data",
          "data": {
            "image/png": "[encoded data removed]",
            "text/plain": [
              "<Figure size 432x288 with 2 Axes>"
            ]
          },
          "metadata": {
            "tags": [],
            "needs_background": "light"
          }
        },
        {
          "output_type": "display_data",
          "data": {
            "application/vnd.jupyter.widget-view+json": {
              "model_id": "d49521c4d81a420284df67225870fa76",
              "version_minor": 0,
              "version_major": 2
            },
            "text/plain": [
              "HBox(children=(FloatProgress(value=1.0, bar_style='info', description='Feature extracion... [mfcc20]', max=1.0…"
            ]
          },
          "metadata": {
            "tags": []
          }
        },
        {
          "output_type": "stream",
          "text": [
            "\n"
          ],
          "name": "stdout"
        },
        {
          "output_type": "display_data",
          "data": {
            "image/png": "[encoded data removed]",
            "text/plain": [
              "<Figure size 432x288 with 2 Axes>"
            ]
          },
          "metadata": {
            "tags": [],
            "needs_background": "light"
          }
        },
        {
          "output_type": "display_data",
          "data": {
            "application/vnd.jupyter.widget-view+json": {
              "model_id": "bbe0bb23f29f4c68b0b88900f1ea653a",
              "version_minor": 0,
              "version_major": 2
            },
            "text/plain": [
              "HBox(children=(FloatProgress(value=1.0, bar_style='info', description='Feature extracion... [zcr]', max=1.0, s…"
            ]
          },
          "metadata": {
            "tags": []
          }
        },
        {
          "output_type": "stream",
          "text": [
            "\n"
          ],
          "name": "stdout"
        },
        {
          "output_type": "display_data",
          "data": {
            "image/png": "[encoded data removed]",
            "text/plain": [
              "<Figure size 432x288 with 2 Axes>"
            ]
          },
          "metadata": {
            "tags": [],
            "needs_background": "light"
          }
        },
        {
          "output_type": "display_data",
          "data": {
            "application/vnd.jupyter.widget-view+json": {
              "model_id": "9ea3bbcded0243709c172b2122063db3",
              "version_minor": 0,
              "version_major": 2
            },
            "text/plain": [
              "HBox(children=(FloatProgress(value=1.0, bar_style='info', description='Feature extracion... [zcr+mfcc20]', max…"
            ]
          },
          "metadata": {
            "tags": []
          }
        },
        {
          "output_type": "stream",
          "text": [
            "\n"
          ],
          "name": "stdout"
        },
        {
          "output_type": "display_data",
          "data": {
            "image/png": "[encoded data removed]",
            "text/plain": [
              "<Figure size 432x288 with 2 Axes>"
            ]
          },
          "metadata": {
            "tags": [],
            "needs_background": "light"
          }
        }
      ]
    },
    {
      "cell_type": "markdown",
      "metadata": {
        "id": "utzHnVWjBMLS",
        "colab_type": "text"
      },
      "source": [
        "### Simple Neural Networks\n"
      ]
    },
    {
      "cell_type": "code",
      "metadata": {
        "id": "mfPZMcYvBSnr",
        "colab_type": "code",
        "outputId": "8dc89c10-5302-417b-935d-a4c29f5f34ba",
        "colab": {
          "base_uri": "https://localhost:8080/",
          "height": 1000,
          "referenced_widgets": [
            "c6363a268d424247a40b497a519c2b70",
            "38d7b98187fc4556aeefdaf82600e2fa",
            "9df8658349d14817a4c6e515c2074724",
            "61988be05a0341f3b44f1b9f2e35f1a1",
            "b30f3470c0384a83ad49b53bc3e3af96",
            "cb957317d74b4d33b241c4a377d2a183",
            "784c315c228c4bcd9e844d2d742716c8",
            "de9513854df44988bc609a940958b290"
          ]
        }
      },
      "source": [
        "# Feature that we want to use\n",
        "fm = \"mfcc20\"\n",
        "\n",
        "\n",
        "model = Sequential()\n",
        "model.add(Dense(15, input_dim=20, activation='tanh'))\n",
        "model.add(Dense(12, activation='tanh'))\n",
        "model.add(Dense(10, activation='softmax'))\n",
        "\n",
        "from keras.utils.vis_utils import plot_model\n",
        "plot_model(model, to_file='model_plot.png', show_shapes=True, show_layer_names=True)\n",
        "\n",
        "model.compile(loss='categorical_crossentropy', optimizer='adam', metrics=['accuracy'])\n",
        "\n",
        "ohe = OneHotEncoder()\n",
        "ohe_y_train = ohe.fit_transform(Y_train.astype(int).reshape(-1, 1)).toarray()\n",
        "ohe_y_test  = ohe.fit_transform(Y_test .astype(int).reshape(-1, 1)).toarray()\n",
        "\n",
        "history = model.fit(train_features_dict[fm], ohe_y_train, epochs=100, batch_size=64)\n",
        "\n",
        "# Feature extraction\n",
        "test_features = feature_extraction(X_test, fm)\n",
        "# Feature scaling\n",
        "scalers_dict[fm].transform(test_features)\n",
        "\n",
        "y_pred = model.predict(test_features)\n",
        "\n",
        "#Converting predictions to label\n",
        "pred = list()\n",
        "for i in range(len(y_pred)):\n",
        "    pred.append(np.argmax(y_pred[i]))\n",
        "#Converting one hot encoded test label to label\n",
        "test = list()\n",
        "for i in range(len(ohe_y_test)):\n",
        "    test.append(np.argmax(ohe_y_test[i]))\n",
        "\n",
        "plt.imshow(confusion_matrix(pred, test))\n",
        "metrics = compute_metrics(pred, test)\n",
        "\n",
        "classifiers.append(\"NN\")\n",
        "metrics_dict['NN'] = {fm : metrics}"
      ],
      "execution_count": 34,
      "outputs": [
        {
          "output_type": "stream",
          "text": [
            "Epoch 1/100\n",
            "1800/1800 [==============================] - 0s 60us/step - loss: 2.2651 - accuracy: 0.1278\n",
            "Epoch 2/100\n",
            "1800/1800 [==============================] - 0s 19us/step - loss: 2.1827 - accuracy: 0.2300\n",
            "Epoch 3/100\n",
            "1800/1800 [==============================] - 0s 18us/step - loss: 2.0977 - accuracy: 0.2644\n",
            "Epoch 4/100\n",
            "1800/1800 [==============================] - 0s 21us/step - loss: 2.0021 - accuracy: 0.2961\n",
            "Epoch 5/100\n",
            "1800/1800 [==============================] - 0s 19us/step - loss: 1.9011 - accuracy: 0.3317\n",
            "Epoch 6/100\n",
            "1800/1800 [==============================] - 0s 19us/step - loss: 1.8030 - accuracy: 0.3500\n",
            "Epoch 7/100\n",
            "1800/1800 [==============================] - 0s 18us/step - loss: 1.7120 - accuracy: 0.4089\n",
            "Epoch 8/100\n",
            "1800/1800 [==============================] - 0s 18us/step - loss: 1.6268 - accuracy: 0.4811\n",
            "Epoch 9/100\n",
            "1800/1800 [==============================] - 0s 19us/step - loss: 1.5450 - accuracy: 0.5494\n",
            "Epoch 10/100\n",
            "1800/1800 [==============================] - 0s 18us/step - loss: 1.4667 - accuracy: 0.5861\n",
            "Epoch 11/100\n",
            "1800/1800 [==============================] - 0s 17us/step - loss: 1.3908 - accuracy: 0.6244\n",
            "Epoch 12/100\n",
            "1800/1800 [==============================] - 0s 18us/step - loss: 1.3197 - accuracy: 0.6478\n",
            "Epoch 13/100\n",
            "1800/1800 [==============================] - 0s 19us/step - loss: 1.2528 - accuracy: 0.6739\n",
            "Epoch 14/100\n",
            "1800/1800 [==============================] - 0s 19us/step - loss: 1.1920 - accuracy: 0.6811\n",
            "Epoch 15/100\n",
            "1800/1800 [==============================] - 0s 18us/step - loss: 1.1369 - accuracy: 0.6933\n",
            "Epoch 16/100\n",
            "1800/1800 [==============================] - 0s 19us/step - loss: 1.0873 - accuracy: 0.7039\n",
            "Epoch 17/100\n",
            "1800/1800 [==============================] - 0s 18us/step - loss: 1.0416 - accuracy: 0.7261\n",
            "Epoch 18/100\n",
            "1800/1800 [==============================] - 0s 18us/step - loss: 1.0009 - accuracy: 0.7344\n",
            "Epoch 19/100\n",
            "1800/1800 [==============================] - 0s 17us/step - loss: 0.9629 - accuracy: 0.7467\n",
            "Epoch 20/100\n",
            "1800/1800 [==============================] - 0s 18us/step - loss: 0.9288 - accuracy: 0.7622\n",
            "Epoch 21/100\n",
            "1800/1800 [==============================] - 0s 18us/step - loss: 0.8968 - accuracy: 0.7689\n",
            "Epoch 22/100\n",
            "1800/1800 [==============================] - 0s 19us/step - loss: 0.8673 - accuracy: 0.7722\n",
            "Epoch 23/100\n",
            "1800/1800 [==============================] - 0s 20us/step - loss: 0.8408 - accuracy: 0.7778\n",
            "Epoch 24/100\n",
            "1800/1800 [==============================] - 0s 19us/step - loss: 0.8154 - accuracy: 0.7794\n",
            "Epoch 25/100\n",
            "1800/1800 [==============================] - 0s 18us/step - loss: 0.7919 - accuracy: 0.7833\n",
            "Epoch 26/100\n",
            "1800/1800 [==============================] - 0s 18us/step - loss: 0.7695 - accuracy: 0.7906\n",
            "Epoch 27/100\n",
            "1800/1800 [==============================] - 0s 19us/step - loss: 0.7478 - accuracy: 0.8022\n",
            "Epoch 28/100\n",
            "1800/1800 [==============================] - 0s 19us/step - loss: 0.7291 - accuracy: 0.8056\n",
            "Epoch 29/100\n",
            "1800/1800 [==============================] - 0s 19us/step - loss: 0.7096 - accuracy: 0.8111\n",
            "Epoch 30/100\n",
            "1800/1800 [==============================] - 0s 20us/step - loss: 0.6914 - accuracy: 0.8133\n",
            "Epoch 31/100\n",
            "1800/1800 [==============================] - 0s 18us/step - loss: 0.6743 - accuracy: 0.8178\n",
            "Epoch 32/100\n",
            "1800/1800 [==============================] - 0s 18us/step - loss: 0.6579 - accuracy: 0.8206\n",
            "Epoch 33/100\n",
            "1800/1800 [==============================] - 0s 17us/step - loss: 0.6416 - accuracy: 0.8256\n",
            "Epoch 34/100\n",
            "1800/1800 [==============================] - 0s 18us/step - loss: 0.6277 - accuracy: 0.8294\n",
            "Epoch 35/100\n",
            "1800/1800 [==============================] - 0s 17us/step - loss: 0.6135 - accuracy: 0.8344\n",
            "Epoch 36/100\n",
            "1800/1800 [==============================] - 0s 17us/step - loss: 0.5984 - accuracy: 0.8367\n",
            "Epoch 37/100\n",
            "1800/1800 [==============================] - 0s 19us/step - loss: 0.5857 - accuracy: 0.8417\n",
            "Epoch 38/100\n",
            "1800/1800 [==============================] - 0s 20us/step - loss: 0.5734 - accuracy: 0.8456\n",
            "Epoch 39/100\n",
            "1800/1800 [==============================] - 0s 19us/step - loss: 0.5604 - accuracy: 0.8467\n",
            "Epoch 40/100\n",
            "1800/1800 [==============================] - 0s 18us/step - loss: 0.5499 - accuracy: 0.8461\n",
            "Epoch 41/100\n",
            "1800/1800 [==============================] - 0s 18us/step - loss: 0.5386 - accuracy: 0.8522\n",
            "Epoch 42/100\n",
            "1800/1800 [==============================] - 0s 17us/step - loss: 0.5277 - accuracy: 0.8511\n",
            "Epoch 43/100\n",
            "1800/1800 [==============================] - 0s 17us/step - loss: 0.5174 - accuracy: 0.8567\n",
            "Epoch 44/100\n",
            "1800/1800 [==============================] - 0s 18us/step - loss: 0.5080 - accuracy: 0.8578\n",
            "Epoch 45/100\n",
            "1800/1800 [==============================] - 0s 18us/step - loss: 0.4997 - accuracy: 0.8594\n",
            "Epoch 46/100\n",
            "1800/1800 [==============================] - 0s 17us/step - loss: 0.4904 - accuracy: 0.8606\n",
            "Epoch 47/100\n",
            "1800/1800 [==============================] - 0s 19us/step - loss: 0.4814 - accuracy: 0.8667\n",
            "Epoch 48/100\n",
            "1800/1800 [==============================] - 0s 21us/step - loss: 0.4734 - accuracy: 0.8667\n",
            "Epoch 49/100\n",
            "1800/1800 [==============================] - 0s 18us/step - loss: 0.4655 - accuracy: 0.8689\n",
            "Epoch 50/100\n",
            "1800/1800 [==============================] - 0s 18us/step - loss: 0.4585 - accuracy: 0.8667\n",
            "Epoch 51/100\n",
            "1800/1800 [==============================] - 0s 18us/step - loss: 0.4517 - accuracy: 0.8694\n",
            "Epoch 52/100\n",
            "1800/1800 [==============================] - 0s 18us/step - loss: 0.4449 - accuracy: 0.8689\n",
            "Epoch 53/100\n",
            "1800/1800 [==============================] - 0s 17us/step - loss: 0.4375 - accuracy: 0.8711\n",
            "Epoch 54/100\n",
            "1800/1800 [==============================] - 0s 18us/step - loss: 0.4312 - accuracy: 0.8756\n",
            "Epoch 55/100\n",
            "1800/1800 [==============================] - 0s 18us/step - loss: 0.4242 - accuracy: 0.8767\n",
            "Epoch 56/100\n",
            "1800/1800 [==============================] - 0s 20us/step - loss: 0.4189 - accuracy: 0.8783\n",
            "Epoch 57/100\n",
            "1800/1800 [==============================] - 0s 22us/step - loss: 0.4129 - accuracy: 0.8800\n",
            "Epoch 58/100\n",
            "1800/1800 [==============================] - 0s 18us/step - loss: 0.4067 - accuracy: 0.8800\n",
            "Epoch 59/100\n",
            "1800/1800 [==============================] - 0s 18us/step - loss: 0.4020 - accuracy: 0.8811\n",
            "Epoch 60/100\n",
            "1800/1800 [==============================] - 0s 18us/step - loss: 0.3967 - accuracy: 0.8844\n",
            "Epoch 61/100\n",
            "1800/1800 [==============================] - 0s 18us/step - loss: 0.3916 - accuracy: 0.8872\n",
            "Epoch 62/100\n",
            "1800/1800 [==============================] - 0s 18us/step - loss: 0.3873 - accuracy: 0.8872\n",
            "Epoch 63/100\n",
            "1800/1800 [==============================] - 0s 19us/step - loss: 0.3810 - accuracy: 0.8900\n",
            "Epoch 64/100\n",
            "1800/1800 [==============================] - 0s 19us/step - loss: 0.3765 - accuracy: 0.8917\n",
            "Epoch 65/100\n",
            "1800/1800 [==============================] - 0s 18us/step - loss: 0.3722 - accuracy: 0.8922\n",
            "Epoch 66/100\n",
            "1800/1800 [==============================] - 0s 18us/step - loss: 0.3685 - accuracy: 0.8900\n",
            "Epoch 67/100\n",
            "1800/1800 [==============================] - 0s 18us/step - loss: 0.3640 - accuracy: 0.8933\n",
            "Epoch 68/100\n",
            "1800/1800 [==============================] - 0s 18us/step - loss: 0.3591 - accuracy: 0.8956\n",
            "Epoch 69/100\n",
            "1800/1800 [==============================] - 0s 18us/step - loss: 0.3571 - accuracy: 0.8994\n",
            "Epoch 70/100\n",
            "1800/1800 [==============================] - 0s 22us/step - loss: 0.3518 - accuracy: 0.8944\n",
            "Epoch 71/100\n",
            "1800/1800 [==============================] - 0s 21us/step - loss: 0.3483 - accuracy: 0.8989\n",
            "Epoch 72/100\n",
            "1800/1800 [==============================] - 0s 19us/step - loss: 0.3453 - accuracy: 0.9000\n",
            "Epoch 73/100\n",
            "1800/1800 [==============================] - 0s 17us/step - loss: 0.3415 - accuracy: 0.9033\n",
            "Epoch 74/100\n",
            "1800/1800 [==============================] - 0s 17us/step - loss: 0.3385 - accuracy: 0.8989\n",
            "Epoch 75/100\n",
            "1800/1800 [==============================] - 0s 18us/step - loss: 0.3348 - accuracy: 0.9033\n",
            "Epoch 76/100\n",
            "1800/1800 [==============================] - 0s 18us/step - loss: 0.3312 - accuracy: 0.9061\n",
            "Epoch 77/100\n",
            "1800/1800 [==============================] - 0s 17us/step - loss: 0.3283 - accuracy: 0.9056\n",
            "Epoch 78/100\n",
            "1800/1800 [==============================] - 0s 18us/step - loss: 0.3254 - accuracy: 0.9022\n",
            "Epoch 79/100\n",
            "1800/1800 [==============================] - 0s 22us/step - loss: 0.3218 - accuracy: 0.9050\n",
            "Epoch 80/100\n",
            "1800/1800 [==============================] - 0s 19us/step - loss: 0.3205 - accuracy: 0.9044\n",
            "Epoch 81/100\n",
            "1800/1800 [==============================] - 0s 17us/step - loss: 0.3174 - accuracy: 0.9056\n",
            "Epoch 82/100\n",
            "1800/1800 [==============================] - 0s 18us/step - loss: 0.3141 - accuracy: 0.9078\n",
            "Epoch 83/100\n",
            "1800/1800 [==============================] - 0s 18us/step - loss: 0.3122 - accuracy: 0.9083\n",
            "Epoch 84/100\n",
            "1800/1800 [==============================] - 0s 18us/step - loss: 0.3092 - accuracy: 0.9106\n",
            "Epoch 85/100\n",
            "1800/1800 [==============================] - 0s 18us/step - loss: 0.3070 - accuracy: 0.9072\n",
            "Epoch 86/100\n",
            "1800/1800 [==============================] - 0s 20us/step - loss: 0.3049 - accuracy: 0.9094\n",
            "Epoch 87/100\n",
            "1800/1800 [==============================] - 0s 19us/step - loss: 0.3014 - accuracy: 0.9111\n",
            "Epoch 88/100\n",
            "1800/1800 [==============================] - 0s 18us/step - loss: 0.2994 - accuracy: 0.9111\n",
            "Epoch 89/100\n",
            "1800/1800 [==============================] - 0s 18us/step - loss: 0.2967 - accuracy: 0.9122\n",
            "Epoch 90/100\n",
            "1800/1800 [==============================] - 0s 18us/step - loss: 0.2955 - accuracy: 0.9161\n",
            "Epoch 91/100\n",
            "1800/1800 [==============================] - 0s 19us/step - loss: 0.2925 - accuracy: 0.9117\n",
            "Epoch 92/100\n",
            "1800/1800 [==============================] - 0s 17us/step - loss: 0.2905 - accuracy: 0.9122\n",
            "Epoch 93/100\n",
            "1800/1800 [==============================] - 0s 18us/step - loss: 0.2893 - accuracy: 0.9150\n",
            "Epoch 94/100\n",
            "1800/1800 [==============================] - 0s 18us/step - loss: 0.2866 - accuracy: 0.9156\n",
            "Epoch 95/100\n",
            "1800/1800 [==============================] - 0s 18us/step - loss: 0.2848 - accuracy: 0.9144\n",
            "Epoch 96/100\n",
            "1800/1800 [==============================] - 0s 17us/step - loss: 0.2828 - accuracy: 0.9144\n",
            "Epoch 97/100\n",
            "1800/1800 [==============================] - 0s 20us/step - loss: 0.2813 - accuracy: 0.9144\n",
            "Epoch 98/100\n",
            "1800/1800 [==============================] - 0s 17us/step - loss: 0.2800 - accuracy: 0.9150\n",
            "Epoch 99/100\n",
            "1800/1800 [==============================] - 0s 17us/step - loss: 0.2778 - accuracy: 0.9178\n",
            "Epoch 100/100\n",
            "1800/1800 [==============================] - 0s 19us/step - loss: 0.2766 - accuracy: 0.9183\n"
          ],
          "name": "stdout"
        },
        {
          "output_type": "display_data",
          "data": {
            "application/vnd.jupyter.widget-view+json": {
              "model_id": "c6363a268d424247a40b497a519c2b70",
              "version_minor": 0,
              "version_major": 2
            },
            "text/plain": [
              "HBox(children=(FloatProgress(value=1.0, bar_style='info', description='Feature extracion... [mfcc20]', max=1.0…"
            ]
          },
          "metadata": {
            "tags": []
          }
        },
        {
          "output_type": "stream",
          "text": [
            "\n"
          ],
          "name": "stdout"
        },
        {
          "output_type": "display_data",
          "data": {
            "image/png": "[encoded data removed]",
            "text/plain": [
              "<Figure size 432x288 with 1 Axes>"
            ]
          },
          "metadata": {
            "tags": [],
            "needs_background": "light"
          }
        }
      ]
    },
    {
      "cell_type": "markdown",
      "metadata": {
        "id": "2iOgvxC5GZti",
        "colab_type": "text"
      },
      "source": [
        "## Performance Evaluation"
      ]
    },
    {
      "cell_type": "markdown",
      "metadata": {
        "id": "yD6U5gIVGb1A",
        "colab_type": "text"
      },
      "source": [
        "Here we can evaluate the performance of the classifiers using the metrics previously computed"
      ]
    },
    {
      "cell_type": "code",
      "metadata": {
        "id": "tw5E5D0kGrFl",
        "colab_type": "code",
        "outputId": "aacf3e42-c195-40a4-852b-3a9cf09ef87f",
        "colab": {
          "base_uri": "https://localhost:8080/",
          "height": 1000
        }
      },
      "source": [
        "for c in classifiers:\n",
        "  print(\"========\", c, \"========\")\n",
        "  for fm in feature_methods:\n",
        "    if metrics_dict.get(c) != None and metrics_dict.get(c).get(fm) != None:\n",
        "      print(\"#\", fm, \"#\")\n",
        "      for m in metrics_dict[c][fm]:\n",
        "        print(\"[{}]\".format(m[0]))\n",
        "        print(\"{}\".format(m[1]))\n",
        "  print(\"===========================\\n\")"
      ],
      "execution_count": 35,
      "outputs": [
        {
          "output_type": "stream",
          "text": [
            "======== SVM ========\n",
            "# mfcc13 #\n",
            "[Accuracy]\n",
            "0.94\n",
            "[ConfusionMatrix]\n",
            "[[20  0  0  0  0  0  0  0  0  0]\n",
            " [ 0 19  0  0  0  1  0  0  0  0]\n",
            " [ 0  0 19  1  0  0  0  0  0  0]\n",
            " [ 1  0  1 18  0  0  0  0  0  0]\n",
            " [ 0  0  0  0 19  1  0  0  0  0]\n",
            " [ 0  0  0  0  0 20  0  0  0  0]\n",
            " [ 0  0  0  0  0  0 20  0  0  0]\n",
            " [ 0  0  0  0  0  0  0 20  0  0]\n",
            " [ 0  0  0  0  0  0  1  0 19  0]\n",
            " [ 0  2  0  0  0  1  0  3  0 14]]\n",
            "# mfcc20 #\n",
            "[Accuracy]\n",
            "0.965\n",
            "[ConfusionMatrix]\n",
            "[[20  0  0  0  0  0  0  0  0  0]\n",
            " [ 0 20  0  0  0  0  0  0  0  0]\n",
            " [ 0  0 19  1  0  0  0  0  0  0]\n",
            " [ 1  0  0 19  0  0  0  0  0  0]\n",
            " [ 0  0  0  0 20  0  0  0  0  0]\n",
            " [ 0  0  0  0  0 20  0  0  0  0]\n",
            " [ 0  0  0  0  0  0 20  0  0  0]\n",
            " [ 0  0  0  0  0  0  0 20  0  0]\n",
            " [ 0  0  0  0  0  0  1  0 19  0]\n",
            " [ 0  1  0  0  0  0  0  3  0 16]]\n",
            "# zcr #\n",
            "[Accuracy]\n",
            "0.575\n",
            "[ConfusionMatrix]\n",
            "[[11  1  1  1  4  0  0  0  1  1]\n",
            " [ 1 14  0  0  0  0  0  1  0  4]\n",
            " [ 0  1 15  2  0  1  0  1  0  0]\n",
            " [ 1  1  0 11  4  0  0  2  0  1]\n",
            " [ 0  4  0  0 11  2  0  1  0  2]\n",
            " [ 0  2  0  0  0 13  0  3  1  1]\n",
            " [ 0  2  1  3  0  2 12  0  0  0]\n",
            " [ 0  2  5  3  2  1  0  7  0  0]\n",
            " [ 2  4  0  1  2  0  0  0 11  0]\n",
            " [ 1  4  0  0  1  3  0  1  0 10]]\n",
            "# zcr+mfcc20 #\n",
            "[Accuracy]\n",
            "0.575\n",
            "[ConfusionMatrix]\n",
            "[[11  1  1  1  4  0  0  0  1  1]\n",
            " [ 1 14  0  0  0  0  0  1  0  4]\n",
            " [ 0  1 15  2  0  1  0  1  0  0]\n",
            " [ 1  2  0 11  4  0  0  2  0  0]\n",
            " [ 0  4  0  0 11  2  0  1  0  2]\n",
            " [ 0  2  0  0  0 13  0  3  1  1]\n",
            " [ 0  2  1  3  0  2 12  0  0  0]\n",
            " [ 0  2  5  3  2  1  0  7  0  0]\n",
            " [ 2  4  0  1  2  0  0  0 11  0]\n",
            " [ 1  4  0  0  1  3  0  1  0 10]]\n",
            "===========================\n",
            "\n",
            "======== RFC ========\n",
            "# mfcc13 #\n",
            "[Accuracy]\n",
            "0.925\n",
            "[ConfusionMatrix]\n",
            "[[19  0  0  1  0  0  0  0  0  0]\n",
            " [ 0 16  0  0  0  1  0  0  0  3]\n",
            " [ 0  0 20  0  0  0  0  0  0  0]\n",
            " [ 0  0  3 17  0  0  0  0  0  0]\n",
            " [ 0  0  0  0 20  0  0  0  0  0]\n",
            " [ 0  0  0  0  0 20  0  0  0  0]\n",
            " [ 0  0  0  1  0  0 19  0  0  0]\n",
            " [ 0  0  0  0  0  0  0 20  0  0]\n",
            " [ 0  0  0  0  0  0  1  0 19  0]\n",
            " [ 0  2  0  0  0  0  0  3  0 15]]\n",
            "# mfcc20 #\n",
            "[Accuracy]\n",
            "0.95\n",
            "[ConfusionMatrix]\n",
            "[[20  0  0  0  0  0  0  0  0  0]\n",
            " [ 1 15  0  0  0  0  0  0  0  4]\n",
            " [ 0  0 20  0  0  0  0  0  0  0]\n",
            " [ 0  0  2 18  0  0  0  0  0  0]\n",
            " [ 0  0  0  0 20  0  0  0  0  0]\n",
            " [ 0  0  0  0  0 20  0  0  0  0]\n",
            " [ 0  0  0  0  1  0 19  0  0  0]\n",
            " [ 0  0  0  0  0  0  0 20  0  0]\n",
            " [ 0  0  0  0  0  0  0  0 20  0]\n",
            " [ 0  1  0  0  0  0  0  1  0 18]]\n",
            "# zcr #\n",
            "[Accuracy]\n",
            "0.78\n",
            "[ConfusionMatrix]\n",
            "[[17  0  1  0  2  0  0  0  0  0]\n",
            " [ 1 16  0  0  1  0  1  1  0  0]\n",
            " [ 0  0 16  2  0  0  1  1  0  0]\n",
            " [ 1  0  4 11  1  0  0  2  0  1]\n",
            " [ 0  1  0  2 14  3  0  0  0  0]\n",
            " [ 0  1  0  0  0 19  0  0  0  0]\n",
            " [ 0  0  0  1  0  1 17  0  1  0]\n",
            " [ 0  0  1  1  2  0  0 16  0  0]\n",
            " [ 1  2  0  0  1  0  0  1 15  0]\n",
            " [ 0  3  0  0  0  1  1  0  0 15]]\n",
            "# zcr+mfcc20 #\n",
            "[Accuracy]\n",
            "0.955\n",
            "[ConfusionMatrix]\n",
            "[[19  0  1  0  0  0  0  0  0  0]\n",
            " [ 0 18  0  0  0  1  0  0  0  1]\n",
            " [ 0  0 19  0  0  0  1  0  0  0]\n",
            " [ 1  0  0 19  0  0  0  0  0  0]\n",
            " [ 0  0  0  0 19  1  0  0  0  0]\n",
            " [ 0  0  0  0  0 20  0  0  0  0]\n",
            " [ 0  0  0  1  0  0 18  0  1  0]\n",
            " [ 0  0  0  0  0  0  0 20  0  0]\n",
            " [ 0  0  0  0  0  0  0  0 20  0]\n",
            " [ 0  0  0  0  0  1  0  0  0 19]]\n",
            "===========================\n",
            "\n",
            "======== NN ========\n",
            "# mfcc20 #\n",
            "[Accuracy]\n",
            "0.855\n",
            "[ConfusionMatrix]\n",
            "[[20  0  0  0  0  0  0  0  0  0]\n",
            " [ 0 20  0  0  0  0  0  0  0  0]\n",
            " [ 1  0 18  1  0  0  0  0  0  0]\n",
            " [ 4  0  3 13  0  0  0  0  0  0]\n",
            " [ 0  0  0  0 20  0  0  0  0  0]\n",
            " [ 0  0  0  0  4 16  0  0  0  0]\n",
            " [ 2  0  0  4  0  1  9  0  4  0]\n",
            " [ 0  0  0  1  0  0  0 18  0  1]\n",
            " [ 0  0  0  0  1  0  0  0 19  0]\n",
            " [ 0  1  0  0  0  0  0  1  0 18]]\n",
            "===========================\n",
            "\n"
          ],
          "name": "stdout"
        }
      ]
    },
    {
      "cell_type": "markdown",
      "metadata": {
        "id": "2VrB-nUTDMYM",
        "colab_type": "text"
      },
      "source": [
        "## Google Dataset Results"
      ]
    },
    {
      "cell_type": "code",
      "metadata": {
        "id": "wrqrgU_DDLvk",
        "colab_type": "code",
        "outputId": "9af9a78b-e2af-4e7c-e5ac-31f5af9d3998",
        "colab": {
          "base_uri": "https://localhost:8080/",
          "height": 66,
          "referenced_widgets": [
            "0aaaacd7f818409db10cd1d036de1de1",
            "aab730442f65468babd7bbdc19663656",
            "6e44f8456e6f42e3ae2911944d0d8abb",
            "b4609062f3704fdead0974c47a49e7c5",
            "ea762dd763b34d33aea78767e0a832db",
            "b3e8d0e5b062449286ffbc50d1995a67",
            "5b2f5ba300c94caf9722d7175b01a8ee",
            "41acaac0a3584bed9df2d031147f16a6"
          ]
        }
      },
      "source": [
        "fm = 'mfcc20'\n",
        "clf = 'RFC'\n",
        "\n",
        "# Y_GD labels are ints\n",
        "y_test = np.char.mod('%d', Y_GD)\n",
        "\n",
        "#ohe_y_test  = ohe.fit_transform(Y_GD .astype(int).reshape(-1, 1)).toarray()\n",
        "\n",
        "# Feature extraction\n",
        "test_features = feature_extraction(X_GD, fm)\n",
        "# Feature scaling\n",
        "scalers_dict[fm].transform(test_features)\n",
        "\n",
        "# Confusion Matrix Plot\n",
        "plt.rcParams['figure.figsize'] = [10, 10]\n",
        "y_pred = RFC_dict[fm].predict(test_features)\n",
        "#y_pred = model.predict(test_features)\n",
        "'''\n",
        "pred = list()\n",
        "for i in range(len(y_pred)):\n",
        "    pred.append(np.argmax(y_pred[i]))\n",
        "#Converting one hot encoded test label to label\n",
        "test = list()\n",
        "for i in range(len(ohe_y_test)):\n",
        "    test.append(np.argmax(ohe_y_test[i]))\n",
        "   ''' \n",
        "print(accuracy_score(y_test, y_pred))\n",
        "#disp = plot_confusion_matrix(RFC_dict[fm], test_features, y_test)\n",
        "#disp.ax_.set_title(fm)\n",
        "#plt.show()"
      ],
      "execution_count": 36,
      "outputs": [
        {
          "output_type": "display_data",
          "data": {
            "application/vnd.jupyter.widget-view+json": {
              "model_id": "0aaaacd7f818409db10cd1d036de1de1",
              "version_minor": 0,
              "version_major": 2
            },
            "text/plain": [
              "HBox(children=(FloatProgress(value=1.0, bar_style='info', description='Feature extracion... [mfcc20]', max=1.0…"
            ]
          },
          "metadata": {
            "tags": []
          }
        },
        {
          "output_type": "stream",
          "text": [
            "0.2572044282937547\n"
          ],
          "name": "stdout"
        }
      ]
    },
    {
      "cell_type": "code",
      "metadata": {
        "id": "KkhZdXSjnqOn",
        "colab_type": "code",
        "colab": {
          "base_uri": "https://localhost:8080/",
          "height": 418,
          "referenced_widgets": [
            "7dec3d6fe179455994c012b0f05c44e0",
            "9129b6fb281d45288d9c8519a1518563",
            "89369e19a18a4a5c90dd6fd1d75279d4",
            "f7a90e3f043145c8bdee20f19ea14d35",
            "f059bf5413b4417591dd1e2ba803ca2e",
            "31b96c4d391c4110b57d3e7d86dd6d76",
            "dbcf70ee32fa40a9b6a6eb306630ef44",
            "20a14aed558a4792917821b48ba13a01"
          ]
        },
        "outputId": "a6a52a03-a3fb-48bd-9023-61db13918009"
      },
      "source": [
        "fm = 'zcr+mfcc20'\n",
        "clf = 'SVM'\n",
        "\n",
        "# Y_GD labels are ints\n",
        "y_test = np.char.mod('%d', Y_GD)\n",
        "\n",
        "#ohe_y_test  = ohe.fit_transform(Y_GD .astype(int).reshape(-1, 1)).toarray()\n",
        "\n",
        "# Feature extraction\n",
        "test_features = feature_extraction(X_GD, fm)\n",
        "# Feature scaling\n",
        "scalers_dict[fm].transform(test_features)\n",
        "\n",
        "# Confusion Matrix Plot\n",
        "plt.rcParams['figure.figsize'] = [10, 10]\n",
        "y_pred = SVM_dict[fm].predict(test_features)\n",
        "#y_pred = model.predict(test_features)\n",
        "'''\n",
        "pred = list()\n",
        "for i in range(len(y_pred)):\n",
        "    pred.append(np.argmax(y_pred[i]))\n",
        "#Converting one hot encoded test label to label\n",
        "test = list()\n",
        "for i in range(len(ohe_y_test)):\n",
        "    test.append(np.argmax(ohe_y_test[i]))\n",
        "   ''' \n",
        "print(accuracy_score(y_test, y_pred))\n",
        "#disp = plot_confusion_matrix(RFC_dict[fm], test_features, y_test)\n",
        "#disp.ax_.set_title(fm)\n",
        "#plt.show()"
      ],
      "execution_count": 42,
      "outputs": [
        {
          "output_type": "display_data",
          "data": {
            "application/vnd.jupyter.widget-view+json": {
              "model_id": "7dec3d6fe179455994c012b0f05c44e0",
              "version_minor": 0,
              "version_major": 2
            },
            "text/plain": [
              "HBox(children=(FloatProgress(value=1.0, bar_style='info', description='Feature extracion... [zcr+mfcc20]', max…"
            ]
          },
          "metadata": {
            "tags": []
          }
        },
        {
          "output_type": "error",
          "ename": "ValueError",
          "evalue": "ignored",
          "traceback": [
            "\u001b[0;31m---------------------------------------------------------------------------\u001b[0m",
            "\u001b[0;31mValueError\u001b[0m                                Traceback (most recent call last)",
            "\u001b[0;32m<ipython-input-42-4fb9d9da612b>\u001b[0m in \u001b[0;36m<module>\u001b[0;34m()\u001b[0m\n\u001b[1;32m      8\u001b[0m \u001b[0;34m\u001b[0m\u001b[0m\n\u001b[1;32m      9\u001b[0m \u001b[0;31m# Feature extraction\u001b[0m\u001b[0;34m\u001b[0m\u001b[0;34m\u001b[0m\u001b[0;34m\u001b[0m\u001b[0m\n\u001b[0;32m---> 10\u001b[0;31m \u001b[0mtest_features\u001b[0m \u001b[0;34m=\u001b[0m \u001b[0mfeature_extraction\u001b[0m\u001b[0;34m(\u001b[0m\u001b[0mX_GD\u001b[0m\u001b[0;34m,\u001b[0m \u001b[0mfm\u001b[0m\u001b[0;34m)\u001b[0m\u001b[0;34m\u001b[0m\u001b[0;34m\u001b[0m\u001b[0m\n\u001b[0m\u001b[1;32m     11\u001b[0m \u001b[0;31m# Feature scaling\u001b[0m\u001b[0;34m\u001b[0m\u001b[0;34m\u001b[0m\u001b[0;34m\u001b[0m\u001b[0m\n\u001b[1;32m     12\u001b[0m \u001b[0mscalers_dict\u001b[0m\u001b[0;34m[\u001b[0m\u001b[0mfm\u001b[0m\u001b[0;34m]\u001b[0m\u001b[0;34m.\u001b[0m\u001b[0mtransform\u001b[0m\u001b[0;34m(\u001b[0m\u001b[0mtest_features\u001b[0m\u001b[0;34m)\u001b[0m\u001b[0;34m\u001b[0m\u001b[0;34m\u001b[0m\u001b[0m\n",
            "\u001b[0;32m<ipython-input-16-b21b898ca79c>\u001b[0m in \u001b[0;36mfeature_extraction\u001b[0;34m(data, feat_type)\u001b[0m\n\u001b[1;32m     35\u001b[0m       \u001b[0;32mfor\u001b[0m \u001b[0mi\u001b[0m \u001b[0;32min\u001b[0m \u001b[0mrange\u001b[0m\u001b[0;34m(\u001b[0m\u001b[0msize\u001b[0m\u001b[0;34m)\u001b[0m\u001b[0;34m:\u001b[0m\u001b[0;34m\u001b[0m\u001b[0;34m\u001b[0m\u001b[0m\n\u001b[1;32m     36\u001b[0m         \u001b[0mfeatures\u001b[0m\u001b[0;34m[\u001b[0m\u001b[0mi\u001b[0m\u001b[0;34m,\u001b[0m\u001b[0;36m0\u001b[0m\u001b[0;34m:\u001b[0m\u001b[0mn_mfcc\u001b[0m\u001b[0;34m]\u001b[0m \u001b[0;34m=\u001b[0m \u001b[0mnp\u001b[0m\u001b[0;34m.\u001b[0m\u001b[0mmean\u001b[0m\u001b[0;34m(\u001b[0m\u001b[0mcompute_mfcc\u001b[0m\u001b[0;34m(\u001b[0m\u001b[0mdata\u001b[0m\u001b[0;34m[\u001b[0m\u001b[0mi\u001b[0m\u001b[0;34m]\u001b[0m\u001b[0;34m,\u001b[0m \u001b[0mFs\u001b[0m\u001b[0;34m,\u001b[0m \u001b[0mn_mfcc\u001b[0m\u001b[0;34m)\u001b[0m\u001b[0;34m,\u001b[0m \u001b[0maxis\u001b[0m\u001b[0;34m=\u001b[0m\u001b[0;36m1\u001b[0m\u001b[0;34m)\u001b[0m\u001b[0;34m\u001b[0m\u001b[0;34m\u001b[0m\u001b[0m\n\u001b[0;32m---> 37\u001b[0;31m         \u001b[0mfeatures\u001b[0m\u001b[0;34m[\u001b[0m\u001b[0mi\u001b[0m\u001b[0;34m,\u001b[0m\u001b[0mn_mfcc\u001b[0m\u001b[0;34m+\u001b[0m\u001b[0;36m1\u001b[0m\u001b[0;34m:\u001b[0m\u001b[0;34m-\u001b[0m\u001b[0;36m1\u001b[0m\u001b[0;34m]\u001b[0m \u001b[0;34m=\u001b[0m \u001b[0mcompute_zcr\u001b[0m\u001b[0;34m(\u001b[0m\u001b[0mdata\u001b[0m\u001b[0;34m[\u001b[0m\u001b[0mi\u001b[0m\u001b[0;34m]\u001b[0m\u001b[0;34m,\u001b[0m \u001b[0mFs\u001b[0m\u001b[0;34m)\u001b[0m\u001b[0;34m\u001b[0m\u001b[0;34m\u001b[0m\u001b[0m\n\u001b[0m\u001b[1;32m     38\u001b[0m         \u001b[0mpbar\u001b[0m\u001b[0;34m.\u001b[0m\u001b[0mupdate\u001b[0m\u001b[0;34m(\u001b[0m\u001b[0;34m)\u001b[0m\u001b[0;34m\u001b[0m\u001b[0;34m\u001b[0m\u001b[0m\n\u001b[1;32m     39\u001b[0m       \u001b[0mpbar\u001b[0m\u001b[0;34m.\u001b[0m\u001b[0mrefresh\u001b[0m\u001b[0;34m(\u001b[0m\u001b[0;34m)\u001b[0m\u001b[0;34m\u001b[0m\u001b[0;34m\u001b[0m\u001b[0m\n",
            "\u001b[0;32m<ipython-input-12-546d61d0c5a7>\u001b[0m in \u001b[0;36mcompute_zcr\u001b[0;34m(audio, fs)\u001b[0m\n\u001b[1;32m     10\u001b[0m   \u001b[0;32mfor\u001b[0m \u001b[0mn\u001b[0m \u001b[0;32min\u001b[0m \u001b[0mnp\u001b[0m\u001b[0;34m.\u001b[0m\u001b[0marange\u001b[0m\u001b[0;34m(\u001b[0m\u001b[0mwin_number\u001b[0m\u001b[0;34m)\u001b[0m\u001b[0;34m:\u001b[0m\u001b[0;34m\u001b[0m\u001b[0;34m\u001b[0m\u001b[0m\n\u001b[1;32m     11\u001b[0m     \u001b[0mframe\u001b[0m \u001b[0;34m=\u001b[0m \u001b[0maudio\u001b[0m\u001b[0;34m[\u001b[0m\u001b[0mn\u001b[0m \u001b[0;34m*\u001b[0m \u001b[0mhop_size\u001b[0m \u001b[0;34m:\u001b[0m \u001b[0mn\u001b[0m \u001b[0;34m*\u001b[0m \u001b[0mhop_size\u001b[0m \u001b[0;34m+\u001b[0m \u001b[0mwin_length\u001b[0m\u001b[0;34m]\u001b[0m\u001b[0;34m\u001b[0m\u001b[0;34m\u001b[0m\u001b[0m\n\u001b[0;32m---> 12\u001b[0;31m     \u001b[0mframe_win\u001b[0m \u001b[0;34m=\u001b[0m \u001b[0mframe\u001b[0m \u001b[0;34m*\u001b[0m \u001b[0mwindow\u001b[0m\u001b[0;34m\u001b[0m\u001b[0;34m\u001b[0m\u001b[0m\n\u001b[0m\u001b[1;32m     13\u001b[0m     \u001b[0mwin_sign\u001b[0m \u001b[0;34m=\u001b[0m \u001b[0mnp\u001b[0m\u001b[0;34m.\u001b[0m\u001b[0msign\u001b[0m\u001b[0;34m(\u001b[0m\u001b[0mframe_win\u001b[0m\u001b[0;34m)\u001b[0m\u001b[0;34m\u001b[0m\u001b[0;34m\u001b[0m\u001b[0m\n\u001b[1;32m     14\u001b[0m     \u001b[0mN\u001b[0m \u001b[0;34m=\u001b[0m \u001b[0mnp\u001b[0m\u001b[0;34m.\u001b[0m\u001b[0mshape\u001b[0m\u001b[0;34m(\u001b[0m\u001b[0mframe_win\u001b[0m\u001b[0;34m)\u001b[0m\u001b[0;34m[\u001b[0m\u001b[0;36m0\u001b[0m\u001b[0;34m]\u001b[0m\u001b[0;34m\u001b[0m\u001b[0;34m\u001b[0m\u001b[0m\n",
            "\u001b[0;31mValueError\u001b[0m: operands could not be broadcast together with shapes (28,) (80,) "
          ]
        }
      ]
    },
    {
      "cell_type": "markdown",
      "metadata": {
        "id": "LFhB1sClJTMv",
        "colab_type": "text"
      },
      "source": [
        "## Style"
      ]
    },
    {
      "cell_type": "code",
      "metadata": {
        "id": "VrXMakXHJceG",
        "colab_type": "code",
        "colab": {}
      },
      "source": [
        "import matplotlib as mpl\n",
        "COLOR = 'darkgrey'\n",
        "mpl.rcParams['text.color'] = COLOR\n",
        "mpl.rcParams['axes.labelcolor'] = COLOR\n",
        "mpl.rcParams['xtick.color'] = COLOR\n",
        "mpl.rcParams['ytick.color'] = COLOR"
      ],
      "execution_count": 0,
      "outputs": []
    }
  ]
}