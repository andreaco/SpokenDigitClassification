{
  "nbformat": 4,
  "nbformat_minor": 0,
  "metadata": {
    "colab": {
      "name": "SpokenDigitClassification.ipynb",
      "provenance": [],
      "collapsed_sections": [],
      "toc_visible": true
    },
    "kernelspec": {
      "name": "python3",
      "display_name": "Python 3"
    },
    "widgets": {
      "application/vnd.jupyter.widget-state+json": {
        "014704a1892741a7bfc916cd635f620c": {
          "model_module": "@jupyter-widgets/controls",
          "model_name": "HBoxModel",
          "state": {
            "_view_name": "HBoxView",
            "_dom_classes": [],
            "_model_name": "HBoxModel",
            "_view_module": "@jupyter-widgets/controls",
            "_model_module_version": "1.5.0",
            "_view_count": null,
            "_view_module_version": "1.5.0",
            "box_style": "",
            "layout": "IPY_MODEL_c8a4c8b576f141fa8e0e2487c9607844",
            "_model_module": "@jupyter-widgets/controls",
            "children": [
              "IPY_MODEL_450715d63cd04b6f8c8250ef76081d6e",
              "IPY_MODEL_af8aa32b32c2417d96c25d4efcc2b31c"
            ]
          }
        },
        "c8a4c8b576f141fa8e0e2487c9607844": {
          "model_module": "@jupyter-widgets/base",
          "model_name": "LayoutModel",
          "state": {
            "_view_name": "LayoutView",
            "grid_template_rows": null,
            "right": null,
            "justify_content": null,
            "_view_module": "@jupyter-widgets/base",
            "overflow": null,
            "_model_module_version": "1.2.0",
            "_view_count": null,
            "flex_flow": null,
            "width": null,
            "min_width": null,
            "border": null,
            "align_items": null,
            "bottom": null,
            "_model_module": "@jupyter-widgets/base",
            "top": null,
            "grid_column": null,
            "overflow_y": null,
            "overflow_x": null,
            "grid_auto_flow": null,
            "grid_area": null,
            "grid_template_columns": null,
            "flex": null,
            "_model_name": "LayoutModel",
            "justify_items": null,
            "grid_row": null,
            "max_height": null,
            "align_content": null,
            "visibility": null,
            "align_self": null,
            "height": null,
            "min_height": null,
            "padding": null,
            "grid_auto_rows": null,
            "grid_gap": null,
            "max_width": null,
            "order": null,
            "_view_module_version": "1.2.0",
            "grid_template_areas": null,
            "object_position": null,
            "object_fit": null,
            "grid_auto_columns": null,
            "margin": null,
            "display": null,
            "left": null
          }
        },
        "450715d63cd04b6f8c8250ef76081d6e": {
          "model_module": "@jupyter-widgets/controls",
          "model_name": "IntProgressModel",
          "state": {
            "_view_name": "ProgressView",
            "style": "IPY_MODEL_e42bcb61a65b4544a3e0fe98ff9cfa5c",
            "_dom_classes": [],
            "description": "Loading audio samples: 100%",
            "_model_name": "IntProgressModel",
            "bar_style": "info",
            "max": 1,
            "_view_module": "@jupyter-widgets/controls",
            "_model_module_version": "1.5.0",
            "value": 1,
            "_view_count": null,
            "_view_module_version": "1.5.0",
            "orientation": "horizontal",
            "min": 0,
            "description_tooltip": null,
            "_model_module": "@jupyter-widgets/controls",
            "layout": "IPY_MODEL_a5e6e883456e4b8a9cd8a639ac81cb68"
          }
        },
        "af8aa32b32c2417d96c25d4efcc2b31c": {
          "model_module": "@jupyter-widgets/controls",
          "model_name": "HTMLModel",
          "state": {
            "_view_name": "HTMLView",
            "style": "IPY_MODEL_076ccc7dd9544cb690311389bfaa1fa2",
            "_dom_classes": [],
            "description": "",
            "_model_name": "HTMLModel",
            "placeholder": "​",
            "_view_module": "@jupyter-widgets/controls",
            "_model_module_version": "1.5.0",
            "value": " 2000/2000 [03:54&lt;00:00,  8.52it/s]",
            "_view_count": null,
            "_view_module_version": "1.5.0",
            "description_tooltip": null,
            "_model_module": "@jupyter-widgets/controls",
            "layout": "IPY_MODEL_831a448f92b24cbb95da209f357a151e"
          }
        },
        "e42bcb61a65b4544a3e0fe98ff9cfa5c": {
          "model_module": "@jupyter-widgets/controls",
          "model_name": "ProgressStyleModel",
          "state": {
            "_view_name": "StyleView",
            "_model_name": "ProgressStyleModel",
            "description_width": "initial",
            "_view_module": "@jupyter-widgets/base",
            "_model_module_version": "1.5.0",
            "_view_count": null,
            "_view_module_version": "1.2.0",
            "bar_color": null,
            "_model_module": "@jupyter-widgets/controls"
          }
        },
        "a5e6e883456e4b8a9cd8a639ac81cb68": {
          "model_module": "@jupyter-widgets/base",
          "model_name": "LayoutModel",
          "state": {
            "_view_name": "LayoutView",
            "grid_template_rows": null,
            "right": null,
            "justify_content": null,
            "_view_module": "@jupyter-widgets/base",
            "overflow": null,
            "_model_module_version": "1.2.0",
            "_view_count": null,
            "flex_flow": null,
            "width": null,
            "min_width": null,
            "border": null,
            "align_items": null,
            "bottom": null,
            "_model_module": "@jupyter-widgets/base",
            "top": null,
            "grid_column": null,
            "overflow_y": null,
            "overflow_x": null,
            "grid_auto_flow": null,
            "grid_area": null,
            "grid_template_columns": null,
            "flex": null,
            "_model_name": "LayoutModel",
            "justify_items": null,
            "grid_row": null,
            "max_height": null,
            "align_content": null,
            "visibility": null,
            "align_self": null,
            "height": null,
            "min_height": null,
            "padding": null,
            "grid_auto_rows": null,
            "grid_gap": null,
            "max_width": null,
            "order": null,
            "_view_module_version": "1.2.0",
            "grid_template_areas": null,
            "object_position": null,
            "object_fit": null,
            "grid_auto_columns": null,
            "margin": null,
            "display": null,
            "left": null
          }
        },
        "076ccc7dd9544cb690311389bfaa1fa2": {
          "model_module": "@jupyter-widgets/controls",
          "model_name": "DescriptionStyleModel",
          "state": {
            "_view_name": "StyleView",
            "_model_name": "DescriptionStyleModel",
            "description_width": "",
            "_view_module": "@jupyter-widgets/base",
            "_model_module_version": "1.5.0",
            "_view_count": null,
            "_view_module_version": "1.2.0",
            "_model_module": "@jupyter-widgets/controls"
          }
        },
        "831a448f92b24cbb95da209f357a151e": {
          "model_module": "@jupyter-widgets/base",
          "model_name": "LayoutModel",
          "state": {
            "_view_name": "LayoutView",
            "grid_template_rows": null,
            "right": null,
            "justify_content": null,
            "_view_module": "@jupyter-widgets/base",
            "overflow": null,
            "_model_module_version": "1.2.0",
            "_view_count": null,
            "flex_flow": null,
            "width": null,
            "min_width": null,
            "border": null,
            "align_items": null,
            "bottom": null,
            "_model_module": "@jupyter-widgets/base",
            "top": null,
            "grid_column": null,
            "overflow_y": null,
            "overflow_x": null,
            "grid_auto_flow": null,
            "grid_area": null,
            "grid_template_columns": null,
            "flex": null,
            "_model_name": "LayoutModel",
            "justify_items": null,
            "grid_row": null,
            "max_height": null,
            "align_content": null,
            "visibility": null,
            "align_self": null,
            "height": null,
            "min_height": null,
            "padding": null,
            "grid_auto_rows": null,
            "grid_gap": null,
            "max_width": null,
            "order": null,
            "_view_module_version": "1.2.0",
            "grid_template_areas": null,
            "object_position": null,
            "object_fit": null,
            "grid_auto_columns": null,
            "margin": null,
            "display": null,
            "left": null
          }
        },
        "43c064615d314b568c49c915875b90ca": {
          "model_module": "@jupyter-widgets/controls",
          "model_name": "HBoxModel",
          "state": {
            "_view_name": "HBoxView",
            "_dom_classes": [],
            "_model_name": "HBoxModel",
            "_view_module": "@jupyter-widgets/controls",
            "_model_module_version": "1.5.0",
            "_view_count": null,
            "_view_module_version": "1.5.0",
            "box_style": "",
            "layout": "IPY_MODEL_c5a016f2316e4352903d5d919990c527",
            "_model_module": "@jupyter-widgets/controls",
            "children": [
              "IPY_MODEL_99d1e212409449ebbd20726148a08fea",
              "IPY_MODEL_adf53667c3664cc793cea2fd4ef0cfcb"
            ]
          }
        },
        "c5a016f2316e4352903d5d919990c527": {
          "model_module": "@jupyter-widgets/base",
          "model_name": "LayoutModel",
          "state": {
            "_view_name": "LayoutView",
            "grid_template_rows": null,
            "right": null,
            "justify_content": null,
            "_view_module": "@jupyter-widgets/base",
            "overflow": null,
            "_model_module_version": "1.2.0",
            "_view_count": null,
            "flex_flow": null,
            "width": null,
            "min_width": null,
            "border": null,
            "align_items": null,
            "bottom": null,
            "_model_module": "@jupyter-widgets/base",
            "top": null,
            "grid_column": null,
            "overflow_y": null,
            "overflow_x": null,
            "grid_auto_flow": null,
            "grid_area": null,
            "grid_template_columns": null,
            "flex": null,
            "_model_name": "LayoutModel",
            "justify_items": null,
            "grid_row": null,
            "max_height": null,
            "align_content": null,
            "visibility": null,
            "align_self": null,
            "height": null,
            "min_height": null,
            "padding": null,
            "grid_auto_rows": null,
            "grid_gap": null,
            "max_width": null,
            "order": null,
            "_view_module_version": "1.2.0",
            "grid_template_areas": null,
            "object_position": null,
            "object_fit": null,
            "grid_auto_columns": null,
            "margin": null,
            "display": null,
            "left": null
          }
        },
        "99d1e212409449ebbd20726148a08fea": {
          "model_module": "@jupyter-widgets/controls",
          "model_name": "IntProgressModel",
          "state": {
            "_view_name": "ProgressView",
            "style": "IPY_MODEL_a1f62cb9fd324516a5ef1d4051299436",
            "_dom_classes": [],
            "description": "Zero Padding and trimming: 100%",
            "_model_name": "IntProgressModel",
            "bar_style": "info",
            "max": 1,
            "_view_module": "@jupyter-widgets/controls",
            "_model_module_version": "1.5.0",
            "value": 1,
            "_view_count": null,
            "_view_module_version": "1.5.0",
            "orientation": "horizontal",
            "min": 0,
            "description_tooltip": null,
            "_model_module": "@jupyter-widgets/controls",
            "layout": "IPY_MODEL_255d922e98b745fd8bcbe3e63f7e45b5"
          }
        },
        "adf53667c3664cc793cea2fd4ef0cfcb": {
          "model_module": "@jupyter-widgets/controls",
          "model_name": "HTMLModel",
          "state": {
            "_view_name": "HTMLView",
            "style": "IPY_MODEL_89cdb10884fa4844b69b61c28b67a3f4",
            "_dom_classes": [],
            "description": "",
            "_model_name": "HTMLModel",
            "placeholder": "​",
            "_view_module": "@jupyter-widgets/controls",
            "_model_module_version": "1.5.0",
            "value": " 2000/2000 [00:00&lt;00:00, 86749.69it/s]",
            "_view_count": null,
            "_view_module_version": "1.5.0",
            "description_tooltip": null,
            "_model_module": "@jupyter-widgets/controls",
            "layout": "IPY_MODEL_cacb38ab720947028adcb4411cc3d8c7"
          }
        },
        "a1f62cb9fd324516a5ef1d4051299436": {
          "model_module": "@jupyter-widgets/controls",
          "model_name": "ProgressStyleModel",
          "state": {
            "_view_name": "StyleView",
            "_model_name": "ProgressStyleModel",
            "description_width": "initial",
            "_view_module": "@jupyter-widgets/base",
            "_model_module_version": "1.5.0",
            "_view_count": null,
            "_view_module_version": "1.2.0",
            "bar_color": null,
            "_model_module": "@jupyter-widgets/controls"
          }
        },
        "255d922e98b745fd8bcbe3e63f7e45b5": {
          "model_module": "@jupyter-widgets/base",
          "model_name": "LayoutModel",
          "state": {
            "_view_name": "LayoutView",
            "grid_template_rows": null,
            "right": null,
            "justify_content": null,
            "_view_module": "@jupyter-widgets/base",
            "overflow": null,
            "_model_module_version": "1.2.0",
            "_view_count": null,
            "flex_flow": null,
            "width": null,
            "min_width": null,
            "border": null,
            "align_items": null,
            "bottom": null,
            "_model_module": "@jupyter-widgets/base",
            "top": null,
            "grid_column": null,
            "overflow_y": null,
            "overflow_x": null,
            "grid_auto_flow": null,
            "grid_area": null,
            "grid_template_columns": null,
            "flex": null,
            "_model_name": "LayoutModel",
            "justify_items": null,
            "grid_row": null,
            "max_height": null,
            "align_content": null,
            "visibility": null,
            "align_self": null,
            "height": null,
            "min_height": null,
            "padding": null,
            "grid_auto_rows": null,
            "grid_gap": null,
            "max_width": null,
            "order": null,
            "_view_module_version": "1.2.0",
            "grid_template_areas": null,
            "object_position": null,
            "object_fit": null,
            "grid_auto_columns": null,
            "margin": null,
            "display": null,
            "left": null
          }
        },
        "89cdb10884fa4844b69b61c28b67a3f4": {
          "model_module": "@jupyter-widgets/controls",
          "model_name": "DescriptionStyleModel",
          "state": {
            "_view_name": "StyleView",
            "_model_name": "DescriptionStyleModel",
            "description_width": "",
            "_view_module": "@jupyter-widgets/base",
            "_model_module_version": "1.5.0",
            "_view_count": null,
            "_view_module_version": "1.2.0",
            "_model_module": "@jupyter-widgets/controls"
          }
        },
        "cacb38ab720947028adcb4411cc3d8c7": {
          "model_module": "@jupyter-widgets/base",
          "model_name": "LayoutModel",
          "state": {
            "_view_name": "LayoutView",
            "grid_template_rows": null,
            "right": null,
            "justify_content": null,
            "_view_module": "@jupyter-widgets/base",
            "overflow": null,
            "_model_module_version": "1.2.0",
            "_view_count": null,
            "flex_flow": null,
            "width": null,
            "min_width": null,
            "border": null,
            "align_items": null,
            "bottom": null,
            "_model_module": "@jupyter-widgets/base",
            "top": null,
            "grid_column": null,
            "overflow_y": null,
            "overflow_x": null,
            "grid_auto_flow": null,
            "grid_area": null,
            "grid_template_columns": null,
            "flex": null,
            "_model_name": "LayoutModel",
            "justify_items": null,
            "grid_row": null,
            "max_height": null,
            "align_content": null,
            "visibility": null,
            "align_self": null,
            "height": null,
            "min_height": null,
            "padding": null,
            "grid_auto_rows": null,
            "grid_gap": null,
            "max_width": null,
            "order": null,
            "_view_module_version": "1.2.0",
            "grid_template_areas": null,
            "object_position": null,
            "object_fit": null,
            "grid_auto_columns": null,
            "margin": null,
            "display": null,
            "left": null
          }
        },
        "75ba041fc8d54cb8a0d0623507e3e943": {
          "model_module": "@jupyter-widgets/controls",
          "model_name": "HBoxModel",
          "state": {
            "_view_name": "HBoxView",
            "_dom_classes": [],
            "_model_name": "HBoxModel",
            "_view_module": "@jupyter-widgets/controls",
            "_model_module_version": "1.5.0",
            "_view_count": null,
            "_view_module_version": "1.5.0",
            "box_style": "",
            "layout": "IPY_MODEL_5b30c23cc2ab48cc9af60d4241d4d9f8",
            "_model_module": "@jupyter-widgets/controls",
            "children": [
              "IPY_MODEL_9da5bee82b764d6b94b305f6c89f6dc6",
              "IPY_MODEL_3a0a3ff6b32c4ecaabba300706154f1f"
            ]
          }
        },
        "5b30c23cc2ab48cc9af60d4241d4d9f8": {
          "model_module": "@jupyter-widgets/base",
          "model_name": "LayoutModel",
          "state": {
            "_view_name": "LayoutView",
            "grid_template_rows": null,
            "right": null,
            "justify_content": null,
            "_view_module": "@jupyter-widgets/base",
            "overflow": null,
            "_model_module_version": "1.2.0",
            "_view_count": null,
            "flex_flow": null,
            "width": null,
            "min_width": null,
            "border": null,
            "align_items": null,
            "bottom": null,
            "_model_module": "@jupyter-widgets/base",
            "top": null,
            "grid_column": null,
            "overflow_y": null,
            "overflow_x": null,
            "grid_auto_flow": null,
            "grid_area": null,
            "grid_template_columns": null,
            "flex": null,
            "_model_name": "LayoutModel",
            "justify_items": null,
            "grid_row": null,
            "max_height": null,
            "align_content": null,
            "visibility": null,
            "align_self": null,
            "height": null,
            "min_height": null,
            "padding": null,
            "grid_auto_rows": null,
            "grid_gap": null,
            "max_width": null,
            "order": null,
            "_view_module_version": "1.2.0",
            "grid_template_areas": null,
            "object_position": null,
            "object_fit": null,
            "grid_auto_columns": null,
            "margin": null,
            "display": null,
            "left": null
          }
        },
        "9da5bee82b764d6b94b305f6c89f6dc6": {
          "model_module": "@jupyter-widgets/controls",
          "model_name": "IntProgressModel",
          "state": {
            "_view_name": "ProgressView",
            "style": "IPY_MODEL_e82bcebe9eed4445b9742ebcb6418222",
            "_dom_classes": [],
            "description": "Feature extracion... [mfcc13]: 100%",
            "_model_name": "IntProgressModel",
            "bar_style": "info",
            "max": 1,
            "_view_module": "@jupyter-widgets/controls",
            "_model_module_version": "1.5.0",
            "value": 1,
            "_view_count": null,
            "_view_module_version": "1.5.0",
            "orientation": "horizontal",
            "min": 0,
            "description_tooltip": null,
            "_model_module": "@jupyter-widgets/controls",
            "layout": "IPY_MODEL_72111bdcd1dd40ce89dd25e38e01d86c"
          }
        },
        "3a0a3ff6b32c4ecaabba300706154f1f": {
          "model_module": "@jupyter-widgets/controls",
          "model_name": "HTMLModel",
          "state": {
            "_view_name": "HTMLView",
            "style": "IPY_MODEL_fb7f40acc8b0432eb1c043284cefe6a6",
            "_dom_classes": [],
            "description": "",
            "_model_name": "HTMLModel",
            "placeholder": "​",
            "_view_module": "@jupyter-widgets/controls",
            "_model_module_version": "1.5.0",
            "value": " 1800/1800 [00:22&lt;00:00, 375.47it/s]",
            "_view_count": null,
            "_view_module_version": "1.5.0",
            "description_tooltip": null,
            "_model_module": "@jupyter-widgets/controls",
            "layout": "IPY_MODEL_95a8290839a64217afdb29d4cd997d62"
          }
        },
        "e82bcebe9eed4445b9742ebcb6418222": {
          "model_module": "@jupyter-widgets/controls",
          "model_name": "ProgressStyleModel",
          "state": {
            "_view_name": "StyleView",
            "_model_name": "ProgressStyleModel",
            "description_width": "initial",
            "_view_module": "@jupyter-widgets/base",
            "_model_module_version": "1.5.0",
            "_view_count": null,
            "_view_module_version": "1.2.0",
            "bar_color": null,
            "_model_module": "@jupyter-widgets/controls"
          }
        },
        "72111bdcd1dd40ce89dd25e38e01d86c": {
          "model_module": "@jupyter-widgets/base",
          "model_name": "LayoutModel",
          "state": {
            "_view_name": "LayoutView",
            "grid_template_rows": null,
            "right": null,
            "justify_content": null,
            "_view_module": "@jupyter-widgets/base",
            "overflow": null,
            "_model_module_version": "1.2.0",
            "_view_count": null,
            "flex_flow": null,
            "width": null,
            "min_width": null,
            "border": null,
            "align_items": null,
            "bottom": null,
            "_model_module": "@jupyter-widgets/base",
            "top": null,
            "grid_column": null,
            "overflow_y": null,
            "overflow_x": null,
            "grid_auto_flow": null,
            "grid_area": null,
            "grid_template_columns": null,
            "flex": null,
            "_model_name": "LayoutModel",
            "justify_items": null,
            "grid_row": null,
            "max_height": null,
            "align_content": null,
            "visibility": null,
            "align_self": null,
            "height": null,
            "min_height": null,
            "padding": null,
            "grid_auto_rows": null,
            "grid_gap": null,
            "max_width": null,
            "order": null,
            "_view_module_version": "1.2.0",
            "grid_template_areas": null,
            "object_position": null,
            "object_fit": null,
            "grid_auto_columns": null,
            "margin": null,
            "display": null,
            "left": null
          }
        },
        "fb7f40acc8b0432eb1c043284cefe6a6": {
          "model_module": "@jupyter-widgets/controls",
          "model_name": "DescriptionStyleModel",
          "state": {
            "_view_name": "StyleView",
            "_model_name": "DescriptionStyleModel",
            "description_width": "",
            "_view_module": "@jupyter-widgets/base",
            "_model_module_version": "1.5.0",
            "_view_count": null,
            "_view_module_version": "1.2.0",
            "_model_module": "@jupyter-widgets/controls"
          }
        },
        "95a8290839a64217afdb29d4cd997d62": {
          "model_module": "@jupyter-widgets/base",
          "model_name": "LayoutModel",
          "state": {
            "_view_name": "LayoutView",
            "grid_template_rows": null,
            "right": null,
            "justify_content": null,
            "_view_module": "@jupyter-widgets/base",
            "overflow": null,
            "_model_module_version": "1.2.0",
            "_view_count": null,
            "flex_flow": null,
            "width": null,
            "min_width": null,
            "border": null,
            "align_items": null,
            "bottom": null,
            "_model_module": "@jupyter-widgets/base",
            "top": null,
            "grid_column": null,
            "overflow_y": null,
            "overflow_x": null,
            "grid_auto_flow": null,
            "grid_area": null,
            "grid_template_columns": null,
            "flex": null,
            "_model_name": "LayoutModel",
            "justify_items": null,
            "grid_row": null,
            "max_height": null,
            "align_content": null,
            "visibility": null,
            "align_self": null,
            "height": null,
            "min_height": null,
            "padding": null,
            "grid_auto_rows": null,
            "grid_gap": null,
            "max_width": null,
            "order": null,
            "_view_module_version": "1.2.0",
            "grid_template_areas": null,
            "object_position": null,
            "object_fit": null,
            "grid_auto_columns": null,
            "margin": null,
            "display": null,
            "left": null
          }
        },
        "c70d2fb661a24cab9dce22018eaef1f8": {
          "model_module": "@jupyter-widgets/controls",
          "model_name": "HBoxModel",
          "state": {
            "_view_name": "HBoxView",
            "_dom_classes": [],
            "_model_name": "HBoxModel",
            "_view_module": "@jupyter-widgets/controls",
            "_model_module_version": "1.5.0",
            "_view_count": null,
            "_view_module_version": "1.5.0",
            "box_style": "",
            "layout": "IPY_MODEL_aea93f357bc648f2b10ce0516af833da",
            "_model_module": "@jupyter-widgets/controls",
            "children": [
              "IPY_MODEL_4efb3c5164ed474a805487cad5fe54b4",
              "IPY_MODEL_05eefd0b26c145fa98ec2283fc01622a"
            ]
          }
        },
        "aea93f357bc648f2b10ce0516af833da": {
          "model_module": "@jupyter-widgets/base",
          "model_name": "LayoutModel",
          "state": {
            "_view_name": "LayoutView",
            "grid_template_rows": null,
            "right": null,
            "justify_content": null,
            "_view_module": "@jupyter-widgets/base",
            "overflow": null,
            "_model_module_version": "1.2.0",
            "_view_count": null,
            "flex_flow": null,
            "width": null,
            "min_width": null,
            "border": null,
            "align_items": null,
            "bottom": null,
            "_model_module": "@jupyter-widgets/base",
            "top": null,
            "grid_column": null,
            "overflow_y": null,
            "overflow_x": null,
            "grid_auto_flow": null,
            "grid_area": null,
            "grid_template_columns": null,
            "flex": null,
            "_model_name": "LayoutModel",
            "justify_items": null,
            "grid_row": null,
            "max_height": null,
            "align_content": null,
            "visibility": null,
            "align_self": null,
            "height": null,
            "min_height": null,
            "padding": null,
            "grid_auto_rows": null,
            "grid_gap": null,
            "max_width": null,
            "order": null,
            "_view_module_version": "1.2.0",
            "grid_template_areas": null,
            "object_position": null,
            "object_fit": null,
            "grid_auto_columns": null,
            "margin": null,
            "display": null,
            "left": null
          }
        },
        "4efb3c5164ed474a805487cad5fe54b4": {
          "model_module": "@jupyter-widgets/controls",
          "model_name": "IntProgressModel",
          "state": {
            "_view_name": "ProgressView",
            "style": "IPY_MODEL_ca5d8639f63e44dbbab52233ad9b2bbc",
            "_dom_classes": [],
            "description": "Feature extracion... [mfcc20]: 100%",
            "_model_name": "IntProgressModel",
            "bar_style": "info",
            "max": 1,
            "_view_module": "@jupyter-widgets/controls",
            "_model_module_version": "1.5.0",
            "value": 1,
            "_view_count": null,
            "_view_module_version": "1.5.0",
            "orientation": "horizontal",
            "min": 0,
            "description_tooltip": null,
            "_model_module": "@jupyter-widgets/controls",
            "layout": "IPY_MODEL_6ded0f0a4162483cb411affe89b3a64a"
          }
        },
        "05eefd0b26c145fa98ec2283fc01622a": {
          "model_module": "@jupyter-widgets/controls",
          "model_name": "HTMLModel",
          "state": {
            "_view_name": "HTMLView",
            "style": "IPY_MODEL_339e69615d8a4db3a305d2018a1ec9f3",
            "_dom_classes": [],
            "description": "",
            "_model_name": "HTMLModel",
            "placeholder": "​",
            "_view_module": "@jupyter-widgets/controls",
            "_model_module_version": "1.5.0",
            "value": " 1800/1800 [00:17&lt;00:00, 388.48it/s]",
            "_view_count": null,
            "_view_module_version": "1.5.0",
            "description_tooltip": null,
            "_model_module": "@jupyter-widgets/controls",
            "layout": "IPY_MODEL_d4f2e30021a8461aa960b1321b1a5c66"
          }
        },
        "ca5d8639f63e44dbbab52233ad9b2bbc": {
          "model_module": "@jupyter-widgets/controls",
          "model_name": "ProgressStyleModel",
          "state": {
            "_view_name": "StyleView",
            "_model_name": "ProgressStyleModel",
            "description_width": "initial",
            "_view_module": "@jupyter-widgets/base",
            "_model_module_version": "1.5.0",
            "_view_count": null,
            "_view_module_version": "1.2.0",
            "bar_color": null,
            "_model_module": "@jupyter-widgets/controls"
          }
        },
        "6ded0f0a4162483cb411affe89b3a64a": {
          "model_module": "@jupyter-widgets/base",
          "model_name": "LayoutModel",
          "state": {
            "_view_name": "LayoutView",
            "grid_template_rows": null,
            "right": null,
            "justify_content": null,
            "_view_module": "@jupyter-widgets/base",
            "overflow": null,
            "_model_module_version": "1.2.0",
            "_view_count": null,
            "flex_flow": null,
            "width": null,
            "min_width": null,
            "border": null,
            "align_items": null,
            "bottom": null,
            "_model_module": "@jupyter-widgets/base",
            "top": null,
            "grid_column": null,
            "overflow_y": null,
            "overflow_x": null,
            "grid_auto_flow": null,
            "grid_area": null,
            "grid_template_columns": null,
            "flex": null,
            "_model_name": "LayoutModel",
            "justify_items": null,
            "grid_row": null,
            "max_height": null,
            "align_content": null,
            "visibility": null,
            "align_self": null,
            "height": null,
            "min_height": null,
            "padding": null,
            "grid_auto_rows": null,
            "grid_gap": null,
            "max_width": null,
            "order": null,
            "_view_module_version": "1.2.0",
            "grid_template_areas": null,
            "object_position": null,
            "object_fit": null,
            "grid_auto_columns": null,
            "margin": null,
            "display": null,
            "left": null
          }
        },
        "339e69615d8a4db3a305d2018a1ec9f3": {
          "model_module": "@jupyter-widgets/controls",
          "model_name": "DescriptionStyleModel",
          "state": {
            "_view_name": "StyleView",
            "_model_name": "DescriptionStyleModel",
            "description_width": "",
            "_view_module": "@jupyter-widgets/base",
            "_model_module_version": "1.5.0",
            "_view_count": null,
            "_view_module_version": "1.2.0",
            "_model_module": "@jupyter-widgets/controls"
          }
        },
        "d4f2e30021a8461aa960b1321b1a5c66": {
          "model_module": "@jupyter-widgets/base",
          "model_name": "LayoutModel",
          "state": {
            "_view_name": "LayoutView",
            "grid_template_rows": null,
            "right": null,
            "justify_content": null,
            "_view_module": "@jupyter-widgets/base",
            "overflow": null,
            "_model_module_version": "1.2.0",
            "_view_count": null,
            "flex_flow": null,
            "width": null,
            "min_width": null,
            "border": null,
            "align_items": null,
            "bottom": null,
            "_model_module": "@jupyter-widgets/base",
            "top": null,
            "grid_column": null,
            "overflow_y": null,
            "overflow_x": null,
            "grid_auto_flow": null,
            "grid_area": null,
            "grid_template_columns": null,
            "flex": null,
            "_model_name": "LayoutModel",
            "justify_items": null,
            "grid_row": null,
            "max_height": null,
            "align_content": null,
            "visibility": null,
            "align_self": null,
            "height": null,
            "min_height": null,
            "padding": null,
            "grid_auto_rows": null,
            "grid_gap": null,
            "max_width": null,
            "order": null,
            "_view_module_version": "1.2.0",
            "grid_template_areas": null,
            "object_position": null,
            "object_fit": null,
            "grid_auto_columns": null,
            "margin": null,
            "display": null,
            "left": null
          }
        },
        "15182e2864fe4fe08482d13f262fac4e": {
          "model_module": "@jupyter-widgets/controls",
          "model_name": "HBoxModel",
          "state": {
            "_view_name": "HBoxView",
            "_dom_classes": [],
            "_model_name": "HBoxModel",
            "_view_module": "@jupyter-widgets/controls",
            "_model_module_version": "1.5.0",
            "_view_count": null,
            "_view_module_version": "1.5.0",
            "box_style": "",
            "layout": "IPY_MODEL_113f4d61116b45b4a7c62bb6ba05f747",
            "_model_module": "@jupyter-widgets/controls",
            "children": [
              "IPY_MODEL_cbddda17f10942ec9f9d205021e19e0f",
              "IPY_MODEL_bf40d50057d0480e87df2c5c02fa034c"
            ]
          }
        },
        "113f4d61116b45b4a7c62bb6ba05f747": {
          "model_module": "@jupyter-widgets/base",
          "model_name": "LayoutModel",
          "state": {
            "_view_name": "LayoutView",
            "grid_template_rows": null,
            "right": null,
            "justify_content": null,
            "_view_module": "@jupyter-widgets/base",
            "overflow": null,
            "_model_module_version": "1.2.0",
            "_view_count": null,
            "flex_flow": null,
            "width": null,
            "min_width": null,
            "border": null,
            "align_items": null,
            "bottom": null,
            "_model_module": "@jupyter-widgets/base",
            "top": null,
            "grid_column": null,
            "overflow_y": null,
            "overflow_x": null,
            "grid_auto_flow": null,
            "grid_area": null,
            "grid_template_columns": null,
            "flex": null,
            "_model_name": "LayoutModel",
            "justify_items": null,
            "grid_row": null,
            "max_height": null,
            "align_content": null,
            "visibility": null,
            "align_self": null,
            "height": null,
            "min_height": null,
            "padding": null,
            "grid_auto_rows": null,
            "grid_gap": null,
            "max_width": null,
            "order": null,
            "_view_module_version": "1.2.0",
            "grid_template_areas": null,
            "object_position": null,
            "object_fit": null,
            "grid_auto_columns": null,
            "margin": null,
            "display": null,
            "left": null
          }
        },
        "cbddda17f10942ec9f9d205021e19e0f": {
          "model_module": "@jupyter-widgets/controls",
          "model_name": "IntProgressModel",
          "state": {
            "_view_name": "ProgressView",
            "style": "IPY_MODEL_9a66111c76804714a170e4f8cad3cb60",
            "_dom_classes": [],
            "description": "Feature extracion... [zcr]: 100%",
            "_model_name": "IntProgressModel",
            "bar_style": "info",
            "max": 1,
            "_view_module": "@jupyter-widgets/controls",
            "_model_module_version": "1.5.0",
            "value": 1,
            "_view_count": null,
            "_view_module_version": "1.5.0",
            "orientation": "horizontal",
            "min": 0,
            "description_tooltip": null,
            "_model_module": "@jupyter-widgets/controls",
            "layout": "IPY_MODEL_6e038dcb45004a5da557f8f61bc6247d"
          }
        },
        "bf40d50057d0480e87df2c5c02fa034c": {
          "model_module": "@jupyter-widgets/controls",
          "model_name": "HTMLModel",
          "state": {
            "_view_name": "HTMLView",
            "style": "IPY_MODEL_efe0cdf5a4f34f1ba452be3622af8860",
            "_dom_classes": [],
            "description": "",
            "_model_name": "HTMLModel",
            "placeholder": "​",
            "_view_module": "@jupyter-widgets/controls",
            "_model_module_version": "1.5.0",
            "value": " 1800/1800 [00:13&lt;00:00, 658.35it/s]",
            "_view_count": null,
            "_view_module_version": "1.5.0",
            "description_tooltip": null,
            "_model_module": "@jupyter-widgets/controls",
            "layout": "IPY_MODEL_aba584d8aa9e491b9eed1ee54ad6ad00"
          }
        },
        "9a66111c76804714a170e4f8cad3cb60": {
          "model_module": "@jupyter-widgets/controls",
          "model_name": "ProgressStyleModel",
          "state": {
            "_view_name": "StyleView",
            "_model_name": "ProgressStyleModel",
            "description_width": "initial",
            "_view_module": "@jupyter-widgets/base",
            "_model_module_version": "1.5.0",
            "_view_count": null,
            "_view_module_version": "1.2.0",
            "bar_color": null,
            "_model_module": "@jupyter-widgets/controls"
          }
        },
        "6e038dcb45004a5da557f8f61bc6247d": {
          "model_module": "@jupyter-widgets/base",
          "model_name": "LayoutModel",
          "state": {
            "_view_name": "LayoutView",
            "grid_template_rows": null,
            "right": null,
            "justify_content": null,
            "_view_module": "@jupyter-widgets/base",
            "overflow": null,
            "_model_module_version": "1.2.0",
            "_view_count": null,
            "flex_flow": null,
            "width": null,
            "min_width": null,
            "border": null,
            "align_items": null,
            "bottom": null,
            "_model_module": "@jupyter-widgets/base",
            "top": null,
            "grid_column": null,
            "overflow_y": null,
            "overflow_x": null,
            "grid_auto_flow": null,
            "grid_area": null,
            "grid_template_columns": null,
            "flex": null,
            "_model_name": "LayoutModel",
            "justify_items": null,
            "grid_row": null,
            "max_height": null,
            "align_content": null,
            "visibility": null,
            "align_self": null,
            "height": null,
            "min_height": null,
            "padding": null,
            "grid_auto_rows": null,
            "grid_gap": null,
            "max_width": null,
            "order": null,
            "_view_module_version": "1.2.0",
            "grid_template_areas": null,
            "object_position": null,
            "object_fit": null,
            "grid_auto_columns": null,
            "margin": null,
            "display": null,
            "left": null
          }
        },
        "efe0cdf5a4f34f1ba452be3622af8860": {
          "model_module": "@jupyter-widgets/controls",
          "model_name": "DescriptionStyleModel",
          "state": {
            "_view_name": "StyleView",
            "_model_name": "DescriptionStyleModel",
            "description_width": "",
            "_view_module": "@jupyter-widgets/base",
            "_model_module_version": "1.5.0",
            "_view_count": null,
            "_view_module_version": "1.2.0",
            "_model_module": "@jupyter-widgets/controls"
          }
        },
        "aba584d8aa9e491b9eed1ee54ad6ad00": {
          "model_module": "@jupyter-widgets/base",
          "model_name": "LayoutModel",
          "state": {
            "_view_name": "LayoutView",
            "grid_template_rows": null,
            "right": null,
            "justify_content": null,
            "_view_module": "@jupyter-widgets/base",
            "overflow": null,
            "_model_module_version": "1.2.0",
            "_view_count": null,
            "flex_flow": null,
            "width": null,
            "min_width": null,
            "border": null,
            "align_items": null,
            "bottom": null,
            "_model_module": "@jupyter-widgets/base",
            "top": null,
            "grid_column": null,
            "overflow_y": null,
            "overflow_x": null,
            "grid_auto_flow": null,
            "grid_area": null,
            "grid_template_columns": null,
            "flex": null,
            "_model_name": "LayoutModel",
            "justify_items": null,
            "grid_row": null,
            "max_height": null,
            "align_content": null,
            "visibility": null,
            "align_self": null,
            "height": null,
            "min_height": null,
            "padding": null,
            "grid_auto_rows": null,
            "grid_gap": null,
            "max_width": null,
            "order": null,
            "_view_module_version": "1.2.0",
            "grid_template_areas": null,
            "object_position": null,
            "object_fit": null,
            "grid_auto_columns": null,
            "margin": null,
            "display": null,
            "left": null
          }
        },
        "9cffcc52107a41509e19bfcc3129b76e": {
          "model_module": "@jupyter-widgets/controls",
          "model_name": "HBoxModel",
          "state": {
            "_view_name": "HBoxView",
            "_dom_classes": [],
            "_model_name": "HBoxModel",
            "_view_module": "@jupyter-widgets/controls",
            "_model_module_version": "1.5.0",
            "_view_count": null,
            "_view_module_version": "1.5.0",
            "box_style": "",
            "layout": "IPY_MODEL_9e270328534a4f7da9c4889322449eb5",
            "_model_module": "@jupyter-widgets/controls",
            "children": [
              "IPY_MODEL_30b30026672f470897d1e61b17429891",
              "IPY_MODEL_975ee3293ef64eafa439f4b36ee7a3ff"
            ]
          }
        },
        "9e270328534a4f7da9c4889322449eb5": {
          "model_module": "@jupyter-widgets/base",
          "model_name": "LayoutModel",
          "state": {
            "_view_name": "LayoutView",
            "grid_template_rows": null,
            "right": null,
            "justify_content": null,
            "_view_module": "@jupyter-widgets/base",
            "overflow": null,
            "_model_module_version": "1.2.0",
            "_view_count": null,
            "flex_flow": null,
            "width": null,
            "min_width": null,
            "border": null,
            "align_items": null,
            "bottom": null,
            "_model_module": "@jupyter-widgets/base",
            "top": null,
            "grid_column": null,
            "overflow_y": null,
            "overflow_x": null,
            "grid_auto_flow": null,
            "grid_area": null,
            "grid_template_columns": null,
            "flex": null,
            "_model_name": "LayoutModel",
            "justify_items": null,
            "grid_row": null,
            "max_height": null,
            "align_content": null,
            "visibility": null,
            "align_self": null,
            "height": null,
            "min_height": null,
            "padding": null,
            "grid_auto_rows": null,
            "grid_gap": null,
            "max_width": null,
            "order": null,
            "_view_module_version": "1.2.0",
            "grid_template_areas": null,
            "object_position": null,
            "object_fit": null,
            "grid_auto_columns": null,
            "margin": null,
            "display": null,
            "left": null
          }
        },
        "30b30026672f470897d1e61b17429891": {
          "model_module": "@jupyter-widgets/controls",
          "model_name": "IntProgressModel",
          "state": {
            "_view_name": "ProgressView",
            "style": "IPY_MODEL_eec5b8b37f01435687793b7358b76738",
            "_dom_classes": [],
            "description": "Feature extracion... [zcr+mfcc20]: 100%",
            "_model_name": "IntProgressModel",
            "bar_style": "info",
            "max": 1,
            "_view_module": "@jupyter-widgets/controls",
            "_model_module_version": "1.5.0",
            "value": 1,
            "_view_count": null,
            "_view_module_version": "1.5.0",
            "orientation": "horizontal",
            "min": 0,
            "description_tooltip": null,
            "_model_module": "@jupyter-widgets/controls",
            "layout": "IPY_MODEL_1b38043b613c40f0b08e75b2a5632ee2"
          }
        },
        "975ee3293ef64eafa439f4b36ee7a3ff": {
          "model_module": "@jupyter-widgets/controls",
          "model_name": "HTMLModel",
          "state": {
            "_view_name": "HTMLView",
            "style": "IPY_MODEL_b7d27a317031427f9700cf2cd55a9f74",
            "_dom_classes": [],
            "description": "",
            "_model_name": "HTMLModel",
            "placeholder": "​",
            "_view_module": "@jupyter-widgets/controls",
            "_model_module_version": "1.5.0",
            "value": " 1800/1800 [00:20&lt;00:00, 176.22it/s]",
            "_view_count": null,
            "_view_module_version": "1.5.0",
            "description_tooltip": null,
            "_model_module": "@jupyter-widgets/controls",
            "layout": "IPY_MODEL_7f63786203354895acd07a668aca41fa"
          }
        },
        "eec5b8b37f01435687793b7358b76738": {
          "model_module": "@jupyter-widgets/controls",
          "model_name": "ProgressStyleModel",
          "state": {
            "_view_name": "StyleView",
            "_model_name": "ProgressStyleModel",
            "description_width": "initial",
            "_view_module": "@jupyter-widgets/base",
            "_model_module_version": "1.5.0",
            "_view_count": null,
            "_view_module_version": "1.2.0",
            "bar_color": null,
            "_model_module": "@jupyter-widgets/controls"
          }
        },
        "1b38043b613c40f0b08e75b2a5632ee2": {
          "model_module": "@jupyter-widgets/base",
          "model_name": "LayoutModel",
          "state": {
            "_view_name": "LayoutView",
            "grid_template_rows": null,
            "right": null,
            "justify_content": null,
            "_view_module": "@jupyter-widgets/base",
            "overflow": null,
            "_model_module_version": "1.2.0",
            "_view_count": null,
            "flex_flow": null,
            "width": null,
            "min_width": null,
            "border": null,
            "align_items": null,
            "bottom": null,
            "_model_module": "@jupyter-widgets/base",
            "top": null,
            "grid_column": null,
            "overflow_y": null,
            "overflow_x": null,
            "grid_auto_flow": null,
            "grid_area": null,
            "grid_template_columns": null,
            "flex": null,
            "_model_name": "LayoutModel",
            "justify_items": null,
            "grid_row": null,
            "max_height": null,
            "align_content": null,
            "visibility": null,
            "align_self": null,
            "height": null,
            "min_height": null,
            "padding": null,
            "grid_auto_rows": null,
            "grid_gap": null,
            "max_width": null,
            "order": null,
            "_view_module_version": "1.2.0",
            "grid_template_areas": null,
            "object_position": null,
            "object_fit": null,
            "grid_auto_columns": null,
            "margin": null,
            "display": null,
            "left": null
          }
        },
        "b7d27a317031427f9700cf2cd55a9f74": {
          "model_module": "@jupyter-widgets/controls",
          "model_name": "DescriptionStyleModel",
          "state": {
            "_view_name": "StyleView",
            "_model_name": "DescriptionStyleModel",
            "description_width": "",
            "_view_module": "@jupyter-widgets/base",
            "_model_module_version": "1.5.0",
            "_view_count": null,
            "_view_module_version": "1.2.0",
            "_model_module": "@jupyter-widgets/controls"
          }
        },
        "7f63786203354895acd07a668aca41fa": {
          "model_module": "@jupyter-widgets/base",
          "model_name": "LayoutModel",
          "state": {
            "_view_name": "LayoutView",
            "grid_template_rows": null,
            "right": null,
            "justify_content": null,
            "_view_module": "@jupyter-widgets/base",
            "overflow": null,
            "_model_module_version": "1.2.0",
            "_view_count": null,
            "flex_flow": null,
            "width": null,
            "min_width": null,
            "border": null,
            "align_items": null,
            "bottom": null,
            "_model_module": "@jupyter-widgets/base",
            "top": null,
            "grid_column": null,
            "overflow_y": null,
            "overflow_x": null,
            "grid_auto_flow": null,
            "grid_area": null,
            "grid_template_columns": null,
            "flex": null,
            "_model_name": "LayoutModel",
            "justify_items": null,
            "grid_row": null,
            "max_height": null,
            "align_content": null,
            "visibility": null,
            "align_self": null,
            "height": null,
            "min_height": null,
            "padding": null,
            "grid_auto_rows": null,
            "grid_gap": null,
            "max_width": null,
            "order": null,
            "_view_module_version": "1.2.0",
            "grid_template_areas": null,
            "object_position": null,
            "object_fit": null,
            "grid_auto_columns": null,
            "margin": null,
            "display": null,
            "left": null
          }
        },
        "abea2d044d8a46fdbf5685da9ca31910": {
          "model_module": "@jupyter-widgets/controls",
          "model_name": "HBoxModel",
          "state": {
            "_view_name": "HBoxView",
            "_dom_classes": [],
            "_model_name": "HBoxModel",
            "_view_module": "@jupyter-widgets/controls",
            "_model_module_version": "1.5.0",
            "_view_count": null,
            "_view_module_version": "1.5.0",
            "box_style": "",
            "layout": "IPY_MODEL_920a35a221c64feabcc8494df0303f0c",
            "_model_module": "@jupyter-widgets/controls",
            "children": [
              "IPY_MODEL_116ef585d8be4064941121ec03b91eb7",
              "IPY_MODEL_8a4f73272f4641858b3728d9e6594182"
            ]
          }
        },
        "920a35a221c64feabcc8494df0303f0c": {
          "model_module": "@jupyter-widgets/base",
          "model_name": "LayoutModel",
          "state": {
            "_view_name": "LayoutView",
            "grid_template_rows": null,
            "right": null,
            "justify_content": null,
            "_view_module": "@jupyter-widgets/base",
            "overflow": null,
            "_model_module_version": "1.2.0",
            "_view_count": null,
            "flex_flow": null,
            "width": null,
            "min_width": null,
            "border": null,
            "align_items": null,
            "bottom": null,
            "_model_module": "@jupyter-widgets/base",
            "top": null,
            "grid_column": null,
            "overflow_y": null,
            "overflow_x": null,
            "grid_auto_flow": null,
            "grid_area": null,
            "grid_template_columns": null,
            "flex": null,
            "_model_name": "LayoutModel",
            "justify_items": null,
            "grid_row": null,
            "max_height": null,
            "align_content": null,
            "visibility": null,
            "align_self": null,
            "height": null,
            "min_height": null,
            "padding": null,
            "grid_auto_rows": null,
            "grid_gap": null,
            "max_width": null,
            "order": null,
            "_view_module_version": "1.2.0",
            "grid_template_areas": null,
            "object_position": null,
            "object_fit": null,
            "grid_auto_columns": null,
            "margin": null,
            "display": null,
            "left": null
          }
        },
        "116ef585d8be4064941121ec03b91eb7": {
          "model_module": "@jupyter-widgets/controls",
          "model_name": "IntProgressModel",
          "state": {
            "_view_name": "ProgressView",
            "style": "IPY_MODEL_1af6f1fc35c641a1b75670c6c7095cf6",
            "_dom_classes": [],
            "description": "Feature extracion... [mfcc13]: 100%",
            "_model_name": "IntProgressModel",
            "bar_style": "success",
            "max": 1,
            "_view_module": "@jupyter-widgets/controls",
            "_model_module_version": "1.5.0",
            "value": 1,
            "_view_count": null,
            "_view_module_version": "1.5.0",
            "orientation": "horizontal",
            "min": 0,
            "description_tooltip": null,
            "_model_module": "@jupyter-widgets/controls",
            "layout": "IPY_MODEL_c1807793b2744b82a14c3e70d652b633"
          }
        },
        "8a4f73272f4641858b3728d9e6594182": {
          "model_module": "@jupyter-widgets/controls",
          "model_name": "HTMLModel",
          "state": {
            "_view_name": "HTMLView",
            "style": "IPY_MODEL_125ce493677144a58c191dd3c4905e78",
            "_dom_classes": [],
            "description": "",
            "_model_name": "HTMLModel",
            "placeholder": "​",
            "_view_module": "@jupyter-widgets/controls",
            "_model_module_version": "1.5.0",
            "value": " 200/200 [00:00&lt;00:00, 345.21it/s]",
            "_view_count": null,
            "_view_module_version": "1.5.0",
            "description_tooltip": null,
            "_model_module": "@jupyter-widgets/controls",
            "layout": "IPY_MODEL_fd11cbc10bb24b3681b126ef21b7266f"
          }
        },
        "1af6f1fc35c641a1b75670c6c7095cf6": {
          "model_module": "@jupyter-widgets/controls",
          "model_name": "ProgressStyleModel",
          "state": {
            "_view_name": "StyleView",
            "_model_name": "ProgressStyleModel",
            "description_width": "initial",
            "_view_module": "@jupyter-widgets/base",
            "_model_module_version": "1.5.0",
            "_view_count": null,
            "_view_module_version": "1.2.0",
            "bar_color": null,
            "_model_module": "@jupyter-widgets/controls"
          }
        },
        "c1807793b2744b82a14c3e70d652b633": {
          "model_module": "@jupyter-widgets/base",
          "model_name": "LayoutModel",
          "state": {
            "_view_name": "LayoutView",
            "grid_template_rows": null,
            "right": null,
            "justify_content": null,
            "_view_module": "@jupyter-widgets/base",
            "overflow": null,
            "_model_module_version": "1.2.0",
            "_view_count": null,
            "flex_flow": null,
            "width": null,
            "min_width": null,
            "border": null,
            "align_items": null,
            "bottom": null,
            "_model_module": "@jupyter-widgets/base",
            "top": null,
            "grid_column": null,
            "overflow_y": null,
            "overflow_x": null,
            "grid_auto_flow": null,
            "grid_area": null,
            "grid_template_columns": null,
            "flex": null,
            "_model_name": "LayoutModel",
            "justify_items": null,
            "grid_row": null,
            "max_height": null,
            "align_content": null,
            "visibility": null,
            "align_self": null,
            "height": null,
            "min_height": null,
            "padding": null,
            "grid_auto_rows": null,
            "grid_gap": null,
            "max_width": null,
            "order": null,
            "_view_module_version": "1.2.0",
            "grid_template_areas": null,
            "object_position": null,
            "object_fit": null,
            "grid_auto_columns": null,
            "margin": null,
            "display": null,
            "left": null
          }
        },
        "125ce493677144a58c191dd3c4905e78": {
          "model_module": "@jupyter-widgets/controls",
          "model_name": "DescriptionStyleModel",
          "state": {
            "_view_name": "StyleView",
            "_model_name": "DescriptionStyleModel",
            "description_width": "",
            "_view_module": "@jupyter-widgets/base",
            "_model_module_version": "1.5.0",
            "_view_count": null,
            "_view_module_version": "1.2.0",
            "_model_module": "@jupyter-widgets/controls"
          }
        },
        "fd11cbc10bb24b3681b126ef21b7266f": {
          "model_module": "@jupyter-widgets/base",
          "model_name": "LayoutModel",
          "state": {
            "_view_name": "LayoutView",
            "grid_template_rows": null,
            "right": null,
            "justify_content": null,
            "_view_module": "@jupyter-widgets/base",
            "overflow": null,
            "_model_module_version": "1.2.0",
            "_view_count": null,
            "flex_flow": null,
            "width": null,
            "min_width": null,
            "border": null,
            "align_items": null,
            "bottom": null,
            "_model_module": "@jupyter-widgets/base",
            "top": null,
            "grid_column": null,
            "overflow_y": null,
            "overflow_x": null,
            "grid_auto_flow": null,
            "grid_area": null,
            "grid_template_columns": null,
            "flex": null,
            "_model_name": "LayoutModel",
            "justify_items": null,
            "grid_row": null,
            "max_height": null,
            "align_content": null,
            "visibility": null,
            "align_self": null,
            "height": null,
            "min_height": null,
            "padding": null,
            "grid_auto_rows": null,
            "grid_gap": null,
            "max_width": null,
            "order": null,
            "_view_module_version": "1.2.0",
            "grid_template_areas": null,
            "object_position": null,
            "object_fit": null,
            "grid_auto_columns": null,
            "margin": null,
            "display": null,
            "left": null
          }
        },
        "46945307c13641e0a7524e77724b9464": {
          "model_module": "@jupyter-widgets/controls",
          "model_name": "HBoxModel",
          "state": {
            "_view_name": "HBoxView",
            "_dom_classes": [],
            "_model_name": "HBoxModel",
            "_view_module": "@jupyter-widgets/controls",
            "_model_module_version": "1.5.0",
            "_view_count": null,
            "_view_module_version": "1.5.0",
            "box_style": "",
            "layout": "IPY_MODEL_a1b4e72d68644a3e9cf96fc8711fda58",
            "_model_module": "@jupyter-widgets/controls",
            "children": [
              "IPY_MODEL_e6ef840e87de431b9ee02d90e00ced97",
              "IPY_MODEL_3b76e5dca56d4c3ca37a6368f636f2dc"
            ]
          }
        },
        "a1b4e72d68644a3e9cf96fc8711fda58": {
          "model_module": "@jupyter-widgets/base",
          "model_name": "LayoutModel",
          "state": {
            "_view_name": "LayoutView",
            "grid_template_rows": null,
            "right": null,
            "justify_content": null,
            "_view_module": "@jupyter-widgets/base",
            "overflow": null,
            "_model_module_version": "1.2.0",
            "_view_count": null,
            "flex_flow": null,
            "width": null,
            "min_width": null,
            "border": null,
            "align_items": null,
            "bottom": null,
            "_model_module": "@jupyter-widgets/base",
            "top": null,
            "grid_column": null,
            "overflow_y": null,
            "overflow_x": null,
            "grid_auto_flow": null,
            "grid_area": null,
            "grid_template_columns": null,
            "flex": null,
            "_model_name": "LayoutModel",
            "justify_items": null,
            "grid_row": null,
            "max_height": null,
            "align_content": null,
            "visibility": null,
            "align_self": null,
            "height": null,
            "min_height": null,
            "padding": null,
            "grid_auto_rows": null,
            "grid_gap": null,
            "max_width": null,
            "order": null,
            "_view_module_version": "1.2.0",
            "grid_template_areas": null,
            "object_position": null,
            "object_fit": null,
            "grid_auto_columns": null,
            "margin": null,
            "display": null,
            "left": null
          }
        },
        "e6ef840e87de431b9ee02d90e00ced97": {
          "model_module": "@jupyter-widgets/controls",
          "model_name": "IntProgressModel",
          "state": {
            "_view_name": "ProgressView",
            "style": "IPY_MODEL_b0b605423e5c4c7c80ec7ae47a79f9a5",
            "_dom_classes": [],
            "description": "Feature extracion... [mfcc20]: 100%",
            "_model_name": "IntProgressModel",
            "bar_style": "success",
            "max": 1,
            "_view_module": "@jupyter-widgets/controls",
            "_model_module_version": "1.5.0",
            "value": 1,
            "_view_count": null,
            "_view_module_version": "1.5.0",
            "orientation": "horizontal",
            "min": 0,
            "description_tooltip": null,
            "_model_module": "@jupyter-widgets/controls",
            "layout": "IPY_MODEL_06f4a71bf71f47c0b0e24da0616248e2"
          }
        },
        "3b76e5dca56d4c3ca37a6368f636f2dc": {
          "model_module": "@jupyter-widgets/controls",
          "model_name": "HTMLModel",
          "state": {
            "_view_name": "HTMLView",
            "style": "IPY_MODEL_12e2623d566f48b1972afd15e5d12482",
            "_dom_classes": [],
            "description": "",
            "_model_name": "HTMLModel",
            "placeholder": "​",
            "_view_module": "@jupyter-widgets/controls",
            "_model_module_version": "1.5.0",
            "value": " 200/200 [00:00&lt;00:00, 346.28it/s]",
            "_view_count": null,
            "_view_module_version": "1.5.0",
            "description_tooltip": null,
            "_model_module": "@jupyter-widgets/controls",
            "layout": "IPY_MODEL_e5b66f18620249f0bf511fbf54cca4c0"
          }
        },
        "b0b605423e5c4c7c80ec7ae47a79f9a5": {
          "model_module": "@jupyter-widgets/controls",
          "model_name": "ProgressStyleModel",
          "state": {
            "_view_name": "StyleView",
            "_model_name": "ProgressStyleModel",
            "description_width": "initial",
            "_view_module": "@jupyter-widgets/base",
            "_model_module_version": "1.5.0",
            "_view_count": null,
            "_view_module_version": "1.2.0",
            "bar_color": null,
            "_model_module": "@jupyter-widgets/controls"
          }
        },
        "06f4a71bf71f47c0b0e24da0616248e2": {
          "model_module": "@jupyter-widgets/base",
          "model_name": "LayoutModel",
          "state": {
            "_view_name": "LayoutView",
            "grid_template_rows": null,
            "right": null,
            "justify_content": null,
            "_view_module": "@jupyter-widgets/base",
            "overflow": null,
            "_model_module_version": "1.2.0",
            "_view_count": null,
            "flex_flow": null,
            "width": null,
            "min_width": null,
            "border": null,
            "align_items": null,
            "bottom": null,
            "_model_module": "@jupyter-widgets/base",
            "top": null,
            "grid_column": null,
            "overflow_y": null,
            "overflow_x": null,
            "grid_auto_flow": null,
            "grid_area": null,
            "grid_template_columns": null,
            "flex": null,
            "_model_name": "LayoutModel",
            "justify_items": null,
            "grid_row": null,
            "max_height": null,
            "align_content": null,
            "visibility": null,
            "align_self": null,
            "height": null,
            "min_height": null,
            "padding": null,
            "grid_auto_rows": null,
            "grid_gap": null,
            "max_width": null,
            "order": null,
            "_view_module_version": "1.2.0",
            "grid_template_areas": null,
            "object_position": null,
            "object_fit": null,
            "grid_auto_columns": null,
            "margin": null,
            "display": null,
            "left": null
          }
        },
        "12e2623d566f48b1972afd15e5d12482": {
          "model_module": "@jupyter-widgets/controls",
          "model_name": "DescriptionStyleModel",
          "state": {
            "_view_name": "StyleView",
            "_model_name": "DescriptionStyleModel",
            "description_width": "",
            "_view_module": "@jupyter-widgets/base",
            "_model_module_version": "1.5.0",
            "_view_count": null,
            "_view_module_version": "1.2.0",
            "_model_module": "@jupyter-widgets/controls"
          }
        },
        "e5b66f18620249f0bf511fbf54cca4c0": {
          "model_module": "@jupyter-widgets/base",
          "model_name": "LayoutModel",
          "state": {
            "_view_name": "LayoutView",
            "grid_template_rows": null,
            "right": null,
            "justify_content": null,
            "_view_module": "@jupyter-widgets/base",
            "overflow": null,
            "_model_module_version": "1.2.0",
            "_view_count": null,
            "flex_flow": null,
            "width": null,
            "min_width": null,
            "border": null,
            "align_items": null,
            "bottom": null,
            "_model_module": "@jupyter-widgets/base",
            "top": null,
            "grid_column": null,
            "overflow_y": null,
            "overflow_x": null,
            "grid_auto_flow": null,
            "grid_area": null,
            "grid_template_columns": null,
            "flex": null,
            "_model_name": "LayoutModel",
            "justify_items": null,
            "grid_row": null,
            "max_height": null,
            "align_content": null,
            "visibility": null,
            "align_self": null,
            "height": null,
            "min_height": null,
            "padding": null,
            "grid_auto_rows": null,
            "grid_gap": null,
            "max_width": null,
            "order": null,
            "_view_module_version": "1.2.0",
            "grid_template_areas": null,
            "object_position": null,
            "object_fit": null,
            "grid_auto_columns": null,
            "margin": null,
            "display": null,
            "left": null
          }
        },
        "57f1faacf51b4010a4a78793d1ee3caa": {
          "model_module": "@jupyter-widgets/controls",
          "model_name": "HBoxModel",
          "state": {
            "_view_name": "HBoxView",
            "_dom_classes": [],
            "_model_name": "HBoxModel",
            "_view_module": "@jupyter-widgets/controls",
            "_model_module_version": "1.5.0",
            "_view_count": null,
            "_view_module_version": "1.5.0",
            "box_style": "",
            "layout": "IPY_MODEL_0491be3a1bfa48b7ad75b647506d42e8",
            "_model_module": "@jupyter-widgets/controls",
            "children": [
              "IPY_MODEL_4aba46a1329740c89022a268cf875096",
              "IPY_MODEL_9c87ac302ac340e793d5fd684b1021d9"
            ]
          }
        },
        "0491be3a1bfa48b7ad75b647506d42e8": {
          "model_module": "@jupyter-widgets/base",
          "model_name": "LayoutModel",
          "state": {
            "_view_name": "LayoutView",
            "grid_template_rows": null,
            "right": null,
            "justify_content": null,
            "_view_module": "@jupyter-widgets/base",
            "overflow": null,
            "_model_module_version": "1.2.0",
            "_view_count": null,
            "flex_flow": null,
            "width": null,
            "min_width": null,
            "border": null,
            "align_items": null,
            "bottom": null,
            "_model_module": "@jupyter-widgets/base",
            "top": null,
            "grid_column": null,
            "overflow_y": null,
            "overflow_x": null,
            "grid_auto_flow": null,
            "grid_area": null,
            "grid_template_columns": null,
            "flex": null,
            "_model_name": "LayoutModel",
            "justify_items": null,
            "grid_row": null,
            "max_height": null,
            "align_content": null,
            "visibility": null,
            "align_self": null,
            "height": null,
            "min_height": null,
            "padding": null,
            "grid_auto_rows": null,
            "grid_gap": null,
            "max_width": null,
            "order": null,
            "_view_module_version": "1.2.0",
            "grid_template_areas": null,
            "object_position": null,
            "object_fit": null,
            "grid_auto_columns": null,
            "margin": null,
            "display": null,
            "left": null
          }
        },
        "4aba46a1329740c89022a268cf875096": {
          "model_module": "@jupyter-widgets/controls",
          "model_name": "IntProgressModel",
          "state": {
            "_view_name": "ProgressView",
            "style": "IPY_MODEL_dd73e79a4f0b41778678748d44a4dff9",
            "_dom_classes": [],
            "description": "Feature extracion... [zcr]: 100%",
            "_model_name": "IntProgressModel",
            "bar_style": "success",
            "max": 1,
            "_view_module": "@jupyter-widgets/controls",
            "_model_module_version": "1.5.0",
            "value": 1,
            "_view_count": null,
            "_view_module_version": "1.5.0",
            "orientation": "horizontal",
            "min": 0,
            "description_tooltip": null,
            "_model_module": "@jupyter-widgets/controls",
            "layout": "IPY_MODEL_fea77f29141544fc8fe1e91fa5afe79c"
          }
        },
        "9c87ac302ac340e793d5fd684b1021d9": {
          "model_module": "@jupyter-widgets/controls",
          "model_name": "HTMLModel",
          "state": {
            "_view_name": "HTMLView",
            "style": "IPY_MODEL_9494f78811614252a8d9b1b6cd37ad1d",
            "_dom_classes": [],
            "description": "",
            "_model_name": "HTMLModel",
            "placeholder": "​",
            "_view_module": "@jupyter-widgets/controls",
            "_model_module_version": "1.5.0",
            "value": " 200/200 [00:00&lt;00:00, 453.41it/s]",
            "_view_count": null,
            "_view_module_version": "1.5.0",
            "description_tooltip": null,
            "_model_module": "@jupyter-widgets/controls",
            "layout": "IPY_MODEL_3970d6540b214a2bbee4d8731e681a1f"
          }
        },
        "dd73e79a4f0b41778678748d44a4dff9": {
          "model_module": "@jupyter-widgets/controls",
          "model_name": "ProgressStyleModel",
          "state": {
            "_view_name": "StyleView",
            "_model_name": "ProgressStyleModel",
            "description_width": "initial",
            "_view_module": "@jupyter-widgets/base",
            "_model_module_version": "1.5.0",
            "_view_count": null,
            "_view_module_version": "1.2.0",
            "bar_color": null,
            "_model_module": "@jupyter-widgets/controls"
          }
        },
        "fea77f29141544fc8fe1e91fa5afe79c": {
          "model_module": "@jupyter-widgets/base",
          "model_name": "LayoutModel",
          "state": {
            "_view_name": "LayoutView",
            "grid_template_rows": null,
            "right": null,
            "justify_content": null,
            "_view_module": "@jupyter-widgets/base",
            "overflow": null,
            "_model_module_version": "1.2.0",
            "_view_count": null,
            "flex_flow": null,
            "width": null,
            "min_width": null,
            "border": null,
            "align_items": null,
            "bottom": null,
            "_model_module": "@jupyter-widgets/base",
            "top": null,
            "grid_column": null,
            "overflow_y": null,
            "overflow_x": null,
            "grid_auto_flow": null,
            "grid_area": null,
            "grid_template_columns": null,
            "flex": null,
            "_model_name": "LayoutModel",
            "justify_items": null,
            "grid_row": null,
            "max_height": null,
            "align_content": null,
            "visibility": null,
            "align_self": null,
            "height": null,
            "min_height": null,
            "padding": null,
            "grid_auto_rows": null,
            "grid_gap": null,
            "max_width": null,
            "order": null,
            "_view_module_version": "1.2.0",
            "grid_template_areas": null,
            "object_position": null,
            "object_fit": null,
            "grid_auto_columns": null,
            "margin": null,
            "display": null,
            "left": null
          }
        },
        "9494f78811614252a8d9b1b6cd37ad1d": {
          "model_module": "@jupyter-widgets/controls",
          "model_name": "DescriptionStyleModel",
          "state": {
            "_view_name": "StyleView",
            "_model_name": "DescriptionStyleModel",
            "description_width": "",
            "_view_module": "@jupyter-widgets/base",
            "_model_module_version": "1.5.0",
            "_view_count": null,
            "_view_module_version": "1.2.0",
            "_model_module": "@jupyter-widgets/controls"
          }
        },
        "3970d6540b214a2bbee4d8731e681a1f": {
          "model_module": "@jupyter-widgets/base",
          "model_name": "LayoutModel",
          "state": {
            "_view_name": "LayoutView",
            "grid_template_rows": null,
            "right": null,
            "justify_content": null,
            "_view_module": "@jupyter-widgets/base",
            "overflow": null,
            "_model_module_version": "1.2.0",
            "_view_count": null,
            "flex_flow": null,
            "width": null,
            "min_width": null,
            "border": null,
            "align_items": null,
            "bottom": null,
            "_model_module": "@jupyter-widgets/base",
            "top": null,
            "grid_column": null,
            "overflow_y": null,
            "overflow_x": null,
            "grid_auto_flow": null,
            "grid_area": null,
            "grid_template_columns": null,
            "flex": null,
            "_model_name": "LayoutModel",
            "justify_items": null,
            "grid_row": null,
            "max_height": null,
            "align_content": null,
            "visibility": null,
            "align_self": null,
            "height": null,
            "min_height": null,
            "padding": null,
            "grid_auto_rows": null,
            "grid_gap": null,
            "max_width": null,
            "order": null,
            "_view_module_version": "1.2.0",
            "grid_template_areas": null,
            "object_position": null,
            "object_fit": null,
            "grid_auto_columns": null,
            "margin": null,
            "display": null,
            "left": null
          }
        },
        "ca14ae665b1e4cc98a7cee75c75314c0": {
          "model_module": "@jupyter-widgets/controls",
          "model_name": "HBoxModel",
          "state": {
            "_view_name": "HBoxView",
            "_dom_classes": [],
            "_model_name": "HBoxModel",
            "_view_module": "@jupyter-widgets/controls",
            "_model_module_version": "1.5.0",
            "_view_count": null,
            "_view_module_version": "1.5.0",
            "box_style": "",
            "layout": "IPY_MODEL_e123e6cb2999402988571c528d9d92a9",
            "_model_module": "@jupyter-widgets/controls",
            "children": [
              "IPY_MODEL_c023412a237d412eb8d5b8a4b2755360",
              "IPY_MODEL_3798bc4d81c6415bb852521f22cbd2bf"
            ]
          }
        },
        "e123e6cb2999402988571c528d9d92a9": {
          "model_module": "@jupyter-widgets/base",
          "model_name": "LayoutModel",
          "state": {
            "_view_name": "LayoutView",
            "grid_template_rows": null,
            "right": null,
            "justify_content": null,
            "_view_module": "@jupyter-widgets/base",
            "overflow": null,
            "_model_module_version": "1.2.0",
            "_view_count": null,
            "flex_flow": null,
            "width": null,
            "min_width": null,
            "border": null,
            "align_items": null,
            "bottom": null,
            "_model_module": "@jupyter-widgets/base",
            "top": null,
            "grid_column": null,
            "overflow_y": null,
            "overflow_x": null,
            "grid_auto_flow": null,
            "grid_area": null,
            "grid_template_columns": null,
            "flex": null,
            "_model_name": "LayoutModel",
            "justify_items": null,
            "grid_row": null,
            "max_height": null,
            "align_content": null,
            "visibility": null,
            "align_self": null,
            "height": null,
            "min_height": null,
            "padding": null,
            "grid_auto_rows": null,
            "grid_gap": null,
            "max_width": null,
            "order": null,
            "_view_module_version": "1.2.0",
            "grid_template_areas": null,
            "object_position": null,
            "object_fit": null,
            "grid_auto_columns": null,
            "margin": null,
            "display": null,
            "left": null
          }
        },
        "c023412a237d412eb8d5b8a4b2755360": {
          "model_module": "@jupyter-widgets/controls",
          "model_name": "IntProgressModel",
          "state": {
            "_view_name": "ProgressView",
            "style": "IPY_MODEL_c1f43953673f4ce18d305f762f11244f",
            "_dom_classes": [],
            "description": "Feature extracion... [zcr+mfcc20]: 100%",
            "_model_name": "IntProgressModel",
            "bar_style": "success",
            "max": 1,
            "_view_module": "@jupyter-widgets/controls",
            "_model_module_version": "1.5.0",
            "value": 1,
            "_view_count": null,
            "_view_module_version": "1.5.0",
            "orientation": "horizontal",
            "min": 0,
            "description_tooltip": null,
            "_model_module": "@jupyter-widgets/controls",
            "layout": "IPY_MODEL_a27174ff1fa141a7afecc160919f3170"
          }
        },
        "3798bc4d81c6415bb852521f22cbd2bf": {
          "model_module": "@jupyter-widgets/controls",
          "model_name": "HTMLModel",
          "state": {
            "_view_name": "HTMLView",
            "style": "IPY_MODEL_5cb368bd2ead4eda99edcd93b63737ba",
            "_dom_classes": [],
            "description": "",
            "_model_name": "HTMLModel",
            "placeholder": "​",
            "_view_module": "@jupyter-widgets/controls",
            "_model_module_version": "1.5.0",
            "value": " 200/200 [00:01&lt;00:00, 159.39it/s]",
            "_view_count": null,
            "_view_module_version": "1.5.0",
            "description_tooltip": null,
            "_model_module": "@jupyter-widgets/controls",
            "layout": "IPY_MODEL_7976ffcdf3854744bf207adc3d0d8c18"
          }
        },
        "c1f43953673f4ce18d305f762f11244f": {
          "model_module": "@jupyter-widgets/controls",
          "model_name": "ProgressStyleModel",
          "state": {
            "_view_name": "StyleView",
            "_model_name": "ProgressStyleModel",
            "description_width": "initial",
            "_view_module": "@jupyter-widgets/base",
            "_model_module_version": "1.5.0",
            "_view_count": null,
            "_view_module_version": "1.2.0",
            "bar_color": null,
            "_model_module": "@jupyter-widgets/controls"
          }
        },
        "a27174ff1fa141a7afecc160919f3170": {
          "model_module": "@jupyter-widgets/base",
          "model_name": "LayoutModel",
          "state": {
            "_view_name": "LayoutView",
            "grid_template_rows": null,
            "right": null,
            "justify_content": null,
            "_view_module": "@jupyter-widgets/base",
            "overflow": null,
            "_model_module_version": "1.2.0",
            "_view_count": null,
            "flex_flow": null,
            "width": null,
            "min_width": null,
            "border": null,
            "align_items": null,
            "bottom": null,
            "_model_module": "@jupyter-widgets/base",
            "top": null,
            "grid_column": null,
            "overflow_y": null,
            "overflow_x": null,
            "grid_auto_flow": null,
            "grid_area": null,
            "grid_template_columns": null,
            "flex": null,
            "_model_name": "LayoutModel",
            "justify_items": null,
            "grid_row": null,
            "max_height": null,
            "align_content": null,
            "visibility": null,
            "align_self": null,
            "height": null,
            "min_height": null,
            "padding": null,
            "grid_auto_rows": null,
            "grid_gap": null,
            "max_width": null,
            "order": null,
            "_view_module_version": "1.2.0",
            "grid_template_areas": null,
            "object_position": null,
            "object_fit": null,
            "grid_auto_columns": null,
            "margin": null,
            "display": null,
            "left": null
          }
        },
        "5cb368bd2ead4eda99edcd93b63737ba": {
          "model_module": "@jupyter-widgets/controls",
          "model_name": "DescriptionStyleModel",
          "state": {
            "_view_name": "StyleView",
            "_model_name": "DescriptionStyleModel",
            "description_width": "",
            "_view_module": "@jupyter-widgets/base",
            "_model_module_version": "1.5.0",
            "_view_count": null,
            "_view_module_version": "1.2.0",
            "_model_module": "@jupyter-widgets/controls"
          }
        },
        "7976ffcdf3854744bf207adc3d0d8c18": {
          "model_module": "@jupyter-widgets/base",
          "model_name": "LayoutModel",
          "state": {
            "_view_name": "LayoutView",
            "grid_template_rows": null,
            "right": null,
            "justify_content": null,
            "_view_module": "@jupyter-widgets/base",
            "overflow": null,
            "_model_module_version": "1.2.0",
            "_view_count": null,
            "flex_flow": null,
            "width": null,
            "min_width": null,
            "border": null,
            "align_items": null,
            "bottom": null,
            "_model_module": "@jupyter-widgets/base",
            "top": null,
            "grid_column": null,
            "overflow_y": null,
            "overflow_x": null,
            "grid_auto_flow": null,
            "grid_area": null,
            "grid_template_columns": null,
            "flex": null,
            "_model_name": "LayoutModel",
            "justify_items": null,
            "grid_row": null,
            "max_height": null,
            "align_content": null,
            "visibility": null,
            "align_self": null,
            "height": null,
            "min_height": null,
            "padding": null,
            "grid_auto_rows": null,
            "grid_gap": null,
            "max_width": null,
            "order": null,
            "_view_module_version": "1.2.0",
            "grid_template_areas": null,
            "object_position": null,
            "object_fit": null,
            "grid_auto_columns": null,
            "margin": null,
            "display": null,
            "left": null
          }
        },
        "461c8cf4b2df44b2a1b0b70d35fc43f3": {
          "model_module": "@jupyter-widgets/controls",
          "model_name": "HBoxModel",
          "state": {
            "_view_name": "HBoxView",
            "_dom_classes": [],
            "_model_name": "HBoxModel",
            "_view_module": "@jupyter-widgets/controls",
            "_model_module_version": "1.5.0",
            "_view_count": null,
            "_view_module_version": "1.5.0",
            "box_style": "",
            "layout": "IPY_MODEL_16b53ef9fe614c93b7a16c2bf583e9c5",
            "_model_module": "@jupyter-widgets/controls",
            "children": [
              "IPY_MODEL_6fb06a98c5134e4791e252a908a1cf06",
              "IPY_MODEL_40e4510d0d364bcd8f88349ad99a429c"
            ]
          }
        },
        "16b53ef9fe614c93b7a16c2bf583e9c5": {
          "model_module": "@jupyter-widgets/base",
          "model_name": "LayoutModel",
          "state": {
            "_view_name": "LayoutView",
            "grid_template_rows": null,
            "right": null,
            "justify_content": null,
            "_view_module": "@jupyter-widgets/base",
            "overflow": null,
            "_model_module_version": "1.2.0",
            "_view_count": null,
            "flex_flow": null,
            "width": null,
            "min_width": null,
            "border": null,
            "align_items": null,
            "bottom": null,
            "_model_module": "@jupyter-widgets/base",
            "top": null,
            "grid_column": null,
            "overflow_y": null,
            "overflow_x": null,
            "grid_auto_flow": null,
            "grid_area": null,
            "grid_template_columns": null,
            "flex": null,
            "_model_name": "LayoutModel",
            "justify_items": null,
            "grid_row": null,
            "max_height": null,
            "align_content": null,
            "visibility": null,
            "align_self": null,
            "height": null,
            "min_height": null,
            "padding": null,
            "grid_auto_rows": null,
            "grid_gap": null,
            "max_width": null,
            "order": null,
            "_view_module_version": "1.2.0",
            "grid_template_areas": null,
            "object_position": null,
            "object_fit": null,
            "grid_auto_columns": null,
            "margin": null,
            "display": null,
            "left": null
          }
        },
        "6fb06a98c5134e4791e252a908a1cf06": {
          "model_module": "@jupyter-widgets/controls",
          "model_name": "IntProgressModel",
          "state": {
            "_view_name": "ProgressView",
            "style": "IPY_MODEL_cc7fd3c9150a4353991a92f22fab22a7",
            "_dom_classes": [],
            "description": "Feature extracion... [mfcc13]: 100%",
            "_model_name": "IntProgressModel",
            "bar_style": "success",
            "max": 1,
            "_view_module": "@jupyter-widgets/controls",
            "_model_module_version": "1.5.0",
            "value": 1,
            "_view_count": null,
            "_view_module_version": "1.5.0",
            "orientation": "horizontal",
            "min": 0,
            "description_tooltip": null,
            "_model_module": "@jupyter-widgets/controls",
            "layout": "IPY_MODEL_a19d6d2b565046dab9e00085aa971148"
          }
        },
        "40e4510d0d364bcd8f88349ad99a429c": {
          "model_module": "@jupyter-widgets/controls",
          "model_name": "HTMLModel",
          "state": {
            "_view_name": "HTMLView",
            "style": "IPY_MODEL_b12a59713b8f4d4ea4893bae0fdbac18",
            "_dom_classes": [],
            "description": "",
            "_model_name": "HTMLModel",
            "placeholder": "​",
            "_view_module": "@jupyter-widgets/controls",
            "_model_module_version": "1.5.0",
            "value": " 200/200 [00:00&lt;00:00, 308.97it/s]",
            "_view_count": null,
            "_view_module_version": "1.5.0",
            "description_tooltip": null,
            "_model_module": "@jupyter-widgets/controls",
            "layout": "IPY_MODEL_d2e04b3391bb44e98fa9123ed411541b"
          }
        },
        "cc7fd3c9150a4353991a92f22fab22a7": {
          "model_module": "@jupyter-widgets/controls",
          "model_name": "ProgressStyleModel",
          "state": {
            "_view_name": "StyleView",
            "_model_name": "ProgressStyleModel",
            "description_width": "initial",
            "_view_module": "@jupyter-widgets/base",
            "_model_module_version": "1.5.0",
            "_view_count": null,
            "_view_module_version": "1.2.0",
            "bar_color": null,
            "_model_module": "@jupyter-widgets/controls"
          }
        },
        "a19d6d2b565046dab9e00085aa971148": {
          "model_module": "@jupyter-widgets/base",
          "model_name": "LayoutModel",
          "state": {
            "_view_name": "LayoutView",
            "grid_template_rows": null,
            "right": null,
            "justify_content": null,
            "_view_module": "@jupyter-widgets/base",
            "overflow": null,
            "_model_module_version": "1.2.0",
            "_view_count": null,
            "flex_flow": null,
            "width": null,
            "min_width": null,
            "border": null,
            "align_items": null,
            "bottom": null,
            "_model_module": "@jupyter-widgets/base",
            "top": null,
            "grid_column": null,
            "overflow_y": null,
            "overflow_x": null,
            "grid_auto_flow": null,
            "grid_area": null,
            "grid_template_columns": null,
            "flex": null,
            "_model_name": "LayoutModel",
            "justify_items": null,
            "grid_row": null,
            "max_height": null,
            "align_content": null,
            "visibility": null,
            "align_self": null,
            "height": null,
            "min_height": null,
            "padding": null,
            "grid_auto_rows": null,
            "grid_gap": null,
            "max_width": null,
            "order": null,
            "_view_module_version": "1.2.0",
            "grid_template_areas": null,
            "object_position": null,
            "object_fit": null,
            "grid_auto_columns": null,
            "margin": null,
            "display": null,
            "left": null
          }
        },
        "b12a59713b8f4d4ea4893bae0fdbac18": {
          "model_module": "@jupyter-widgets/controls",
          "model_name": "DescriptionStyleModel",
          "state": {
            "_view_name": "StyleView",
            "_model_name": "DescriptionStyleModel",
            "description_width": "",
            "_view_module": "@jupyter-widgets/base",
            "_model_module_version": "1.5.0",
            "_view_count": null,
            "_view_module_version": "1.2.0",
            "_model_module": "@jupyter-widgets/controls"
          }
        },
        "d2e04b3391bb44e98fa9123ed411541b": {
          "model_module": "@jupyter-widgets/base",
          "model_name": "LayoutModel",
          "state": {
            "_view_name": "LayoutView",
            "grid_template_rows": null,
            "right": null,
            "justify_content": null,
            "_view_module": "@jupyter-widgets/base",
            "overflow": null,
            "_model_module_version": "1.2.0",
            "_view_count": null,
            "flex_flow": null,
            "width": null,
            "min_width": null,
            "border": null,
            "align_items": null,
            "bottom": null,
            "_model_module": "@jupyter-widgets/base",
            "top": null,
            "grid_column": null,
            "overflow_y": null,
            "overflow_x": null,
            "grid_auto_flow": null,
            "grid_area": null,
            "grid_template_columns": null,
            "flex": null,
            "_model_name": "LayoutModel",
            "justify_items": null,
            "grid_row": null,
            "max_height": null,
            "align_content": null,
            "visibility": null,
            "align_self": null,
            "height": null,
            "min_height": null,
            "padding": null,
            "grid_auto_rows": null,
            "grid_gap": null,
            "max_width": null,
            "order": null,
            "_view_module_version": "1.2.0",
            "grid_template_areas": null,
            "object_position": null,
            "object_fit": null,
            "grid_auto_columns": null,
            "margin": null,
            "display": null,
            "left": null
          }
        },
        "708d35dff0f3465ebb72ab0479f05510": {
          "model_module": "@jupyter-widgets/controls",
          "model_name": "HBoxModel",
          "state": {
            "_view_name": "HBoxView",
            "_dom_classes": [],
            "_model_name": "HBoxModel",
            "_view_module": "@jupyter-widgets/controls",
            "_model_module_version": "1.5.0",
            "_view_count": null,
            "_view_module_version": "1.5.0",
            "box_style": "",
            "layout": "IPY_MODEL_d75f1a52f35d4ed6acbbceb7401a35c1",
            "_model_module": "@jupyter-widgets/controls",
            "children": [
              "IPY_MODEL_e0d281c7f95b4939a934ec89cb16cfe5",
              "IPY_MODEL_cb6f1a3e8769402fba620c0241cbe291"
            ]
          }
        },
        "d75f1a52f35d4ed6acbbceb7401a35c1": {
          "model_module": "@jupyter-widgets/base",
          "model_name": "LayoutModel",
          "state": {
            "_view_name": "LayoutView",
            "grid_template_rows": null,
            "right": null,
            "justify_content": null,
            "_view_module": "@jupyter-widgets/base",
            "overflow": null,
            "_model_module_version": "1.2.0",
            "_view_count": null,
            "flex_flow": null,
            "width": null,
            "min_width": null,
            "border": null,
            "align_items": null,
            "bottom": null,
            "_model_module": "@jupyter-widgets/base",
            "top": null,
            "grid_column": null,
            "overflow_y": null,
            "overflow_x": null,
            "grid_auto_flow": null,
            "grid_area": null,
            "grid_template_columns": null,
            "flex": null,
            "_model_name": "LayoutModel",
            "justify_items": null,
            "grid_row": null,
            "max_height": null,
            "align_content": null,
            "visibility": null,
            "align_self": null,
            "height": null,
            "min_height": null,
            "padding": null,
            "grid_auto_rows": null,
            "grid_gap": null,
            "max_width": null,
            "order": null,
            "_view_module_version": "1.2.0",
            "grid_template_areas": null,
            "object_position": null,
            "object_fit": null,
            "grid_auto_columns": null,
            "margin": null,
            "display": null,
            "left": null
          }
        },
        "e0d281c7f95b4939a934ec89cb16cfe5": {
          "model_module": "@jupyter-widgets/controls",
          "model_name": "IntProgressModel",
          "state": {
            "_view_name": "ProgressView",
            "style": "IPY_MODEL_710fb655a13d45889ff54ce85533dae6",
            "_dom_classes": [],
            "description": "Feature extracion... [mfcc20]: 100%",
            "_model_name": "IntProgressModel",
            "bar_style": "success",
            "max": 1,
            "_view_module": "@jupyter-widgets/controls",
            "_model_module_version": "1.5.0",
            "value": 1,
            "_view_count": null,
            "_view_module_version": "1.5.0",
            "orientation": "horizontal",
            "min": 0,
            "description_tooltip": null,
            "_model_module": "@jupyter-widgets/controls",
            "layout": "IPY_MODEL_f3a37cd137aa42199782e9f936c6fa84"
          }
        },
        "cb6f1a3e8769402fba620c0241cbe291": {
          "model_module": "@jupyter-widgets/controls",
          "model_name": "HTMLModel",
          "state": {
            "_view_name": "HTMLView",
            "style": "IPY_MODEL_210926322f46430c95f0831d5c0a3a00",
            "_dom_classes": [],
            "description": "",
            "_model_name": "HTMLModel",
            "placeholder": "​",
            "_view_module": "@jupyter-widgets/controls",
            "_model_module_version": "1.5.0",
            "value": " 200/200 [00:00&lt;00:00, 324.62it/s]",
            "_view_count": null,
            "_view_module_version": "1.5.0",
            "description_tooltip": null,
            "_model_module": "@jupyter-widgets/controls",
            "layout": "IPY_MODEL_9aba8458d204406bab6d4d43028e314e"
          }
        },
        "710fb655a13d45889ff54ce85533dae6": {
          "model_module": "@jupyter-widgets/controls",
          "model_name": "ProgressStyleModel",
          "state": {
            "_view_name": "StyleView",
            "_model_name": "ProgressStyleModel",
            "description_width": "initial",
            "_view_module": "@jupyter-widgets/base",
            "_model_module_version": "1.5.0",
            "_view_count": null,
            "_view_module_version": "1.2.0",
            "bar_color": null,
            "_model_module": "@jupyter-widgets/controls"
          }
        },
        "f3a37cd137aa42199782e9f936c6fa84": {
          "model_module": "@jupyter-widgets/base",
          "model_name": "LayoutModel",
          "state": {
            "_view_name": "LayoutView",
            "grid_template_rows": null,
            "right": null,
            "justify_content": null,
            "_view_module": "@jupyter-widgets/base",
            "overflow": null,
            "_model_module_version": "1.2.0",
            "_view_count": null,
            "flex_flow": null,
            "width": null,
            "min_width": null,
            "border": null,
            "align_items": null,
            "bottom": null,
            "_model_module": "@jupyter-widgets/base",
            "top": null,
            "grid_column": null,
            "overflow_y": null,
            "overflow_x": null,
            "grid_auto_flow": null,
            "grid_area": null,
            "grid_template_columns": null,
            "flex": null,
            "_model_name": "LayoutModel",
            "justify_items": null,
            "grid_row": null,
            "max_height": null,
            "align_content": null,
            "visibility": null,
            "align_self": null,
            "height": null,
            "min_height": null,
            "padding": null,
            "grid_auto_rows": null,
            "grid_gap": null,
            "max_width": null,
            "order": null,
            "_view_module_version": "1.2.0",
            "grid_template_areas": null,
            "object_position": null,
            "object_fit": null,
            "grid_auto_columns": null,
            "margin": null,
            "display": null,
            "left": null
          }
        },
        "210926322f46430c95f0831d5c0a3a00": {
          "model_module": "@jupyter-widgets/controls",
          "model_name": "DescriptionStyleModel",
          "state": {
            "_view_name": "StyleView",
            "_model_name": "DescriptionStyleModel",
            "description_width": "",
            "_view_module": "@jupyter-widgets/base",
            "_model_module_version": "1.5.0",
            "_view_count": null,
            "_view_module_version": "1.2.0",
            "_model_module": "@jupyter-widgets/controls"
          }
        },
        "9aba8458d204406bab6d4d43028e314e": {
          "model_module": "@jupyter-widgets/base",
          "model_name": "LayoutModel",
          "state": {
            "_view_name": "LayoutView",
            "grid_template_rows": null,
            "right": null,
            "justify_content": null,
            "_view_module": "@jupyter-widgets/base",
            "overflow": null,
            "_model_module_version": "1.2.0",
            "_view_count": null,
            "flex_flow": null,
            "width": null,
            "min_width": null,
            "border": null,
            "align_items": null,
            "bottom": null,
            "_model_module": "@jupyter-widgets/base",
            "top": null,
            "grid_column": null,
            "overflow_y": null,
            "overflow_x": null,
            "grid_auto_flow": null,
            "grid_area": null,
            "grid_template_columns": null,
            "flex": null,
            "_model_name": "LayoutModel",
            "justify_items": null,
            "grid_row": null,
            "max_height": null,
            "align_content": null,
            "visibility": null,
            "align_self": null,
            "height": null,
            "min_height": null,
            "padding": null,
            "grid_auto_rows": null,
            "grid_gap": null,
            "max_width": null,
            "order": null,
            "_view_module_version": "1.2.0",
            "grid_template_areas": null,
            "object_position": null,
            "object_fit": null,
            "grid_auto_columns": null,
            "margin": null,
            "display": null,
            "left": null
          }
        },
        "2542475368d64d65a1046aacb676954f": {
          "model_module": "@jupyter-widgets/controls",
          "model_name": "HBoxModel",
          "state": {
            "_view_name": "HBoxView",
            "_dom_classes": [],
            "_model_name": "HBoxModel",
            "_view_module": "@jupyter-widgets/controls",
            "_model_module_version": "1.5.0",
            "_view_count": null,
            "_view_module_version": "1.5.0",
            "box_style": "",
            "layout": "IPY_MODEL_0f1710ef5f824e19b9a9e8c5fa5377ed",
            "_model_module": "@jupyter-widgets/controls",
            "children": [
              "IPY_MODEL_f206d4f631794ee28cfeb66e2edef3d5",
              "IPY_MODEL_48b93d6c303c46089a1f355a16e6dea2"
            ]
          }
        },
        "0f1710ef5f824e19b9a9e8c5fa5377ed": {
          "model_module": "@jupyter-widgets/base",
          "model_name": "LayoutModel",
          "state": {
            "_view_name": "LayoutView",
            "grid_template_rows": null,
            "right": null,
            "justify_content": null,
            "_view_module": "@jupyter-widgets/base",
            "overflow": null,
            "_model_module_version": "1.2.0",
            "_view_count": null,
            "flex_flow": null,
            "width": null,
            "min_width": null,
            "border": null,
            "align_items": null,
            "bottom": null,
            "_model_module": "@jupyter-widgets/base",
            "top": null,
            "grid_column": null,
            "overflow_y": null,
            "overflow_x": null,
            "grid_auto_flow": null,
            "grid_area": null,
            "grid_template_columns": null,
            "flex": null,
            "_model_name": "LayoutModel",
            "justify_items": null,
            "grid_row": null,
            "max_height": null,
            "align_content": null,
            "visibility": null,
            "align_self": null,
            "height": null,
            "min_height": null,
            "padding": null,
            "grid_auto_rows": null,
            "grid_gap": null,
            "max_width": null,
            "order": null,
            "_view_module_version": "1.2.0",
            "grid_template_areas": null,
            "object_position": null,
            "object_fit": null,
            "grid_auto_columns": null,
            "margin": null,
            "display": null,
            "left": null
          }
        },
        "f206d4f631794ee28cfeb66e2edef3d5": {
          "model_module": "@jupyter-widgets/controls",
          "model_name": "IntProgressModel",
          "state": {
            "_view_name": "ProgressView",
            "style": "IPY_MODEL_849191367133473e9b97a8a05fc250db",
            "_dom_classes": [],
            "description": "Feature extracion... [zcr]: 100%",
            "_model_name": "IntProgressModel",
            "bar_style": "success",
            "max": 1,
            "_view_module": "@jupyter-widgets/controls",
            "_model_module_version": "1.5.0",
            "value": 1,
            "_view_count": null,
            "_view_module_version": "1.5.0",
            "orientation": "horizontal",
            "min": 0,
            "description_tooltip": null,
            "_model_module": "@jupyter-widgets/controls",
            "layout": "IPY_MODEL_8116e723fc354df2a2dd76ec15e1260b"
          }
        },
        "48b93d6c303c46089a1f355a16e6dea2": {
          "model_module": "@jupyter-widgets/controls",
          "model_name": "HTMLModel",
          "state": {
            "_view_name": "HTMLView",
            "style": "IPY_MODEL_de7350079fd74e6bba33352af92a49c9",
            "_dom_classes": [],
            "description": "",
            "_model_name": "HTMLModel",
            "placeholder": "​",
            "_view_module": "@jupyter-widgets/controls",
            "_model_module_version": "1.5.0",
            "value": " 200/200 [00:00&lt;00:00, 496.67it/s]",
            "_view_count": null,
            "_view_module_version": "1.5.0",
            "description_tooltip": null,
            "_model_module": "@jupyter-widgets/controls",
            "layout": "IPY_MODEL_a1db5aca0e594941bfc67d6cfcaf742b"
          }
        },
        "849191367133473e9b97a8a05fc250db": {
          "model_module": "@jupyter-widgets/controls",
          "model_name": "ProgressStyleModel",
          "state": {
            "_view_name": "StyleView",
            "_model_name": "ProgressStyleModel",
            "description_width": "initial",
            "_view_module": "@jupyter-widgets/base",
            "_model_module_version": "1.5.0",
            "_view_count": null,
            "_view_module_version": "1.2.0",
            "bar_color": null,
            "_model_module": "@jupyter-widgets/controls"
          }
        },
        "8116e723fc354df2a2dd76ec15e1260b": {
          "model_module": "@jupyter-widgets/base",
          "model_name": "LayoutModel",
          "state": {
            "_view_name": "LayoutView",
            "grid_template_rows": null,
            "right": null,
            "justify_content": null,
            "_view_module": "@jupyter-widgets/base",
            "overflow": null,
            "_model_module_version": "1.2.0",
            "_view_count": null,
            "flex_flow": null,
            "width": null,
            "min_width": null,
            "border": null,
            "align_items": null,
            "bottom": null,
            "_model_module": "@jupyter-widgets/base",
            "top": null,
            "grid_column": null,
            "overflow_y": null,
            "overflow_x": null,
            "grid_auto_flow": null,
            "grid_area": null,
            "grid_template_columns": null,
            "flex": null,
            "_model_name": "LayoutModel",
            "justify_items": null,
            "grid_row": null,
            "max_height": null,
            "align_content": null,
            "visibility": null,
            "align_self": null,
            "height": null,
            "min_height": null,
            "padding": null,
            "grid_auto_rows": null,
            "grid_gap": null,
            "max_width": null,
            "order": null,
            "_view_module_version": "1.2.0",
            "grid_template_areas": null,
            "object_position": null,
            "object_fit": null,
            "grid_auto_columns": null,
            "margin": null,
            "display": null,
            "left": null
          }
        },
        "de7350079fd74e6bba33352af92a49c9": {
          "model_module": "@jupyter-widgets/controls",
          "model_name": "DescriptionStyleModel",
          "state": {
            "_view_name": "StyleView",
            "_model_name": "DescriptionStyleModel",
            "description_width": "",
            "_view_module": "@jupyter-widgets/base",
            "_model_module_version": "1.5.0",
            "_view_count": null,
            "_view_module_version": "1.2.0",
            "_model_module": "@jupyter-widgets/controls"
          }
        },
        "a1db5aca0e594941bfc67d6cfcaf742b": {
          "model_module": "@jupyter-widgets/base",
          "model_name": "LayoutModel",
          "state": {
            "_view_name": "LayoutView",
            "grid_template_rows": null,
            "right": null,
            "justify_content": null,
            "_view_module": "@jupyter-widgets/base",
            "overflow": null,
            "_model_module_version": "1.2.0",
            "_view_count": null,
            "flex_flow": null,
            "width": null,
            "min_width": null,
            "border": null,
            "align_items": null,
            "bottom": null,
            "_model_module": "@jupyter-widgets/base",
            "top": null,
            "grid_column": null,
            "overflow_y": null,
            "overflow_x": null,
            "grid_auto_flow": null,
            "grid_area": null,
            "grid_template_columns": null,
            "flex": null,
            "_model_name": "LayoutModel",
            "justify_items": null,
            "grid_row": null,
            "max_height": null,
            "align_content": null,
            "visibility": null,
            "align_self": null,
            "height": null,
            "min_height": null,
            "padding": null,
            "grid_auto_rows": null,
            "grid_gap": null,
            "max_width": null,
            "order": null,
            "_view_module_version": "1.2.0",
            "grid_template_areas": null,
            "object_position": null,
            "object_fit": null,
            "grid_auto_columns": null,
            "margin": null,
            "display": null,
            "left": null
          }
        },
        "a2e4d0b8db7e4fd8b990faf734ea097d": {
          "model_module": "@jupyter-widgets/controls",
          "model_name": "HBoxModel",
          "state": {
            "_view_name": "HBoxView",
            "_dom_classes": [],
            "_model_name": "HBoxModel",
            "_view_module": "@jupyter-widgets/controls",
            "_model_module_version": "1.5.0",
            "_view_count": null,
            "_view_module_version": "1.5.0",
            "box_style": "",
            "layout": "IPY_MODEL_d5c3d285036640e19fbadd70a7abe534",
            "_model_module": "@jupyter-widgets/controls",
            "children": [
              "IPY_MODEL_71ab62b3a22b467c9d53df365a48a287",
              "IPY_MODEL_744e5600cbaf4ec9917cede813aecc35"
            ]
          }
        },
        "d5c3d285036640e19fbadd70a7abe534": {
          "model_module": "@jupyter-widgets/base",
          "model_name": "LayoutModel",
          "state": {
            "_view_name": "LayoutView",
            "grid_template_rows": null,
            "right": null,
            "justify_content": null,
            "_view_module": "@jupyter-widgets/base",
            "overflow": null,
            "_model_module_version": "1.2.0",
            "_view_count": null,
            "flex_flow": null,
            "width": null,
            "min_width": null,
            "border": null,
            "align_items": null,
            "bottom": null,
            "_model_module": "@jupyter-widgets/base",
            "top": null,
            "grid_column": null,
            "overflow_y": null,
            "overflow_x": null,
            "grid_auto_flow": null,
            "grid_area": null,
            "grid_template_columns": null,
            "flex": null,
            "_model_name": "LayoutModel",
            "justify_items": null,
            "grid_row": null,
            "max_height": null,
            "align_content": null,
            "visibility": null,
            "align_self": null,
            "height": null,
            "min_height": null,
            "padding": null,
            "grid_auto_rows": null,
            "grid_gap": null,
            "max_width": null,
            "order": null,
            "_view_module_version": "1.2.0",
            "grid_template_areas": null,
            "object_position": null,
            "object_fit": null,
            "grid_auto_columns": null,
            "margin": null,
            "display": null,
            "left": null
          }
        },
        "71ab62b3a22b467c9d53df365a48a287": {
          "model_module": "@jupyter-widgets/controls",
          "model_name": "IntProgressModel",
          "state": {
            "_view_name": "ProgressView",
            "style": "IPY_MODEL_27c303a70a3f464088e8c2db42b31e58",
            "_dom_classes": [],
            "description": "Feature extracion... [zcr+mfcc20]: 100%",
            "_model_name": "IntProgressModel",
            "bar_style": "success",
            "max": 1,
            "_view_module": "@jupyter-widgets/controls",
            "_model_module_version": "1.5.0",
            "value": 1,
            "_view_count": null,
            "_view_module_version": "1.5.0",
            "orientation": "horizontal",
            "min": 0,
            "description_tooltip": null,
            "_model_module": "@jupyter-widgets/controls",
            "layout": "IPY_MODEL_a8227cdbc1c44b9baddee317b900b2b5"
          }
        },
        "744e5600cbaf4ec9917cede813aecc35": {
          "model_module": "@jupyter-widgets/controls",
          "model_name": "HTMLModel",
          "state": {
            "_view_name": "HTMLView",
            "style": "IPY_MODEL_bae8ab8fb10f407d842f102f77f6f85f",
            "_dom_classes": [],
            "description": "",
            "_model_name": "HTMLModel",
            "placeholder": "​",
            "_view_module": "@jupyter-widgets/controls",
            "_model_module_version": "1.5.0",
            "value": " 200/200 [00:01&lt;00:00, 173.62it/s]",
            "_view_count": null,
            "_view_module_version": "1.5.0",
            "description_tooltip": null,
            "_model_module": "@jupyter-widgets/controls",
            "layout": "IPY_MODEL_d44e3419825f4d4f9ed054ec455b805e"
          }
        },
        "27c303a70a3f464088e8c2db42b31e58": {
          "model_module": "@jupyter-widgets/controls",
          "model_name": "ProgressStyleModel",
          "state": {
            "_view_name": "StyleView",
            "_model_name": "ProgressStyleModel",
            "description_width": "initial",
            "_view_module": "@jupyter-widgets/base",
            "_model_module_version": "1.5.0",
            "_view_count": null,
            "_view_module_version": "1.2.0",
            "bar_color": null,
            "_model_module": "@jupyter-widgets/controls"
          }
        },
        "a8227cdbc1c44b9baddee317b900b2b5": {
          "model_module": "@jupyter-widgets/base",
          "model_name": "LayoutModel",
          "state": {
            "_view_name": "LayoutView",
            "grid_template_rows": null,
            "right": null,
            "justify_content": null,
            "_view_module": "@jupyter-widgets/base",
            "overflow": null,
            "_model_module_version": "1.2.0",
            "_view_count": null,
            "flex_flow": null,
            "width": null,
            "min_width": null,
            "border": null,
            "align_items": null,
            "bottom": null,
            "_model_module": "@jupyter-widgets/base",
            "top": null,
            "grid_column": null,
            "overflow_y": null,
            "overflow_x": null,
            "grid_auto_flow": null,
            "grid_area": null,
            "grid_template_columns": null,
            "flex": null,
            "_model_name": "LayoutModel",
            "justify_items": null,
            "grid_row": null,
            "max_height": null,
            "align_content": null,
            "visibility": null,
            "align_self": null,
            "height": null,
            "min_height": null,
            "padding": null,
            "grid_auto_rows": null,
            "grid_gap": null,
            "max_width": null,
            "order": null,
            "_view_module_version": "1.2.0",
            "grid_template_areas": null,
            "object_position": null,
            "object_fit": null,
            "grid_auto_columns": null,
            "margin": null,
            "display": null,
            "left": null
          }
        },
        "bae8ab8fb10f407d842f102f77f6f85f": {
          "model_module": "@jupyter-widgets/controls",
          "model_name": "DescriptionStyleModel",
          "state": {
            "_view_name": "StyleView",
            "_model_name": "DescriptionStyleModel",
            "description_width": "",
            "_view_module": "@jupyter-widgets/base",
            "_model_module_version": "1.5.0",
            "_view_count": null,
            "_view_module_version": "1.2.0",
            "_model_module": "@jupyter-widgets/controls"
          }
        },
        "d44e3419825f4d4f9ed054ec455b805e": {
          "model_module": "@jupyter-widgets/base",
          "model_name": "LayoutModel",
          "state": {
            "_view_name": "LayoutView",
            "grid_template_rows": null,
            "right": null,
            "justify_content": null,
            "_view_module": "@jupyter-widgets/base",
            "overflow": null,
            "_model_module_version": "1.2.0",
            "_view_count": null,
            "flex_flow": null,
            "width": null,
            "min_width": null,
            "border": null,
            "align_items": null,
            "bottom": null,
            "_model_module": "@jupyter-widgets/base",
            "top": null,
            "grid_column": null,
            "overflow_y": null,
            "overflow_x": null,
            "grid_auto_flow": null,
            "grid_area": null,
            "grid_template_columns": null,
            "flex": null,
            "_model_name": "LayoutModel",
            "justify_items": null,
            "grid_row": null,
            "max_height": null,
            "align_content": null,
            "visibility": null,
            "align_self": null,
            "height": null,
            "min_height": null,
            "padding": null,
            "grid_auto_rows": null,
            "grid_gap": null,
            "max_width": null,
            "order": null,
            "_view_module_version": "1.2.0",
            "grid_template_areas": null,
            "object_position": null,
            "object_fit": null,
            "grid_auto_columns": null,
            "margin": null,
            "display": null,
            "left": null
          }
        }
      }
    }
  },
  "cells": [
    {
      "cell_type": "markdown",
      "metadata": {
        "id": "9B-exD2Xwl2a",
        "colab_type": "text"
      },
      "source": [
        "# Spoken Digit Classification"
      ]
    },
    {
      "cell_type": "markdown",
      "metadata": {
        "id": "-KllSJGkZVfA",
        "colab_type": "text"
      },
      "source": [
        "## Imports"
      ]
    },
    {
      "cell_type": "code",
      "metadata": {
        "id": "vN6hujgRtPoR",
        "colab_type": "code",
        "colab": {}
      },
      "source": [
        "# Python\n",
        "import numpy as np\n",
        "import pandas as pd\n",
        "import matplotlib.pyplot as plt\n",
        "import re\n",
        "import os\n",
        "import librosa\n",
        "import scipy as sp\n",
        "\n",
        "# Utility\n",
        "from tqdm.notebook import tqdm\n",
        "from sklearn.model_selection import train_test_split\n",
        "from IPython.display import Audio\n",
        "\n",
        "# Classifiers\n",
        "from sklearn import svm\n",
        "from sklearn.ensemble import RandomForestClassifier\n",
        "\n",
        "import keras\n",
        "from keras.models import Sequential\n",
        "from keras.layers import Dense, Dropout, Activation\n",
        "from keras.optimizers import SGD\n",
        "from sklearn.preprocessing import OneHotEncoder\n",
        "\n",
        "# Scalers\n",
        "from sklearn.preprocessing import MinMaxScaler\n",
        "\n",
        "# Metrics\n",
        "from sklearn.metrics import confusion_matrix, plot_confusion_matrix\n",
        "from sklearn.metrics import accuracy_score"
      ],
      "execution_count": 0,
      "outputs": []
    },
    {
      "cell_type": "markdown",
      "metadata": {
        "id": "a6L3C0SzESw2",
        "colab_type": "text"
      },
      "source": [
        "## Dataset download"
      ]
    },
    {
      "cell_type": "markdown",
      "metadata": {
        "id": "ayoS7lOxXs56",
        "colab_type": "text"
      },
      "source": [
        "Here we are downloading the [dataset from the assignment](https://github.com/Jakobovski/free-spoken-digit-dataset) (N = 2000) along with a custom made dataset obtained from a subset of the [Google Speech Commands Dataset](https://ai.googleblog.com/2017/08/launching-speech-commands-dataset.html) (N = 23666) for testing purposes.\n"
      ]
    },
    {
      "cell_type": "code",
      "metadata": {
        "id": "ph_o72b1tVm2",
        "colab_type": "code",
        "outputId": "ba2b4f7b-5cac-4ca5-e157-c19363d02334",
        "colab": {
          "base_uri": "https://localhost:8080/",
          "height": 123
        }
      },
      "source": [
        "! git clone -q https://github.com/Jakobovski/free-spoken-digit-dataset\n",
        "\n",
        "os.environ['KAGGLE_USERNAME'] = \"andreacoppola\"\n",
        "os.environ['KAGGLE_KEY'] = \"8d841874df721c79c79ada9beec21904\"\n",
        "!kaggle datasets download -d andreacoppola/googlespokendigits\n",
        "!unzip googlespokendigits.zip"
      ],
      "execution_count": 0,
      "outputs": [
        {
          "output_type": "stream",
          "text": [
            "Downloading googlespokendigits.zip to /content\n",
            " 99% 660M/669M [00:16<00:00, 49.4MB/s]\n",
            "100% 669M/669M [00:16<00:00, 43.1MB/s]\n",
            "Archive:  googlespokendigits.zip\n",
            "  inflating: X_google_dataset.npy    \n",
            "  inflating: Y_google_dataset.npy    \n"
          ],
          "name": "stdout"
        }
      ]
    },
    {
      "cell_type": "markdown",
      "metadata": {
        "id": "PgrA782qDh0j",
        "colab_type": "text"
      },
      "source": [
        "## Dataset import "
      ]
    },
    {
      "cell_type": "markdown",
      "metadata": {
        "id": "5nLqh5FoMHB8",
        "colab_type": "text"
      },
      "source": [
        "The informations about the audio track are retrieved from the name using the following regexp\n",
        "```python\n",
        "'([0-9]+)_([a-z]+)_([0-9]+).wav'\n",
        "```\n",
        "With this we can retrieve from the 3 groups\n",
        "```python\n",
        "# Digit Label\n",
        "regexp.search(filename).group(1)\n",
        "# Spearker Name (maybe we'll need this later while analyzing the data?)\n",
        "regexp.search(filename).group(2)\n",
        "# File Index\n",
        "regexp.search(filename).group(3)\n",
        "```\n"
      ]
    },
    {
      "cell_type": "code",
      "metadata": {
        "id": "TPhQ5Df0FMjV",
        "colab_type": "code",
        "outputId": "a3600303-ec7f-4e68-d341-83f70e6d7fae",
        "colab": {
          "base_uri": "https://localhost:8080/",
          "height": 49,
          "referenced_widgets": [
            "014704a1892741a7bfc916cd635f620c",
            "c8a4c8b576f141fa8e0e2487c9607844",
            "450715d63cd04b6f8c8250ef76081d6e",
            "af8aa32b32c2417d96c25d4efcc2b31c",
            "e42bcb61a65b4544a3e0fe98ff9cfa5c",
            "a5e6e883456e4b8a9cd8a639ac81cb68",
            "076ccc7dd9544cb690311389bfaa1fa2",
            "831a448f92b24cbb95da209f357a151e"
          ]
        }
      },
      "source": [
        "# recordings directory\n",
        "directory = 'free-spoken-digit-dataset/recordings/'\n",
        "# regexp matching {digitLabel}_{speakerName}_{index}.wav\n",
        "regexp = re.compile('([0-9]+)_([a-z]+)_([0-9]+).wav') \n",
        "\n",
        "labels  = []\n",
        "audios  = []\n",
        "indexes = []\n",
        "sizes   = []\n",
        "names   = []\n",
        "\n",
        "# setup progress bar\n",
        "pbar = tqdm(desc='Loading audio samples')\n",
        "pbar.reset(total=len(os.listdir(directory))) \n",
        "\n",
        "for f in os.listdir(directory):\n",
        "  if f.endswith(\".wav\"): \n",
        "    labels.append(regexp.search(f).group(1))       # Take the first group (label)\n",
        "    names.append(regexp.search(f).group(2))        # Take the second groun (name)\n",
        "    indexes.append(int(regexp.search(f).group(3))) # Take the last group (index)\n",
        "    x, sr = librosa.load(directory+f, sr=None)     # Load audio file\n",
        "    sizes.append(x.size)\n",
        "    audios.append(x)                               # Put it in the list\n",
        "  pbar.update()                                    # updates progress bar\n",
        "pbar.refresh();\n",
        "\n",
        "# python lists to np.ndarray\n",
        "Y = np.asarray(labels)\n",
        "X = np.asarray(audios)\n",
        "I = np.asarray(indexes)"
      ],
      "execution_count": 0,
      "outputs": [
        {
          "output_type": "display_data",
          "data": {
            "application/vnd.jupyter.widget-view+json": {
              "model_id": "014704a1892741a7bfc916cd635f620c",
              "version_minor": 0,
              "version_major": 2
            },
            "text/plain": [
              "HBox(children=(IntProgress(value=1, bar_style='info', description='Loading audio samples', max=1, style=Progre…"
            ]
          },
          "metadata": {
            "tags": []
          }
        }
      ]
    },
    {
      "cell_type": "markdown",
      "metadata": {
        "id": "lTW0Do61cffx",
        "colab_type": "text"
      },
      "source": [
        "## Preprocessing\n",
        "\n"
      ]
    },
    {
      "cell_type": "markdown",
      "metadata": {
        "id": "yNGpOhq9cNlZ",
        "colab_type": "text"
      },
      "source": [
        "**Legend:**\n",
        "  - Y are the label for the assignment dataset\n",
        "  - X is the original dataset with tracks trimmed to be 1 second long at maximum to avoid unwantend noise\n",
        "  - L is an X version in which every audio track with less than 8000 samples is zero padded to be 8000 samples long, so each track is 1 sec long\n",
        "  - N and S are the names of the speakers and sizes\n",
        "  - X_GD and Y_GD are respectively the Google Dataset's _audio tracks_ and _labels_\n",
        "\n",
        "\n",
        "Each of the dataset test and train partitions can be obtaind by appending \"_test\" and \"_train\" on their name (except for the Google ones that are intended to be partitioned only if needed)\n"
      ]
    },
    {
      "cell_type": "markdown",
      "metadata": {
        "id": "0Uk5AFVwzjH8",
        "colab_type": "text"
      },
      "source": [
        "### Assignment Dataset"
      ]
    },
    {
      "cell_type": "markdown",
      "metadata": {
        "id": "yRy39tdHb_mC",
        "colab_type": "text"
      },
      "source": [
        "Here we are doing the trimming on X and extending the files that are over 8000 samples long to be 8000 sample long on L"
      ]
    },
    {
      "cell_type": "code",
      "metadata": {
        "id": "5Pf4WjRYdOsk",
        "colab_type": "code",
        "outputId": "358b950c-8fc2-451f-9a15-4bdf55578ebf",
        "colab": {
          "base_uri": "https://localhost:8080/",
          "height": 49,
          "referenced_widgets": [
            "43c064615d314b568c49c915875b90ca",
            "c5a016f2316e4352903d5d919990c527",
            "99d1e212409449ebbd20726148a08fea",
            "adf53667c3664cc793cea2fd4ef0cfcb",
            "a1f62cb9fd324516a5ef1d4051299436",
            "255d922e98b745fd8bcbe3e63f7e45b5",
            "89cdb10884fa4844b69b61c28b67a3f4",
            "cacb38ab720947028adcb4411cc3d8c7"
          ]
        }
      },
      "source": [
        "'''\n",
        "Create an array (L) of empty audio tracks of 8000 samples\n",
        "For each audio track in X:\n",
        "  if the track is too long, trim it to be 1 second long (8000 samples)\n",
        "  Then fill the first\n",
        "'''\n",
        "# L is the trimmed and zero-padded dataset\n",
        "L = np.zeros((X.size, 8000))\n",
        "pbar = tqdm(desc='Zero Padding and trimming')\n",
        "pbar.reset(total=len(X))\n",
        "for i in range(len(X)):\n",
        "  if(X[i].size>8000): X[i] = X[i][0:8000] \n",
        "  L[i, 0:X[i].size] = X[i]                 \n",
        "  pbar.update();                             \n",
        "pbar.refresh();"
      ],
      "execution_count": 0,
      "outputs": [
        {
          "output_type": "display_data",
          "data": {
            "application/vnd.jupyter.widget-view+json": {
              "model_id": "43c064615d314b568c49c915875b90ca",
              "version_minor": 0,
              "version_major": 2
            },
            "text/plain": [
              "HBox(children=(IntProgress(value=1, bar_style='info', description='Zero Padding and trimming', max=1, style=Pr…"
            ]
          },
          "metadata": {
            "tags": []
          }
        }
      ]
    },
    {
      "cell_type": "markdown",
      "metadata": {
        "id": "1ea_n8zeMLPV",
        "colab_type": "text"
      },
      "source": [
        "Here we're doing a train-test split using the conditions stated in the github repository"
      ]
    },
    {
      "cell_type": "code",
      "metadata": {
        "id": "Y1NMjl3kswRs",
        "colab_type": "code",
        "colab": {}
      },
      "source": [
        "is_in_test  = I <= 4\n",
        "is_in_train = I >  4\n",
        "\n",
        "Y_test, Y_train = Y[is_in_test], Y[is_in_train]\n",
        "L_test, L_train = L[is_in_test], L[is_in_train]  # Trimmed and zero-padded dataset\n",
        "X_test, X_train = X[is_in_test], X[is_in_train]  # Original dataset"
      ],
      "execution_count": 0,
      "outputs": []
    },
    {
      "cell_type": "markdown",
      "metadata": {
        "id": "IVc-mLjDZyl9",
        "colab_type": "text"
      },
      "source": [
        "If needed we can extract the speaker name and sizes too.  \n",
        "_(NB: the sizes was used for analysis purposes on the dataset and don't necessarily reflect the sizes used after the preprocessing step)_"
      ]
    },
    {
      "cell_type": "code",
      "metadata": {
        "id": "q5BJTfqvb0CL",
        "colab_type": "code",
        "colab": {}
      },
      "source": [
        "N = np.asarray(names)\n",
        "S = np.asarray(sizes)\n",
        "\n",
        "N_test, N_train = N[is_in_test], N[is_in_train]\n",
        "S_test, S_train = S[is_in_test], S[is_in_train]"
      ],
      "execution_count": 0,
      "outputs": []
    },
    {
      "cell_type": "markdown",
      "metadata": {
        "id": "D4huRZ4vzoic",
        "colab_type": "text"
      },
      "source": [
        "### Google Dataset"
      ]
    },
    {
      "cell_type": "markdown",
      "metadata": {
        "id": "pWM13ERH9Db4",
        "colab_type": "text"
      },
      "source": [
        "Extraction of the spoken digits from the Google Dataset (please be careful, the label here is an integer and not a string!)"
      ]
    },
    {
      "cell_type": "code",
      "metadata": {
        "id": "_TnQjYDS9n93",
        "colab_type": "code",
        "colab": {}
      },
      "source": [
        "X_GD = np.load('X_google_dataset.npy', allow_pickle=True)\n",
        "Y_GD = np.load('Y_google_dataset.npy', allow_pickle=True)"
      ],
      "execution_count": 0,
      "outputs": []
    },
    {
      "cell_type": "markdown",
      "metadata": {
        "id": "34AWUjUc6vYC",
        "colab_type": "text"
      },
      "source": [
        "## Features"
      ]
    },
    {
      "cell_type": "markdown",
      "metadata": {
        "id": "bWDCL45a3yyW",
        "colab_type": "text"
      },
      "source": [
        "This is a series of functions we used to do classification tests"
      ]
    },
    {
      "cell_type": "markdown",
      "metadata": {
        "id": "1iSsethA6oe8",
        "colab_type": "text"
      },
      "source": [
        "### Windowing Infos"
      ]
    },
    {
      "cell_type": "code",
      "metadata": {
        "id": "Zm48vWFR6UWW",
        "colab_type": "code",
        "colab": {}
      },
      "source": [
        "'''\n",
        "  Informations about windowing in order to not repeat them \n",
        "  everytime we compute a feature that needs to know the number and type of windows\n",
        "'''\n",
        "Fs=8000\n",
        "win_length = int(np.floor(0.01 * Fs)) \n",
        "hop_size = int(np.floor(0.0075 * Fs))\n",
        "audio_ref = L_test[1]\n",
        "win_number = int(np.floor((audio_ref.shape[0] - win_length) / hop_size))\n",
        "window = sp.signal.get_window(window='hanning', Nx=win_length)"
      ],
      "execution_count": 0,
      "outputs": []
    },
    {
      "cell_type": "markdown",
      "metadata": {
        "id": "0bJ7qpQMbNC_",
        "colab_type": "text"
      },
      "source": [
        "### MFCC"
      ]
    },
    {
      "cell_type": "code",
      "metadata": {
        "id": "bTJnaTXIbLBR",
        "colab_type": "code",
        "colab": {}
      },
      "source": [
        "def compute_mfcc(audio, fs, n_mfcc):\n",
        "    # Compute the spectrogram of the audio signal\n",
        "    X = np.abs(librosa.stft(\n",
        "        audio,\n",
        "        window='hamming',\n",
        "        n_fft=1024,\n",
        "        hop_length=512,)\n",
        "        )\n",
        "    \n",
        "    # Find the weights of the mel filters\n",
        "    mel = librosa.filters.mel(\n",
        "        sr=fs,\n",
        "        n_fft=1024,\n",
        "        n_mels=40,\n",
        "        fmin=133,\n",
        "        fmax=4000\n",
        "    )\n",
        "\n",
        "    # Apply the filters to spectrogram\n",
        "    melspectrogram = np.dot(mel, X)\n",
        "\n",
        "    # Logarithm\n",
        "    log_melspectrogram = np.log10(melspectrogram + 1e-16)\n",
        "    \n",
        "    # DCT\n",
        "    mfcc = sp.fftpack.dct(log_melspectrogram, axis=0, norm='ortho')[1:n_mfcc+1]\n",
        "\n",
        "    return mfcc"
      ],
      "execution_count": 0,
      "outputs": []
    },
    {
      "cell_type": "markdown",
      "metadata": {
        "id": "LbYbnpev23_s",
        "colab_type": "text"
      },
      "source": [
        "### Zero Crossing Rate"
      ]
    },
    {
      "cell_type": "code",
      "metadata": {
        "id": "64zIrdME2-nW",
        "colab_type": "code",
        "colab": {}
      },
      "source": [
        "def compute_zcr(audio, fs):\n",
        "  zcr = np.zeros(win_number)\n",
        "  for n in np.arange(win_number):\n",
        "    frame = audio[n * hop_size : n * hop_size + win_length]\n",
        "    frame_win = frame * window\n",
        "    win_sign = np.sign(frame_win)\n",
        "    N = np.shape(frame_win)[0]\n",
        "    sign_diff = np.abs(win_sign[: -1] - win_sign[1 :])\n",
        "    zcr[n] = (fs / 2*N) * np.sum(sign_diff) \n",
        "  return zcr"
      ],
      "execution_count": 0,
      "outputs": []
    },
    {
      "cell_type": "markdown",
      "metadata": {
        "id": "8Hhoea4r3KK6",
        "colab_type": "text"
      },
      "source": [
        "### Spectral Decrease"
      ]
    },
    {
      "cell_type": "code",
      "metadata": {
        "id": "pxUd7WOq3IUS",
        "colab_type": "code",
        "colab": {}
      },
      "source": [
        "def compute_specdec(audio):\n",
        "  spectral_decrease = np.zeros(win_number)\n",
        "  for n in np.arange(win_number):\n",
        "    frame = audio[n * hop_size : n * hop_size + win_length]\n",
        "    frame_win = frame * window\n",
        "    spec = np.fft.fft(frame_win)\n",
        "    mul_fact = 1 / np.sum(np.abs(spec[1:]))\n",
        "    num = np.abs(spec[1:]) - np.tile(A = np.abs(spec[0]), reps=len(spec))[1:]\n",
        "    den = np.arange(1, len(spec)) - 1\n",
        "    spectral_decrease[n] = mul_fact * np.sum(num / den)\n",
        "  return spectral_decrease"
      ],
      "execution_count": 0,
      "outputs": []
    },
    {
      "cell_type": "markdown",
      "metadata": {
        "id": "ScFeE11S3TTZ",
        "colab_type": "text"
      },
      "source": [
        "### Spectral Centroid"
      ]
    },
    {
      "cell_type": "code",
      "metadata": {
        "id": "8TvVmeBU3SmM",
        "colab_type": "code",
        "colab": {}
      },
      "source": [
        "def compute_speccentr(audio):\n",
        "  speccentr = np.zeros(win_number)\n",
        "  for n in np.arange(win_number):\n",
        "    frame = audio[n * hop_size : n * hop_size + win_length]\n",
        "    frame_win = frame * window\n",
        "    spec = np.fft.fft(frame_win)\n",
        "    k_axis = np.arange(spec.shape[0])\n",
        "    speccentr[n] = np.sum(np.transpose(k_axis)*np.abs(spec)) / np.sum(np.abs(spec))\n",
        "  return speccentr"
      ],
      "execution_count": 0,
      "outputs": []
    },
    {
      "cell_type": "markdown",
      "metadata": {
        "id": "j4tcqY9mqp_V",
        "colab_type": "text"
      },
      "source": [
        "## Classification\n"
      ]
    },
    {
      "cell_type": "markdown",
      "metadata": {
        "id": "uimMGG-5zUXx",
        "colab_type": "text"
      },
      "source": [
        "### Functions for classification"
      ]
    },
    {
      "cell_type": "markdown",
      "metadata": {
        "id": "gi3bz9hQ5zKb",
        "colab_type": "text"
      },
      "source": [
        "This function encapsulates the previous functions to compare the performances during the classification step"
      ]
    },
    {
      "cell_type": "code",
      "metadata": {
        "id": "t64EJMJKm0Ef",
        "colab_type": "code",
        "colab": {}
      },
      "source": [
        "def feature_extraction(data, feat_type):\n",
        "  size = len(data)\n",
        "  \n",
        "  pbar = tqdm(desc='Feature extracion... [{}]'.format(feat_type))\n",
        "  pbar.reset(total=len(data))\n",
        "\n",
        "  Fs = 8000\n",
        "  features = None\n",
        "  Z= data.copy()\n",
        "  threshold_val = 0.1\n",
        "  for i in range(len(Z)):\n",
        "    Z_max = np.max(Z[i])\n",
        "    Z_min = np.min(Z[i])\n",
        "    conditions =  np.logical_and (Z[i]<Z_max*threshold_val, Z[i]>Z_min*threshold_val)\n",
        "    Z[i][conditions] = 0 \n",
        "   \n",
        "  \n",
        "  if(feat_type == \"mfcc20\"):\n",
        "    n_mfcc = 20\n",
        "    features = np.zeros((size, n_mfcc))\n",
        "    for i in range(size):\n",
        "      mfcc = compute_mfcc(data[i], Fs, n_mfcc)\n",
        "      features[i, :] = np.mean(mfcc, axis=1)\n",
        "      pbar.update()\n",
        "    pbar.refresh()\n",
        "  if(feat_type == \"mfcc13\"):\n",
        "    n_mfcc = 13\n",
        "    features = np.zeros((size, n_mfcc))\n",
        "    for i in range(size):\n",
        "      mfcc = compute_mfcc(data[i], Fs, n_mfcc)\n",
        "      features[i, :] = np.mean(mfcc, axis=1)\n",
        "      pbar.update()\n",
        "    pbar.refresh()\n",
        "  if(feat_type == \"zcr\"):\n",
        "    features = np.zeros((size, win_number))\n",
        "    for i in range(size):\n",
        "      features[i, :] = compute_zcr(Z[i], Fs)\n",
        "      pbar.update()\n",
        "    pbar.refresh()\n",
        "  if(feat_type == \"specdec\"): \n",
        "    features = np.zeros((size, win_number))\n",
        "    for i in range(size):\n",
        "      features[i, :] = compute_specdec(data[i])\n",
        "      pbar.update()\n",
        "    pbar.refresh()\n",
        "  if(feat_type == \"speccentr\"): \n",
        "      features = np.zeros((size, win_number))\n",
        "      for i in range(size):\n",
        "        features[i, :] = compute_speccentr(data[i])\n",
        "        pbar.update()\n",
        "      pbar.refresh()\n",
        "  if(feat_type == \"zcr+mfcc20\"):\n",
        "      n_mfcc = 20\n",
        "      features = np.zeros((size, n_mfcc + win_number +2)) \n",
        "      for i in range(size):\n",
        "        features[i,0:n_mfcc] = np.mean(compute_mfcc(data[i], Fs, n_mfcc), axis=1)\n",
        "        features[i,n_mfcc+1:-1] = compute_zcr(Z[i], Fs)\n",
        "        pbar.update()\n",
        "      pbar.refresh()  \n",
        "  return features"
      ],
      "execution_count": 0,
      "outputs": []
    },
    {
      "cell_type": "markdown",
      "metadata": {
        "id": "sWQXm5Z6EvrU",
        "colab_type": "text"
      },
      "source": [
        "Metrics to be used"
      ]
    },
    {
      "cell_type": "code",
      "metadata": {
        "id": "7FWNV7hLCyxr",
        "colab_type": "code",
        "colab": {}
      },
      "source": [
        "def compute_metrics (y_pred, y_test):\n",
        "  acc = accuracy_score(y_test, y_pred)\n",
        "  cm  = confusion_matrix(y_test, y_pred)\n",
        "\n",
        "  return [(\"Accuracy\",acc), (\"ConfusionMatrix\",cm)]"
      ],
      "execution_count": 0,
      "outputs": []
    },
    {
      "cell_type": "markdown",
      "metadata": {
        "id": "sFEqcf3DDoWc",
        "colab_type": "text"
      },
      "source": [
        "### Feature extraction"
      ]
    },
    {
      "cell_type": "code",
      "metadata": {
        "id": "q2XaAWvyDjcT",
        "colab_type": "code",
        "outputId": "85889b92-25bc-4176-e4f1-510e0a5241fd",
        "colab": {
          "base_uri": "https://localhost:8080/",
          "height": 145,
          "referenced_widgets": [
            "75ba041fc8d54cb8a0d0623507e3e943",
            "5b30c23cc2ab48cc9af60d4241d4d9f8",
            "9da5bee82b764d6b94b305f6c89f6dc6",
            "3a0a3ff6b32c4ecaabba300706154f1f",
            "e82bcebe9eed4445b9742ebcb6418222",
            "72111bdcd1dd40ce89dd25e38e01d86c",
            "fb7f40acc8b0432eb1c043284cefe6a6",
            "95a8290839a64217afdb29d4cd997d62",
            "c70d2fb661a24cab9dce22018eaef1f8",
            "aea93f357bc648f2b10ce0516af833da",
            "4efb3c5164ed474a805487cad5fe54b4",
            "05eefd0b26c145fa98ec2283fc01622a",
            "ca5d8639f63e44dbbab52233ad9b2bbc",
            "6ded0f0a4162483cb411affe89b3a64a",
            "339e69615d8a4db3a305d2018a1ec9f3",
            "d4f2e30021a8461aa960b1321b1a5c66",
            "15182e2864fe4fe08482d13f262fac4e",
            "113f4d61116b45b4a7c62bb6ba05f747",
            "cbddda17f10942ec9f9d205021e19e0f",
            "bf40d50057d0480e87df2c5c02fa034c",
            "9a66111c76804714a170e4f8cad3cb60",
            "6e038dcb45004a5da557f8f61bc6247d",
            "efe0cdf5a4f34f1ba452be3622af8860",
            "aba584d8aa9e491b9eed1ee54ad6ad00",
            "9cffcc52107a41509e19bfcc3129b76e",
            "9e270328534a4f7da9c4889322449eb5",
            "30b30026672f470897d1e61b17429891",
            "975ee3293ef64eafa439f4b36ee7a3ff",
            "eec5b8b37f01435687793b7358b76738",
            "1b38043b613c40f0b08e75b2a5632ee2",
            "b7d27a317031427f9700cf2cd55a9f74",
            "7f63786203354895acd07a668aca41fa"
          ]
        }
      },
      "source": [
        "#This are the features that we want to extract using the feature_extraction function\n",
        "feature_methods = [\"mfcc13\", \"mfcc20\", \"zcr\", \"zcr+mfcc20\"]\n",
        "\n",
        "classifiers = []\n",
        "metrics_dict = {} # this will contain the metrics for each classifier and each feature\n",
        "                  # EX: for classifier \"foo\" and feature \"bar\" metrics_dict[\"foo\"][\"bar\"]\n",
        "\n",
        "# Feature Extraction and Scaling\n",
        "train_features_dict = {}\n",
        "\n",
        "scalers_dict = {}\n",
        "for fm in feature_methods:\n",
        "  train_feature = feature_extraction(L_train, fm)\n",
        "\n",
        "  scaler = MinMaxScaler()\n",
        "  scaler.fit(train_feature)\n",
        "  scaler.transform(train_feature)\n",
        "\n",
        "  train_features_dict[fm] = train_feature\n",
        "  scalers_dict[fm] = scaler"
      ],
      "execution_count": 42,
      "outputs": [
        {
          "output_type": "display_data",
          "data": {
            "application/vnd.jupyter.widget-view+json": {
              "model_id": "75ba041fc8d54cb8a0d0623507e3e943",
              "version_minor": 0,
              "version_major": 2
            },
            "text/plain": [
              "HBox(children=(IntProgress(value=1, bar_style='info', description='Feature extracion... [mfcc13]', max=1, styl…"
            ]
          },
          "metadata": {
            "tags": []
          }
        },
        {
          "output_type": "display_data",
          "data": {
            "application/vnd.jupyter.widget-view+json": {
              "model_id": "c70d2fb661a24cab9dce22018eaef1f8",
              "version_minor": 0,
              "version_major": 2
            },
            "text/plain": [
              "HBox(children=(IntProgress(value=1, bar_style='info', description='Feature extracion... [mfcc20]', max=1, styl…"
            ]
          },
          "metadata": {
            "tags": []
          }
        },
        {
          "output_type": "display_data",
          "data": {
            "application/vnd.jupyter.widget-view+json": {
              "model_id": "15182e2864fe4fe08482d13f262fac4e",
              "version_minor": 0,
              "version_major": 2
            },
            "text/plain": [
              "HBox(children=(IntProgress(value=1, bar_style='info', description='Feature extracion... [zcr]', max=1, style=P…"
            ]
          },
          "metadata": {
            "tags": []
          }
        },
        {
          "output_type": "display_data",
          "data": {
            "application/vnd.jupyter.widget-view+json": {
              "model_id": "9cffcc52107a41509e19bfcc3129b76e",
              "version_minor": 0,
              "version_major": 2
            },
            "text/plain": [
              "HBox(children=(IntProgress(value=1, bar_style='info', description='Feature extracion... [zcr+mfcc20]', max=1, …"
            ]
          },
          "metadata": {
            "tags": []
          }
        }
      ]
    },
    {
      "cell_type": "markdown",
      "metadata": {
        "id": "IPxDIjTTAZal",
        "colab_type": "text"
      },
      "source": [
        "### Support Vector Machine"
      ]
    },
    {
      "cell_type": "code",
      "metadata": {
        "id": "gnLQ6LBTcAFU",
        "colab_type": "code",
        "outputId": "0f46a5b7-c3ac-456c-e650-bbb51cfa88e5",
        "colab": {
          "base_uri": "https://localhost:8080/",
          "height": 1000,
          "referenced_widgets": [
            "abea2d044d8a46fdbf5685da9ca31910",
            "920a35a221c64feabcc8494df0303f0c",
            "116ef585d8be4064941121ec03b91eb7",
            "8a4f73272f4641858b3728d9e6594182",
            "1af6f1fc35c641a1b75670c6c7095cf6",
            "c1807793b2744b82a14c3e70d652b633",
            "125ce493677144a58c191dd3c4905e78",
            "fd11cbc10bb24b3681b126ef21b7266f",
            "46945307c13641e0a7524e77724b9464",
            "a1b4e72d68644a3e9cf96fc8711fda58",
            "e6ef840e87de431b9ee02d90e00ced97",
            "3b76e5dca56d4c3ca37a6368f636f2dc",
            "b0b605423e5c4c7c80ec7ae47a79f9a5",
            "06f4a71bf71f47c0b0e24da0616248e2",
            "12e2623d566f48b1972afd15e5d12482",
            "e5b66f18620249f0bf511fbf54cca4c0",
            "57f1faacf51b4010a4a78793d1ee3caa",
            "0491be3a1bfa48b7ad75b647506d42e8",
            "4aba46a1329740c89022a268cf875096",
            "9c87ac302ac340e793d5fd684b1021d9",
            "dd73e79a4f0b41778678748d44a4dff9",
            "fea77f29141544fc8fe1e91fa5afe79c",
            "9494f78811614252a8d9b1b6cd37ad1d",
            "3970d6540b214a2bbee4d8731e681a1f",
            "ca14ae665b1e4cc98a7cee75c75314c0",
            "e123e6cb2999402988571c528d9d92a9",
            "c023412a237d412eb8d5b8a4b2755360",
            "3798bc4d81c6415bb852521f22cbd2bf",
            "c1f43953673f4ce18d305f762f11244f",
            "a27174ff1fa141a7afecc160919f3170",
            "5cb368bd2ead4eda99edcd93b63737ba",
            "7976ffcdf3854744bf207adc3d0d8c18"
          ]
        }
      },
      "source": [
        "# Classifier training\n",
        "SVM_dict = {}\n",
        "for fm in feature_methods:\n",
        "  clf = svm.SVC()\n",
        "  clf.fit(train_features_dict[fm], Y_train)\n",
        "  SVM_dict[fm] = clf\n",
        "\n",
        "\n",
        "# Test and metric computation\n",
        "SVM_metrics_dict = {}\n",
        "for fm in feature_methods:\n",
        "  # Feature extraction\n",
        "  test_features = feature_extraction(L_test, fm)\n",
        "  # Feature scaling\n",
        "  scalers_dict[fm].transform(test_features)\n",
        "\n",
        "  # Confusion Matrix Plot\n",
        "  disp = plot_confusion_matrix(SVM_dict[fm], test_features, Y_test)\n",
        "  disp.ax_.set_title(fm)\n",
        "  plt.show()\n",
        "\n",
        "  # Compute metrics\n",
        "  y_pred = SVM_dict[fm].predict(test_features)\n",
        "  metrics = compute_metrics (y_pred, Y_test)\n",
        "  SVM_metrics_dict[fm] = metrics\n",
        "\n",
        "classifiers.append('SVM')\n",
        "metrics_dict['SVM'] = SVM_metrics_dict"
      ],
      "execution_count": 43,
      "outputs": [
        {
          "output_type": "display_data",
          "data": {
            "application/vnd.jupyter.widget-view+json": {
              "model_id": "abea2d044d8a46fdbf5685da9ca31910",
              "version_minor": 0,
              "version_major": 2
            },
            "text/plain": [
              "HBox(children=(IntProgress(value=1, bar_style='info', description='Feature extracion... [mfcc13]', max=1, styl…"
            ]
          },
          "metadata": {
            "tags": []
          }
        },
        {
          "output_type": "stream",
          "text": [
            "\n"
          ],
          "name": "stdout"
        },
        {
          "output_type": "display_data",
          "data": {
            "image/png": "[encoded data removed]",
            "text/plain": [
              "<Figure size 432x288 with 2 Axes>"
            ]
          },
          "metadata": {
            "tags": [],
            "needs_background": "dark"
          }
        },
        {
          "output_type": "display_data",
          "data": {
            "application/vnd.jupyter.widget-view+json": {
              "model_id": "46945307c13641e0a7524e77724b9464",
              "version_minor": 0,
              "version_major": 2
            },
            "text/plain": [
              "HBox(children=(IntProgress(value=1, bar_style='info', description='Feature extracion... [mfcc20]', max=1, styl…"
            ]
          },
          "metadata": {
            "tags": []
          }
        },
        {
          "output_type": "stream",
          "text": [
            "\n"
          ],
          "name": "stdout"
        },
        {
          "output_type": "display_data",
          "data": {
            "image/png": "[encoded data removed]",
            "text/plain": [
              "<Figure size 432x288 with 2 Axes>"
            ]
          },
          "metadata": {
            "tags": [],
            "needs_background": "dark"
          }
        },
        {
          "output_type": "display_data",
          "data": {
            "application/vnd.jupyter.widget-view+json": {
              "model_id": "57f1faacf51b4010a4a78793d1ee3caa",
              "version_minor": 0,
              "version_major": 2
            },
            "text/plain": [
              "HBox(children=(IntProgress(value=1, bar_style='info', description='Feature extracion... [zcr]', max=1, style=P…"
            ]
          },
          "metadata": {
            "tags": []
          }
        },
        {
          "output_type": "stream",
          "text": [
            "\n"
          ],
          "name": "stdout"
        },
        {
          "output_type": "display_data",
          "data": {
            "image/png": "[encoded data removed]",
            "text/plain": [
              "<Figure size 432x288 with 2 Axes>"
            ]
          },
          "metadata": {
            "tags": [],
            "needs_background": "dark"
          }
        },
        {
          "output_type": "display_data",
          "data": {
            "application/vnd.jupyter.widget-view+json": {
              "model_id": "ca14ae665b1e4cc98a7cee75c75314c0",
              "version_minor": 0,
              "version_major": 2
            },
            "text/plain": [
              "HBox(children=(IntProgress(value=1, bar_style='info', description='Feature extracion... [zcr+mfcc20]', max=1, …"
            ]
          },
          "metadata": {
            "tags": []
          }
        },
        {
          "output_type": "stream",
          "text": [
            "\n"
          ],
          "name": "stdout"
        },
        {
          "output_type": "display_data",
          "data": {
            "image/png": "[encoded data removed]",
            "text/plain": [
              "<Figure size 432x288 with 2 Axes>"
            ]
          },
          "metadata": {
            "tags": [],
            "needs_background": "dark"
          }
        }
      ]
    },
    {
      "cell_type": "markdown",
      "metadata": {
        "id": "_VEynSXsAczO",
        "colab_type": "text"
      },
      "source": [
        "### Random Forest Classifier"
      ]
    },
    {
      "cell_type": "code",
      "metadata": {
        "id": "jbXl8i1PAxN7",
        "colab_type": "code",
        "outputId": "45db3523-cf06-4852-c39f-ad7492509f33",
        "colab": {
          "base_uri": "https://localhost:8080/",
          "height": 1000,
          "referenced_widgets": [
            "461c8cf4b2df44b2a1b0b70d35fc43f3",
            "16b53ef9fe614c93b7a16c2bf583e9c5",
            "6fb06a98c5134e4791e252a908a1cf06",
            "40e4510d0d364bcd8f88349ad99a429c",
            "cc7fd3c9150a4353991a92f22fab22a7",
            "a19d6d2b565046dab9e00085aa971148",
            "b12a59713b8f4d4ea4893bae0fdbac18",
            "d2e04b3391bb44e98fa9123ed411541b",
            "708d35dff0f3465ebb72ab0479f05510",
            "d75f1a52f35d4ed6acbbceb7401a35c1",
            "e0d281c7f95b4939a934ec89cb16cfe5",
            "cb6f1a3e8769402fba620c0241cbe291",
            "710fb655a13d45889ff54ce85533dae6",
            "f3a37cd137aa42199782e9f936c6fa84",
            "210926322f46430c95f0831d5c0a3a00",
            "9aba8458d204406bab6d4d43028e314e",
            "2542475368d64d65a1046aacb676954f",
            "0f1710ef5f824e19b9a9e8c5fa5377ed",
            "f206d4f631794ee28cfeb66e2edef3d5",
            "48b93d6c303c46089a1f355a16e6dea2",
            "849191367133473e9b97a8a05fc250db",
            "8116e723fc354df2a2dd76ec15e1260b",
            "de7350079fd74e6bba33352af92a49c9",
            "a1db5aca0e594941bfc67d6cfcaf742b",
            "a2e4d0b8db7e4fd8b990faf734ea097d",
            "d5c3d285036640e19fbadd70a7abe534",
            "71ab62b3a22b467c9d53df365a48a287",
            "744e5600cbaf4ec9917cede813aecc35",
            "27c303a70a3f464088e8c2db42b31e58",
            "a8227cdbc1c44b9baddee317b900b2b5",
            "bae8ab8fb10f407d842f102f77f6f85f",
            "d44e3419825f4d4f9ed054ec455b805e"
          ]
        }
      },
      "source": [
        "# Classifier training\n",
        "RFC_dict = {}\n",
        "for fm in feature_methods:\n",
        "  clf = RandomForestClassifier(n_estimators=100, max_features=\"sqrt\")\n",
        "  clf.fit(train_features_dict[fm], Y_train)\n",
        "  RFC_dict[fm] = clf\n",
        "\n",
        "\n",
        "# Test and metric computation\n",
        "RFC_metrics_dict = {}\n",
        "for fm in feature_methods:\n",
        "  # Feature extraction\n",
        "  test_features = feature_extraction(L_test, fm)\n",
        "  # Feature scaling\n",
        "  scalers_dict[fm].transform(test_features)\n",
        "\n",
        "  # Confusion Matrix Plot\n",
        "  disp = plot_confusion_matrix(RFC_dict[fm], test_features, Y_test)\n",
        "  disp.ax_.set_title(fm)\n",
        "  plt.show()\n",
        "\n",
        "  y_pred = RFC_dict[fm].predict(test_features)\n",
        "  metrics = compute_metrics (y_pred, Y_test)\n",
        "  RFC_metrics_dict[fm] = metrics\n",
        "\n",
        "classifiers.append('RFC')\n",
        "metrics_dict['RFC'] = RFC_metrics_dict"
      ],
      "execution_count": 44,
      "outputs": [
        {
          "output_type": "display_data",
          "data": {
            "application/vnd.jupyter.widget-view+json": {
              "model_id": "461c8cf4b2df44b2a1b0b70d35fc43f3",
              "version_minor": 0,
              "version_major": 2
            },
            "text/plain": [
              "HBox(children=(IntProgress(value=1, bar_style='info', description='Feature extracion... [mfcc13]', max=1, styl…"
            ]
          },
          "metadata": {
            "tags": []
          }
        },
        {
          "output_type": "stream",
          "text": [
            "\n"
          ],
          "name": "stdout"
        },
        {
          "output_type": "display_data",
          "data": {
            "image/png": "[encoded data removed]",
            "text/plain": [
              "<Figure size 432x288 with 2 Axes>"
            ]
          },
          "metadata": {
            "tags": [],
            "needs_background": "dark"
          }
        },
        {
          "output_type": "display_data",
          "data": {
            "application/vnd.jupyter.widget-view+json": {
              "model_id": "708d35dff0f3465ebb72ab0479f05510",
              "version_minor": 0,
              "version_major": 2
            },
            "text/plain": [
              "HBox(children=(IntProgress(value=1, bar_style='info', description='Feature extracion... [mfcc20]', max=1, styl…"
            ]
          },
          "metadata": {
            "tags": []
          }
        },
        {
          "output_type": "stream",
          "text": [
            "\n"
          ],
          "name": "stdout"
        },
        {
          "output_type": "display_data",
          "data": {
            "image/png": "[encoded data removed]",
            "text/plain": [
              "<Figure size 432x288 with 2 Axes>"
            ]
          },
          "metadata": {
            "tags": [],
            "needs_background": "dark"
          }
        },
        {
          "output_type": "display_data",
          "data": {
            "application/vnd.jupyter.widget-view+json": {
              "model_id": "2542475368d64d65a1046aacb676954f",
              "version_minor": 0,
              "version_major": 2
            },
            "text/plain": [
              "HBox(children=(IntProgress(value=1, bar_style='info', description='Feature extracion... [zcr]', max=1, style=P…"
            ]
          },
          "metadata": {
            "tags": []
          }
        },
        {
          "output_type": "stream",
          "text": [
            "\n"
          ],
          "name": "stdout"
        },
        {
          "output_type": "display_data",
          "data": {
            "image/png": "[encoded data removed]",
            "text/plain": [
              "<Figure size 432x288 with 2 Axes>"
            ]
          },
          "metadata": {
            "tags": [],
            "needs_background": "dark"
          }
        },
        {
          "output_type": "display_data",
          "data": {
            "application/vnd.jupyter.widget-view+json": {
              "model_id": "a2e4d0b8db7e4fd8b990faf734ea097d",
              "version_minor": 0,
              "version_major": 2
            },
            "text/plain": [
              "HBox(children=(IntProgress(value=1, bar_style='info', description='Feature extracion... [zcr+mfcc20]', max=1, …"
            ]
          },
          "metadata": {
            "tags": []
          }
        },
        {
          "output_type": "stream",
          "text": [
            "\n"
          ],
          "name": "stdout"
        },
        {
          "output_type": "display_data",
          "data": {
            "image/png": "[encoded data removed]",
            "text/plain": [
              "<Figure size 432x288 with 2 Axes>"
            ]
          },
          "metadata": {
            "tags": [],
            "needs_background": "dark"
          }
        }
      ]
    },
    {
      "cell_type": "markdown",
      "metadata": {
        "id": "utzHnVWjBMLS",
        "colab_type": "text"
      },
      "source": [
        "### Simple Neural Networks\n"
      ]
    },
    {
      "cell_type": "code",
      "metadata": {
        "id": "mfPZMcYvBSnr",
        "colab_type": "code",
        "colab": {}
      },
      "source": [
        "# Feature that we want to use\n",
        "fm = \"mfcc20\"\n",
        "\n",
        "ohe = OneHotEncoder()\n",
        "ohe_y_train = ohe.fit_transform(Y_train.astype(int).reshape(-1, 1)).toarray()\n",
        "ohe_y_test  = ohe.fit_transform(Y_test .astype(int).reshape(-1, 1)).toarray()\n",
        "\n",
        "model = Sequential()\n",
        "model.add(Dense(20, input_dim=20, activation='relu'))\n",
        "model.add(Dense(15, activation='relu'))\n",
        "model.add(Dense(10, activation='softmax'))\n",
        "\n",
        "model.compile(loss='categorical_crossentropy', optimizer='adam', metrics=['accuracy'])\n",
        "\n",
        "history = model.fit(train_feature, ohe_y_train, epochs=100, batch_size=64)\n",
        "\n",
        "# Feature extraction\n",
        "test_features = feature_extraction(X_test, fm)\n",
        "# Feature scaling\n",
        "scalers_dict[fm].transform(test_features)\n",
        "\n",
        "y_pred = model.predict(test_features)\n",
        "\n",
        "#Converting predictions to label\n",
        "pred = list()\n",
        "for i in range(len(y_pred)):\n",
        "    pred.append(np.argmax(y_pred[i]))\n",
        "#Converting one hot encoded test label to label\n",
        "test = list()\n",
        "for i in range(len(ohe_y_test)):\n",
        "    test.append(np.argmax(ohe_y_test[i]))\n",
        "\n",
        "plt.imshow(confusion_matrix(pred, test))\n",
        "metrics = compute_metrics(pred, test)\n",
        "\n",
        "classifiers.append(\"NN\")\n",
        "metrics_dict['NN'] = {fm : metrics}"
      ],
      "execution_count": 0,
      "outputs": []
    },
    {
      "cell_type": "markdown",
      "metadata": {
        "id": "2iOgvxC5GZti",
        "colab_type": "text"
      },
      "source": [
        "## Performance Evaluation"
      ]
    },
    {
      "cell_type": "markdown",
      "metadata": {
        "id": "yD6U5gIVGb1A",
        "colab_type": "text"
      },
      "source": [
        "Here we can evaluate the performance of the classifiers using the metrics previously computed"
      ]
    },
    {
      "cell_type": "code",
      "metadata": {
        "id": "tw5E5D0kGrFl",
        "colab_type": "code",
        "outputId": "835312d2-e974-49f8-a02f-00a238bc5f0a",
        "colab": {
          "base_uri": "https://localhost:8080/",
          "height": 1000
        }
      },
      "source": [
        "for c in classifiers:\n",
        "  print(\"========\", c, \"========\")\n",
        "  for fm in feature_methods:\n",
        "    if metrics_dict.get(c) != None and metrics_dict.get(c).get(fm) != None:\n",
        "      print(\"#\", fm, \"#\")\n",
        "      for m in metrics_dict[c][fm]:\n",
        "        print(\"[{}]\".format(m[0]))\n",
        "        print(\"{}\".format(m[1]))\n",
        "  print(\"===========================\\n\")"
      ],
      "execution_count": 45,
      "outputs": [
        {
          "output_type": "stream",
          "text": [
            "======== SVM ========\n",
            "# mfcc13 #\n",
            "[Accuracy]\n",
            "0.94\n",
            "[ConfusionMatrix]\n",
            "[[20  0  0  0  0  0  0  0  0  0]\n",
            " [ 0 19  0  0  0  1  0  0  0  0]\n",
            " [ 0  0 19  1  0  0  0  0  0  0]\n",
            " [ 1  0  1 18  0  0  0  0  0  0]\n",
            " [ 0  0  0  0 19  1  0  0  0  0]\n",
            " [ 0  0  0  0  0 20  0  0  0  0]\n",
            " [ 0  0  0  0  0  0 20  0  0  0]\n",
            " [ 0  0  0  0  0  0  0 20  0  0]\n",
            " [ 0  0  0  0  0  0  1  0 19  0]\n",
            " [ 0  2  0  0  0  1  0  3  0 14]]\n",
            "# mfcc20 #\n",
            "[Accuracy]\n",
            "0.965\n",
            "[ConfusionMatrix]\n",
            "[[20  0  0  0  0  0  0  0  0  0]\n",
            " [ 0 20  0  0  0  0  0  0  0  0]\n",
            " [ 0  0 19  1  0  0  0  0  0  0]\n",
            " [ 1  0  0 19  0  0  0  0  0  0]\n",
            " [ 0  0  0  0 20  0  0  0  0  0]\n",
            " [ 0  0  0  0  0 20  0  0  0  0]\n",
            " [ 0  0  0  0  0  0 20  0  0  0]\n",
            " [ 0  0  0  0  0  0  0 20  0  0]\n",
            " [ 0  0  0  0  0  0  1  0 19  0]\n",
            " [ 0  1  0  0  0  0  0  3  0 16]]\n",
            "# zcr #\n",
            "[Accuracy]\n",
            "0.56\n",
            "[ConfusionMatrix]\n",
            "[[12  0  0  0  6  1  0  1  0  0]\n",
            " [ 0 10  0  0  1  0  1  0  5  3]\n",
            " [ 1  0  9  2  1  0  4  2  0  1]\n",
            " [ 3  0  2  7  0  0  3  1  2  2]\n",
            " [ 0  2  0  2 10  1  1  1  2  1]\n",
            " [ 0  3  0  0  1  9  0  0  5  2]\n",
            " [ 0  0  1  1  0  0 17  1  0  0]\n",
            " [ 0  1  1  1  1  0  2 13  1  0]\n",
            " [ 0  0  0  0  4  2  2  0 12  0]\n",
            " [ 1  1  0  0  2  2  1  0  0 13]]\n",
            "# zcr+mfcc20 #\n",
            "[Accuracy]\n",
            "0.555\n",
            "[ConfusionMatrix]\n",
            "[[12  0  0  0  6  1  0  1  0  0]\n",
            " [ 0 10  0  0  1  0  1  0  5  3]\n",
            " [ 1  0  9  2  1  0  4  2  0  1]\n",
            " [ 3  0  2  6  0  0  3  2  2  2]\n",
            " [ 0  2  0  2 10  1  1  1  2  1]\n",
            " [ 0  4  0  0  1  9  0  0  4  2]\n",
            " [ 0  0  1  1  0  0 17  1  0  0]\n",
            " [ 0  1  1  1  1  0  2 13  1  0]\n",
            " [ 0  0  0  0  4  2  2  0 12  0]\n",
            " [ 1  1  0  0  2  2  1  0  0 13]]\n",
            "===========================\n",
            "\n",
            "======== RFC ========\n",
            "# mfcc13 #\n",
            "[Accuracy]\n",
            "0.935\n",
            "[ConfusionMatrix]\n",
            "[[20  0  0  0  0  0  0  0  0  0]\n",
            " [ 0 16  0  0  0  0  0  0  0  4]\n",
            " [ 0  0 20  0  0  0  0  0  0  0]\n",
            " [ 0  0  3 17  0  0  0  0  0  0]\n",
            " [ 0  0  0  0 20  0  0  0  0  0]\n",
            " [ 0  0  0  0  0 20  0  0  0  0]\n",
            " [ 0  0  0  1  0  0 19  0  0  0]\n",
            " [ 0  0  0  0  0  0  0 20  0  0]\n",
            " [ 0  0  0  0  0  0  1  0 19  0]\n",
            " [ 0  3  0  0  0  0  0  1  0 16]]\n",
            "# mfcc20 #\n",
            "[Accuracy]\n",
            "0.955\n",
            "[ConfusionMatrix]\n",
            "[[20  0  0  0  0  0  0  0  0  0]\n",
            " [ 1 16  0  0  0  0  0  0  0  3]\n",
            " [ 0  0 20  0  0  0  0  0  0  0]\n",
            " [ 0  0  2 18  0  0  0  0  0  0]\n",
            " [ 0  0  0  0 20  0  0  0  0  0]\n",
            " [ 0  0  0  0  0 20  0  0  0  0]\n",
            " [ 0  0  0  0  0  0 20  0  0  0]\n",
            " [ 0  0  0  0  0  0  0 20  0  0]\n",
            " [ 0  0  0  0  0  0  0  0 20  0]\n",
            " [ 0  1  0  0  0  0  0  2  0 17]]\n",
            "# zcr #\n",
            "[Accuracy]\n",
            "0.67\n",
            "[ConfusionMatrix]\n",
            "[[14  0  0  2  4  0  0  0  0  0]\n",
            " [ 0 15  0  0  1  0  2  0  1  1]\n",
            " [ 1  0 17  0  0  0  2  0  0  0]\n",
            " [ 2  0  3  7  2  0  4  0  0  2]\n",
            " [ 0  1  0  3  8  1  0  4  1  2]\n",
            " [ 0  0  1  0  1 14  0  0  4  0]\n",
            " [ 1  0  0  1  0  0 18  0  0  0]\n",
            " [ 0  0  0  0  2  1  1 15  1  0]\n",
            " [ 0  2  0  0  4  0  1  1 12  0]\n",
            " [ 1  1  0  0  1  2  1  0  0 14]]\n",
            "# zcr+mfcc20 #\n",
            "[Accuracy]\n",
            "0.96\n",
            "[ConfusionMatrix]\n",
            "[[20  0  0  0  0  0  0  0  0  0]\n",
            " [ 0 18  0  0  0  0  0  1  0  1]\n",
            " [ 0  0 20  0  0  0  0  0  0  0]\n",
            " [ 1  0  0 19  0  0  0  0  0  0]\n",
            " [ 0  1  0  0 19  0  0  0  0  0]\n",
            " [ 0  0  0  0  0 20  0  0  0  0]\n",
            " [ 0  0  0  0  0  0 20  0  0  0]\n",
            " [ 0  0  0  0  0  0  0 20  0  0]\n",
            " [ 0  0  0  0  0  0  1  0 19  0]\n",
            " [ 0  1  0  0  0  1  0  1  0 17]]\n",
            "===========================\n",
            "\n"
          ],
          "name": "stdout"
        }
      ]
    },
    {
      "cell_type": "markdown",
      "metadata": {
        "id": "LFhB1sClJTMv",
        "colab_type": "text"
      },
      "source": [
        "## Style"
      ]
    },
    {
      "cell_type": "code",
      "metadata": {
        "id": "VrXMakXHJceG",
        "colab_type": "code",
        "colab": {}
      },
      "source": [
        "import matplotlib as mpl\n",
        "COLOR = 'darkgrey'\n",
        "mpl.rcParams['text.color'] = COLOR\n",
        "mpl.rcParams['axes.labelcolor'] = COLOR\n",
        "mpl.rcParams['xtick.color'] = COLOR\n",
        "mpl.rcParams['ytick.color'] = COLOR"
      ],
      "execution_count": 0,
      "outputs": []
    }
  ]
}