{
  "nbformat": 4,
  "nbformat_minor": 0,
  "metadata": {
    "colab": {
      "name": "SpokenDigitClassification.ipynb",
      "provenance": [],
      "collapsed_sections": [],
      "toc_visible": true,
      "include_colab_link": true
    },
    "kernelspec": {
      "name": "python3",
      "display_name": "Python 3"
    }
  },
  "cells": [
    {
      "cell_type": "markdown",
      "metadata": {
        "id": "view-in-github",
        "colab_type": "text"
      },
      "source": [
        "<a href=\"https://colab.research.google.com/github/andreaco/SpokenDigitClassification/blob/master/SpokenDigitClassification.ipynb\" target=\"_parent\"><img src=\"https://colab.research.google.com/assets/colab-badge.svg\" alt=\"Open In Colab\"/></a>"
      ]
    },
    {
      "cell_type": "markdown",
      "metadata": {
        "id": "9B-exD2Xwl2a",
        "colab_type": "text"
      },
      "source": [
        "# Spoken Digit Classification"
      ]
    },
    {
      "cell_type": "markdown",
      "metadata": {
        "id": "a6L3C0SzESw2",
        "colab_type": "text"
      },
      "source": [
        "## Imports and dataset download"
      ]
    },
    {
      "cell_type": "code",
      "metadata": {
        "id": "vN6hujgRtPoR",
        "colab_type": "code",
        "colab": {}
      },
      "source": [
        "import numpy as np\n",
        "import pandas as pd\n",
        "import matplotlib.pyplot as plt\n",
        "import re\n",
        "import os\n",
        "import librosa\n",
        "from tqdm.notebook import tqdm\n",
        "from IPython.display import Audio"
      ],
      "execution_count": 0,
      "outputs": []
    },
    {
      "cell_type": "code",
      "metadata": {
        "id": "ph_o72b1tVm2",
        "colab_type": "code",
        "colab": {
          "base_uri": "https://localhost:8080/",
          "height": 139
        },
        "outputId": "aab94853-af14-4c2a-e4e1-8dd93e537577"
      },
      "source": [
        "! git clone https://github.com/Jakobovski/free-spoken-digit-dataset\n",
        "#! pip install -r free-spoken-digit-dataset/pip_requirements.txt # probably not needed"
      ],
      "execution_count": 3,
      "outputs": [
        {
          "output_type": "stream",
          "text": [
            "Cloning into 'free-spoken-digit-dataset'...\n",
            "remote: Enumerating objects: 9, done.\u001b[K\n",
            "remote: Counting objects: 100% (9/9), done.\u001b[K\n",
            "remote: Compressing objects: 100% (9/9), done.\u001b[K\n",
            "remote: Total 3166 (delta 3), reused 5 (delta 0), pack-reused 3157\u001b[K\n",
            "Receiving objects: 100% (3166/3166), 23.92 MiB | 8.56 MiB/s, done.\n",
            "Resolving deltas: 100% (72/72), done.\n"
          ],
          "name": "stdout"
        }
      ]
    },
    {
      "cell_type": "markdown",
      "metadata": {
        "id": "PgrA782qDh0j",
        "colab_type": "text"
      },
      "source": [
        "## Dataset import "
      ]
    },
    {
      "cell_type": "markdown",
      "metadata": {
        "id": "5nLqh5FoMHB8",
        "colab_type": "text"
      },
      "source": [
        "The informations about the audio track are retrieved from the name using the following regexp\n",
        "```python\n",
        "'([0-9])+_([a-z]+)_([0-9]+).wav'\n",
        "```\n",
        "With this we can retrieve from the 3 groups\n",
        "```python\n",
        "# Digit Label\n",
        "regexp.search(filename).group(1)\n",
        "# Spearker Name (maybe we'll need this later while analyzing the data?)\n",
        "regexp.search(filename).group(2)\n",
        "# File Index\n",
        "regexp.search(filename).group(3)\n",
        "```\n"
      ]
    },
    {
      "cell_type": "code",
      "metadata": {
        "id": "TPhQ5Df0FMjV",
        "colab_type": "code",
        "colab": {}
      },
      "source": [
        "# recordings directory\n",
        "directory = 'free-spoken-digit-dataset/recordings/'\n",
        "# regexp matching {digitLabel}_{speakerName}_{index}.wav\n",
        "regexp = re.compile('([0-9])+_([a-z]+)_([0-9]+).wav') \n",
        "\n",
        "labels = []\n",
        "audios = []\n",
        "indexes = []\n",
        "sizes = []\n",
        "\n",
        "# setup progress bar\n",
        "pbar = tqdm(desc='Loading audio samples')\n",
        "pbar.reset(total=len(os.listdir(directory))) \n",
        "\n",
        "for f in os.listdir(directory):\n",
        "  if f.endswith(\".wav\"):\n",
        "    labels.append(regexp.search(f).group(1))\n",
        "    indexes.append(int(regexp.search(f).group(3)))\n",
        "    x, sr = librosa.load(directory+f, sr=None)\n",
        "    sizes.append(x.size)\n",
        "    audios.append(x)\n",
        "    pbar.update() # updates progress bar\n",
        "pbar.refresh();"
      ],
      "execution_count": 0,
      "outputs": []
    },
    {
      "cell_type": "markdown",
      "metadata": {
        "id": "1ea_n8zeMLPV",
        "colab_type": "text"
      },
      "source": [
        "Here we're doing a train-test split using the conditions stated in the github repository"
      ]
    },
    {
      "cell_type": "code",
      "metadata": {
        "id": "ZOJySkunyqiM",
        "colab_type": "code",
        "colab": {}
      },
      "source": [
        "# python lists to np.ndarray\n",
        "Y = np.asarray(labels)\n",
        "X = np.asarray(audios)\n",
        "I = np.asarray(indexes)\n",
        "\n",
        "# condition stated in the git repository for the test/train subdivision\n",
        "is_in_test  = I <= 4\n",
        "is_in_train = I >  4\n",
        "\n",
        "Y_test, Y_train = Y[is_in_test], Y[is_in_train]\n",
        "\n",
        "X_test, X_train = X[is_in_test], X[is_in_train]"
      ],
      "execution_count": 0,
      "outputs": []
    },
    {
      "cell_type": "markdown",
      "metadata": {
        "id": "34AWUjUc6vYC",
        "colab_type": "text"
      },
      "source": [
        "## Dataset Analysis"
      ]
    },
    {
      "cell_type": "code",
      "metadata": {
        "id": "VSSBAGDssgeg",
        "colab_type": "code",
        "colab": {
          "base_uri": "https://localhost:8080/",
          "height": 559
        },
        "outputId": "f418125a-bf4b-4fd7-cb64-25ff552256a2"
      },
      "source": [
        "plt.title(\"Length of audio files\")\n",
        "plt.plot(np.sort(sizes))\n",
        "\n",
        "# Histogram of occurrences\n",
        "from collections import Counter\n",
        "count = Counter(labels)\n",
        "df = pd.DataFrame.from_dict(count, orient='index')\n",
        "df.sort_index().plot(kind='bar', title='Occurrences for each label', legend=False)\n",
        "\n",
        "# print min-max\n",
        "argmax = np.argmax(sizes)\n",
        "argmin = np.argmin(sizes)\n",
        "print(\"Audio length: max = {}, min = {}\".format(np.max(sizes), np.min(sizes)))"
      ],
      "execution_count": 105,
      "outputs": [
        {
          "output_type": "stream",
          "text": [
            "Audio length: max = 18262, min = 1148\n"
          ],
          "name": "stdout"
        },
        {
          "output_type": "display_data",
          "data": {
            "image/png": "[encoded data removed]",
            "text/plain": [
              "<Figure size 432x288 with 1 Axes>"
            ]
          },
          "metadata": {
            "tags": []
          }
        },
        {
          "output_type": "display_data",
          "data": {
            "image/png": "[encoded data removed]",
            "text/plain": [
              "<Figure size 432x288 with 1 Axes>"
            ]
          },
          "metadata": {
            "tags": []
          }
        }
      ]
    },
    {
      "cell_type": "markdown",
      "metadata": {
        "id": "LFhB1sClJTMv",
        "colab_type": "text"
      },
      "source": [
        "## Style"
      ]
    },
    {
      "cell_type": "code",
      "metadata": {
        "id": "VrXMakXHJceG",
        "colab_type": "code",
        "colab": {}
      },
      "source": [
        "import matplotlib as mpl\n",
        "COLOR = 'darkgrey'\n",
        "mpl.rcParams['text.color'] = COLOR\n",
        "mpl.rcParams['axes.labelcolor'] = COLOR\n",
        "mpl.rcParams['xtick.color'] = COLOR\n",
        "mpl.rcParams['ytick.color'] = COLOR"
      ],
      "execution_count": 0,
      "outputs": []
    }
  ]
}