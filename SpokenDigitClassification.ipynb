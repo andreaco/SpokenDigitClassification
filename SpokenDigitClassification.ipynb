{
  "nbformat": 4,
  "nbformat_minor": 0,
  "metadata": {
    "colab": {
      "name": "SpokenDigitClassification.ipynb",
      "provenance": [],
      "collapsed_sections": [],
      "toc_visible": true,
      "include_colab_link": true
    },
    "kernelspec": {
      "name": "python3",
      "display_name": "Python 3"
    }
  },
  "cells": [
    {
      "cell_type": "markdown",
      "metadata": {
        "id": "view-in-github",
        "colab_type": "text"
      },
      "source": [
        "<a href=\"https://colab.research.google.com/github/andreaco/SpokenDigitClassification/blob/master/SpokenDigitClassification.ipynb\" target=\"_parent\"><img src=\"https://colab.research.google.com/assets/colab-badge.svg\" alt=\"Open In Colab\"/></a>"
      ]
    },
    {
      "cell_type": "markdown",
      "metadata": {
        "id": "9B-exD2Xwl2a",
        "colab_type": "text"
      },
      "source": [
        "# Spoken Digit Classification"
      ]
    },
    {
      "cell_type": "code",
      "metadata": {
        "id": "vN6hujgRtPoR",
        "colab_type": "code",
        "colab": {}
      },
      "source": [
        "import numpy as np\n",
        "import re\n",
        "import os\n",
        "import librosa\n",
        "from tqdm.notebook import tqdm"
      ],
      "execution_count": 0,
      "outputs": []
    },
    {
      "cell_type": "code",
      "metadata": {
        "id": "ph_o72b1tVm2",
        "colab_type": "code",
        "colab": {}
      },
      "source": [
        "! pip3 install tqdm\n",
        "! git clone https://github.com/Jakobovski/free-spoken-digit-dataset\n",
        "#! pip install -r free-spoken-digit-dataset/pip_requirements.txt # probably not needed"
      ],
      "execution_count": 0,
      "outputs": []
    },
    {
      "cell_type": "code",
      "metadata": {
        "id": "TPhQ5Df0FMjV",
        "colab_type": "code",
        "colab": {}
      },
      "source": [
        "# recordings directory\n",
        "directory = 'free-spoken-digit-dataset/recordings/'\n",
        "# regexp matching {digitLabel}_{speakerName}_{index}.wav\n",
        "regexp = re.compile('([0-9])+_([a-z]+)_([0-9]+).wav') \n",
        "\n",
        "digitLabels = []\n",
        "speakerNames = []\n",
        "indexes = []\n",
        "audios = []\n",
        "\n",
        "#progress bar\n",
        "pbar = tqdm()\n",
        "pbar.reset(total=len(os.listdir(directory))) \n",
        "\n",
        "for f in os.listdir(directory):\n",
        "  if f.endswith(\".wav\"):\n",
        "    digitLabels. append(regexp.search(f).group(1))\n",
        "    speakerNames.append(regexp.search(f).group(2))\n",
        "    indexes. append(int(regexp.search(f).group(3)))\n",
        "    y, sr = librosa.load(directory+f, sr=None)\n",
        "    audios.append(y)\n",
        "\n",
        "    pbar.update()\n",
        "pbar.refresh()  \n",
        "\n",
        "digitLabels = np.array(digitLabels)\n",
        "speakerNames = np.array(speakerNames)\n",
        "indexes = np.array(indexes)\n",
        "audio = np.array(audio)\n",
        "\n",
        "print(\"Elements in train set: {}\".format(np.sum(indexes>4)))\n",
        "print(\"Elements in test set: {}\".format(np.sum(indexes<=4)))"
      ],
      "execution_count": 0,
      "outputs": []
    },
    {
      "cell_type": "code",
      "metadata": {
        "id": "ZOJySkunyqiM",
        "colab_type": "code",
        "colab": {}
      },
      "source": [
        "infos_list[:,2]\n"
      ],
      "execution_count": 0,
      "outputs": []
    },
    {
      "cell_type": "code",
      "metadata": {
        "id": "KGUwHNjR0uJQ",
        "colab_type": "code",
        "colab": {}
      },
      "source": [
        "audio.shape"
      ],
      "execution_count": 0,
      "outputs": []
    },
    {
      "cell_type": "code",
      "metadata": {
        "id": "C5B2lnXo3_e4",
        "colab_type": "code",
        "colab": {}
      },
      "source": [
        "# different cell\n",
        "iterable = range(100)\n",
        "pbar.reset(total=len(iterable))  # initialise with new `total`\n",
        "for i in iterable:\n",
        "    pbar.update()\n",
        "pbar.refresh()  # force print final status but don't `close()`"
      ],
      "execution_count": 0,
      "outputs": []
    }
  ]
}