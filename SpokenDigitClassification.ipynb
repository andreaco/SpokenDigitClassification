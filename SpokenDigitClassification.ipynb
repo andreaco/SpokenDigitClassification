{
  "nbformat": 4,
  "nbformat_minor": 0,
  "metadata": {
    "colab": {
      "name": "SpokenDigitClassification.ipynb",
      "provenance": [],
      "collapsed_sections": []
    },
    "kernelspec": {
      "name": "python3",
      "display_name": "Python 3"
    },
    "widgets": {
      "application/vnd.jupyter.widget-state+json": {
        "f178d06c820d405c8bdaafa8b9b75081": {
          "model_module": "@jupyter-widgets/controls",
          "model_name": "HBoxModel",
          "state": {
            "_view_name": "HBoxView",
            "_dom_classes": [],
            "_model_name": "HBoxModel",
            "_view_module": "@jupyter-widgets/controls",
            "_model_module_version": "1.5.0",
            "_view_count": null,
            "_view_module_version": "1.5.0",
            "box_style": "",
            "layout": "IPY_MODEL_1202d9eb478446a090afe8f5d618c59a",
            "_model_module": "@jupyter-widgets/controls",
            "children": [
              "IPY_MODEL_cbc00c4a95064ec2ace19278fa30882c",
              "IPY_MODEL_8383ed6d9bdf42dbb13e2eb4cdb0b4a3"
            ]
          }
        },
        "1202d9eb478446a090afe8f5d618c59a": {
          "model_module": "@jupyter-widgets/base",
          "model_name": "LayoutModel",
          "state": {
            "_view_name": "LayoutView",
            "grid_template_rows": null,
            "right": null,
            "justify_content": null,
            "_view_module": "@jupyter-widgets/base",
            "overflow": null,
            "_model_module_version": "1.2.0",
            "_view_count": null,
            "flex_flow": null,
            "width": null,
            "min_width": null,
            "border": null,
            "align_items": null,
            "bottom": null,
            "_model_module": "@jupyter-widgets/base",
            "top": null,
            "grid_column": null,
            "overflow_y": null,
            "overflow_x": null,
            "grid_auto_flow": null,
            "grid_area": null,
            "grid_template_columns": null,
            "flex": null,
            "_model_name": "LayoutModel",
            "justify_items": null,
            "grid_row": null,
            "max_height": null,
            "align_content": null,
            "visibility": null,
            "align_self": null,
            "height": null,
            "min_height": null,
            "padding": null,
            "grid_auto_rows": null,
            "grid_gap": null,
            "max_width": null,
            "order": null,
            "_view_module_version": "1.2.0",
            "grid_template_areas": null,
            "object_position": null,
            "object_fit": null,
            "grid_auto_columns": null,
            "margin": null,
            "display": null,
            "left": null
          }
        },
        "cbc00c4a95064ec2ace19278fa30882c": {
          "model_module": "@jupyter-widgets/controls",
          "model_name": "IntProgressModel",
          "state": {
            "_view_name": "ProgressView",
            "style": "IPY_MODEL_f0fffa2c8f8142a19d16fb9f07432a8d",
            "_dom_classes": [],
            "description": "Loading audio samples: 100%",
            "_model_name": "IntProgressModel",
            "bar_style": "info",
            "max": 1,
            "_view_module": "@jupyter-widgets/controls",
            "_model_module_version": "1.5.0",
            "value": 1,
            "_view_count": null,
            "_view_module_version": "1.5.0",
            "orientation": "horizontal",
            "min": 0,
            "description_tooltip": null,
            "_model_module": "@jupyter-widgets/controls",
            "layout": "IPY_MODEL_aa4a7fec8663473a90994f76ee3b9943"
          }
        },
        "8383ed6d9bdf42dbb13e2eb4cdb0b4a3": {
          "model_module": "@jupyter-widgets/controls",
          "model_name": "HTMLModel",
          "state": {
            "_view_name": "HTMLView",
            "style": "IPY_MODEL_68a69a63b79d41fb8a2648415316b8a2",
            "_dom_classes": [],
            "description": "",
            "_model_name": "HTMLModel",
            "placeholder": "​",
            "_view_module": "@jupyter-widgets/controls",
            "_model_module_version": "1.5.0",
            "value": " 2000/2000 [03:52&lt;00:00,  8.84it/s]",
            "_view_count": null,
            "_view_module_version": "1.5.0",
            "description_tooltip": null,
            "_model_module": "@jupyter-widgets/controls",
            "layout": "IPY_MODEL_9dbeeafaad2b4bada9808548f1bf2555"
          }
        },
        "f0fffa2c8f8142a19d16fb9f07432a8d": {
          "model_module": "@jupyter-widgets/controls",
          "model_name": "ProgressStyleModel",
          "state": {
            "_view_name": "StyleView",
            "_model_name": "ProgressStyleModel",
            "description_width": "initial",
            "_view_module": "@jupyter-widgets/base",
            "_model_module_version": "1.5.0",
            "_view_count": null,
            "_view_module_version": "1.2.0",
            "bar_color": null,
            "_model_module": "@jupyter-widgets/controls"
          }
        },
        "aa4a7fec8663473a90994f76ee3b9943": {
          "model_module": "@jupyter-widgets/base",
          "model_name": "LayoutModel",
          "state": {
            "_view_name": "LayoutView",
            "grid_template_rows": null,
            "right": null,
            "justify_content": null,
            "_view_module": "@jupyter-widgets/base",
            "overflow": null,
            "_model_module_version": "1.2.0",
            "_view_count": null,
            "flex_flow": null,
            "width": null,
            "min_width": null,
            "border": null,
            "align_items": null,
            "bottom": null,
            "_model_module": "@jupyter-widgets/base",
            "top": null,
            "grid_column": null,
            "overflow_y": null,
            "overflow_x": null,
            "grid_auto_flow": null,
            "grid_area": null,
            "grid_template_columns": null,
            "flex": null,
            "_model_name": "LayoutModel",
            "justify_items": null,
            "grid_row": null,
            "max_height": null,
            "align_content": null,
            "visibility": null,
            "align_self": null,
            "height": null,
            "min_height": null,
            "padding": null,
            "grid_auto_rows": null,
            "grid_gap": null,
            "max_width": null,
            "order": null,
            "_view_module_version": "1.2.0",
            "grid_template_areas": null,
            "object_position": null,
            "object_fit": null,
            "grid_auto_columns": null,
            "margin": null,
            "display": null,
            "left": null
          }
        },
        "68a69a63b79d41fb8a2648415316b8a2": {
          "model_module": "@jupyter-widgets/controls",
          "model_name": "DescriptionStyleModel",
          "state": {
            "_view_name": "StyleView",
            "_model_name": "DescriptionStyleModel",
            "description_width": "",
            "_view_module": "@jupyter-widgets/base",
            "_model_module_version": "1.5.0",
            "_view_count": null,
            "_view_module_version": "1.2.0",
            "_model_module": "@jupyter-widgets/controls"
          }
        },
        "9dbeeafaad2b4bada9808548f1bf2555": {
          "model_module": "@jupyter-widgets/base",
          "model_name": "LayoutModel",
          "state": {
            "_view_name": "LayoutView",
            "grid_template_rows": null,
            "right": null,
            "justify_content": null,
            "_view_module": "@jupyter-widgets/base",
            "overflow": null,
            "_model_module_version": "1.2.0",
            "_view_count": null,
            "flex_flow": null,
            "width": null,
            "min_width": null,
            "border": null,
            "align_items": null,
            "bottom": null,
            "_model_module": "@jupyter-widgets/base",
            "top": null,
            "grid_column": null,
            "overflow_y": null,
            "overflow_x": null,
            "grid_auto_flow": null,
            "grid_area": null,
            "grid_template_columns": null,
            "flex": null,
            "_model_name": "LayoutModel",
            "justify_items": null,
            "grid_row": null,
            "max_height": null,
            "align_content": null,
            "visibility": null,
            "align_self": null,
            "height": null,
            "min_height": null,
            "padding": null,
            "grid_auto_rows": null,
            "grid_gap": null,
            "max_width": null,
            "order": null,
            "_view_module_version": "1.2.0",
            "grid_template_areas": null,
            "object_position": null,
            "object_fit": null,
            "grid_auto_columns": null,
            "margin": null,
            "display": null,
            "left": null
          }
        },
        "4772838e13574648923681d46e8eb820": {
          "model_module": "@jupyter-widgets/controls",
          "model_name": "HBoxModel",
          "state": {
            "_view_name": "HBoxView",
            "_dom_classes": [],
            "_model_name": "HBoxModel",
            "_view_module": "@jupyter-widgets/controls",
            "_model_module_version": "1.5.0",
            "_view_count": null,
            "_view_module_version": "1.5.0",
            "box_style": "",
            "layout": "IPY_MODEL_680a88f1f1954d719ee5dcb13e7e00cd",
            "_model_module": "@jupyter-widgets/controls",
            "children": [
              "IPY_MODEL_f0d061c54963471384503116e2384473",
              "IPY_MODEL_cd1c435c00b24da393c3f6b92c3f63d2"
            ]
          }
        },
        "680a88f1f1954d719ee5dcb13e7e00cd": {
          "model_module": "@jupyter-widgets/base",
          "model_name": "LayoutModel",
          "state": {
            "_view_name": "LayoutView",
            "grid_template_rows": null,
            "right": null,
            "justify_content": null,
            "_view_module": "@jupyter-widgets/base",
            "overflow": null,
            "_model_module_version": "1.2.0",
            "_view_count": null,
            "flex_flow": null,
            "width": null,
            "min_width": null,
            "border": null,
            "align_items": null,
            "bottom": null,
            "_model_module": "@jupyter-widgets/base",
            "top": null,
            "grid_column": null,
            "overflow_y": null,
            "overflow_x": null,
            "grid_auto_flow": null,
            "grid_area": null,
            "grid_template_columns": null,
            "flex": null,
            "_model_name": "LayoutModel",
            "justify_items": null,
            "grid_row": null,
            "max_height": null,
            "align_content": null,
            "visibility": null,
            "align_self": null,
            "height": null,
            "min_height": null,
            "padding": null,
            "grid_auto_rows": null,
            "grid_gap": null,
            "max_width": null,
            "order": null,
            "_view_module_version": "1.2.0",
            "grid_template_areas": null,
            "object_position": null,
            "object_fit": null,
            "grid_auto_columns": null,
            "margin": null,
            "display": null,
            "left": null
          }
        },
        "f0d061c54963471384503116e2384473": {
          "model_module": "@jupyter-widgets/controls",
          "model_name": "IntProgressModel",
          "state": {
            "_view_name": "ProgressView",
            "style": "IPY_MODEL_6952945cadad4124a9d046b2dc97eb48",
            "_dom_classes": [],
            "description": "Zero Padding and trimming: 100%",
            "_model_name": "IntProgressModel",
            "bar_style": "info",
            "max": 1,
            "_view_module": "@jupyter-widgets/controls",
            "_model_module_version": "1.5.0",
            "value": 1,
            "_view_count": null,
            "_view_module_version": "1.5.0",
            "orientation": "horizontal",
            "min": 0,
            "description_tooltip": null,
            "_model_module": "@jupyter-widgets/controls",
            "layout": "IPY_MODEL_13180f447bdc4b12b5cd433b5820d3a7"
          }
        },
        "cd1c435c00b24da393c3f6b92c3f63d2": {
          "model_module": "@jupyter-widgets/controls",
          "model_name": "HTMLModel",
          "state": {
            "_view_name": "HTMLView",
            "style": "IPY_MODEL_667d10cafb9841b49bb530d65e3dff48",
            "_dom_classes": [],
            "description": "",
            "_model_name": "HTMLModel",
            "placeholder": "​",
            "_view_module": "@jupyter-widgets/controls",
            "_model_module_version": "1.5.0",
            "value": " 2000/2000 [00:00&lt;00:00, 75701.26it/s]",
            "_view_count": null,
            "_view_module_version": "1.5.0",
            "description_tooltip": null,
            "_model_module": "@jupyter-widgets/controls",
            "layout": "IPY_MODEL_b9ee8878ad3d4a9fa76c6e72ec2343bc"
          }
        },
        "6952945cadad4124a9d046b2dc97eb48": {
          "model_module": "@jupyter-widgets/controls",
          "model_name": "ProgressStyleModel",
          "state": {
            "_view_name": "StyleView",
            "_model_name": "ProgressStyleModel",
            "description_width": "initial",
            "_view_module": "@jupyter-widgets/base",
            "_model_module_version": "1.5.0",
            "_view_count": null,
            "_view_module_version": "1.2.0",
            "bar_color": null,
            "_model_module": "@jupyter-widgets/controls"
          }
        },
        "13180f447bdc4b12b5cd433b5820d3a7": {
          "model_module": "@jupyter-widgets/base",
          "model_name": "LayoutModel",
          "state": {
            "_view_name": "LayoutView",
            "grid_template_rows": null,
            "right": null,
            "justify_content": null,
            "_view_module": "@jupyter-widgets/base",
            "overflow": null,
            "_model_module_version": "1.2.0",
            "_view_count": null,
            "flex_flow": null,
            "width": null,
            "min_width": null,
            "border": null,
            "align_items": null,
            "bottom": null,
            "_model_module": "@jupyter-widgets/base",
            "top": null,
            "grid_column": null,
            "overflow_y": null,
            "overflow_x": null,
            "grid_auto_flow": null,
            "grid_area": null,
            "grid_template_columns": null,
            "flex": null,
            "_model_name": "LayoutModel",
            "justify_items": null,
            "grid_row": null,
            "max_height": null,
            "align_content": null,
            "visibility": null,
            "align_self": null,
            "height": null,
            "min_height": null,
            "padding": null,
            "grid_auto_rows": null,
            "grid_gap": null,
            "max_width": null,
            "order": null,
            "_view_module_version": "1.2.0",
            "grid_template_areas": null,
            "object_position": null,
            "object_fit": null,
            "grid_auto_columns": null,
            "margin": null,
            "display": null,
            "left": null
          }
        },
        "667d10cafb9841b49bb530d65e3dff48": {
          "model_module": "@jupyter-widgets/controls",
          "model_name": "DescriptionStyleModel",
          "state": {
            "_view_name": "StyleView",
            "_model_name": "DescriptionStyleModel",
            "description_width": "",
            "_view_module": "@jupyter-widgets/base",
            "_model_module_version": "1.5.0",
            "_view_count": null,
            "_view_module_version": "1.2.0",
            "_model_module": "@jupyter-widgets/controls"
          }
        },
        "b9ee8878ad3d4a9fa76c6e72ec2343bc": {
          "model_module": "@jupyter-widgets/base",
          "model_name": "LayoutModel",
          "state": {
            "_view_name": "LayoutView",
            "grid_template_rows": null,
            "right": null,
            "justify_content": null,
            "_view_module": "@jupyter-widgets/base",
            "overflow": null,
            "_model_module_version": "1.2.0",
            "_view_count": null,
            "flex_flow": null,
            "width": null,
            "min_width": null,
            "border": null,
            "align_items": null,
            "bottom": null,
            "_model_module": "@jupyter-widgets/base",
            "top": null,
            "grid_column": null,
            "overflow_y": null,
            "overflow_x": null,
            "grid_auto_flow": null,
            "grid_area": null,
            "grid_template_columns": null,
            "flex": null,
            "_model_name": "LayoutModel",
            "justify_items": null,
            "grid_row": null,
            "max_height": null,
            "align_content": null,
            "visibility": null,
            "align_self": null,
            "height": null,
            "min_height": null,
            "padding": null,
            "grid_auto_rows": null,
            "grid_gap": null,
            "max_width": null,
            "order": null,
            "_view_module_version": "1.2.0",
            "grid_template_areas": null,
            "object_position": null,
            "object_fit": null,
            "grid_auto_columns": null,
            "margin": null,
            "display": null,
            "left": null
          }
        },
        "4bc544d069ae4bdd8de9ea76fdcd6d69": {
          "model_module": "@jupyter-widgets/controls",
          "model_name": "HBoxModel",
          "state": {
            "_view_name": "HBoxView",
            "_dom_classes": [],
            "_model_name": "HBoxModel",
            "_view_module": "@jupyter-widgets/controls",
            "_model_module_version": "1.5.0",
            "_view_count": null,
            "_view_module_version": "1.5.0",
            "box_style": "",
            "layout": "IPY_MODEL_8163377d51194ce89eb21528c8b2cdad",
            "_model_module": "@jupyter-widgets/controls",
            "children": [
              "IPY_MODEL_fba7ca3285d940c5a94e3493e4d53b5f",
              "IPY_MODEL_48b0a535b01c4d03b4b628b95ed88f02"
            ]
          }
        },
        "8163377d51194ce89eb21528c8b2cdad": {
          "model_module": "@jupyter-widgets/base",
          "model_name": "LayoutModel",
          "state": {
            "_view_name": "LayoutView",
            "grid_template_rows": null,
            "right": null,
            "justify_content": null,
            "_view_module": "@jupyter-widgets/base",
            "overflow": null,
            "_model_module_version": "1.2.0",
            "_view_count": null,
            "flex_flow": null,
            "width": null,
            "min_width": null,
            "border": null,
            "align_items": null,
            "bottom": null,
            "_model_module": "@jupyter-widgets/base",
            "top": null,
            "grid_column": null,
            "overflow_y": null,
            "overflow_x": null,
            "grid_auto_flow": null,
            "grid_area": null,
            "grid_template_columns": null,
            "flex": null,
            "_model_name": "LayoutModel",
            "justify_items": null,
            "grid_row": null,
            "max_height": null,
            "align_content": null,
            "visibility": null,
            "align_self": null,
            "height": null,
            "min_height": null,
            "padding": null,
            "grid_auto_rows": null,
            "grid_gap": null,
            "max_width": null,
            "order": null,
            "_view_module_version": "1.2.0",
            "grid_template_areas": null,
            "object_position": null,
            "object_fit": null,
            "grid_auto_columns": null,
            "margin": null,
            "display": null,
            "left": null
          }
        },
        "fba7ca3285d940c5a94e3493e4d53b5f": {
          "model_module": "@jupyter-widgets/controls",
          "model_name": "IntProgressModel",
          "state": {
            "_view_name": "ProgressView",
            "style": "IPY_MODEL_705dfbf15c08448d850a3f0ccef2d763",
            "_dom_classes": [],
            "description": "Feature extracion... [mfcc13]: 100%",
            "_model_name": "IntProgressModel",
            "bar_style": "info",
            "max": 1,
            "_view_module": "@jupyter-widgets/controls",
            "_model_module_version": "1.5.0",
            "value": 1,
            "_view_count": null,
            "_view_module_version": "1.5.0",
            "orientation": "horizontal",
            "min": 0,
            "description_tooltip": null,
            "_model_module": "@jupyter-widgets/controls",
            "layout": "IPY_MODEL_dfadfdfe77514c699a941b717e52eaa5"
          }
        },
        "48b0a535b01c4d03b4b628b95ed88f02": {
          "model_module": "@jupyter-widgets/controls",
          "model_name": "HTMLModel",
          "state": {
            "_view_name": "HTMLView",
            "style": "IPY_MODEL_587c43d13b3f4e7e82f2965122ecb5ab",
            "_dom_classes": [],
            "description": "",
            "_model_name": "HTMLModel",
            "placeholder": "​",
            "_view_module": "@jupyter-widgets/controls",
            "_model_module_version": "1.5.0",
            "value": " 1800/1800 [00:15&lt;00:00, 354.46it/s]",
            "_view_count": null,
            "_view_module_version": "1.5.0",
            "description_tooltip": null,
            "_model_module": "@jupyter-widgets/controls",
            "layout": "IPY_MODEL_93c3690ff4e64215a0573b53360a727c"
          }
        },
        "705dfbf15c08448d850a3f0ccef2d763": {
          "model_module": "@jupyter-widgets/controls",
          "model_name": "ProgressStyleModel",
          "state": {
            "_view_name": "StyleView",
            "_model_name": "ProgressStyleModel",
            "description_width": "initial",
            "_view_module": "@jupyter-widgets/base",
            "_model_module_version": "1.5.0",
            "_view_count": null,
            "_view_module_version": "1.2.0",
            "bar_color": null,
            "_model_module": "@jupyter-widgets/controls"
          }
        },
        "dfadfdfe77514c699a941b717e52eaa5": {
          "model_module": "@jupyter-widgets/base",
          "model_name": "LayoutModel",
          "state": {
            "_view_name": "LayoutView",
            "grid_template_rows": null,
            "right": null,
            "justify_content": null,
            "_view_module": "@jupyter-widgets/base",
            "overflow": null,
            "_model_module_version": "1.2.0",
            "_view_count": null,
            "flex_flow": null,
            "width": null,
            "min_width": null,
            "border": null,
            "align_items": null,
            "bottom": null,
            "_model_module": "@jupyter-widgets/base",
            "top": null,
            "grid_column": null,
            "overflow_y": null,
            "overflow_x": null,
            "grid_auto_flow": null,
            "grid_area": null,
            "grid_template_columns": null,
            "flex": null,
            "_model_name": "LayoutModel",
            "justify_items": null,
            "grid_row": null,
            "max_height": null,
            "align_content": null,
            "visibility": null,
            "align_self": null,
            "height": null,
            "min_height": null,
            "padding": null,
            "grid_auto_rows": null,
            "grid_gap": null,
            "max_width": null,
            "order": null,
            "_view_module_version": "1.2.0",
            "grid_template_areas": null,
            "object_position": null,
            "object_fit": null,
            "grid_auto_columns": null,
            "margin": null,
            "display": null,
            "left": null
          }
        },
        "587c43d13b3f4e7e82f2965122ecb5ab": {
          "model_module": "@jupyter-widgets/controls",
          "model_name": "DescriptionStyleModel",
          "state": {
            "_view_name": "StyleView",
            "_model_name": "DescriptionStyleModel",
            "description_width": "",
            "_view_module": "@jupyter-widgets/base",
            "_model_module_version": "1.5.0",
            "_view_count": null,
            "_view_module_version": "1.2.0",
            "_model_module": "@jupyter-widgets/controls"
          }
        },
        "93c3690ff4e64215a0573b53360a727c": {
          "model_module": "@jupyter-widgets/base",
          "model_name": "LayoutModel",
          "state": {
            "_view_name": "LayoutView",
            "grid_template_rows": null,
            "right": null,
            "justify_content": null,
            "_view_module": "@jupyter-widgets/base",
            "overflow": null,
            "_model_module_version": "1.2.0",
            "_view_count": null,
            "flex_flow": null,
            "width": null,
            "min_width": null,
            "border": null,
            "align_items": null,
            "bottom": null,
            "_model_module": "@jupyter-widgets/base",
            "top": null,
            "grid_column": null,
            "overflow_y": null,
            "overflow_x": null,
            "grid_auto_flow": null,
            "grid_area": null,
            "grid_template_columns": null,
            "flex": null,
            "_model_name": "LayoutModel",
            "justify_items": null,
            "grid_row": null,
            "max_height": null,
            "align_content": null,
            "visibility": null,
            "align_self": null,
            "height": null,
            "min_height": null,
            "padding": null,
            "grid_auto_rows": null,
            "grid_gap": null,
            "max_width": null,
            "order": null,
            "_view_module_version": "1.2.0",
            "grid_template_areas": null,
            "object_position": null,
            "object_fit": null,
            "grid_auto_columns": null,
            "margin": null,
            "display": null,
            "left": null
          }
        },
        "4fe0c54a83fd41639383245a1a26b2dd": {
          "model_module": "@jupyter-widgets/controls",
          "model_name": "HBoxModel",
          "state": {
            "_view_name": "HBoxView",
            "_dom_classes": [],
            "_model_name": "HBoxModel",
            "_view_module": "@jupyter-widgets/controls",
            "_model_module_version": "1.5.0",
            "_view_count": null,
            "_view_module_version": "1.5.0",
            "box_style": "",
            "layout": "IPY_MODEL_26b9b049cad8482eb48675867e0ff197",
            "_model_module": "@jupyter-widgets/controls",
            "children": [
              "IPY_MODEL_3de804ae2a0842d59eec4b74abe02727",
              "IPY_MODEL_52672cf0a7ad4968a6aebb987ab59e2f"
            ]
          }
        },
        "26b9b049cad8482eb48675867e0ff197": {
          "model_module": "@jupyter-widgets/base",
          "model_name": "LayoutModel",
          "state": {
            "_view_name": "LayoutView",
            "grid_template_rows": null,
            "right": null,
            "justify_content": null,
            "_view_module": "@jupyter-widgets/base",
            "overflow": null,
            "_model_module_version": "1.2.0",
            "_view_count": null,
            "flex_flow": null,
            "width": null,
            "min_width": null,
            "border": null,
            "align_items": null,
            "bottom": null,
            "_model_module": "@jupyter-widgets/base",
            "top": null,
            "grid_column": null,
            "overflow_y": null,
            "overflow_x": null,
            "grid_auto_flow": null,
            "grid_area": null,
            "grid_template_columns": null,
            "flex": null,
            "_model_name": "LayoutModel",
            "justify_items": null,
            "grid_row": null,
            "max_height": null,
            "align_content": null,
            "visibility": null,
            "align_self": null,
            "height": null,
            "min_height": null,
            "padding": null,
            "grid_auto_rows": null,
            "grid_gap": null,
            "max_width": null,
            "order": null,
            "_view_module_version": "1.2.0",
            "grid_template_areas": null,
            "object_position": null,
            "object_fit": null,
            "grid_auto_columns": null,
            "margin": null,
            "display": null,
            "left": null
          }
        },
        "3de804ae2a0842d59eec4b74abe02727": {
          "model_module": "@jupyter-widgets/controls",
          "model_name": "IntProgressModel",
          "state": {
            "_view_name": "ProgressView",
            "style": "IPY_MODEL_3450d644649e4552ad214d7dc9243655",
            "_dom_classes": [],
            "description": "Feature extracion... [mfcc20]: 100%",
            "_model_name": "IntProgressModel",
            "bar_style": "info",
            "max": 1,
            "_view_module": "@jupyter-widgets/controls",
            "_model_module_version": "1.5.0",
            "value": 1,
            "_view_count": null,
            "_view_module_version": "1.5.0",
            "orientation": "horizontal",
            "min": 0,
            "description_tooltip": null,
            "_model_module": "@jupyter-widgets/controls",
            "layout": "IPY_MODEL_867fdf4135d646d293ff145a30a52471"
          }
        },
        "52672cf0a7ad4968a6aebb987ab59e2f": {
          "model_module": "@jupyter-widgets/controls",
          "model_name": "HTMLModel",
          "state": {
            "_view_name": "HTMLView",
            "style": "IPY_MODEL_1345640be3104964a2bae98fc78072c9",
            "_dom_classes": [],
            "description": "",
            "_model_name": "HTMLModel",
            "placeholder": "​",
            "_view_module": "@jupyter-widgets/controls",
            "_model_module_version": "1.5.0",
            "value": " 1800/1800 [00:20&lt;00:00, 397.90it/s]",
            "_view_count": null,
            "_view_module_version": "1.5.0",
            "description_tooltip": null,
            "_model_module": "@jupyter-widgets/controls",
            "layout": "IPY_MODEL_ac3d266fd050486b82a2cef0f095d3ea"
          }
        },
        "3450d644649e4552ad214d7dc9243655": {
          "model_module": "@jupyter-widgets/controls",
          "model_name": "ProgressStyleModel",
          "state": {
            "_view_name": "StyleView",
            "_model_name": "ProgressStyleModel",
            "description_width": "initial",
            "_view_module": "@jupyter-widgets/base",
            "_model_module_version": "1.5.0",
            "_view_count": null,
            "_view_module_version": "1.2.0",
            "bar_color": null,
            "_model_module": "@jupyter-widgets/controls"
          }
        },
        "867fdf4135d646d293ff145a30a52471": {
          "model_module": "@jupyter-widgets/base",
          "model_name": "LayoutModel",
          "state": {
            "_view_name": "LayoutView",
            "grid_template_rows": null,
            "right": null,
            "justify_content": null,
            "_view_module": "@jupyter-widgets/base",
            "overflow": null,
            "_model_module_version": "1.2.0",
            "_view_count": null,
            "flex_flow": null,
            "width": null,
            "min_width": null,
            "border": null,
            "align_items": null,
            "bottom": null,
            "_model_module": "@jupyter-widgets/base",
            "top": null,
            "grid_column": null,
            "overflow_y": null,
            "overflow_x": null,
            "grid_auto_flow": null,
            "grid_area": null,
            "grid_template_columns": null,
            "flex": null,
            "_model_name": "LayoutModel",
            "justify_items": null,
            "grid_row": null,
            "max_height": null,
            "align_content": null,
            "visibility": null,
            "align_self": null,
            "height": null,
            "min_height": null,
            "padding": null,
            "grid_auto_rows": null,
            "grid_gap": null,
            "max_width": null,
            "order": null,
            "_view_module_version": "1.2.0",
            "grid_template_areas": null,
            "object_position": null,
            "object_fit": null,
            "grid_auto_columns": null,
            "margin": null,
            "display": null,
            "left": null
          }
        },
        "1345640be3104964a2bae98fc78072c9": {
          "model_module": "@jupyter-widgets/controls",
          "model_name": "DescriptionStyleModel",
          "state": {
            "_view_name": "StyleView",
            "_model_name": "DescriptionStyleModel",
            "description_width": "",
            "_view_module": "@jupyter-widgets/base",
            "_model_module_version": "1.5.0",
            "_view_count": null,
            "_view_module_version": "1.2.0",
            "_model_module": "@jupyter-widgets/controls"
          }
        },
        "ac3d266fd050486b82a2cef0f095d3ea": {
          "model_module": "@jupyter-widgets/base",
          "model_name": "LayoutModel",
          "state": {
            "_view_name": "LayoutView",
            "grid_template_rows": null,
            "right": null,
            "justify_content": null,
            "_view_module": "@jupyter-widgets/base",
            "overflow": null,
            "_model_module_version": "1.2.0",
            "_view_count": null,
            "flex_flow": null,
            "width": null,
            "min_width": null,
            "border": null,
            "align_items": null,
            "bottom": null,
            "_model_module": "@jupyter-widgets/base",
            "top": null,
            "grid_column": null,
            "overflow_y": null,
            "overflow_x": null,
            "grid_auto_flow": null,
            "grid_area": null,
            "grid_template_columns": null,
            "flex": null,
            "_model_name": "LayoutModel",
            "justify_items": null,
            "grid_row": null,
            "max_height": null,
            "align_content": null,
            "visibility": null,
            "align_self": null,
            "height": null,
            "min_height": null,
            "padding": null,
            "grid_auto_rows": null,
            "grid_gap": null,
            "max_width": null,
            "order": null,
            "_view_module_version": "1.2.0",
            "grid_template_areas": null,
            "object_position": null,
            "object_fit": null,
            "grid_auto_columns": null,
            "margin": null,
            "display": null,
            "left": null
          }
        },
        "d849c3dea4eb4924bff4aa3045b42cf4": {
          "model_module": "@jupyter-widgets/controls",
          "model_name": "HBoxModel",
          "state": {
            "_view_name": "HBoxView",
            "_dom_classes": [],
            "_model_name": "HBoxModel",
            "_view_module": "@jupyter-widgets/controls",
            "_model_module_version": "1.5.0",
            "_view_count": null,
            "_view_module_version": "1.5.0",
            "box_style": "",
            "layout": "IPY_MODEL_f3a07b96c7714271ba42e58e1f374920",
            "_model_module": "@jupyter-widgets/controls",
            "children": [
              "IPY_MODEL_d43173bb43654c1ba31381abd4c4eeb8",
              "IPY_MODEL_a5c60c87ac454ed59a0cbbcc85d1aa8d"
            ]
          }
        },
        "f3a07b96c7714271ba42e58e1f374920": {
          "model_module": "@jupyter-widgets/base",
          "model_name": "LayoutModel",
          "state": {
            "_view_name": "LayoutView",
            "grid_template_rows": null,
            "right": null,
            "justify_content": null,
            "_view_module": "@jupyter-widgets/base",
            "overflow": null,
            "_model_module_version": "1.2.0",
            "_view_count": null,
            "flex_flow": null,
            "width": null,
            "min_width": null,
            "border": null,
            "align_items": null,
            "bottom": null,
            "_model_module": "@jupyter-widgets/base",
            "top": null,
            "grid_column": null,
            "overflow_y": null,
            "overflow_x": null,
            "grid_auto_flow": null,
            "grid_area": null,
            "grid_template_columns": null,
            "flex": null,
            "_model_name": "LayoutModel",
            "justify_items": null,
            "grid_row": null,
            "max_height": null,
            "align_content": null,
            "visibility": null,
            "align_self": null,
            "height": null,
            "min_height": null,
            "padding": null,
            "grid_auto_rows": null,
            "grid_gap": null,
            "max_width": null,
            "order": null,
            "_view_module_version": "1.2.0",
            "grid_template_areas": null,
            "object_position": null,
            "object_fit": null,
            "grid_auto_columns": null,
            "margin": null,
            "display": null,
            "left": null
          }
        },
        "d43173bb43654c1ba31381abd4c4eeb8": {
          "model_module": "@jupyter-widgets/controls",
          "model_name": "IntProgressModel",
          "state": {
            "_view_name": "ProgressView",
            "style": "IPY_MODEL_bfdbf3fa8a304f4a8a99c3c5d665c0cb",
            "_dom_classes": [],
            "description": "Feature extracion... [zcr]: 100%",
            "_model_name": "IntProgressModel",
            "bar_style": "info",
            "max": 1,
            "_view_module": "@jupyter-widgets/controls",
            "_model_module_version": "1.5.0",
            "value": 1,
            "_view_count": null,
            "_view_module_version": "1.5.0",
            "orientation": "horizontal",
            "min": 0,
            "description_tooltip": null,
            "_model_module": "@jupyter-widgets/controls",
            "layout": "IPY_MODEL_40cde511300b42d598bf2b411a06265e"
          }
        },
        "a5c60c87ac454ed59a0cbbcc85d1aa8d": {
          "model_module": "@jupyter-widgets/controls",
          "model_name": "HTMLModel",
          "state": {
            "_view_name": "HTMLView",
            "style": "IPY_MODEL_5f3756b0a9d44af99008ab4ae5f8570d",
            "_dom_classes": [],
            "description": "",
            "_model_name": "HTMLModel",
            "placeholder": "​",
            "_view_module": "@jupyter-widgets/controls",
            "_model_module_version": "1.5.0",
            "value": " 1800/1800 [00:15&lt;00:00, 665.10it/s]",
            "_view_count": null,
            "_view_module_version": "1.5.0",
            "description_tooltip": null,
            "_model_module": "@jupyter-widgets/controls",
            "layout": "IPY_MODEL_47fb2dd9be274841af974348801161f1"
          }
        },
        "bfdbf3fa8a304f4a8a99c3c5d665c0cb": {
          "model_module": "@jupyter-widgets/controls",
          "model_name": "ProgressStyleModel",
          "state": {
            "_view_name": "StyleView",
            "_model_name": "ProgressStyleModel",
            "description_width": "initial",
            "_view_module": "@jupyter-widgets/base",
            "_model_module_version": "1.5.0",
            "_view_count": null,
            "_view_module_version": "1.2.0",
            "bar_color": null,
            "_model_module": "@jupyter-widgets/controls"
          }
        },
        "40cde511300b42d598bf2b411a06265e": {
          "model_module": "@jupyter-widgets/base",
          "model_name": "LayoutModel",
          "state": {
            "_view_name": "LayoutView",
            "grid_template_rows": null,
            "right": null,
            "justify_content": null,
            "_view_module": "@jupyter-widgets/base",
            "overflow": null,
            "_model_module_version": "1.2.0",
            "_view_count": null,
            "flex_flow": null,
            "width": null,
            "min_width": null,
            "border": null,
            "align_items": null,
            "bottom": null,
            "_model_module": "@jupyter-widgets/base",
            "top": null,
            "grid_column": null,
            "overflow_y": null,
            "overflow_x": null,
            "grid_auto_flow": null,
            "grid_area": null,
            "grid_template_columns": null,
            "flex": null,
            "_model_name": "LayoutModel",
            "justify_items": null,
            "grid_row": null,
            "max_height": null,
            "align_content": null,
            "visibility": null,
            "align_self": null,
            "height": null,
            "min_height": null,
            "padding": null,
            "grid_auto_rows": null,
            "grid_gap": null,
            "max_width": null,
            "order": null,
            "_view_module_version": "1.2.0",
            "grid_template_areas": null,
            "object_position": null,
            "object_fit": null,
            "grid_auto_columns": null,
            "margin": null,
            "display": null,
            "left": null
          }
        },
        "5f3756b0a9d44af99008ab4ae5f8570d": {
          "model_module": "@jupyter-widgets/controls",
          "model_name": "DescriptionStyleModel",
          "state": {
            "_view_name": "StyleView",
            "_model_name": "DescriptionStyleModel",
            "description_width": "",
            "_view_module": "@jupyter-widgets/base",
            "_model_module_version": "1.5.0",
            "_view_count": null,
            "_view_module_version": "1.2.0",
            "_model_module": "@jupyter-widgets/controls"
          }
        },
        "47fb2dd9be274841af974348801161f1": {
          "model_module": "@jupyter-widgets/base",
          "model_name": "LayoutModel",
          "state": {
            "_view_name": "LayoutView",
            "grid_template_rows": null,
            "right": null,
            "justify_content": null,
            "_view_module": "@jupyter-widgets/base",
            "overflow": null,
            "_model_module_version": "1.2.0",
            "_view_count": null,
            "flex_flow": null,
            "width": null,
            "min_width": null,
            "border": null,
            "align_items": null,
            "bottom": null,
            "_model_module": "@jupyter-widgets/base",
            "top": null,
            "grid_column": null,
            "overflow_y": null,
            "overflow_x": null,
            "grid_auto_flow": null,
            "grid_area": null,
            "grid_template_columns": null,
            "flex": null,
            "_model_name": "LayoutModel",
            "justify_items": null,
            "grid_row": null,
            "max_height": null,
            "align_content": null,
            "visibility": null,
            "align_self": null,
            "height": null,
            "min_height": null,
            "padding": null,
            "grid_auto_rows": null,
            "grid_gap": null,
            "max_width": null,
            "order": null,
            "_view_module_version": "1.2.0",
            "grid_template_areas": null,
            "object_position": null,
            "object_fit": null,
            "grid_auto_columns": null,
            "margin": null,
            "display": null,
            "left": null
          }
        },
        "1b84423d5f68496987e63037191f70ec": {
          "model_module": "@jupyter-widgets/controls",
          "model_name": "HBoxModel",
          "state": {
            "_view_name": "HBoxView",
            "_dom_classes": [],
            "_model_name": "HBoxModel",
            "_view_module": "@jupyter-widgets/controls",
            "_model_module_version": "1.5.0",
            "_view_count": null,
            "_view_module_version": "1.5.0",
            "box_style": "",
            "layout": "IPY_MODEL_14062996519146df81e816706f6348d4",
            "_model_module": "@jupyter-widgets/controls",
            "children": [
              "IPY_MODEL_9df7c270b11f49b9973ec363747f0949",
              "IPY_MODEL_f7d1dee063d841c587eca8e650f9e82d"
            ]
          }
        },
        "14062996519146df81e816706f6348d4": {
          "model_module": "@jupyter-widgets/base",
          "model_name": "LayoutModel",
          "state": {
            "_view_name": "LayoutView",
            "grid_template_rows": null,
            "right": null,
            "justify_content": null,
            "_view_module": "@jupyter-widgets/base",
            "overflow": null,
            "_model_module_version": "1.2.0",
            "_view_count": null,
            "flex_flow": null,
            "width": null,
            "min_width": null,
            "border": null,
            "align_items": null,
            "bottom": null,
            "_model_module": "@jupyter-widgets/base",
            "top": null,
            "grid_column": null,
            "overflow_y": null,
            "overflow_x": null,
            "grid_auto_flow": null,
            "grid_area": null,
            "grid_template_columns": null,
            "flex": null,
            "_model_name": "LayoutModel",
            "justify_items": null,
            "grid_row": null,
            "max_height": null,
            "align_content": null,
            "visibility": null,
            "align_self": null,
            "height": null,
            "min_height": null,
            "padding": null,
            "grid_auto_rows": null,
            "grid_gap": null,
            "max_width": null,
            "order": null,
            "_view_module_version": "1.2.0",
            "grid_template_areas": null,
            "object_position": null,
            "object_fit": null,
            "grid_auto_columns": null,
            "margin": null,
            "display": null,
            "left": null
          }
        },
        "9df7c270b11f49b9973ec363747f0949": {
          "model_module": "@jupyter-widgets/controls",
          "model_name": "IntProgressModel",
          "state": {
            "_view_name": "ProgressView",
            "style": "IPY_MODEL_0152b12dc5da4099b88d8509e967f0c9",
            "_dom_classes": [],
            "description": "Feature extracion... [zcr+mfcc20]: 100%",
            "_model_name": "IntProgressModel",
            "bar_style": "info",
            "max": 1,
            "_view_module": "@jupyter-widgets/controls",
            "_model_module_version": "1.5.0",
            "value": 1,
            "_view_count": null,
            "_view_module_version": "1.5.0",
            "orientation": "horizontal",
            "min": 0,
            "description_tooltip": null,
            "_model_module": "@jupyter-widgets/controls",
            "layout": "IPY_MODEL_0bd862b065fb4c34a127bc5dfcaba5a9"
          }
        },
        "f7d1dee063d841c587eca8e650f9e82d": {
          "model_module": "@jupyter-widgets/controls",
          "model_name": "HTMLModel",
          "state": {
            "_view_name": "HTMLView",
            "style": "IPY_MODEL_8d3c22c3a2194beb8cad4748c05b1393",
            "_dom_classes": [],
            "description": "",
            "_model_name": "HTMLModel",
            "placeholder": "​",
            "_view_module": "@jupyter-widgets/controls",
            "_model_module_version": "1.5.0",
            "value": " 1800/1800 [00:22&lt;00:00, 196.38it/s]",
            "_view_count": null,
            "_view_module_version": "1.5.0",
            "description_tooltip": null,
            "_model_module": "@jupyter-widgets/controls",
            "layout": "IPY_MODEL_dfc9a910ff4e4136a05aeaa9a3a794b1"
          }
        },
        "0152b12dc5da4099b88d8509e967f0c9": {
          "model_module": "@jupyter-widgets/controls",
          "model_name": "ProgressStyleModel",
          "state": {
            "_view_name": "StyleView",
            "_model_name": "ProgressStyleModel",
            "description_width": "initial",
            "_view_module": "@jupyter-widgets/base",
            "_model_module_version": "1.5.0",
            "_view_count": null,
            "_view_module_version": "1.2.0",
            "bar_color": null,
            "_model_module": "@jupyter-widgets/controls"
          }
        },
        "0bd862b065fb4c34a127bc5dfcaba5a9": {
          "model_module": "@jupyter-widgets/base",
          "model_name": "LayoutModel",
          "state": {
            "_view_name": "LayoutView",
            "grid_template_rows": null,
            "right": null,
            "justify_content": null,
            "_view_module": "@jupyter-widgets/base",
            "overflow": null,
            "_model_module_version": "1.2.0",
            "_view_count": null,
            "flex_flow": null,
            "width": null,
            "min_width": null,
            "border": null,
            "align_items": null,
            "bottom": null,
            "_model_module": "@jupyter-widgets/base",
            "top": null,
            "grid_column": null,
            "overflow_y": null,
            "overflow_x": null,
            "grid_auto_flow": null,
            "grid_area": null,
            "grid_template_columns": null,
            "flex": null,
            "_model_name": "LayoutModel",
            "justify_items": null,
            "grid_row": null,
            "max_height": null,
            "align_content": null,
            "visibility": null,
            "align_self": null,
            "height": null,
            "min_height": null,
            "padding": null,
            "grid_auto_rows": null,
            "grid_gap": null,
            "max_width": null,
            "order": null,
            "_view_module_version": "1.2.0",
            "grid_template_areas": null,
            "object_position": null,
            "object_fit": null,
            "grid_auto_columns": null,
            "margin": null,
            "display": null,
            "left": null
          }
        },
        "8d3c22c3a2194beb8cad4748c05b1393": {
          "model_module": "@jupyter-widgets/controls",
          "model_name": "DescriptionStyleModel",
          "state": {
            "_view_name": "StyleView",
            "_model_name": "DescriptionStyleModel",
            "description_width": "",
            "_view_module": "@jupyter-widgets/base",
            "_model_module_version": "1.5.0",
            "_view_count": null,
            "_view_module_version": "1.2.0",
            "_model_module": "@jupyter-widgets/controls"
          }
        },
        "dfc9a910ff4e4136a05aeaa9a3a794b1": {
          "model_module": "@jupyter-widgets/base",
          "model_name": "LayoutModel",
          "state": {
            "_view_name": "LayoutView",
            "grid_template_rows": null,
            "right": null,
            "justify_content": null,
            "_view_module": "@jupyter-widgets/base",
            "overflow": null,
            "_model_module_version": "1.2.0",
            "_view_count": null,
            "flex_flow": null,
            "width": null,
            "min_width": null,
            "border": null,
            "align_items": null,
            "bottom": null,
            "_model_module": "@jupyter-widgets/base",
            "top": null,
            "grid_column": null,
            "overflow_y": null,
            "overflow_x": null,
            "grid_auto_flow": null,
            "grid_area": null,
            "grid_template_columns": null,
            "flex": null,
            "_model_name": "LayoutModel",
            "justify_items": null,
            "grid_row": null,
            "max_height": null,
            "align_content": null,
            "visibility": null,
            "align_self": null,
            "height": null,
            "min_height": null,
            "padding": null,
            "grid_auto_rows": null,
            "grid_gap": null,
            "max_width": null,
            "order": null,
            "_view_module_version": "1.2.0",
            "grid_template_areas": null,
            "object_position": null,
            "object_fit": null,
            "grid_auto_columns": null,
            "margin": null,
            "display": null,
            "left": null
          }
        },
        "088e6764bffe44cf8572a8032e4244c7": {
          "model_module": "@jupyter-widgets/controls",
          "model_name": "HBoxModel",
          "state": {
            "_view_name": "HBoxView",
            "_dom_classes": [],
            "_model_name": "HBoxModel",
            "_view_module": "@jupyter-widgets/controls",
            "_model_module_version": "1.5.0",
            "_view_count": null,
            "_view_module_version": "1.5.0",
            "box_style": "",
            "layout": "IPY_MODEL_94bc0baa17b8426190a9bed06ce499bb",
            "_model_module": "@jupyter-widgets/controls",
            "children": [
              "IPY_MODEL_975aa92ebc69404e833590d0e66a3a5d",
              "IPY_MODEL_7b851d3cb1d64417b6e7aa572737fc02"
            ]
          }
        },
        "94bc0baa17b8426190a9bed06ce499bb": {
          "model_module": "@jupyter-widgets/base",
          "model_name": "LayoutModel",
          "state": {
            "_view_name": "LayoutView",
            "grid_template_rows": null,
            "right": null,
            "justify_content": null,
            "_view_module": "@jupyter-widgets/base",
            "overflow": null,
            "_model_module_version": "1.2.0",
            "_view_count": null,
            "flex_flow": null,
            "width": null,
            "min_width": null,
            "border": null,
            "align_items": null,
            "bottom": null,
            "_model_module": "@jupyter-widgets/base",
            "top": null,
            "grid_column": null,
            "overflow_y": null,
            "overflow_x": null,
            "grid_auto_flow": null,
            "grid_area": null,
            "grid_template_columns": null,
            "flex": null,
            "_model_name": "LayoutModel",
            "justify_items": null,
            "grid_row": null,
            "max_height": null,
            "align_content": null,
            "visibility": null,
            "align_self": null,
            "height": null,
            "min_height": null,
            "padding": null,
            "grid_auto_rows": null,
            "grid_gap": null,
            "max_width": null,
            "order": null,
            "_view_module_version": "1.2.0",
            "grid_template_areas": null,
            "object_position": null,
            "object_fit": null,
            "grid_auto_columns": null,
            "margin": null,
            "display": null,
            "left": null
          }
        },
        "975aa92ebc69404e833590d0e66a3a5d": {
          "model_module": "@jupyter-widgets/controls",
          "model_name": "IntProgressModel",
          "state": {
            "_view_name": "ProgressView",
            "style": "IPY_MODEL_f5069920a8e742649093c66eb8f90410",
            "_dom_classes": [],
            "description": "Feature extracion... [mfcc13]: 100%",
            "_model_name": "IntProgressModel",
            "bar_style": "success",
            "max": 1,
            "_view_module": "@jupyter-widgets/controls",
            "_model_module_version": "1.5.0",
            "value": 1,
            "_view_count": null,
            "_view_module_version": "1.5.0",
            "orientation": "horizontal",
            "min": 0,
            "description_tooltip": null,
            "_model_module": "@jupyter-widgets/controls",
            "layout": "IPY_MODEL_b3988c394bbf4c5d841479d25b255e34"
          }
        },
        "7b851d3cb1d64417b6e7aa572737fc02": {
          "model_module": "@jupyter-widgets/controls",
          "model_name": "HTMLModel",
          "state": {
            "_view_name": "HTMLView",
            "style": "IPY_MODEL_f8ea48da80e0405aa86b9aeac2a95a69",
            "_dom_classes": [],
            "description": "",
            "_model_name": "HTMLModel",
            "placeholder": "​",
            "_view_module": "@jupyter-widgets/controls",
            "_model_module_version": "1.5.0",
            "value": " 200/200 [00:00&lt;00:00, 309.70it/s]",
            "_view_count": null,
            "_view_module_version": "1.5.0",
            "description_tooltip": null,
            "_model_module": "@jupyter-widgets/controls",
            "layout": "IPY_MODEL_2e3fb97c4f184160a8058a3bc052b63f"
          }
        },
        "f5069920a8e742649093c66eb8f90410": {
          "model_module": "@jupyter-widgets/controls",
          "model_name": "ProgressStyleModel",
          "state": {
            "_view_name": "StyleView",
            "_model_name": "ProgressStyleModel",
            "description_width": "initial",
            "_view_module": "@jupyter-widgets/base",
            "_model_module_version": "1.5.0",
            "_view_count": null,
            "_view_module_version": "1.2.0",
            "bar_color": null,
            "_model_module": "@jupyter-widgets/controls"
          }
        },
        "b3988c394bbf4c5d841479d25b255e34": {
          "model_module": "@jupyter-widgets/base",
          "model_name": "LayoutModel",
          "state": {
            "_view_name": "LayoutView",
            "grid_template_rows": null,
            "right": null,
            "justify_content": null,
            "_view_module": "@jupyter-widgets/base",
            "overflow": null,
            "_model_module_version": "1.2.0",
            "_view_count": null,
            "flex_flow": null,
            "width": null,
            "min_width": null,
            "border": null,
            "align_items": null,
            "bottom": null,
            "_model_module": "@jupyter-widgets/base",
            "top": null,
            "grid_column": null,
            "overflow_y": null,
            "overflow_x": null,
            "grid_auto_flow": null,
            "grid_area": null,
            "grid_template_columns": null,
            "flex": null,
            "_model_name": "LayoutModel",
            "justify_items": null,
            "grid_row": null,
            "max_height": null,
            "align_content": null,
            "visibility": null,
            "align_self": null,
            "height": null,
            "min_height": null,
            "padding": null,
            "grid_auto_rows": null,
            "grid_gap": null,
            "max_width": null,
            "order": null,
            "_view_module_version": "1.2.0",
            "grid_template_areas": null,
            "object_position": null,
            "object_fit": null,
            "grid_auto_columns": null,
            "margin": null,
            "display": null,
            "left": null
          }
        },
        "f8ea48da80e0405aa86b9aeac2a95a69": {
          "model_module": "@jupyter-widgets/controls",
          "model_name": "DescriptionStyleModel",
          "state": {
            "_view_name": "StyleView",
            "_model_name": "DescriptionStyleModel",
            "description_width": "",
            "_view_module": "@jupyter-widgets/base",
            "_model_module_version": "1.5.0",
            "_view_count": null,
            "_view_module_version": "1.2.0",
            "_model_module": "@jupyter-widgets/controls"
          }
        },
        "2e3fb97c4f184160a8058a3bc052b63f": {
          "model_module": "@jupyter-widgets/base",
          "model_name": "LayoutModel",
          "state": {
            "_view_name": "LayoutView",
            "grid_template_rows": null,
            "right": null,
            "justify_content": null,
            "_view_module": "@jupyter-widgets/base",
            "overflow": null,
            "_model_module_version": "1.2.0",
            "_view_count": null,
            "flex_flow": null,
            "width": null,
            "min_width": null,
            "border": null,
            "align_items": null,
            "bottom": null,
            "_model_module": "@jupyter-widgets/base",
            "top": null,
            "grid_column": null,
            "overflow_y": null,
            "overflow_x": null,
            "grid_auto_flow": null,
            "grid_area": null,
            "grid_template_columns": null,
            "flex": null,
            "_model_name": "LayoutModel",
            "justify_items": null,
            "grid_row": null,
            "max_height": null,
            "align_content": null,
            "visibility": null,
            "align_self": null,
            "height": null,
            "min_height": null,
            "padding": null,
            "grid_auto_rows": null,
            "grid_gap": null,
            "max_width": null,
            "order": null,
            "_view_module_version": "1.2.0",
            "grid_template_areas": null,
            "object_position": null,
            "object_fit": null,
            "grid_auto_columns": null,
            "margin": null,
            "display": null,
            "left": null
          }
        },
        "24368f0400d34280a7acdb15cadc4853": {
          "model_module": "@jupyter-widgets/controls",
          "model_name": "HBoxModel",
          "state": {
            "_view_name": "HBoxView",
            "_dom_classes": [],
            "_model_name": "HBoxModel",
            "_view_module": "@jupyter-widgets/controls",
            "_model_module_version": "1.5.0",
            "_view_count": null,
            "_view_module_version": "1.5.0",
            "box_style": "",
            "layout": "IPY_MODEL_23572bd9dd4845eca1cf839af46f7c07",
            "_model_module": "@jupyter-widgets/controls",
            "children": [
              "IPY_MODEL_1723ec9866d9484fbee607935cd85f69",
              "IPY_MODEL_47dc927ae67444a4ab825d9e4fbdea58"
            ]
          }
        },
        "23572bd9dd4845eca1cf839af46f7c07": {
          "model_module": "@jupyter-widgets/base",
          "model_name": "LayoutModel",
          "state": {
            "_view_name": "LayoutView",
            "grid_template_rows": null,
            "right": null,
            "justify_content": null,
            "_view_module": "@jupyter-widgets/base",
            "overflow": null,
            "_model_module_version": "1.2.0",
            "_view_count": null,
            "flex_flow": null,
            "width": null,
            "min_width": null,
            "border": null,
            "align_items": null,
            "bottom": null,
            "_model_module": "@jupyter-widgets/base",
            "top": null,
            "grid_column": null,
            "overflow_y": null,
            "overflow_x": null,
            "grid_auto_flow": null,
            "grid_area": null,
            "grid_template_columns": null,
            "flex": null,
            "_model_name": "LayoutModel",
            "justify_items": null,
            "grid_row": null,
            "max_height": null,
            "align_content": null,
            "visibility": null,
            "align_self": null,
            "height": null,
            "min_height": null,
            "padding": null,
            "grid_auto_rows": null,
            "grid_gap": null,
            "max_width": null,
            "order": null,
            "_view_module_version": "1.2.0",
            "grid_template_areas": null,
            "object_position": null,
            "object_fit": null,
            "grid_auto_columns": null,
            "margin": null,
            "display": null,
            "left": null
          }
        },
        "1723ec9866d9484fbee607935cd85f69": {
          "model_module": "@jupyter-widgets/controls",
          "model_name": "IntProgressModel",
          "state": {
            "_view_name": "ProgressView",
            "style": "IPY_MODEL_563c41a9f6034887818127fbc146bf71",
            "_dom_classes": [],
            "description": "Feature extracion... [mfcc20]: 100%",
            "_model_name": "IntProgressModel",
            "bar_style": "success",
            "max": 1,
            "_view_module": "@jupyter-widgets/controls",
            "_model_module_version": "1.5.0",
            "value": 1,
            "_view_count": null,
            "_view_module_version": "1.5.0",
            "orientation": "horizontal",
            "min": 0,
            "description_tooltip": null,
            "_model_module": "@jupyter-widgets/controls",
            "layout": "IPY_MODEL_cc90339d428b4fbfadefa6ef0177ea35"
          }
        },
        "47dc927ae67444a4ab825d9e4fbdea58": {
          "model_module": "@jupyter-widgets/controls",
          "model_name": "HTMLModel",
          "state": {
            "_view_name": "HTMLView",
            "style": "IPY_MODEL_299684eeea7241ed90870b3e3bfd41fc",
            "_dom_classes": [],
            "description": "",
            "_model_name": "HTMLModel",
            "placeholder": "​",
            "_view_module": "@jupyter-widgets/controls",
            "_model_module_version": "1.5.0",
            "value": " 200/200 [00:00&lt;00:00, 314.75it/s]",
            "_view_count": null,
            "_view_module_version": "1.5.0",
            "description_tooltip": null,
            "_model_module": "@jupyter-widgets/controls",
            "layout": "IPY_MODEL_e3a481e38101466ca0e277d437348c6a"
          }
        },
        "563c41a9f6034887818127fbc146bf71": {
          "model_module": "@jupyter-widgets/controls",
          "model_name": "ProgressStyleModel",
          "state": {
            "_view_name": "StyleView",
            "_model_name": "ProgressStyleModel",
            "description_width": "initial",
            "_view_module": "@jupyter-widgets/base",
            "_model_module_version": "1.5.0",
            "_view_count": null,
            "_view_module_version": "1.2.0",
            "bar_color": null,
            "_model_module": "@jupyter-widgets/controls"
          }
        },
        "cc90339d428b4fbfadefa6ef0177ea35": {
          "model_module": "@jupyter-widgets/base",
          "model_name": "LayoutModel",
          "state": {
            "_view_name": "LayoutView",
            "grid_template_rows": null,
            "right": null,
            "justify_content": null,
            "_view_module": "@jupyter-widgets/base",
            "overflow": null,
            "_model_module_version": "1.2.0",
            "_view_count": null,
            "flex_flow": null,
            "width": null,
            "min_width": null,
            "border": null,
            "align_items": null,
            "bottom": null,
            "_model_module": "@jupyter-widgets/base",
            "top": null,
            "grid_column": null,
            "overflow_y": null,
            "overflow_x": null,
            "grid_auto_flow": null,
            "grid_area": null,
            "grid_template_columns": null,
            "flex": null,
            "_model_name": "LayoutModel",
            "justify_items": null,
            "grid_row": null,
            "max_height": null,
            "align_content": null,
            "visibility": null,
            "align_self": null,
            "height": null,
            "min_height": null,
            "padding": null,
            "grid_auto_rows": null,
            "grid_gap": null,
            "max_width": null,
            "order": null,
            "_view_module_version": "1.2.0",
            "grid_template_areas": null,
            "object_position": null,
            "object_fit": null,
            "grid_auto_columns": null,
            "margin": null,
            "display": null,
            "left": null
          }
        },
        "299684eeea7241ed90870b3e3bfd41fc": {
          "model_module": "@jupyter-widgets/controls",
          "model_name": "DescriptionStyleModel",
          "state": {
            "_view_name": "StyleView",
            "_model_name": "DescriptionStyleModel",
            "description_width": "",
            "_view_module": "@jupyter-widgets/base",
            "_model_module_version": "1.5.0",
            "_view_count": null,
            "_view_module_version": "1.2.0",
            "_model_module": "@jupyter-widgets/controls"
          }
        },
        "e3a481e38101466ca0e277d437348c6a": {
          "model_module": "@jupyter-widgets/base",
          "model_name": "LayoutModel",
          "state": {
            "_view_name": "LayoutView",
            "grid_template_rows": null,
            "right": null,
            "justify_content": null,
            "_view_module": "@jupyter-widgets/base",
            "overflow": null,
            "_model_module_version": "1.2.0",
            "_view_count": null,
            "flex_flow": null,
            "width": null,
            "min_width": null,
            "border": null,
            "align_items": null,
            "bottom": null,
            "_model_module": "@jupyter-widgets/base",
            "top": null,
            "grid_column": null,
            "overflow_y": null,
            "overflow_x": null,
            "grid_auto_flow": null,
            "grid_area": null,
            "grid_template_columns": null,
            "flex": null,
            "_model_name": "LayoutModel",
            "justify_items": null,
            "grid_row": null,
            "max_height": null,
            "align_content": null,
            "visibility": null,
            "align_self": null,
            "height": null,
            "min_height": null,
            "padding": null,
            "grid_auto_rows": null,
            "grid_gap": null,
            "max_width": null,
            "order": null,
            "_view_module_version": "1.2.0",
            "grid_template_areas": null,
            "object_position": null,
            "object_fit": null,
            "grid_auto_columns": null,
            "margin": null,
            "display": null,
            "left": null
          }
        },
        "11289cbb53134215a7aa119126eb4972": {
          "model_module": "@jupyter-widgets/controls",
          "model_name": "HBoxModel",
          "state": {
            "_view_name": "HBoxView",
            "_dom_classes": [],
            "_model_name": "HBoxModel",
            "_view_module": "@jupyter-widgets/controls",
            "_model_module_version": "1.5.0",
            "_view_count": null,
            "_view_module_version": "1.5.0",
            "box_style": "",
            "layout": "IPY_MODEL_61d70af52f27448ab6cb31b8c6097297",
            "_model_module": "@jupyter-widgets/controls",
            "children": [
              "IPY_MODEL_22c372daa6134f1e88313a7f96e2f201",
              "IPY_MODEL_0710eace6d904c58b72cce0358647ef2"
            ]
          }
        },
        "61d70af52f27448ab6cb31b8c6097297": {
          "model_module": "@jupyter-widgets/base",
          "model_name": "LayoutModel",
          "state": {
            "_view_name": "LayoutView",
            "grid_template_rows": null,
            "right": null,
            "justify_content": null,
            "_view_module": "@jupyter-widgets/base",
            "overflow": null,
            "_model_module_version": "1.2.0",
            "_view_count": null,
            "flex_flow": null,
            "width": null,
            "min_width": null,
            "border": null,
            "align_items": null,
            "bottom": null,
            "_model_module": "@jupyter-widgets/base",
            "top": null,
            "grid_column": null,
            "overflow_y": null,
            "overflow_x": null,
            "grid_auto_flow": null,
            "grid_area": null,
            "grid_template_columns": null,
            "flex": null,
            "_model_name": "LayoutModel",
            "justify_items": null,
            "grid_row": null,
            "max_height": null,
            "align_content": null,
            "visibility": null,
            "align_self": null,
            "height": null,
            "min_height": null,
            "padding": null,
            "grid_auto_rows": null,
            "grid_gap": null,
            "max_width": null,
            "order": null,
            "_view_module_version": "1.2.0",
            "grid_template_areas": null,
            "object_position": null,
            "object_fit": null,
            "grid_auto_columns": null,
            "margin": null,
            "display": null,
            "left": null
          }
        },
        "22c372daa6134f1e88313a7f96e2f201": {
          "model_module": "@jupyter-widgets/controls",
          "model_name": "IntProgressModel",
          "state": {
            "_view_name": "ProgressView",
            "style": "IPY_MODEL_2b7101da794c4551ae34cca55e91dafa",
            "_dom_classes": [],
            "description": "Feature extracion... [zcr]: 100%",
            "_model_name": "IntProgressModel",
            "bar_style": "success",
            "max": 1,
            "_view_module": "@jupyter-widgets/controls",
            "_model_module_version": "1.5.0",
            "value": 1,
            "_view_count": null,
            "_view_module_version": "1.5.0",
            "orientation": "horizontal",
            "min": 0,
            "description_tooltip": null,
            "_model_module": "@jupyter-widgets/controls",
            "layout": "IPY_MODEL_9e18614a224b493fac7a5a129c9ef900"
          }
        },
        "0710eace6d904c58b72cce0358647ef2": {
          "model_module": "@jupyter-widgets/controls",
          "model_name": "HTMLModel",
          "state": {
            "_view_name": "HTMLView",
            "style": "IPY_MODEL_c479ae570c3d420683a83b7f37924488",
            "_dom_classes": [],
            "description": "",
            "_model_name": "HTMLModel",
            "placeholder": "​",
            "_view_module": "@jupyter-widgets/controls",
            "_model_module_version": "1.5.0",
            "value": " 200/200 [00:00&lt;00:00, 466.18it/s]",
            "_view_count": null,
            "_view_module_version": "1.5.0",
            "description_tooltip": null,
            "_model_module": "@jupyter-widgets/controls",
            "layout": "IPY_MODEL_8b90bbff572048e7b644407da6f82002"
          }
        },
        "2b7101da794c4551ae34cca55e91dafa": {
          "model_module": "@jupyter-widgets/controls",
          "model_name": "ProgressStyleModel",
          "state": {
            "_view_name": "StyleView",
            "_model_name": "ProgressStyleModel",
            "description_width": "initial",
            "_view_module": "@jupyter-widgets/base",
            "_model_module_version": "1.5.0",
            "_view_count": null,
            "_view_module_version": "1.2.0",
            "bar_color": null,
            "_model_module": "@jupyter-widgets/controls"
          }
        },
        "9e18614a224b493fac7a5a129c9ef900": {
          "model_module": "@jupyter-widgets/base",
          "model_name": "LayoutModel",
          "state": {
            "_view_name": "LayoutView",
            "grid_template_rows": null,
            "right": null,
            "justify_content": null,
            "_view_module": "@jupyter-widgets/base",
            "overflow": null,
            "_model_module_version": "1.2.0",
            "_view_count": null,
            "flex_flow": null,
            "width": null,
            "min_width": null,
            "border": null,
            "align_items": null,
            "bottom": null,
            "_model_module": "@jupyter-widgets/base",
            "top": null,
            "grid_column": null,
            "overflow_y": null,
            "overflow_x": null,
            "grid_auto_flow": null,
            "grid_area": null,
            "grid_template_columns": null,
            "flex": null,
            "_model_name": "LayoutModel",
            "justify_items": null,
            "grid_row": null,
            "max_height": null,
            "align_content": null,
            "visibility": null,
            "align_self": null,
            "height": null,
            "min_height": null,
            "padding": null,
            "grid_auto_rows": null,
            "grid_gap": null,
            "max_width": null,
            "order": null,
            "_view_module_version": "1.2.0",
            "grid_template_areas": null,
            "object_position": null,
            "object_fit": null,
            "grid_auto_columns": null,
            "margin": null,
            "display": null,
            "left": null
          }
        },
        "c479ae570c3d420683a83b7f37924488": {
          "model_module": "@jupyter-widgets/controls",
          "model_name": "DescriptionStyleModel",
          "state": {
            "_view_name": "StyleView",
            "_model_name": "DescriptionStyleModel",
            "description_width": "",
            "_view_module": "@jupyter-widgets/base",
            "_model_module_version": "1.5.0",
            "_view_count": null,
            "_view_module_version": "1.2.0",
            "_model_module": "@jupyter-widgets/controls"
          }
        },
        "8b90bbff572048e7b644407da6f82002": {
          "model_module": "@jupyter-widgets/base",
          "model_name": "LayoutModel",
          "state": {
            "_view_name": "LayoutView",
            "grid_template_rows": null,
            "right": null,
            "justify_content": null,
            "_view_module": "@jupyter-widgets/base",
            "overflow": null,
            "_model_module_version": "1.2.0",
            "_view_count": null,
            "flex_flow": null,
            "width": null,
            "min_width": null,
            "border": null,
            "align_items": null,
            "bottom": null,
            "_model_module": "@jupyter-widgets/base",
            "top": null,
            "grid_column": null,
            "overflow_y": null,
            "overflow_x": null,
            "grid_auto_flow": null,
            "grid_area": null,
            "grid_template_columns": null,
            "flex": null,
            "_model_name": "LayoutModel",
            "justify_items": null,
            "grid_row": null,
            "max_height": null,
            "align_content": null,
            "visibility": null,
            "align_self": null,
            "height": null,
            "min_height": null,
            "padding": null,
            "grid_auto_rows": null,
            "grid_gap": null,
            "max_width": null,
            "order": null,
            "_view_module_version": "1.2.0",
            "grid_template_areas": null,
            "object_position": null,
            "object_fit": null,
            "grid_auto_columns": null,
            "margin": null,
            "display": null,
            "left": null
          }
        },
        "3e213436481c422fadd0a5627a3a544c": {
          "model_module": "@jupyter-widgets/controls",
          "model_name": "HBoxModel",
          "state": {
            "_view_name": "HBoxView",
            "_dom_classes": [],
            "_model_name": "HBoxModel",
            "_view_module": "@jupyter-widgets/controls",
            "_model_module_version": "1.5.0",
            "_view_count": null,
            "_view_module_version": "1.5.0",
            "box_style": "",
            "layout": "IPY_MODEL_7ef54bbe60e8417595ad9a25625d28f1",
            "_model_module": "@jupyter-widgets/controls",
            "children": [
              "IPY_MODEL_2ffd37108dc64b15a1227310d6ae3f1d",
              "IPY_MODEL_3921edae39284314ac2cdc4b382a045c"
            ]
          }
        },
        "7ef54bbe60e8417595ad9a25625d28f1": {
          "model_module": "@jupyter-widgets/base",
          "model_name": "LayoutModel",
          "state": {
            "_view_name": "LayoutView",
            "grid_template_rows": null,
            "right": null,
            "justify_content": null,
            "_view_module": "@jupyter-widgets/base",
            "overflow": null,
            "_model_module_version": "1.2.0",
            "_view_count": null,
            "flex_flow": null,
            "width": null,
            "min_width": null,
            "border": null,
            "align_items": null,
            "bottom": null,
            "_model_module": "@jupyter-widgets/base",
            "top": null,
            "grid_column": null,
            "overflow_y": null,
            "overflow_x": null,
            "grid_auto_flow": null,
            "grid_area": null,
            "grid_template_columns": null,
            "flex": null,
            "_model_name": "LayoutModel",
            "justify_items": null,
            "grid_row": null,
            "max_height": null,
            "align_content": null,
            "visibility": null,
            "align_self": null,
            "height": null,
            "min_height": null,
            "padding": null,
            "grid_auto_rows": null,
            "grid_gap": null,
            "max_width": null,
            "order": null,
            "_view_module_version": "1.2.0",
            "grid_template_areas": null,
            "object_position": null,
            "object_fit": null,
            "grid_auto_columns": null,
            "margin": null,
            "display": null,
            "left": null
          }
        },
        "2ffd37108dc64b15a1227310d6ae3f1d": {
          "model_module": "@jupyter-widgets/controls",
          "model_name": "IntProgressModel",
          "state": {
            "_view_name": "ProgressView",
            "style": "IPY_MODEL_a2f0387e24c94538a44bfa47e5da0ec0",
            "_dom_classes": [],
            "description": "Feature extracion... [zcr+mfcc20]: 100%",
            "_model_name": "IntProgressModel",
            "bar_style": "success",
            "max": 1,
            "_view_module": "@jupyter-widgets/controls",
            "_model_module_version": "1.5.0",
            "value": 1,
            "_view_count": null,
            "_view_module_version": "1.5.0",
            "orientation": "horizontal",
            "min": 0,
            "description_tooltip": null,
            "_model_module": "@jupyter-widgets/controls",
            "layout": "IPY_MODEL_655b84d4c1cf4a6c899bfde010fe5336"
          }
        },
        "3921edae39284314ac2cdc4b382a045c": {
          "model_module": "@jupyter-widgets/controls",
          "model_name": "HTMLModel",
          "state": {
            "_view_name": "HTMLView",
            "style": "IPY_MODEL_33c4c711bea04bf48f7173417817eeba",
            "_dom_classes": [],
            "description": "",
            "_model_name": "HTMLModel",
            "placeholder": "​",
            "_view_module": "@jupyter-widgets/controls",
            "_model_module_version": "1.5.0",
            "value": " 200/200 [00:01&lt;00:00, 165.99it/s]",
            "_view_count": null,
            "_view_module_version": "1.5.0",
            "description_tooltip": null,
            "_model_module": "@jupyter-widgets/controls",
            "layout": "IPY_MODEL_6f2b62055f7846478fc86d68e69ac623"
          }
        },
        "a2f0387e24c94538a44bfa47e5da0ec0": {
          "model_module": "@jupyter-widgets/controls",
          "model_name": "ProgressStyleModel",
          "state": {
            "_view_name": "StyleView",
            "_model_name": "ProgressStyleModel",
            "description_width": "initial",
            "_view_module": "@jupyter-widgets/base",
            "_model_module_version": "1.5.0",
            "_view_count": null,
            "_view_module_version": "1.2.0",
            "bar_color": null,
            "_model_module": "@jupyter-widgets/controls"
          }
        },
        "655b84d4c1cf4a6c899bfde010fe5336": {
          "model_module": "@jupyter-widgets/base",
          "model_name": "LayoutModel",
          "state": {
            "_view_name": "LayoutView",
            "grid_template_rows": null,
            "right": null,
            "justify_content": null,
            "_view_module": "@jupyter-widgets/base",
            "overflow": null,
            "_model_module_version": "1.2.0",
            "_view_count": null,
            "flex_flow": null,
            "width": null,
            "min_width": null,
            "border": null,
            "align_items": null,
            "bottom": null,
            "_model_module": "@jupyter-widgets/base",
            "top": null,
            "grid_column": null,
            "overflow_y": null,
            "overflow_x": null,
            "grid_auto_flow": null,
            "grid_area": null,
            "grid_template_columns": null,
            "flex": null,
            "_model_name": "LayoutModel",
            "justify_items": null,
            "grid_row": null,
            "max_height": null,
            "align_content": null,
            "visibility": null,
            "align_self": null,
            "height": null,
            "min_height": null,
            "padding": null,
            "grid_auto_rows": null,
            "grid_gap": null,
            "max_width": null,
            "order": null,
            "_view_module_version": "1.2.0",
            "grid_template_areas": null,
            "object_position": null,
            "object_fit": null,
            "grid_auto_columns": null,
            "margin": null,
            "display": null,
            "left": null
          }
        },
        "33c4c711bea04bf48f7173417817eeba": {
          "model_module": "@jupyter-widgets/controls",
          "model_name": "DescriptionStyleModel",
          "state": {
            "_view_name": "StyleView",
            "_model_name": "DescriptionStyleModel",
            "description_width": "",
            "_view_module": "@jupyter-widgets/base",
            "_model_module_version": "1.5.0",
            "_view_count": null,
            "_view_module_version": "1.2.0",
            "_model_module": "@jupyter-widgets/controls"
          }
        },
        "6f2b62055f7846478fc86d68e69ac623": {
          "model_module": "@jupyter-widgets/base",
          "model_name": "LayoutModel",
          "state": {
            "_view_name": "LayoutView",
            "grid_template_rows": null,
            "right": null,
            "justify_content": null,
            "_view_module": "@jupyter-widgets/base",
            "overflow": null,
            "_model_module_version": "1.2.0",
            "_view_count": null,
            "flex_flow": null,
            "width": null,
            "min_width": null,
            "border": null,
            "align_items": null,
            "bottom": null,
            "_model_module": "@jupyter-widgets/base",
            "top": null,
            "grid_column": null,
            "overflow_y": null,
            "overflow_x": null,
            "grid_auto_flow": null,
            "grid_area": null,
            "grid_template_columns": null,
            "flex": null,
            "_model_name": "LayoutModel",
            "justify_items": null,
            "grid_row": null,
            "max_height": null,
            "align_content": null,
            "visibility": null,
            "align_self": null,
            "height": null,
            "min_height": null,
            "padding": null,
            "grid_auto_rows": null,
            "grid_gap": null,
            "max_width": null,
            "order": null,
            "_view_module_version": "1.2.0",
            "grid_template_areas": null,
            "object_position": null,
            "object_fit": null,
            "grid_auto_columns": null,
            "margin": null,
            "display": null,
            "left": null
          }
        },
        "7008da0e5a774cf289038b469a2d5856": {
          "model_module": "@jupyter-widgets/controls",
          "model_name": "HBoxModel",
          "state": {
            "_view_name": "HBoxView",
            "_dom_classes": [],
            "_model_name": "HBoxModel",
            "_view_module": "@jupyter-widgets/controls",
            "_model_module_version": "1.5.0",
            "_view_count": null,
            "_view_module_version": "1.5.0",
            "box_style": "",
            "layout": "IPY_MODEL_45e94a087c34403da8ef27301cc41970",
            "_model_module": "@jupyter-widgets/controls",
            "children": [
              "IPY_MODEL_2a6b7f3f89b445e789160cb0d8b32c45",
              "IPY_MODEL_7c3c0d1db2e74a2484c37e315ed7314a"
            ]
          }
        },
        "45e94a087c34403da8ef27301cc41970": {
          "model_module": "@jupyter-widgets/base",
          "model_name": "LayoutModel",
          "state": {
            "_view_name": "LayoutView",
            "grid_template_rows": null,
            "right": null,
            "justify_content": null,
            "_view_module": "@jupyter-widgets/base",
            "overflow": null,
            "_model_module_version": "1.2.0",
            "_view_count": null,
            "flex_flow": null,
            "width": null,
            "min_width": null,
            "border": null,
            "align_items": null,
            "bottom": null,
            "_model_module": "@jupyter-widgets/base",
            "top": null,
            "grid_column": null,
            "overflow_y": null,
            "overflow_x": null,
            "grid_auto_flow": null,
            "grid_area": null,
            "grid_template_columns": null,
            "flex": null,
            "_model_name": "LayoutModel",
            "justify_items": null,
            "grid_row": null,
            "max_height": null,
            "align_content": null,
            "visibility": null,
            "align_self": null,
            "height": null,
            "min_height": null,
            "padding": null,
            "grid_auto_rows": null,
            "grid_gap": null,
            "max_width": null,
            "order": null,
            "_view_module_version": "1.2.0",
            "grid_template_areas": null,
            "object_position": null,
            "object_fit": null,
            "grid_auto_columns": null,
            "margin": null,
            "display": null,
            "left": null
          }
        },
        "2a6b7f3f89b445e789160cb0d8b32c45": {
          "model_module": "@jupyter-widgets/controls",
          "model_name": "IntProgressModel",
          "state": {
            "_view_name": "ProgressView",
            "style": "IPY_MODEL_3bb27f22d77944a196928bb696b4014d",
            "_dom_classes": [],
            "description": "Feature extracion... [mfcc13]: 100%",
            "_model_name": "IntProgressModel",
            "bar_style": "success",
            "max": 1,
            "_view_module": "@jupyter-widgets/controls",
            "_model_module_version": "1.5.0",
            "value": 1,
            "_view_count": null,
            "_view_module_version": "1.5.0",
            "orientation": "horizontal",
            "min": 0,
            "description_tooltip": null,
            "_model_module": "@jupyter-widgets/controls",
            "layout": "IPY_MODEL_12f8c45779064731932c8d5834762e9e"
          }
        },
        "7c3c0d1db2e74a2484c37e315ed7314a": {
          "model_module": "@jupyter-widgets/controls",
          "model_name": "HTMLModel",
          "state": {
            "_view_name": "HTMLView",
            "style": "IPY_MODEL_6e8ac905695a4ed78506316c88f6ae66",
            "_dom_classes": [],
            "description": "",
            "_model_name": "HTMLModel",
            "placeholder": "​",
            "_view_module": "@jupyter-widgets/controls",
            "_model_module_version": "1.5.0",
            "value": " 200/200 [00:00&lt;00:00, 348.42it/s]",
            "_view_count": null,
            "_view_module_version": "1.5.0",
            "description_tooltip": null,
            "_model_module": "@jupyter-widgets/controls",
            "layout": "IPY_MODEL_386770d672504775bda7f664d3a9b39d"
          }
        },
        "3bb27f22d77944a196928bb696b4014d": {
          "model_module": "@jupyter-widgets/controls",
          "model_name": "ProgressStyleModel",
          "state": {
            "_view_name": "StyleView",
            "_model_name": "ProgressStyleModel",
            "description_width": "initial",
            "_view_module": "@jupyter-widgets/base",
            "_model_module_version": "1.5.0",
            "_view_count": null,
            "_view_module_version": "1.2.0",
            "bar_color": null,
            "_model_module": "@jupyter-widgets/controls"
          }
        },
        "12f8c45779064731932c8d5834762e9e": {
          "model_module": "@jupyter-widgets/base",
          "model_name": "LayoutModel",
          "state": {
            "_view_name": "LayoutView",
            "grid_template_rows": null,
            "right": null,
            "justify_content": null,
            "_view_module": "@jupyter-widgets/base",
            "overflow": null,
            "_model_module_version": "1.2.0",
            "_view_count": null,
            "flex_flow": null,
            "width": null,
            "min_width": null,
            "border": null,
            "align_items": null,
            "bottom": null,
            "_model_module": "@jupyter-widgets/base",
            "top": null,
            "grid_column": null,
            "overflow_y": null,
            "overflow_x": null,
            "grid_auto_flow": null,
            "grid_area": null,
            "grid_template_columns": null,
            "flex": null,
            "_model_name": "LayoutModel",
            "justify_items": null,
            "grid_row": null,
            "max_height": null,
            "align_content": null,
            "visibility": null,
            "align_self": null,
            "height": null,
            "min_height": null,
            "padding": null,
            "grid_auto_rows": null,
            "grid_gap": null,
            "max_width": null,
            "order": null,
            "_view_module_version": "1.2.0",
            "grid_template_areas": null,
            "object_position": null,
            "object_fit": null,
            "grid_auto_columns": null,
            "margin": null,
            "display": null,
            "left": null
          }
        },
        "6e8ac905695a4ed78506316c88f6ae66": {
          "model_module": "@jupyter-widgets/controls",
          "model_name": "DescriptionStyleModel",
          "state": {
            "_view_name": "StyleView",
            "_model_name": "DescriptionStyleModel",
            "description_width": "",
            "_view_module": "@jupyter-widgets/base",
            "_model_module_version": "1.5.0",
            "_view_count": null,
            "_view_module_version": "1.2.0",
            "_model_module": "@jupyter-widgets/controls"
          }
        },
        "386770d672504775bda7f664d3a9b39d": {
          "model_module": "@jupyter-widgets/base",
          "model_name": "LayoutModel",
          "state": {
            "_view_name": "LayoutView",
            "grid_template_rows": null,
            "right": null,
            "justify_content": null,
            "_view_module": "@jupyter-widgets/base",
            "overflow": null,
            "_model_module_version": "1.2.0",
            "_view_count": null,
            "flex_flow": null,
            "width": null,
            "min_width": null,
            "border": null,
            "align_items": null,
            "bottom": null,
            "_model_module": "@jupyter-widgets/base",
            "top": null,
            "grid_column": null,
            "overflow_y": null,
            "overflow_x": null,
            "grid_auto_flow": null,
            "grid_area": null,
            "grid_template_columns": null,
            "flex": null,
            "_model_name": "LayoutModel",
            "justify_items": null,
            "grid_row": null,
            "max_height": null,
            "align_content": null,
            "visibility": null,
            "align_self": null,
            "height": null,
            "min_height": null,
            "padding": null,
            "grid_auto_rows": null,
            "grid_gap": null,
            "max_width": null,
            "order": null,
            "_view_module_version": "1.2.0",
            "grid_template_areas": null,
            "object_position": null,
            "object_fit": null,
            "grid_auto_columns": null,
            "margin": null,
            "display": null,
            "left": null
          }
        },
        "471c12cdedd442fca46f047f634eef98": {
          "model_module": "@jupyter-widgets/controls",
          "model_name": "HBoxModel",
          "state": {
            "_view_name": "HBoxView",
            "_dom_classes": [],
            "_model_name": "HBoxModel",
            "_view_module": "@jupyter-widgets/controls",
            "_model_module_version": "1.5.0",
            "_view_count": null,
            "_view_module_version": "1.5.0",
            "box_style": "",
            "layout": "IPY_MODEL_5de2f60ae8184de4b0976ec817b6b826",
            "_model_module": "@jupyter-widgets/controls",
            "children": [
              "IPY_MODEL_6893a84ffdb34907bf7dd651af6586b8",
              "IPY_MODEL_0615f64ed2c64433b0476a43e33a8956"
            ]
          }
        },
        "5de2f60ae8184de4b0976ec817b6b826": {
          "model_module": "@jupyter-widgets/base",
          "model_name": "LayoutModel",
          "state": {
            "_view_name": "LayoutView",
            "grid_template_rows": null,
            "right": null,
            "justify_content": null,
            "_view_module": "@jupyter-widgets/base",
            "overflow": null,
            "_model_module_version": "1.2.0",
            "_view_count": null,
            "flex_flow": null,
            "width": null,
            "min_width": null,
            "border": null,
            "align_items": null,
            "bottom": null,
            "_model_module": "@jupyter-widgets/base",
            "top": null,
            "grid_column": null,
            "overflow_y": null,
            "overflow_x": null,
            "grid_auto_flow": null,
            "grid_area": null,
            "grid_template_columns": null,
            "flex": null,
            "_model_name": "LayoutModel",
            "justify_items": null,
            "grid_row": null,
            "max_height": null,
            "align_content": null,
            "visibility": null,
            "align_self": null,
            "height": null,
            "min_height": null,
            "padding": null,
            "grid_auto_rows": null,
            "grid_gap": null,
            "max_width": null,
            "order": null,
            "_view_module_version": "1.2.0",
            "grid_template_areas": null,
            "object_position": null,
            "object_fit": null,
            "grid_auto_columns": null,
            "margin": null,
            "display": null,
            "left": null
          }
        },
        "6893a84ffdb34907bf7dd651af6586b8": {
          "model_module": "@jupyter-widgets/controls",
          "model_name": "IntProgressModel",
          "state": {
            "_view_name": "ProgressView",
            "style": "IPY_MODEL_0d8969a2356f40fbaa05df684a5b8819",
            "_dom_classes": [],
            "description": "Feature extracion... [mfcc20]: 100%",
            "_model_name": "IntProgressModel",
            "bar_style": "success",
            "max": 1,
            "_view_module": "@jupyter-widgets/controls",
            "_model_module_version": "1.5.0",
            "value": 1,
            "_view_count": null,
            "_view_module_version": "1.5.0",
            "orientation": "horizontal",
            "min": 0,
            "description_tooltip": null,
            "_model_module": "@jupyter-widgets/controls",
            "layout": "IPY_MODEL_521dab59bb4a4b8881a65f1ec6a0c401"
          }
        },
        "0615f64ed2c64433b0476a43e33a8956": {
          "model_module": "@jupyter-widgets/controls",
          "model_name": "HTMLModel",
          "state": {
            "_view_name": "HTMLView",
            "style": "IPY_MODEL_5246638063524b58b949768005f5f141",
            "_dom_classes": [],
            "description": "",
            "_model_name": "HTMLModel",
            "placeholder": "​",
            "_view_module": "@jupyter-widgets/controls",
            "_model_module_version": "1.5.0",
            "value": " 200/200 [00:00&lt;00:00, 349.03it/s]",
            "_view_count": null,
            "_view_module_version": "1.5.0",
            "description_tooltip": null,
            "_model_module": "@jupyter-widgets/controls",
            "layout": "IPY_MODEL_3dd34ce9679e463db3963b8f4a2deba5"
          }
        },
        "0d8969a2356f40fbaa05df684a5b8819": {
          "model_module": "@jupyter-widgets/controls",
          "model_name": "ProgressStyleModel",
          "state": {
            "_view_name": "StyleView",
            "_model_name": "ProgressStyleModel",
            "description_width": "initial",
            "_view_module": "@jupyter-widgets/base",
            "_model_module_version": "1.5.0",
            "_view_count": null,
            "_view_module_version": "1.2.0",
            "bar_color": null,
            "_model_module": "@jupyter-widgets/controls"
          }
        },
        "521dab59bb4a4b8881a65f1ec6a0c401": {
          "model_module": "@jupyter-widgets/base",
          "model_name": "LayoutModel",
          "state": {
            "_view_name": "LayoutView",
            "grid_template_rows": null,
            "right": null,
            "justify_content": null,
            "_view_module": "@jupyter-widgets/base",
            "overflow": null,
            "_model_module_version": "1.2.0",
            "_view_count": null,
            "flex_flow": null,
            "width": null,
            "min_width": null,
            "border": null,
            "align_items": null,
            "bottom": null,
            "_model_module": "@jupyter-widgets/base",
            "top": null,
            "grid_column": null,
            "overflow_y": null,
            "overflow_x": null,
            "grid_auto_flow": null,
            "grid_area": null,
            "grid_template_columns": null,
            "flex": null,
            "_model_name": "LayoutModel",
            "justify_items": null,
            "grid_row": null,
            "max_height": null,
            "align_content": null,
            "visibility": null,
            "align_self": null,
            "height": null,
            "min_height": null,
            "padding": null,
            "grid_auto_rows": null,
            "grid_gap": null,
            "max_width": null,
            "order": null,
            "_view_module_version": "1.2.0",
            "grid_template_areas": null,
            "object_position": null,
            "object_fit": null,
            "grid_auto_columns": null,
            "margin": null,
            "display": null,
            "left": null
          }
        },
        "5246638063524b58b949768005f5f141": {
          "model_module": "@jupyter-widgets/controls",
          "model_name": "DescriptionStyleModel",
          "state": {
            "_view_name": "StyleView",
            "_model_name": "DescriptionStyleModel",
            "description_width": "",
            "_view_module": "@jupyter-widgets/base",
            "_model_module_version": "1.5.0",
            "_view_count": null,
            "_view_module_version": "1.2.0",
            "_model_module": "@jupyter-widgets/controls"
          }
        },
        "3dd34ce9679e463db3963b8f4a2deba5": {
          "model_module": "@jupyter-widgets/base",
          "model_name": "LayoutModel",
          "state": {
            "_view_name": "LayoutView",
            "grid_template_rows": null,
            "right": null,
            "justify_content": null,
            "_view_module": "@jupyter-widgets/base",
            "overflow": null,
            "_model_module_version": "1.2.0",
            "_view_count": null,
            "flex_flow": null,
            "width": null,
            "min_width": null,
            "border": null,
            "align_items": null,
            "bottom": null,
            "_model_module": "@jupyter-widgets/base",
            "top": null,
            "grid_column": null,
            "overflow_y": null,
            "overflow_x": null,
            "grid_auto_flow": null,
            "grid_area": null,
            "grid_template_columns": null,
            "flex": null,
            "_model_name": "LayoutModel",
            "justify_items": null,
            "grid_row": null,
            "max_height": null,
            "align_content": null,
            "visibility": null,
            "align_self": null,
            "height": null,
            "min_height": null,
            "padding": null,
            "grid_auto_rows": null,
            "grid_gap": null,
            "max_width": null,
            "order": null,
            "_view_module_version": "1.2.0",
            "grid_template_areas": null,
            "object_position": null,
            "object_fit": null,
            "grid_auto_columns": null,
            "margin": null,
            "display": null,
            "left": null
          }
        },
        "e22037edb1ef421dac0509f108de8b91": {
          "model_module": "@jupyter-widgets/controls",
          "model_name": "HBoxModel",
          "state": {
            "_view_name": "HBoxView",
            "_dom_classes": [],
            "_model_name": "HBoxModel",
            "_view_module": "@jupyter-widgets/controls",
            "_model_module_version": "1.5.0",
            "_view_count": null,
            "_view_module_version": "1.5.0",
            "box_style": "",
            "layout": "IPY_MODEL_41b5eed03efe4f87807a693d04ff7027",
            "_model_module": "@jupyter-widgets/controls",
            "children": [
              "IPY_MODEL_1a9c5d4ebee34429948fb25ac8b817dd",
              "IPY_MODEL_5cd825aa8c1b4007b3e8f73532afc4b3"
            ]
          }
        },
        "41b5eed03efe4f87807a693d04ff7027": {
          "model_module": "@jupyter-widgets/base",
          "model_name": "LayoutModel",
          "state": {
            "_view_name": "LayoutView",
            "grid_template_rows": null,
            "right": null,
            "justify_content": null,
            "_view_module": "@jupyter-widgets/base",
            "overflow": null,
            "_model_module_version": "1.2.0",
            "_view_count": null,
            "flex_flow": null,
            "width": null,
            "min_width": null,
            "border": null,
            "align_items": null,
            "bottom": null,
            "_model_module": "@jupyter-widgets/base",
            "top": null,
            "grid_column": null,
            "overflow_y": null,
            "overflow_x": null,
            "grid_auto_flow": null,
            "grid_area": null,
            "grid_template_columns": null,
            "flex": null,
            "_model_name": "LayoutModel",
            "justify_items": null,
            "grid_row": null,
            "max_height": null,
            "align_content": null,
            "visibility": null,
            "align_self": null,
            "height": null,
            "min_height": null,
            "padding": null,
            "grid_auto_rows": null,
            "grid_gap": null,
            "max_width": null,
            "order": null,
            "_view_module_version": "1.2.0",
            "grid_template_areas": null,
            "object_position": null,
            "object_fit": null,
            "grid_auto_columns": null,
            "margin": null,
            "display": null,
            "left": null
          }
        },
        "1a9c5d4ebee34429948fb25ac8b817dd": {
          "model_module": "@jupyter-widgets/controls",
          "model_name": "IntProgressModel",
          "state": {
            "_view_name": "ProgressView",
            "style": "IPY_MODEL_0c2e04a7847b439b8d1d61ea05ec9552",
            "_dom_classes": [],
            "description": "Feature extracion... [zcr]: 100%",
            "_model_name": "IntProgressModel",
            "bar_style": "success",
            "max": 1,
            "_view_module": "@jupyter-widgets/controls",
            "_model_module_version": "1.5.0",
            "value": 1,
            "_view_count": null,
            "_view_module_version": "1.5.0",
            "orientation": "horizontal",
            "min": 0,
            "description_tooltip": null,
            "_model_module": "@jupyter-widgets/controls",
            "layout": "IPY_MODEL_afa06bd2b7ab4841964b456a3c5c7efd"
          }
        },
        "5cd825aa8c1b4007b3e8f73532afc4b3": {
          "model_module": "@jupyter-widgets/controls",
          "model_name": "HTMLModel",
          "state": {
            "_view_name": "HTMLView",
            "style": "IPY_MODEL_c81c552486f64deda4ee377041af4dd5",
            "_dom_classes": [],
            "description": "",
            "_model_name": "HTMLModel",
            "placeholder": "​",
            "_view_module": "@jupyter-widgets/controls",
            "_model_module_version": "1.5.0",
            "value": " 200/200 [00:00&lt;00:00, 500.85it/s]",
            "_view_count": null,
            "_view_module_version": "1.5.0",
            "description_tooltip": null,
            "_model_module": "@jupyter-widgets/controls",
            "layout": "IPY_MODEL_2b2f10efdb1a49ed9d990bffad568f82"
          }
        },
        "0c2e04a7847b439b8d1d61ea05ec9552": {
          "model_module": "@jupyter-widgets/controls",
          "model_name": "ProgressStyleModel",
          "state": {
            "_view_name": "StyleView",
            "_model_name": "ProgressStyleModel",
            "description_width": "initial",
            "_view_module": "@jupyter-widgets/base",
            "_model_module_version": "1.5.0",
            "_view_count": null,
            "_view_module_version": "1.2.0",
            "bar_color": null,
            "_model_module": "@jupyter-widgets/controls"
          }
        },
        "afa06bd2b7ab4841964b456a3c5c7efd": {
          "model_module": "@jupyter-widgets/base",
          "model_name": "LayoutModel",
          "state": {
            "_view_name": "LayoutView",
            "grid_template_rows": null,
            "right": null,
            "justify_content": null,
            "_view_module": "@jupyter-widgets/base",
            "overflow": null,
            "_model_module_version": "1.2.0",
            "_view_count": null,
            "flex_flow": null,
            "width": null,
            "min_width": null,
            "border": null,
            "align_items": null,
            "bottom": null,
            "_model_module": "@jupyter-widgets/base",
            "top": null,
            "grid_column": null,
            "overflow_y": null,
            "overflow_x": null,
            "grid_auto_flow": null,
            "grid_area": null,
            "grid_template_columns": null,
            "flex": null,
            "_model_name": "LayoutModel",
            "justify_items": null,
            "grid_row": null,
            "max_height": null,
            "align_content": null,
            "visibility": null,
            "align_self": null,
            "height": null,
            "min_height": null,
            "padding": null,
            "grid_auto_rows": null,
            "grid_gap": null,
            "max_width": null,
            "order": null,
            "_view_module_version": "1.2.0",
            "grid_template_areas": null,
            "object_position": null,
            "object_fit": null,
            "grid_auto_columns": null,
            "margin": null,
            "display": null,
            "left": null
          }
        },
        "c81c552486f64deda4ee377041af4dd5": {
          "model_module": "@jupyter-widgets/controls",
          "model_name": "DescriptionStyleModel",
          "state": {
            "_view_name": "StyleView",
            "_model_name": "DescriptionStyleModel",
            "description_width": "",
            "_view_module": "@jupyter-widgets/base",
            "_model_module_version": "1.5.0",
            "_view_count": null,
            "_view_module_version": "1.2.0",
            "_model_module": "@jupyter-widgets/controls"
          }
        },
        "2b2f10efdb1a49ed9d990bffad568f82": {
          "model_module": "@jupyter-widgets/base",
          "model_name": "LayoutModel",
          "state": {
            "_view_name": "LayoutView",
            "grid_template_rows": null,
            "right": null,
            "justify_content": null,
            "_view_module": "@jupyter-widgets/base",
            "overflow": null,
            "_model_module_version": "1.2.0",
            "_view_count": null,
            "flex_flow": null,
            "width": null,
            "min_width": null,
            "border": null,
            "align_items": null,
            "bottom": null,
            "_model_module": "@jupyter-widgets/base",
            "top": null,
            "grid_column": null,
            "overflow_y": null,
            "overflow_x": null,
            "grid_auto_flow": null,
            "grid_area": null,
            "grid_template_columns": null,
            "flex": null,
            "_model_name": "LayoutModel",
            "justify_items": null,
            "grid_row": null,
            "max_height": null,
            "align_content": null,
            "visibility": null,
            "align_self": null,
            "height": null,
            "min_height": null,
            "padding": null,
            "grid_auto_rows": null,
            "grid_gap": null,
            "max_width": null,
            "order": null,
            "_view_module_version": "1.2.0",
            "grid_template_areas": null,
            "object_position": null,
            "object_fit": null,
            "grid_auto_columns": null,
            "margin": null,
            "display": null,
            "left": null
          }
        },
        "12a24345fb55439f90cce47f0df4a04f": {
          "model_module": "@jupyter-widgets/controls",
          "model_name": "HBoxModel",
          "state": {
            "_view_name": "HBoxView",
            "_dom_classes": [],
            "_model_name": "HBoxModel",
            "_view_module": "@jupyter-widgets/controls",
            "_model_module_version": "1.5.0",
            "_view_count": null,
            "_view_module_version": "1.5.0",
            "box_style": "",
            "layout": "IPY_MODEL_31b90e3254a34051bc23be92c79b6871",
            "_model_module": "@jupyter-widgets/controls",
            "children": [
              "IPY_MODEL_4d9d4e4e049f4c48bb6954b127db10f7",
              "IPY_MODEL_70d027c529844223a877e3a726c14f04"
            ]
          }
        },
        "31b90e3254a34051bc23be92c79b6871": {
          "model_module": "@jupyter-widgets/base",
          "model_name": "LayoutModel",
          "state": {
            "_view_name": "LayoutView",
            "grid_template_rows": null,
            "right": null,
            "justify_content": null,
            "_view_module": "@jupyter-widgets/base",
            "overflow": null,
            "_model_module_version": "1.2.0",
            "_view_count": null,
            "flex_flow": null,
            "width": null,
            "min_width": null,
            "border": null,
            "align_items": null,
            "bottom": null,
            "_model_module": "@jupyter-widgets/base",
            "top": null,
            "grid_column": null,
            "overflow_y": null,
            "overflow_x": null,
            "grid_auto_flow": null,
            "grid_area": null,
            "grid_template_columns": null,
            "flex": null,
            "_model_name": "LayoutModel",
            "justify_items": null,
            "grid_row": null,
            "max_height": null,
            "align_content": null,
            "visibility": null,
            "align_self": null,
            "height": null,
            "min_height": null,
            "padding": null,
            "grid_auto_rows": null,
            "grid_gap": null,
            "max_width": null,
            "order": null,
            "_view_module_version": "1.2.0",
            "grid_template_areas": null,
            "object_position": null,
            "object_fit": null,
            "grid_auto_columns": null,
            "margin": null,
            "display": null,
            "left": null
          }
        },
        "4d9d4e4e049f4c48bb6954b127db10f7": {
          "model_module": "@jupyter-widgets/controls",
          "model_name": "IntProgressModel",
          "state": {
            "_view_name": "ProgressView",
            "style": "IPY_MODEL_911fb795374f489fb0544f774ebba64c",
            "_dom_classes": [],
            "description": "Feature extracion... [zcr+mfcc20]: 100%",
            "_model_name": "IntProgressModel",
            "bar_style": "info",
            "max": 1,
            "_view_module": "@jupyter-widgets/controls",
            "_model_module_version": "1.5.0",
            "value": 1,
            "_view_count": null,
            "_view_module_version": "1.5.0",
            "orientation": "horizontal",
            "min": 0,
            "description_tooltip": null,
            "_model_module": "@jupyter-widgets/controls",
            "layout": "IPY_MODEL_c8e7cda66d2d4566a62464063698efad"
          }
        },
        "70d027c529844223a877e3a726c14f04": {
          "model_module": "@jupyter-widgets/controls",
          "model_name": "HTMLModel",
          "state": {
            "_view_name": "HTMLView",
            "style": "IPY_MODEL_0e0cc195ee144ffea96ee551fdf8da5b",
            "_dom_classes": [],
            "description": "",
            "_model_name": "HTMLModel",
            "placeholder": "​",
            "_view_module": "@jupyter-widgets/controls",
            "_model_module_version": "1.5.0",
            "value": " 200/200 [00:20&lt;00:00, 153.26it/s]",
            "_view_count": null,
            "_view_module_version": "1.5.0",
            "description_tooltip": null,
            "_model_module": "@jupyter-widgets/controls",
            "layout": "IPY_MODEL_f6a013bd7482484cad67da95a54b33c3"
          }
        },
        "911fb795374f489fb0544f774ebba64c": {
          "model_module": "@jupyter-widgets/controls",
          "model_name": "ProgressStyleModel",
          "state": {
            "_view_name": "StyleView",
            "_model_name": "ProgressStyleModel",
            "description_width": "initial",
            "_view_module": "@jupyter-widgets/base",
            "_model_module_version": "1.5.0",
            "_view_count": null,
            "_view_module_version": "1.2.0",
            "bar_color": null,
            "_model_module": "@jupyter-widgets/controls"
          }
        },
        "c8e7cda66d2d4566a62464063698efad": {
          "model_module": "@jupyter-widgets/base",
          "model_name": "LayoutModel",
          "state": {
            "_view_name": "LayoutView",
            "grid_template_rows": null,
            "right": null,
            "justify_content": null,
            "_view_module": "@jupyter-widgets/base",
            "overflow": null,
            "_model_module_version": "1.2.0",
            "_view_count": null,
            "flex_flow": null,
            "width": null,
            "min_width": null,
            "border": null,
            "align_items": null,
            "bottom": null,
            "_model_module": "@jupyter-widgets/base",
            "top": null,
            "grid_column": null,
            "overflow_y": null,
            "overflow_x": null,
            "grid_auto_flow": null,
            "grid_area": null,
            "grid_template_columns": null,
            "flex": null,
            "_model_name": "LayoutModel",
            "justify_items": null,
            "grid_row": null,
            "max_height": null,
            "align_content": null,
            "visibility": null,
            "align_self": null,
            "height": null,
            "min_height": null,
            "padding": null,
            "grid_auto_rows": null,
            "grid_gap": null,
            "max_width": null,
            "order": null,
            "_view_module_version": "1.2.0",
            "grid_template_areas": null,
            "object_position": null,
            "object_fit": null,
            "grid_auto_columns": null,
            "margin": null,
            "display": null,
            "left": null
          }
        },
        "0e0cc195ee144ffea96ee551fdf8da5b": {
          "model_module": "@jupyter-widgets/controls",
          "model_name": "DescriptionStyleModel",
          "state": {
            "_view_name": "StyleView",
            "_model_name": "DescriptionStyleModel",
            "description_width": "",
            "_view_module": "@jupyter-widgets/base",
            "_model_module_version": "1.5.0",
            "_view_count": null,
            "_view_module_version": "1.2.0",
            "_model_module": "@jupyter-widgets/controls"
          }
        },
        "f6a013bd7482484cad67da95a54b33c3": {
          "model_module": "@jupyter-widgets/base",
          "model_name": "LayoutModel",
          "state": {
            "_view_name": "LayoutView",
            "grid_template_rows": null,
            "right": null,
            "justify_content": null,
            "_view_module": "@jupyter-widgets/base",
            "overflow": null,
            "_model_module_version": "1.2.0",
            "_view_count": null,
            "flex_flow": null,
            "width": null,
            "min_width": null,
            "border": null,
            "align_items": null,
            "bottom": null,
            "_model_module": "@jupyter-widgets/base",
            "top": null,
            "grid_column": null,
            "overflow_y": null,
            "overflow_x": null,
            "grid_auto_flow": null,
            "grid_area": null,
            "grid_template_columns": null,
            "flex": null,
            "_model_name": "LayoutModel",
            "justify_items": null,
            "grid_row": null,
            "max_height": null,
            "align_content": null,
            "visibility": null,
            "align_self": null,
            "height": null,
            "min_height": null,
            "padding": null,
            "grid_auto_rows": null,
            "grid_gap": null,
            "max_width": null,
            "order": null,
            "_view_module_version": "1.2.0",
            "grid_template_areas": null,
            "object_position": null,
            "object_fit": null,
            "grid_auto_columns": null,
            "margin": null,
            "display": null,
            "left": null
          }
        },
        "7f20115df00b400aaae923ce317b20b1": {
          "model_module": "@jupyter-widgets/controls",
          "model_name": "HBoxModel",
          "state": {
            "_view_name": "HBoxView",
            "_dom_classes": [],
            "_model_name": "HBoxModel",
            "_view_module": "@jupyter-widgets/controls",
            "_model_module_version": "1.5.0",
            "_view_count": null,
            "_view_module_version": "1.5.0",
            "box_style": "",
            "layout": "IPY_MODEL_7f1a4834ef8e4cb4ab8d29567b5a5335",
            "_model_module": "@jupyter-widgets/controls",
            "children": [
              "IPY_MODEL_f17c5ea03863401688fec583a2c57a11",
              "IPY_MODEL_a40d4d22b5714930805bef9de3976b2a"
            ]
          }
        },
        "7f1a4834ef8e4cb4ab8d29567b5a5335": {
          "model_module": "@jupyter-widgets/base",
          "model_name": "LayoutModel",
          "state": {
            "_view_name": "LayoutView",
            "grid_template_rows": null,
            "right": null,
            "justify_content": null,
            "_view_module": "@jupyter-widgets/base",
            "overflow": null,
            "_model_module_version": "1.2.0",
            "_view_count": null,
            "flex_flow": null,
            "width": null,
            "min_width": null,
            "border": null,
            "align_items": null,
            "bottom": null,
            "_model_module": "@jupyter-widgets/base",
            "top": null,
            "grid_column": null,
            "overflow_y": null,
            "overflow_x": null,
            "grid_auto_flow": null,
            "grid_area": null,
            "grid_template_columns": null,
            "flex": null,
            "_model_name": "LayoutModel",
            "justify_items": null,
            "grid_row": null,
            "max_height": null,
            "align_content": null,
            "visibility": null,
            "align_self": null,
            "height": null,
            "min_height": null,
            "padding": null,
            "grid_auto_rows": null,
            "grid_gap": null,
            "max_width": null,
            "order": null,
            "_view_module_version": "1.2.0",
            "grid_template_areas": null,
            "object_position": null,
            "object_fit": null,
            "grid_auto_columns": null,
            "margin": null,
            "display": null,
            "left": null
          }
        },
        "f17c5ea03863401688fec583a2c57a11": {
          "model_module": "@jupyter-widgets/controls",
          "model_name": "IntProgressModel",
          "state": {
            "_view_name": "ProgressView",
            "style": "IPY_MODEL_3b8ad32563ff48c497b6c3a36fc06249",
            "_dom_classes": [],
            "description": "Feature extracion... [mfcc20]: 100%",
            "_model_name": "IntProgressModel",
            "bar_style": "success",
            "max": 1,
            "_view_module": "@jupyter-widgets/controls",
            "_model_module_version": "1.5.0",
            "value": 1,
            "_view_count": null,
            "_view_module_version": "1.5.0",
            "orientation": "horizontal",
            "min": 0,
            "description_tooltip": null,
            "_model_module": "@jupyter-widgets/controls",
            "layout": "IPY_MODEL_6df2ea04caad44d2807b1c5ee7189ef1"
          }
        },
        "a40d4d22b5714930805bef9de3976b2a": {
          "model_module": "@jupyter-widgets/controls",
          "model_name": "HTMLModel",
          "state": {
            "_view_name": "HTMLView",
            "style": "IPY_MODEL_b9698b6767f34fe1a20818b226b8aea0",
            "_dom_classes": [],
            "description": "",
            "_model_name": "HTMLModel",
            "placeholder": "​",
            "_view_module": "@jupyter-widgets/controls",
            "_model_module_version": "1.5.0",
            "value": " 200/200 [00:00&lt;00:00, 505.33it/s]",
            "_view_count": null,
            "_view_module_version": "1.5.0",
            "description_tooltip": null,
            "_model_module": "@jupyter-widgets/controls",
            "layout": "IPY_MODEL_e2b3b729d8124673951c15b2ddfe101d"
          }
        },
        "3b8ad32563ff48c497b6c3a36fc06249": {
          "model_module": "@jupyter-widgets/controls",
          "model_name": "ProgressStyleModel",
          "state": {
            "_view_name": "StyleView",
            "_model_name": "ProgressStyleModel",
            "description_width": "initial",
            "_view_module": "@jupyter-widgets/base",
            "_model_module_version": "1.5.0",
            "_view_count": null,
            "_view_module_version": "1.2.0",
            "bar_color": null,
            "_model_module": "@jupyter-widgets/controls"
          }
        },
        "6df2ea04caad44d2807b1c5ee7189ef1": {
          "model_module": "@jupyter-widgets/base",
          "model_name": "LayoutModel",
          "state": {
            "_view_name": "LayoutView",
            "grid_template_rows": null,
            "right": null,
            "justify_content": null,
            "_view_module": "@jupyter-widgets/base",
            "overflow": null,
            "_model_module_version": "1.2.0",
            "_view_count": null,
            "flex_flow": null,
            "width": null,
            "min_width": null,
            "border": null,
            "align_items": null,
            "bottom": null,
            "_model_module": "@jupyter-widgets/base",
            "top": null,
            "grid_column": null,
            "overflow_y": null,
            "overflow_x": null,
            "grid_auto_flow": null,
            "grid_area": null,
            "grid_template_columns": null,
            "flex": null,
            "_model_name": "LayoutModel",
            "justify_items": null,
            "grid_row": null,
            "max_height": null,
            "align_content": null,
            "visibility": null,
            "align_self": null,
            "height": null,
            "min_height": null,
            "padding": null,
            "grid_auto_rows": null,
            "grid_gap": null,
            "max_width": null,
            "order": null,
            "_view_module_version": "1.2.0",
            "grid_template_areas": null,
            "object_position": null,
            "object_fit": null,
            "grid_auto_columns": null,
            "margin": null,
            "display": null,
            "left": null
          }
        },
        "b9698b6767f34fe1a20818b226b8aea0": {
          "model_module": "@jupyter-widgets/controls",
          "model_name": "DescriptionStyleModel",
          "state": {
            "_view_name": "StyleView",
            "_model_name": "DescriptionStyleModel",
            "description_width": "",
            "_view_module": "@jupyter-widgets/base",
            "_model_module_version": "1.5.0",
            "_view_count": null,
            "_view_module_version": "1.2.0",
            "_model_module": "@jupyter-widgets/controls"
          }
        },
        "e2b3b729d8124673951c15b2ddfe101d": {
          "model_module": "@jupyter-widgets/base",
          "model_name": "LayoutModel",
          "state": {
            "_view_name": "LayoutView",
            "grid_template_rows": null,
            "right": null,
            "justify_content": null,
            "_view_module": "@jupyter-widgets/base",
            "overflow": null,
            "_model_module_version": "1.2.0",
            "_view_count": null,
            "flex_flow": null,
            "width": null,
            "min_width": null,
            "border": null,
            "align_items": null,
            "bottom": null,
            "_model_module": "@jupyter-widgets/base",
            "top": null,
            "grid_column": null,
            "overflow_y": null,
            "overflow_x": null,
            "grid_auto_flow": null,
            "grid_area": null,
            "grid_template_columns": null,
            "flex": null,
            "_model_name": "LayoutModel",
            "justify_items": null,
            "grid_row": null,
            "max_height": null,
            "align_content": null,
            "visibility": null,
            "align_self": null,
            "height": null,
            "min_height": null,
            "padding": null,
            "grid_auto_rows": null,
            "grid_gap": null,
            "max_width": null,
            "order": null,
            "_view_module_version": "1.2.0",
            "grid_template_areas": null,
            "object_position": null,
            "object_fit": null,
            "grid_auto_columns": null,
            "margin": null,
            "display": null,
            "left": null
          }
        },
        "7555712e9fa24ec39ad6207535a8abd0": {
          "model_module": "@jupyter-widgets/controls",
          "model_name": "HBoxModel",
          "state": {
            "_view_name": "HBoxView",
            "_dom_classes": [],
            "_model_name": "HBoxModel",
            "_view_module": "@jupyter-widgets/controls",
            "_model_module_version": "1.5.0",
            "_view_count": null,
            "_view_module_version": "1.5.0",
            "box_style": "",
            "layout": "IPY_MODEL_d20138236eb14789aff510fba3645816",
            "_model_module": "@jupyter-widgets/controls",
            "children": [
              "IPY_MODEL_21bddb1720874530a7f6fbe3a94b7446",
              "IPY_MODEL_d8ac50f51b8940d7ac1d186b695a535f"
            ]
          }
        },
        "d20138236eb14789aff510fba3645816": {
          "model_module": "@jupyter-widgets/base",
          "model_name": "LayoutModel",
          "state": {
            "_view_name": "LayoutView",
            "grid_template_rows": null,
            "right": null,
            "justify_content": null,
            "_view_module": "@jupyter-widgets/base",
            "overflow": null,
            "_model_module_version": "1.2.0",
            "_view_count": null,
            "flex_flow": null,
            "width": null,
            "min_width": null,
            "border": null,
            "align_items": null,
            "bottom": null,
            "_model_module": "@jupyter-widgets/base",
            "top": null,
            "grid_column": null,
            "overflow_y": null,
            "overflow_x": null,
            "grid_auto_flow": null,
            "grid_area": null,
            "grid_template_columns": null,
            "flex": null,
            "_model_name": "LayoutModel",
            "justify_items": null,
            "grid_row": null,
            "max_height": null,
            "align_content": null,
            "visibility": null,
            "align_self": null,
            "height": null,
            "min_height": null,
            "padding": null,
            "grid_auto_rows": null,
            "grid_gap": null,
            "max_width": null,
            "order": null,
            "_view_module_version": "1.2.0",
            "grid_template_areas": null,
            "object_position": null,
            "object_fit": null,
            "grid_auto_columns": null,
            "margin": null,
            "display": null,
            "left": null
          }
        },
        "21bddb1720874530a7f6fbe3a94b7446": {
          "model_module": "@jupyter-widgets/controls",
          "model_name": "IntProgressModel",
          "state": {
            "_view_name": "ProgressView",
            "style": "IPY_MODEL_2f51801bd3914546b6d1c9a5975d0fa5",
            "_dom_classes": [],
            "description": "Feature extracion... [mfcc20]: 100%",
            "_model_name": "IntProgressModel",
            "bar_style": "info",
            "max": 1,
            "_view_module": "@jupyter-widgets/controls",
            "_model_module_version": "1.5.0",
            "value": 1,
            "_view_count": null,
            "_view_module_version": "1.5.0",
            "orientation": "horizontal",
            "min": 0,
            "description_tooltip": null,
            "_model_module": "@jupyter-widgets/controls",
            "layout": "IPY_MODEL_b2f98de5166b48ae81b1ddc9a4fb00d1"
          }
        },
        "d8ac50f51b8940d7ac1d186b695a535f": {
          "model_module": "@jupyter-widgets/controls",
          "model_name": "HTMLModel",
          "state": {
            "_view_name": "HTMLView",
            "style": "IPY_MODEL_58590034945243a8b485a898013224bf",
            "_dom_classes": [],
            "description": "",
            "_model_name": "HTMLModel",
            "placeholder": "​",
            "_view_module": "@jupyter-widgets/controls",
            "_model_module_version": "1.5.0",
            "value": " 23666/23666 [01:20&lt;00:00, 406.46it/s]",
            "_view_count": null,
            "_view_module_version": "1.5.0",
            "description_tooltip": null,
            "_model_module": "@jupyter-widgets/controls",
            "layout": "IPY_MODEL_76424012ddb54d06b0e833049ae3f215"
          }
        },
        "2f51801bd3914546b6d1c9a5975d0fa5": {
          "model_module": "@jupyter-widgets/controls",
          "model_name": "ProgressStyleModel",
          "state": {
            "_view_name": "StyleView",
            "_model_name": "ProgressStyleModel",
            "description_width": "initial",
            "_view_module": "@jupyter-widgets/base",
            "_model_module_version": "1.5.0",
            "_view_count": null,
            "_view_module_version": "1.2.0",
            "bar_color": null,
            "_model_module": "@jupyter-widgets/controls"
          }
        },
        "b2f98de5166b48ae81b1ddc9a4fb00d1": {
          "model_module": "@jupyter-widgets/base",
          "model_name": "LayoutModel",
          "state": {
            "_view_name": "LayoutView",
            "grid_template_rows": null,
            "right": null,
            "justify_content": null,
            "_view_module": "@jupyter-widgets/base",
            "overflow": null,
            "_model_module_version": "1.2.0",
            "_view_count": null,
            "flex_flow": null,
            "width": null,
            "min_width": null,
            "border": null,
            "align_items": null,
            "bottom": null,
            "_model_module": "@jupyter-widgets/base",
            "top": null,
            "grid_column": null,
            "overflow_y": null,
            "overflow_x": null,
            "grid_auto_flow": null,
            "grid_area": null,
            "grid_template_columns": null,
            "flex": null,
            "_model_name": "LayoutModel",
            "justify_items": null,
            "grid_row": null,
            "max_height": null,
            "align_content": null,
            "visibility": null,
            "align_self": null,
            "height": null,
            "min_height": null,
            "padding": null,
            "grid_auto_rows": null,
            "grid_gap": null,
            "max_width": null,
            "order": null,
            "_view_module_version": "1.2.0",
            "grid_template_areas": null,
            "object_position": null,
            "object_fit": null,
            "grid_auto_columns": null,
            "margin": null,
            "display": null,
            "left": null
          }
        },
        "58590034945243a8b485a898013224bf": {
          "model_module": "@jupyter-widgets/controls",
          "model_name": "DescriptionStyleModel",
          "state": {
            "_view_name": "StyleView",
            "_model_name": "DescriptionStyleModel",
            "description_width": "",
            "_view_module": "@jupyter-widgets/base",
            "_model_module_version": "1.5.0",
            "_view_count": null,
            "_view_module_version": "1.2.0",
            "_model_module": "@jupyter-widgets/controls"
          }
        },
        "76424012ddb54d06b0e833049ae3f215": {
          "model_module": "@jupyter-widgets/base",
          "model_name": "LayoutModel",
          "state": {
            "_view_name": "LayoutView",
            "grid_template_rows": null,
            "right": null,
            "justify_content": null,
            "_view_module": "@jupyter-widgets/base",
            "overflow": null,
            "_model_module_version": "1.2.0",
            "_view_count": null,
            "flex_flow": null,
            "width": null,
            "min_width": null,
            "border": null,
            "align_items": null,
            "bottom": null,
            "_model_module": "@jupyter-widgets/base",
            "top": null,
            "grid_column": null,
            "overflow_y": null,
            "overflow_x": null,
            "grid_auto_flow": null,
            "grid_area": null,
            "grid_template_columns": null,
            "flex": null,
            "_model_name": "LayoutModel",
            "justify_items": null,
            "grid_row": null,
            "max_height": null,
            "align_content": null,
            "visibility": null,
            "align_self": null,
            "height": null,
            "min_height": null,
            "padding": null,
            "grid_auto_rows": null,
            "grid_gap": null,
            "max_width": null,
            "order": null,
            "_view_module_version": "1.2.0",
            "grid_template_areas": null,
            "object_position": null,
            "object_fit": null,
            "grid_auto_columns": null,
            "margin": null,
            "display": null,
            "left": null
          }
        }
      }
    }
  },
  "cells": [
    {
      "cell_type": "markdown",
      "metadata": {
        "id": "9B-exD2Xwl2a",
        "colab_type": "text"
      },
      "source": [
        "# Spoken Digit Classification"
      ]
    },
    {
      "cell_type": "markdown",
      "metadata": {
        "id": "-KllSJGkZVfA",
        "colab_type": "text"
      },
      "source": [
        "## Imports"
      ]
    },
    {
      "cell_type": "code",
      "metadata": {
        "id": "vN6hujgRtPoR",
        "colab_type": "code",
        "colab": {}
      },
      "source": [
        "# Python\n",
        "import numpy as np\n",
        "import pandas as pd\n",
        "import matplotlib.pyplot as plt\n",
        "import re\n",
        "import os\n",
        "import librosa\n",
        "import scipy as sp\n",
        "\n",
        "# Utility\n",
        "from tqdm.notebook import tqdm\n",
        "from sklearn.model_selection import train_test_split\n",
        "from IPython.display import Audio\n",
        "\n",
        "# Classifiers\n",
        "from sklearn import svm\n",
        "from sklearn.ensemble import RandomForestClassifier\n",
        "\n",
        "import keras\n",
        "from keras.models import Sequential\n",
        "from keras.layers import Dense, Dropout, Activation\n",
        "from keras.optimizers import SGD\n",
        "from sklearn.preprocessing import OneHotEncoder\n",
        "\n",
        "# Scalers\n",
        "from sklearn.preprocessing import MinMaxScaler\n",
        "\n",
        "# Metrics\n",
        "from sklearn.metrics import confusion_matrix, plot_confusion_matrix\n",
        "from sklearn.metrics import accuracy_score"
      ],
      "execution_count": 0,
      "outputs": []
    },
    {
      "cell_type": "markdown",
      "metadata": {
        "id": "a6L3C0SzESw2",
        "colab_type": "text"
      },
      "source": [
        "## Dataset download"
      ]
    },
    {
      "cell_type": "markdown",
      "metadata": {
        "id": "ayoS7lOxXs56",
        "colab_type": "text"
      },
      "source": [
        "Here we are downloading the [dataset from the assignment](https://github.com/Jakobovski/free-spoken-digit-dataset) (N = 2000) along with a custom made dataset obtained from a subset of the [Google Speech Commands Dataset](https://ai.googleblog.com/2017/08/launching-speech-commands-dataset.html) (N = 23666) for testing purposes.\n"
      ]
    },
    {
      "cell_type": "code",
      "metadata": {
        "id": "ph_o72b1tVm2",
        "colab_type": "code",
        "outputId": "f9e33f81-4f4b-4820-ac42-319064797f94",
        "colab": {
          "base_uri": "https://localhost:8080/",
          "height": 88
        }
      },
      "source": [
        "! git clone -q https://github.com/Jakobovski/free-spoken-digit-dataset\n",
        "\n",
        "os.environ['KAGGLE_USERNAME'] = \"andreacoppola\"\n",
        "os.environ['KAGGLE_KEY'] = \"8d841874df721c79c79ada9beec21904\"\n",
        "!kaggle datasets download -d andreacoppola/googlespokendigits\n",
        "!unzip googlespokendigits.zip"
      ],
      "execution_count": 5,
      "outputs": [
        {
          "output_type": "stream",
          "text": [
            "fatal: destination path 'free-spoken-digit-dataset' already exists and is not an empty directory.\n",
            "googlespokendigits.zip: Skipping, found more recently modified local copy (use --force to force download)\n",
            "Archive:  googlespokendigits.zip\n",
            "replace X_google_dataset.npy? [y]es, [n]o, [A]ll, [N]one, [r]ename: "
          ],
          "name": "stdout"
        }
      ]
    },
    {
      "cell_type": "markdown",
      "metadata": {
        "id": "PgrA782qDh0j",
        "colab_type": "text"
      },
      "source": [
        "## Dataset import "
      ]
    },
    {
      "cell_type": "markdown",
      "metadata": {
        "id": "5nLqh5FoMHB8",
        "colab_type": "text"
      },
      "source": [
        "The informations about the audio track are retrieved from the name using the following regexp\n",
        "```python\n",
        "'([0-9]+)_([a-z]+)_([0-9]+).wav'\n",
        "```\n",
        "With this we can retrieve from the 3 groups\n",
        "```python\n",
        "# Digit Label\n",
        "regexp.search(filename).group(1)\n",
        "# Spearker Name (maybe we'll need this later while analyzing the data?)\n",
        "regexp.search(filename).group(2)\n",
        "# File Index\n",
        "regexp.search(filename).group(3)\n",
        "```\n"
      ]
    },
    {
      "cell_type": "code",
      "metadata": {
        "id": "TPhQ5Df0FMjV",
        "colab_type": "code",
        "outputId": "751328a6-be93-4081-b0a3-b95feacba8ed",
        "colab": {
          "base_uri": "https://localhost:8080/",
          "height": 49,
          "referenced_widgets": [
            "f178d06c820d405c8bdaafa8b9b75081",
            "1202d9eb478446a090afe8f5d618c59a",
            "cbc00c4a95064ec2ace19278fa30882c",
            "8383ed6d9bdf42dbb13e2eb4cdb0b4a3",
            "f0fffa2c8f8142a19d16fb9f07432a8d",
            "aa4a7fec8663473a90994f76ee3b9943",
            "68a69a63b79d41fb8a2648415316b8a2",
            "9dbeeafaad2b4bada9808548f1bf2555"
          ]
        }
      },
      "source": [
        "# recordings directory\n",
        "directory = 'free-spoken-digit-dataset/recordings/'\n",
        "# regexp matching {digitLabel}_{speakerName}_{index}.wav\n",
        "regexp = re.compile('([0-9]+)_([a-z]+)_([0-9]+).wav') \n",
        "\n",
        "labels  = []\n",
        "audios  = []\n",
        "indexes = []\n",
        "sizes   = []\n",
        "names   = []\n",
        "\n",
        "# setup progress bar\n",
        "pbar = tqdm(desc='Loading audio samples')\n",
        "pbar.reset(total=len(os.listdir(directory))) \n",
        "\n",
        "for f in os.listdir(directory):\n",
        "  if f.endswith(\".wav\"): \n",
        "    labels.append(regexp.search(f).group(1))       # Take the first group (label)\n",
        "    names.append(regexp.search(f).group(2))        # Take the second groun (name)\n",
        "    indexes.append(int(regexp.search(f).group(3))) # Take the last group (index)\n",
        "    x, sr = librosa.load(directory+f, sr=None)     # Load audio file\n",
        "    sizes.append(x.size)\n",
        "    audios.append(x)                               # Put it in the list\n",
        "  pbar.update()                                    # updates progress bar\n",
        "pbar.refresh();\n",
        "\n",
        "# python lists to np.ndarray\n",
        "Y = np.asarray(labels)\n",
        "X = np.asarray(audios)\n",
        "I = np.asarray(indexes)"
      ],
      "execution_count": 6,
      "outputs": [
        {
          "output_type": "display_data",
          "data": {
            "application/vnd.jupyter.widget-view+json": {
              "model_id": "f178d06c820d405c8bdaafa8b9b75081",
              "version_minor": 0,
              "version_major": 2
            },
            "text/plain": [
              "HBox(children=(IntProgress(value=1, bar_style='info', description='Loading audio samples', max=1, style=Progre…"
            ]
          },
          "metadata": {
            "tags": []
          }
        }
      ]
    },
    {
      "cell_type": "markdown",
      "metadata": {
        "id": "lTW0Do61cffx",
        "colab_type": "text"
      },
      "source": [
        "## Preprocessing\n",
        "\n"
      ]
    },
    {
      "cell_type": "markdown",
      "metadata": {
        "id": "yNGpOhq9cNlZ",
        "colab_type": "text"
      },
      "source": [
        "**Legend:**\n",
        "  - Y are the label for the assignment dataset\n",
        "  - X is the original dataset with tracks trimmed to be 1 second long at maximum to avoid unwantend noise\n",
        "  - L is an X version in which every audio track with less than 8000 samples is zero padded to be 8000 samples long, so each track is 1 sec long\n",
        "  - N and S are the names of the speakers and sizes\n",
        "  - X_GD and Y_GD are respectively the Google Dataset's _audio tracks_ and _labels_\n",
        "\n",
        "\n",
        "Each of the dataset test and train partitions can be obtaind by appending \"_test\" and \"_train\" on their name (except for the Google ones that are intended to be partitioned only if needed)\n"
      ]
    },
    {
      "cell_type": "markdown",
      "metadata": {
        "id": "0Uk5AFVwzjH8",
        "colab_type": "text"
      },
      "source": [
        "### Assignment Dataset"
      ]
    },
    {
      "cell_type": "markdown",
      "metadata": {
        "id": "yRy39tdHb_mC",
        "colab_type": "text"
      },
      "source": [
        "Here we are doing the trimming on X and extending the files that are over 8000 samples long to be 8000 sample long on L"
      ]
    },
    {
      "cell_type": "code",
      "metadata": {
        "id": "5Pf4WjRYdOsk",
        "colab_type": "code",
        "outputId": "3ad4d61d-8132-40a5-fdb9-361b3145472c",
        "colab": {
          "base_uri": "https://localhost:8080/",
          "height": 49,
          "referenced_widgets": [
            "4772838e13574648923681d46e8eb820",
            "680a88f1f1954d719ee5dcb13e7e00cd",
            "f0d061c54963471384503116e2384473",
            "cd1c435c00b24da393c3f6b92c3f63d2",
            "6952945cadad4124a9d046b2dc97eb48",
            "13180f447bdc4b12b5cd433b5820d3a7",
            "667d10cafb9841b49bb530d65e3dff48",
            "b9ee8878ad3d4a9fa76c6e72ec2343bc"
          ]
        }
      },
      "source": [
        "'''\n",
        "Create an array (L) of empty audio tracks of 8000 samples\n",
        "For each audio track in X:\n",
        "  if the track is too long, trim it to be 1 second long (8000 samples)\n",
        "  Then fill the first\n",
        "'''\n",
        "# L is the trimmed and zero-padded dataset\n",
        "L = np.zeros((X.size, 8000))\n",
        "pbar = tqdm(desc='Zero Padding and trimming')\n",
        "pbar.reset(total=len(X))\n",
        "for i in range(len(X)):\n",
        "  if(X[i].size>8000): X[i] = X[i][0:8000] \n",
        "  L[i, 0:X[i].size] = X[i]                 \n",
        "  pbar.update();                             \n",
        "pbar.refresh();"
      ],
      "execution_count": 7,
      "outputs": [
        {
          "output_type": "display_data",
          "data": {
            "application/vnd.jupyter.widget-view+json": {
              "model_id": "4772838e13574648923681d46e8eb820",
              "version_minor": 0,
              "version_major": 2
            },
            "text/plain": [
              "HBox(children=(IntProgress(value=1, bar_style='info', description='Zero Padding and trimming', max=1, style=Pr…"
            ]
          },
          "metadata": {
            "tags": []
          }
        }
      ]
    },
    {
      "cell_type": "markdown",
      "metadata": {
        "id": "1ea_n8zeMLPV",
        "colab_type": "text"
      },
      "source": [
        "Here we're doing a train-test split using the conditions stated in the github repository"
      ]
    },
    {
      "cell_type": "code",
      "metadata": {
        "id": "Y1NMjl3kswRs",
        "colab_type": "code",
        "colab": {}
      },
      "source": [
        "is_in_test  = I <= 4\n",
        "is_in_train = I >  4\n",
        "\n",
        "Y_test, Y_train = Y[is_in_test], Y[is_in_train]\n",
        "L_test, L_train = L[is_in_test], L[is_in_train]  # Trimmed and zero-padded dataset\n",
        "X_test, X_train = X[is_in_test], X[is_in_train]  # Original dataset"
      ],
      "execution_count": 0,
      "outputs": []
    },
    {
      "cell_type": "markdown",
      "metadata": {
        "id": "IVc-mLjDZyl9",
        "colab_type": "text"
      },
      "source": [
        "If needed we can extract the speaker name and sizes too.  \n",
        "_(NB: the sizes was used for analysis purposes on the dataset and don't necessarily reflect the sizes used after the preprocessing step)_"
      ]
    },
    {
      "cell_type": "code",
      "metadata": {
        "id": "q5BJTfqvb0CL",
        "colab_type": "code",
        "colab": {}
      },
      "source": [
        "N = np.asarray(names)\n",
        "S = np.asarray(sizes)\n",
        "\n",
        "N_test, N_train = N[is_in_test], N[is_in_train]\n",
        "S_test, S_train = S[is_in_test], S[is_in_train]"
      ],
      "execution_count": 0,
      "outputs": []
    },
    {
      "cell_type": "markdown",
      "metadata": {
        "id": "D4huRZ4vzoic",
        "colab_type": "text"
      },
      "source": [
        "### Google Dataset"
      ]
    },
    {
      "cell_type": "markdown",
      "metadata": {
        "id": "pWM13ERH9Db4",
        "colab_type": "text"
      },
      "source": [
        "Extraction of the spoken digits from the Google Dataset (please be careful, the label here is an integer and not a string!)"
      ]
    },
    {
      "cell_type": "code",
      "metadata": {
        "id": "_TnQjYDS9n93",
        "colab_type": "code",
        "colab": {}
      },
      "source": [
        "X_GD = np.load('X_google_dataset.npy', allow_pickle=True)\n",
        "Y_GD = np.load('Y_google_dataset.npy', allow_pickle=True)"
      ],
      "execution_count": 0,
      "outputs": []
    },
    {
      "cell_type": "markdown",
      "metadata": {
        "id": "34AWUjUc6vYC",
        "colab_type": "text"
      },
      "source": [
        "## Features"
      ]
    },
    {
      "cell_type": "markdown",
      "metadata": {
        "id": "bWDCL45a3yyW",
        "colab_type": "text"
      },
      "source": [
        "This is a series of functions we used to do classification tests"
      ]
    },
    {
      "cell_type": "markdown",
      "metadata": {
        "id": "915As-xTJ3sZ",
        "colab_type": "text"
      },
      "source": [
        "### MFCC"
      ]
    },
    {
      "cell_type": "code",
      "metadata": {
        "id": "bTJnaTXIbLBR",
        "colab_type": "code",
        "colab": {}
      },
      "source": [
        "def compute_mfcc(audio, fs, n_mfcc):\n",
        "    # Compute the spectrogram of the audio signal\n",
        "    X = np.abs(librosa.stft(\n",
        "        audio,\n",
        "        window='hamming',\n",
        "        n_fft=1024,\n",
        "        hop_length=512,)\n",
        "        )\n",
        "    \n",
        "    # Find the weights of the mel filters\n",
        "    mel = librosa.filters.mel(\n",
        "        sr=fs,\n",
        "        n_fft=1024,\n",
        "        n_mels=40,\n",
        "        fmin=133,\n",
        "        fmax=4000\n",
        "    )\n",
        "\n",
        "    # Apply the filters to spectrogram\n",
        "    melspectrogram = np.dot(mel, X)\n",
        "\n",
        "    # Logarithm\n",
        "    log_melspectrogram = np.log10(melspectrogram + 1e-16)\n",
        "    \n",
        "    # DCT\n",
        "    mfcc = sp.fftpack.dct(log_melspectrogram, axis=0, norm='ortho')[1:n_mfcc+1]\n",
        "\n",
        "    return mfcc"
      ],
      "execution_count": 0,
      "outputs": []
    },
    {
      "cell_type": "markdown",
      "metadata": {
        "id": "LbYbnpev23_s",
        "colab_type": "text"
      },
      "source": [
        "### Zero Crossing Rate"
      ]
    },
    {
      "cell_type": "code",
      "metadata": {
        "id": "64zIrdME2-nW",
        "colab_type": "code",
        "colab": {}
      },
      "source": [
        "'''\n",
        "  Informations about windowing in order to not repeat them \n",
        "  everytime we compute a feature that needs to know the number and type of windows\n",
        "'''\n",
        "Fs=8000\n",
        "win_length = int(np.floor(0.01 * Fs)) \n",
        "hop_size = int(np.floor(0.0075 * Fs))\n",
        "audio_ref = L_test[1]\n",
        "win_number = int(np.floor((audio_ref.shape[0] - win_length) / hop_size))\n",
        "window = sp.signal.get_window(window='hanning', Nx=win_length)\n",
        "\n",
        "def compute_zcr(audio, fs):\n",
        "  zcr = np.zeros(win_number)\n",
        "  for n in np.arange(win_number):\n",
        "    frame = audio[n * hop_size : n * hop_size + win_length]\n",
        "    frame_win = frame * window\n",
        "    win_sign = np.sign(frame_win)\n",
        "    N = np.shape(frame_win)[0]\n",
        "    sign_diff = np.abs(win_sign[: -1] - win_sign[1 :])\n",
        "    zcr[n] = (fs / 2*N) * np.sum(sign_diff) \n",
        "  return zcr"
      ],
      "execution_count": 0,
      "outputs": []
    },
    {
      "cell_type": "markdown",
      "metadata": {
        "id": "8Hhoea4r3KK6",
        "colab_type": "text"
      },
      "source": [
        "### Spectral Decrease"
      ]
    },
    {
      "cell_type": "code",
      "metadata": {
        "id": "pxUd7WOq3IUS",
        "colab_type": "code",
        "colab": {}
      },
      "source": [
        "def compute_specdec(audio):\n",
        "  spectral_decrease = np.zeros(win_number)\n",
        "  for n in np.arange(win_number):\n",
        "    frame = audio[n * hop_size : n * hop_size + win_length]\n",
        "    frame_win = frame * window\n",
        "    spec = np.fft.fft(frame_win)\n",
        "    mul_fact = 1 / np.sum(np.abs(spec[1:]))\n",
        "    num = np.abs(spec[1:]) - np.tile(A = np.abs(spec[0]), reps=len(spec))[1:]\n",
        "    den = np.arange(1, len(spec)) - 1\n",
        "    spectral_decrease[n] = mul_fact * np.sum(num / den)\n",
        "  return spectral_decrease"
      ],
      "execution_count": 0,
      "outputs": []
    },
    {
      "cell_type": "markdown",
      "metadata": {
        "id": "ScFeE11S3TTZ",
        "colab_type": "text"
      },
      "source": [
        "### Spectral Centroid"
      ]
    },
    {
      "cell_type": "code",
      "metadata": {
        "id": "8TvVmeBU3SmM",
        "colab_type": "code",
        "colab": {}
      },
      "source": [
        "def compute_speccentr(audio):\n",
        "  speccentr = np.zeros(win_number)\n",
        "  for n in np.arange(win_number):\n",
        "    frame = audio[n * hop_size : n * hop_size + win_length]\n",
        "    frame_win = frame * window\n",
        "    spec = np.fft.fft(frame_win)\n",
        "    k_axis = np.arange(spec.shape[0])\n",
        "    speccentr[n] = np.sum(np.transpose(k_axis)*np.abs(spec)) / np.sum(np.abs(spec))\n",
        "  return speccentr"
      ],
      "execution_count": 0,
      "outputs": []
    },
    {
      "cell_type": "markdown",
      "metadata": {
        "id": "j4tcqY9mqp_V",
        "colab_type": "text"
      },
      "source": [
        "## Classification\n"
      ]
    },
    {
      "cell_type": "markdown",
      "metadata": {
        "id": "uimMGG-5zUXx",
        "colab_type": "text"
      },
      "source": [
        "### Functions for classification"
      ]
    },
    {
      "cell_type": "markdown",
      "metadata": {
        "id": "gi3bz9hQ5zKb",
        "colab_type": "text"
      },
      "source": [
        "This function encapsulates the previous functions to compare the performances during the classification step"
      ]
    },
    {
      "cell_type": "code",
      "metadata": {
        "id": "t64EJMJKm0Ef",
        "colab_type": "code",
        "colab": {}
      },
      "source": [
        "def feature_extraction(data, feat_type):\n",
        "  size = len(data)\n",
        "  \n",
        "  pbar = tqdm(desc='Feature extracion... [{}]'.format(feat_type))\n",
        "  pbar.reset(total=len(data))\n",
        "\n",
        "  Fs = 8000\n",
        "  features = None\n",
        "  Z= data.copy()\n",
        "  threshold_val = 0.1\n",
        "  for i in range(len(Z)):\n",
        "    Z_max = np.max(Z[i])\n",
        "    Z_min = np.min(Z[i])\n",
        "    conditions =  np.logical_and (Z[i]<Z_max*threshold_val, Z[i]>Z_min*threshold_val)\n",
        "    Z[i][conditions] = 0 \n",
        "   \n",
        "  \n",
        "  if(feat_type == \"mfcc20\"):\n",
        "    n_mfcc = 20\n",
        "    features = np.zeros((size, n_mfcc))\n",
        "    for i in range(size):\n",
        "      mfcc = compute_mfcc(data[i], Fs, n_mfcc)\n",
        "      features[i, :] = np.mean(mfcc, axis=1)\n",
        "      pbar.update()\n",
        "    pbar.refresh()\n",
        "  if(feat_type == \"mfcc13\"):\n",
        "    n_mfcc = 13\n",
        "    features = np.zeros((size, n_mfcc))\n",
        "    for i in range(size):\n",
        "      mfcc = compute_mfcc(data[i], Fs, n_mfcc)\n",
        "      features[i, :] = np.mean(mfcc, axis=1)\n",
        "      pbar.update()\n",
        "    pbar.refresh()\n",
        "  if(feat_type == \"zcr\"):\n",
        "    features = np.zeros((size, win_number))\n",
        "    for i in range(size):\n",
        "      features[i, :] = compute_zcr(Z[i], Fs)\n",
        "      pbar.update()\n",
        "    pbar.refresh()\n",
        "  if(feat_type == \"specdec\"): \n",
        "    features = np.zeros((size, win_number))\n",
        "    for i in range(size):\n",
        "      features[i, :] = compute_specdec(data[i])\n",
        "      pbar.update()\n",
        "    pbar.refresh()\n",
        "  if(feat_type == \"speccentr\"): \n",
        "      features = np.zeros((size, win_number))\n",
        "      for i in range(size):\n",
        "        features[i, :] = compute_speccentr(data[i])\n",
        "        pbar.update()\n",
        "      pbar.refresh()\n",
        "  if(feat_type == \"zcr+mfcc20\"):\n",
        "      n_mfcc = 20\n",
        "      features = np.zeros((size, n_mfcc + win_number +2)) \n",
        "      for i in range(size):\n",
        "        features[i,0:n_mfcc] = np.mean(compute_mfcc(data[i], Fs, n_mfcc), axis=1)\n",
        "        features[i,n_mfcc+1:-1] = compute_zcr(Z[i], Fs)\n",
        "        pbar.update()\n",
        "      pbar.refresh()  \n",
        "  return features"
      ],
      "execution_count": 0,
      "outputs": []
    },
    {
      "cell_type": "markdown",
      "metadata": {
        "id": "sWQXm5Z6EvrU",
        "colab_type": "text"
      },
      "source": [
        "Metrics to be used"
      ]
    },
    {
      "cell_type": "code",
      "metadata": {
        "id": "7FWNV7hLCyxr",
        "colab_type": "code",
        "colab": {}
      },
      "source": [
        "def compute_metrics (y_pred, y_test):\n",
        "  acc = accuracy_score(y_test, y_pred)\n",
        "  cm  = confusion_matrix(y_test, y_pred)\n",
        "\n",
        "  return [(\"Accuracy\",acc), (\"ConfusionMatrix\",cm)]"
      ],
      "execution_count": 0,
      "outputs": []
    },
    {
      "cell_type": "markdown",
      "metadata": {
        "id": "sFEqcf3DDoWc",
        "colab_type": "text"
      },
      "source": [
        "### Feature extraction"
      ]
    },
    {
      "cell_type": "code",
      "metadata": {
        "id": "q2XaAWvyDjcT",
        "colab_type": "code",
        "outputId": "aeb04b50-3b7e-43a9-804a-dd13623627b8",
        "colab": {
          "base_uri": "https://localhost:8080/",
          "height": 145,
          "referenced_widgets": [
            "4bc544d069ae4bdd8de9ea76fdcd6d69",
            "8163377d51194ce89eb21528c8b2cdad",
            "fba7ca3285d940c5a94e3493e4d53b5f",
            "48b0a535b01c4d03b4b628b95ed88f02",
            "705dfbf15c08448d850a3f0ccef2d763",
            "dfadfdfe77514c699a941b717e52eaa5",
            "587c43d13b3f4e7e82f2965122ecb5ab",
            "93c3690ff4e64215a0573b53360a727c",
            "4fe0c54a83fd41639383245a1a26b2dd",
            "26b9b049cad8482eb48675867e0ff197",
            "3de804ae2a0842d59eec4b74abe02727",
            "52672cf0a7ad4968a6aebb987ab59e2f",
            "3450d644649e4552ad214d7dc9243655",
            "867fdf4135d646d293ff145a30a52471",
            "1345640be3104964a2bae98fc78072c9",
            "ac3d266fd050486b82a2cef0f095d3ea",
            "d849c3dea4eb4924bff4aa3045b42cf4",
            "f3a07b96c7714271ba42e58e1f374920",
            "d43173bb43654c1ba31381abd4c4eeb8",
            "a5c60c87ac454ed59a0cbbcc85d1aa8d",
            "bfdbf3fa8a304f4a8a99c3c5d665c0cb",
            "40cde511300b42d598bf2b411a06265e",
            "5f3756b0a9d44af99008ab4ae5f8570d",
            "47fb2dd9be274841af974348801161f1",
            "1b84423d5f68496987e63037191f70ec",
            "14062996519146df81e816706f6348d4",
            "9df7c270b11f49b9973ec363747f0949",
            "f7d1dee063d841c587eca8e650f9e82d",
            "0152b12dc5da4099b88d8509e967f0c9",
            "0bd862b065fb4c34a127bc5dfcaba5a9",
            "8d3c22c3a2194beb8cad4748c05b1393",
            "dfc9a910ff4e4136a05aeaa9a3a794b1"
          ]
        }
      },
      "source": [
        "#This are the features that we want to extract using the feature_extraction function\n",
        "feature_methods = [\"mfcc13\", \"mfcc20\", \"zcr\", \"zcr+mfcc20\"]\n",
        "\n",
        "classifiers = []\n",
        "metrics_dict = {} # this will contain the metrics for each classifier and each feature\n",
        "                  # EX: for classifier \"foo\" and feature \"bar\" metrics_dict[\"foo\"][\"bar\"]\n",
        "\n",
        "# Feature Extraction and Scaling\n",
        "train_features_dict = {}\n",
        "\n",
        "scalers_dict = {}\n",
        "for fm in feature_methods:\n",
        "  train_feature = feature_extraction(L_train, fm)\n",
        "\n",
        "  scaler = MinMaxScaler()\n",
        "  scaler.fit(train_feature)\n",
        "  scaler.transform(train_feature)\n",
        "\n",
        "  train_features_dict[fm] = train_feature\n",
        "  scalers_dict[fm] = scaler"
      ],
      "execution_count": 17,
      "outputs": [
        {
          "output_type": "display_data",
          "data": {
            "application/vnd.jupyter.widget-view+json": {
              "model_id": "4bc544d069ae4bdd8de9ea76fdcd6d69",
              "version_minor": 0,
              "version_major": 2
            },
            "text/plain": [
              "HBox(children=(IntProgress(value=1, bar_style='info', description='Feature extracion... [mfcc13]', max=1, styl…"
            ]
          },
          "metadata": {
            "tags": []
          }
        },
        {
          "output_type": "display_data",
          "data": {
            "application/vnd.jupyter.widget-view+json": {
              "model_id": "4fe0c54a83fd41639383245a1a26b2dd",
              "version_minor": 0,
              "version_major": 2
            },
            "text/plain": [
              "HBox(children=(IntProgress(value=1, bar_style='info', description='Feature extracion... [mfcc20]', max=1, styl…"
            ]
          },
          "metadata": {
            "tags": []
          }
        },
        {
          "output_type": "display_data",
          "data": {
            "application/vnd.jupyter.widget-view+json": {
              "model_id": "d849c3dea4eb4924bff4aa3045b42cf4",
              "version_minor": 0,
              "version_major": 2
            },
            "text/plain": [
              "HBox(children=(IntProgress(value=1, bar_style='info', description='Feature extracion... [zcr]', max=1, style=P…"
            ]
          },
          "metadata": {
            "tags": []
          }
        },
        {
          "output_type": "display_data",
          "data": {
            "application/vnd.jupyter.widget-view+json": {
              "model_id": "1b84423d5f68496987e63037191f70ec",
              "version_minor": 0,
              "version_major": 2
            },
            "text/plain": [
              "HBox(children=(IntProgress(value=1, bar_style='info', description='Feature extracion... [zcr+mfcc20]', max=1, …"
            ]
          },
          "metadata": {
            "tags": []
          }
        }
      ]
    },
    {
      "cell_type": "markdown",
      "metadata": {
        "id": "IPxDIjTTAZal",
        "colab_type": "text"
      },
      "source": [
        "### Support Vector Machine"
      ]
    },
    {
      "cell_type": "code",
      "metadata": {
        "id": "gnLQ6LBTcAFU",
        "colab_type": "code",
        "outputId": "e3ea7c41-132a-4b97-e1c9-77f702f83d2e",
        "colab": {
          "base_uri": "https://localhost:8080/",
          "height": 1000,
          "referenced_widgets": [
            "088e6764bffe44cf8572a8032e4244c7",
            "94bc0baa17b8426190a9bed06ce499bb",
            "975aa92ebc69404e833590d0e66a3a5d",
            "7b851d3cb1d64417b6e7aa572737fc02",
            "f5069920a8e742649093c66eb8f90410",
            "b3988c394bbf4c5d841479d25b255e34",
            "f8ea48da80e0405aa86b9aeac2a95a69",
            "2e3fb97c4f184160a8058a3bc052b63f",
            "24368f0400d34280a7acdb15cadc4853",
            "23572bd9dd4845eca1cf839af46f7c07",
            "1723ec9866d9484fbee607935cd85f69",
            "47dc927ae67444a4ab825d9e4fbdea58",
            "563c41a9f6034887818127fbc146bf71",
            "cc90339d428b4fbfadefa6ef0177ea35",
            "299684eeea7241ed90870b3e3bfd41fc",
            "e3a481e38101466ca0e277d437348c6a",
            "11289cbb53134215a7aa119126eb4972",
            "61d70af52f27448ab6cb31b8c6097297",
            "22c372daa6134f1e88313a7f96e2f201",
            "0710eace6d904c58b72cce0358647ef2",
            "2b7101da794c4551ae34cca55e91dafa",
            "9e18614a224b493fac7a5a129c9ef900",
            "c479ae570c3d420683a83b7f37924488",
            "8b90bbff572048e7b644407da6f82002",
            "3e213436481c422fadd0a5627a3a544c",
            "7ef54bbe60e8417595ad9a25625d28f1",
            "2ffd37108dc64b15a1227310d6ae3f1d",
            "3921edae39284314ac2cdc4b382a045c",
            "a2f0387e24c94538a44bfa47e5da0ec0",
            "655b84d4c1cf4a6c899bfde010fe5336",
            "33c4c711bea04bf48f7173417817eeba",
            "6f2b62055f7846478fc86d68e69ac623"
          ]
        }
      },
      "source": [
        "# Classifier training\n",
        "SVM_dict = {}\n",
        "for fm in feature_methods:\n",
        "  clf = svm.SVC()\n",
        "  clf.fit(train_features_dict[fm], Y_train)\n",
        "  SVM_dict[fm] = clf\n",
        "\n",
        "\n",
        "# Test and metric computation\n",
        "SVM_metrics_dict = {}\n",
        "for fm in feature_methods:\n",
        "  # Feature extraction\n",
        "  test_features = feature_extraction(L_test, fm)\n",
        "  # Feature scaling\n",
        "  scalers_dict[fm].transform(test_features)\n",
        "\n",
        "  # Confusion Matrix Plot\n",
        "  disp = plot_confusion_matrix(SVM_dict[fm], test_features, Y_test)\n",
        "  disp.ax_.set_title(fm)\n",
        "  plt.show()\n",
        "\n",
        "  # Compute metrics\n",
        "  y_pred = SVM_dict[fm].predict(test_features)\n",
        "  metrics = compute_metrics (y_pred, Y_test)\n",
        "  SVM_metrics_dict[fm] = metrics\n",
        "\n",
        "classifiers.append('SVM')\n",
        "metrics_dict['SVM'] = SVM_metrics_dict"
      ],
      "execution_count": 18,
      "outputs": [
        {
          "output_type": "display_data",
          "data": {
            "application/vnd.jupyter.widget-view+json": {
              "model_id": "088e6764bffe44cf8572a8032e4244c7",
              "version_minor": 0,
              "version_major": 2
            },
            "text/plain": [
              "HBox(children=(IntProgress(value=1, bar_style='info', description='Feature extracion... [mfcc13]', max=1, styl…"
            ]
          },
          "metadata": {
            "tags": []
          }
        },
        {
          "output_type": "stream",
          "text": [
            "\n"
          ],
          "name": "stdout"
        },
        {
          "output_type": "display_data",
          "data": {
            "image/png": "[encoded data removed]",
            "text/plain": [
              "<Figure size 432x288 with 2 Axes>"
            ]
          },
          "metadata": {
            "tags": [],
            "needs_background": "light"
          }
        },
        {
          "output_type": "display_data",
          "data": {
            "application/vnd.jupyter.widget-view+json": {
              "model_id": "24368f0400d34280a7acdb15cadc4853",
              "version_minor": 0,
              "version_major": 2
            },
            "text/plain": [
              "HBox(children=(IntProgress(value=1, bar_style='info', description='Feature extracion... [mfcc20]', max=1, styl…"
            ]
          },
          "metadata": {
            "tags": []
          }
        },
        {
          "output_type": "stream",
          "text": [
            "\n"
          ],
          "name": "stdout"
        },
        {
          "output_type": "display_data",
          "data": {
            "image/png": "[encoded data removed]",
            "text/plain": [
              "<Figure size 432x288 with 2 Axes>"
            ]
          },
          "metadata": {
            "tags": [],
            "needs_background": "light"
          }
        },
        {
          "output_type": "display_data",
          "data": {
            "application/vnd.jupyter.widget-view+json": {
              "model_id": "11289cbb53134215a7aa119126eb4972",
              "version_minor": 0,
              "version_major": 2
            },
            "text/plain": [
              "HBox(children=(IntProgress(value=1, bar_style='info', description='Feature extracion... [zcr]', max=1, style=P…"
            ]
          },
          "metadata": {
            "tags": []
          }
        },
        {
          "output_type": "stream",
          "text": [
            "\n"
          ],
          "name": "stdout"
        },
        {
          "output_type": "display_data",
          "data": {
            "image/png": "[encoded data removed]",
            "text/plain": [
              "<Figure size 432x288 with 2 Axes>"
            ]
          },
          "metadata": {
            "tags": [],
            "needs_background": "light"
          }
        },
        {
          "output_type": "display_data",
          "data": {
            "application/vnd.jupyter.widget-view+json": {
              "model_id": "3e213436481c422fadd0a5627a3a544c",
              "version_minor": 0,
              "version_major": 2
            },
            "text/plain": [
              "HBox(children=(IntProgress(value=1, bar_style='info', description='Feature extracion... [zcr+mfcc20]', max=1, …"
            ]
          },
          "metadata": {
            "tags": []
          }
        },
        {
          "output_type": "stream",
          "text": [
            "\n"
          ],
          "name": "stdout"
        },
        {
          "output_type": "display_data",
          "data": {
            "image/png": "[encoded data removed]",
            "text/plain": [
              "<Figure size 432x288 with 2 Axes>"
            ]
          },
          "metadata": {
            "tags": [],
            "needs_background": "light"
          }
        }
      ]
    },
    {
      "cell_type": "markdown",
      "metadata": {
        "id": "_VEynSXsAczO",
        "colab_type": "text"
      },
      "source": [
        "### Random Forest Classifier"
      ]
    },
    {
      "cell_type": "code",
      "metadata": {
        "id": "jbXl8i1PAxN7",
        "colab_type": "code",
        "outputId": "1a4a111b-1156-4d4e-ea35-17b533021e30",
        "colab": {
          "base_uri": "https://localhost:8080/",
          "height": 1000,
          "referenced_widgets": [
            "7008da0e5a774cf289038b469a2d5856",
            "45e94a087c34403da8ef27301cc41970",
            "2a6b7f3f89b445e789160cb0d8b32c45",
            "7c3c0d1db2e74a2484c37e315ed7314a",
            "3bb27f22d77944a196928bb696b4014d",
            "12f8c45779064731932c8d5834762e9e",
            "6e8ac905695a4ed78506316c88f6ae66",
            "386770d672504775bda7f664d3a9b39d",
            "471c12cdedd442fca46f047f634eef98",
            "5de2f60ae8184de4b0976ec817b6b826",
            "6893a84ffdb34907bf7dd651af6586b8",
            "0615f64ed2c64433b0476a43e33a8956",
            "0d8969a2356f40fbaa05df684a5b8819",
            "521dab59bb4a4b8881a65f1ec6a0c401",
            "5246638063524b58b949768005f5f141",
            "3dd34ce9679e463db3963b8f4a2deba5",
            "e22037edb1ef421dac0509f108de8b91",
            "41b5eed03efe4f87807a693d04ff7027",
            "1a9c5d4ebee34429948fb25ac8b817dd",
            "5cd825aa8c1b4007b3e8f73532afc4b3",
            "0c2e04a7847b439b8d1d61ea05ec9552",
            "afa06bd2b7ab4841964b456a3c5c7efd",
            "c81c552486f64deda4ee377041af4dd5",
            "2b2f10efdb1a49ed9d990bffad568f82",
            "12a24345fb55439f90cce47f0df4a04f",
            "31b90e3254a34051bc23be92c79b6871",
            "4d9d4e4e049f4c48bb6954b127db10f7",
            "70d027c529844223a877e3a726c14f04",
            "911fb795374f489fb0544f774ebba64c",
            "c8e7cda66d2d4566a62464063698efad",
            "0e0cc195ee144ffea96ee551fdf8da5b",
            "f6a013bd7482484cad67da95a54b33c3"
          ]
        }
      },
      "source": [
        "# Classifier training\n",
        "RFC_dict = {}\n",
        "for fm in feature_methods:\n",
        "  clf = RandomForestClassifier(n_estimators=100, max_features=\"sqrt\")\n",
        "  clf.fit(train_features_dict[fm], Y_train)\n",
        "  RFC_dict[fm] = clf\n",
        "\n",
        "\n",
        "# Test and metric computation\n",
        "RFC_metrics_dict = {}\n",
        "for fm in feature_methods:\n",
        "  # Feature extraction\n",
        "  test_features = feature_extraction(L_test, fm)\n",
        "  # Feature scaling\n",
        "  scalers_dict[fm].transform(test_features)\n",
        "\n",
        "  # Confusion Matrix Plot\n",
        "  disp = plot_confusion_matrix(RFC_dict[fm], test_features, Y_test)\n",
        "  disp.ax_.set_title(fm)\n",
        "  plt.show()\n",
        "\n",
        "  y_pred = RFC_dict[fm].predict(test_features)\n",
        "  metrics = compute_metrics (y_pred, Y_test)\n",
        "  RFC_metrics_dict[fm] = metrics\n",
        "\n",
        "classifiers.append('RFC')\n",
        "metrics_dict['RFC'] = RFC_metrics_dict"
      ],
      "execution_count": 19,
      "outputs": [
        {
          "output_type": "display_data",
          "data": {
            "application/vnd.jupyter.widget-view+json": {
              "model_id": "7008da0e5a774cf289038b469a2d5856",
              "version_minor": 0,
              "version_major": 2
            },
            "text/plain": [
              "HBox(children=(IntProgress(value=1, bar_style='info', description='Feature extracion... [mfcc13]', max=1, styl…"
            ]
          },
          "metadata": {
            "tags": []
          }
        },
        {
          "output_type": "stream",
          "text": [
            "\n"
          ],
          "name": "stdout"
        },
        {
          "output_type": "display_data",
          "data": {
            "image/png": "[encoded data removed]",
            "text/plain": [
              "<Figure size 432x288 with 2 Axes>"
            ]
          },
          "metadata": {
            "tags": [],
            "needs_background": "light"
          }
        },
        {
          "output_type": "display_data",
          "data": {
            "application/vnd.jupyter.widget-view+json": {
              "model_id": "471c12cdedd442fca46f047f634eef98",
              "version_minor": 0,
              "version_major": 2
            },
            "text/plain": [
              "HBox(children=(IntProgress(value=1, bar_style='info', description='Feature extracion... [mfcc20]', max=1, styl…"
            ]
          },
          "metadata": {
            "tags": []
          }
        },
        {
          "output_type": "stream",
          "text": [
            "\n"
          ],
          "name": "stdout"
        },
        {
          "output_type": "display_data",
          "data": {
            "image/png": "[encoded data removed]",
            "text/plain": [
              "<Figure size 432x288 with 2 Axes>"
            ]
          },
          "metadata": {
            "tags": [],
            "needs_background": "light"
          }
        },
        {
          "output_type": "display_data",
          "data": {
            "application/vnd.jupyter.widget-view+json": {
              "model_id": "e22037edb1ef421dac0509f108de8b91",
              "version_minor": 0,
              "version_major": 2
            },
            "text/plain": [
              "HBox(children=(IntProgress(value=1, bar_style='info', description='Feature extracion... [zcr]', max=1, style=P…"
            ]
          },
          "metadata": {
            "tags": []
          }
        },
        {
          "output_type": "stream",
          "text": [
            "\n"
          ],
          "name": "stdout"
        },
        {
          "output_type": "display_data",
          "data": {
            "image/png": "[encoded data removed]",
            "text/plain": [
              "<Figure size 432x288 with 2 Axes>"
            ]
          },
          "metadata": {
            "tags": [],
            "needs_background": "light"
          }
        },
        {
          "output_type": "display_data",
          "data": {
            "application/vnd.jupyter.widget-view+json": {
              "model_id": "12a24345fb55439f90cce47f0df4a04f",
              "version_minor": 0,
              "version_major": 2
            },
            "text/plain": [
              "HBox(children=(IntProgress(value=1, bar_style='info', description='Feature extracion... [zcr+mfcc20]', max=1, …"
            ]
          },
          "metadata": {
            "tags": []
          }
        },
        {
          "output_type": "display_data",
          "data": {
            "image/png": "[encoded data removed]",
            "text/plain": [
              "<Figure size 432x288 with 2 Axes>"
            ]
          },
          "metadata": {
            "tags": [],
            "needs_background": "light"
          }
        }
      ]
    },
    {
      "cell_type": "markdown",
      "metadata": {
        "id": "utzHnVWjBMLS",
        "colab_type": "text"
      },
      "source": [
        "### Simple Neural Networks\n"
      ]
    },
    {
      "cell_type": "code",
      "metadata": {
        "id": "mfPZMcYvBSnr",
        "colab_type": "code",
        "outputId": "79b758d2-71b8-4842-f2fe-d54007e1a5df",
        "colab": {
          "base_uri": "https://localhost:8080/",
          "height": 1000,
          "referenced_widgets": [
            "7f20115df00b400aaae923ce317b20b1",
            "7f1a4834ef8e4cb4ab8d29567b5a5335",
            "f17c5ea03863401688fec583a2c57a11",
            "a40d4d22b5714930805bef9de3976b2a",
            "3b8ad32563ff48c497b6c3a36fc06249",
            "6df2ea04caad44d2807b1c5ee7189ef1",
            "b9698b6767f34fe1a20818b226b8aea0",
            "e2b3b729d8124673951c15b2ddfe101d"
          ]
        }
      },
      "source": [
        "# Feature that we want to use\n",
        "fm = \"mfcc20\"\n",
        "\n",
        "\n",
        "model = Sequential()\n",
        "model.add(Dense(15, input_dim=20, activation='tanh'))\n",
        "model.add(Dense(12, activation='tanh'))\n",
        "model.add(Dense(10, activation='softmax'))\n",
        "\n",
        "from keras.utils.vis_utils import plot_model\n",
        "plot_model(model, to_file='model_plot.png', show_shapes=True, show_layer_names=True)\n",
        "\n",
        "model.compile(loss='categorical_crossentropy', optimizer='adam', metrics=['accuracy'])\n",
        "\n",
        "ohe = OneHotEncoder()\n",
        "ohe_y_train = ohe.fit_transform(Y_train.astype(int).reshape(-1, 1)).toarray()\n",
        "ohe_y_test  = ohe.fit_transform(Y_test .astype(int).reshape(-1, 1)).toarray()\n",
        "\n",
        "history = model.fit(train_features_dict[fm], ohe_y_train, epochs=100, batch_size=64)\n",
        "\n",
        "# Feature extraction\n",
        "test_features = feature_extraction(X_test, fm)\n",
        "# Feature scaling\n",
        "scalers_dict[fm].transform(test_features)\n",
        "\n",
        "y_pred = model.predict(test_features)\n",
        "\n",
        "#Converting predictions to label\n",
        "pred = list()\n",
        "for i in range(len(y_pred)):\n",
        "    pred.append(np.argmax(y_pred[i]))\n",
        "#Converting one hot encoded test label to label\n",
        "test = list()\n",
        "for i in range(len(ohe_y_test)):\n",
        "    test.append(np.argmax(ohe_y_test[i]))\n",
        "\n",
        "plt.imshow(confusion_matrix(pred, test))\n",
        "metrics = compute_metrics(pred, test)\n",
        "\n",
        "classifiers.append(\"NN\")\n",
        "metrics_dict['NN'] = {fm : metrics}"
      ],
      "execution_count": 20,
      "outputs": [
        {
          "output_type": "stream",
          "text": [
            "Epoch 1/100\n",
            "1800/1800 [==============================] - 0s 71us/step - loss: 2.2763 - accuracy: 0.1717\n",
            "Epoch 2/100\n",
            "1800/1800 [==============================] - 0s 18us/step - loss: 2.2034 - accuracy: 0.2261\n",
            "Epoch 3/100\n",
            "1800/1800 [==============================] - 0s 20us/step - loss: 2.1309 - accuracy: 0.3133\n",
            "Epoch 4/100\n",
            "1800/1800 [==============================] - 0s 20us/step - loss: 2.0430 - accuracy: 0.3950\n",
            "Epoch 5/100\n",
            "1800/1800 [==============================] - 0s 19us/step - loss: 1.9394 - accuracy: 0.4467\n",
            "Epoch 6/100\n",
            "1800/1800 [==============================] - 0s 19us/step - loss: 1.8239 - accuracy: 0.4794\n",
            "Epoch 7/100\n",
            "1800/1800 [==============================] - 0s 19us/step - loss: 1.7105 - accuracy: 0.4994\n",
            "Epoch 8/100\n",
            "1800/1800 [==============================] - 0s 21us/step - loss: 1.6070 - accuracy: 0.5400\n",
            "Epoch 9/100\n",
            "1800/1800 [==============================] - 0s 19us/step - loss: 1.5140 - accuracy: 0.5489\n",
            "Epoch 10/100\n",
            "1800/1800 [==============================] - 0s 19us/step - loss: 1.4291 - accuracy: 0.5733\n",
            "Epoch 11/100\n",
            "1800/1800 [==============================] - 0s 19us/step - loss: 1.3515 - accuracy: 0.6006\n",
            "Epoch 12/100\n",
            "1800/1800 [==============================] - 0s 20us/step - loss: 1.2820 - accuracy: 0.6356\n",
            "Epoch 13/100\n",
            "1800/1800 [==============================] - 0s 24us/step - loss: 1.2180 - accuracy: 0.6678\n",
            "Epoch 14/100\n",
            "1800/1800 [==============================] - 0s 19us/step - loss: 1.1603 - accuracy: 0.6806\n",
            "Epoch 15/100\n",
            "1800/1800 [==============================] - 0s 19us/step - loss: 1.1077 - accuracy: 0.6994\n",
            "Epoch 16/100\n",
            "1800/1800 [==============================] - 0s 18us/step - loss: 1.0591 - accuracy: 0.7167\n",
            "Epoch 17/100\n",
            "1800/1800 [==============================] - 0s 18us/step - loss: 1.0150 - accuracy: 0.7267\n",
            "Epoch 18/100\n",
            "1800/1800 [==============================] - 0s 19us/step - loss: 0.9741 - accuracy: 0.7411\n",
            "Epoch 19/100\n",
            "1800/1800 [==============================] - 0s 20us/step - loss: 0.9373 - accuracy: 0.7450\n",
            "Epoch 20/100\n",
            "1800/1800 [==============================] - 0s 19us/step - loss: 0.9024 - accuracy: 0.7644\n",
            "Epoch 21/100\n",
            "1800/1800 [==============================] - 0s 19us/step - loss: 0.8698 - accuracy: 0.7672\n",
            "Epoch 22/100\n",
            "1800/1800 [==============================] - 0s 19us/step - loss: 0.8396 - accuracy: 0.7744\n",
            "Epoch 23/100\n",
            "1800/1800 [==============================] - 0s 19us/step - loss: 0.8113 - accuracy: 0.7828\n",
            "Epoch 24/100\n",
            "1800/1800 [==============================] - 0s 21us/step - loss: 0.7835 - accuracy: 0.7939\n",
            "Epoch 25/100\n",
            "1800/1800 [==============================] - 0s 19us/step - loss: 0.7594 - accuracy: 0.7933\n",
            "Epoch 26/100\n",
            "1800/1800 [==============================] - 0s 20us/step - loss: 0.7365 - accuracy: 0.7983\n",
            "Epoch 27/100\n",
            "1800/1800 [==============================] - 0s 20us/step - loss: 0.7141 - accuracy: 0.8022\n",
            "Epoch 28/100\n",
            "1800/1800 [==============================] - 0s 19us/step - loss: 0.6945 - accuracy: 0.8078\n",
            "Epoch 29/100\n",
            "1800/1800 [==============================] - 0s 22us/step - loss: 0.6760 - accuracy: 0.8117\n",
            "Epoch 30/100\n",
            "1800/1800 [==============================] - 0s 24us/step - loss: 0.6578 - accuracy: 0.8167\n",
            "Epoch 31/100\n",
            "1800/1800 [==============================] - 0s 23us/step - loss: 0.6411 - accuracy: 0.8172\n",
            "Epoch 32/100\n",
            "1800/1800 [==============================] - 0s 22us/step - loss: 0.6264 - accuracy: 0.8194\n",
            "Epoch 33/100\n",
            "1800/1800 [==============================] - 0s 22us/step - loss: 0.6118 - accuracy: 0.8250\n",
            "Epoch 34/100\n",
            "1800/1800 [==============================] - 0s 24us/step - loss: 0.5987 - accuracy: 0.8272\n",
            "Epoch 35/100\n",
            "1800/1800 [==============================] - 0s 22us/step - loss: 0.5857 - accuracy: 0.8333\n",
            "Epoch 36/100\n",
            "1800/1800 [==============================] - 0s 22us/step - loss: 0.5735 - accuracy: 0.8356\n",
            "Epoch 37/100\n",
            "1800/1800 [==============================] - 0s 22us/step - loss: 0.5619 - accuracy: 0.8389\n",
            "Epoch 38/100\n",
            "1800/1800 [==============================] - 0s 22us/step - loss: 0.5520 - accuracy: 0.8372\n",
            "Epoch 39/100\n",
            "1800/1800 [==============================] - 0s 27us/step - loss: 0.5413 - accuracy: 0.8417\n",
            "Epoch 40/100\n",
            "1800/1800 [==============================] - 0s 21us/step - loss: 0.5327 - accuracy: 0.8439\n",
            "Epoch 41/100\n",
            "1800/1800 [==============================] - 0s 22us/step - loss: 0.5233 - accuracy: 0.8472\n",
            "Epoch 42/100\n",
            "1800/1800 [==============================] - 0s 22us/step - loss: 0.5163 - accuracy: 0.8489\n",
            "Epoch 43/100\n",
            "1800/1800 [==============================] - 0s 23us/step - loss: 0.5082 - accuracy: 0.8511\n",
            "Epoch 44/100\n",
            "1800/1800 [==============================] - 0s 23us/step - loss: 0.4996 - accuracy: 0.8517\n",
            "Epoch 45/100\n",
            "1800/1800 [==============================] - 0s 22us/step - loss: 0.4923 - accuracy: 0.8522\n",
            "Epoch 46/100\n",
            "1800/1800 [==============================] - 0s 22us/step - loss: 0.4852 - accuracy: 0.8528\n",
            "Epoch 47/100\n",
            "1800/1800 [==============================] - 0s 22us/step - loss: 0.4786 - accuracy: 0.8528\n",
            "Epoch 48/100\n",
            "1800/1800 [==============================] - 0s 25us/step - loss: 0.4715 - accuracy: 0.8561\n",
            "Epoch 49/100\n",
            "1800/1800 [==============================] - 0s 22us/step - loss: 0.4664 - accuracy: 0.8572\n",
            "Epoch 50/100\n",
            "1800/1800 [==============================] - 0s 22us/step - loss: 0.4608 - accuracy: 0.8567\n",
            "Epoch 51/100\n",
            "1800/1800 [==============================] - 0s 22us/step - loss: 0.4547 - accuracy: 0.8589\n",
            "Epoch 52/100\n",
            "1800/1800 [==============================] - 0s 20us/step - loss: 0.4490 - accuracy: 0.8617\n",
            "Epoch 53/100\n",
            "1800/1800 [==============================] - 0s 21us/step - loss: 0.4433 - accuracy: 0.8611\n",
            "Epoch 54/100\n",
            "1800/1800 [==============================] - 0s 20us/step - loss: 0.4393 - accuracy: 0.8644\n",
            "Epoch 55/100\n",
            "1800/1800 [==============================] - 0s 19us/step - loss: 0.4337 - accuracy: 0.8672\n",
            "Epoch 56/100\n",
            "1800/1800 [==============================] - 0s 19us/step - loss: 0.4287 - accuracy: 0.8650\n",
            "Epoch 57/100\n",
            "1800/1800 [==============================] - 0s 22us/step - loss: 0.4241 - accuracy: 0.8672\n",
            "Epoch 58/100\n",
            "1800/1800 [==============================] - 0s 26us/step - loss: 0.4199 - accuracy: 0.8667\n",
            "Epoch 59/100\n",
            "1800/1800 [==============================] - 0s 24us/step - loss: 0.4156 - accuracy: 0.8683\n",
            "Epoch 60/100\n",
            "1800/1800 [==============================] - 0s 21us/step - loss: 0.4106 - accuracy: 0.8722\n",
            "Epoch 61/100\n",
            "1800/1800 [==============================] - 0s 22us/step - loss: 0.4071 - accuracy: 0.8711\n",
            "Epoch 62/100\n",
            "1800/1800 [==============================] - 0s 22us/step - loss: 0.4027 - accuracy: 0.8706\n",
            "Epoch 63/100\n",
            "1800/1800 [==============================] - 0s 23us/step - loss: 0.3993 - accuracy: 0.8733\n",
            "Epoch 64/100\n",
            "1800/1800 [==============================] - 0s 25us/step - loss: 0.3969 - accuracy: 0.8722\n",
            "Epoch 65/100\n",
            "1800/1800 [==============================] - 0s 21us/step - loss: 0.3920 - accuracy: 0.8783\n",
            "Epoch 66/100\n",
            "1800/1800 [==============================] - 0s 22us/step - loss: 0.3874 - accuracy: 0.8800\n",
            "Epoch 67/100\n",
            "1800/1800 [==============================] - 0s 23us/step - loss: 0.3845 - accuracy: 0.8817\n",
            "Epoch 68/100\n",
            "1800/1800 [==============================] - 0s 24us/step - loss: 0.3810 - accuracy: 0.8806\n",
            "Epoch 69/100\n",
            "1800/1800 [==============================] - 0s 22us/step - loss: 0.3777 - accuracy: 0.8817\n",
            "Epoch 70/100\n",
            "1800/1800 [==============================] - 0s 22us/step - loss: 0.3737 - accuracy: 0.8844\n",
            "Epoch 71/100\n",
            "1800/1800 [==============================] - 0s 22us/step - loss: 0.3719 - accuracy: 0.8878\n",
            "Epoch 72/100\n",
            "1800/1800 [==============================] - 0s 22us/step - loss: 0.3679 - accuracy: 0.8883\n",
            "Epoch 73/100\n",
            "1800/1800 [==============================] - 0s 22us/step - loss: 0.3650 - accuracy: 0.8872\n",
            "Epoch 74/100\n",
            "1800/1800 [==============================] - 0s 22us/step - loss: 0.3616 - accuracy: 0.8883\n",
            "Epoch 75/100\n",
            "1800/1800 [==============================] - 0s 19us/step - loss: 0.3595 - accuracy: 0.8911\n",
            "Epoch 76/100\n",
            "1800/1800 [==============================] - 0s 19us/step - loss: 0.3564 - accuracy: 0.8922\n",
            "Epoch 77/100\n",
            "1800/1800 [==============================] - 0s 20us/step - loss: 0.3539 - accuracy: 0.8917\n",
            "Epoch 78/100\n",
            "1800/1800 [==============================] - 0s 18us/step - loss: 0.3506 - accuracy: 0.8922\n",
            "Epoch 79/100\n",
            "1800/1800 [==============================] - 0s 18us/step - loss: 0.3480 - accuracy: 0.8944\n",
            "Epoch 80/100\n",
            "1800/1800 [==============================] - 0s 18us/step - loss: 0.3465 - accuracy: 0.8928\n",
            "Epoch 81/100\n",
            "1800/1800 [==============================] - 0s 19us/step - loss: 0.3434 - accuracy: 0.8956\n",
            "Epoch 82/100\n",
            "1800/1800 [==============================] - 0s 21us/step - loss: 0.3406 - accuracy: 0.8983\n",
            "Epoch 83/100\n",
            "1800/1800 [==============================] - 0s 20us/step - loss: 0.3386 - accuracy: 0.8956\n",
            "Epoch 84/100\n",
            "1800/1800 [==============================] - 0s 19us/step - loss: 0.3356 - accuracy: 0.8989\n",
            "Epoch 85/100\n",
            "1800/1800 [==============================] - 0s 18us/step - loss: 0.3334 - accuracy: 0.8967\n",
            "Epoch 86/100\n",
            "1800/1800 [==============================] - 0s 19us/step - loss: 0.3312 - accuracy: 0.8994\n",
            "Epoch 87/100\n",
            "1800/1800 [==============================] - 0s 20us/step - loss: 0.3280 - accuracy: 0.9033\n",
            "Epoch 88/100\n",
            "1800/1800 [==============================] - 0s 19us/step - loss: 0.3257 - accuracy: 0.8994\n",
            "Epoch 89/100\n",
            "1800/1800 [==============================] - 0s 19us/step - loss: 0.3238 - accuracy: 0.8989\n",
            "Epoch 90/100\n",
            "1800/1800 [==============================] - 0s 21us/step - loss: 0.3225 - accuracy: 0.9011\n",
            "Epoch 91/100\n",
            "1800/1800 [==============================] - 0s 19us/step - loss: 0.3199 - accuracy: 0.9017\n",
            "Epoch 92/100\n",
            "1800/1800 [==============================] - 0s 18us/step - loss: 0.3177 - accuracy: 0.9028\n",
            "Epoch 93/100\n",
            "1800/1800 [==============================] - 0s 21us/step - loss: 0.3156 - accuracy: 0.9011\n",
            "Epoch 94/100\n",
            "1800/1800 [==============================] - 0s 20us/step - loss: 0.3129 - accuracy: 0.9028\n",
            "Epoch 95/100\n",
            "1800/1800 [==============================] - 0s 19us/step - loss: 0.3116 - accuracy: 0.9039\n",
            "Epoch 96/100\n",
            "1800/1800 [==============================] - 0s 19us/step - loss: 0.3100 - accuracy: 0.9056\n",
            "Epoch 97/100\n",
            "1800/1800 [==============================] - 0s 18us/step - loss: 0.3074 - accuracy: 0.9056\n",
            "Epoch 98/100\n",
            "1800/1800 [==============================] - 0s 21us/step - loss: 0.3065 - accuracy: 0.9039\n",
            "Epoch 99/100\n",
            "1800/1800 [==============================] - 0s 21us/step - loss: 0.3046 - accuracy: 0.9089\n",
            "Epoch 100/100\n",
            "1800/1800 [==============================] - 0s 19us/step - loss: 0.3022 - accuracy: 0.9067\n"
          ],
          "name": "stdout"
        },
        {
          "output_type": "display_data",
          "data": {
            "application/vnd.jupyter.widget-view+json": {
              "model_id": "7f20115df00b400aaae923ce317b20b1",
              "version_minor": 0,
              "version_major": 2
            },
            "text/plain": [
              "HBox(children=(IntProgress(value=1, bar_style='info', description='Feature extracion... [mfcc20]', max=1, styl…"
            ]
          },
          "metadata": {
            "tags": []
          }
        },
        {
          "output_type": "stream",
          "text": [
            "\n"
          ],
          "name": "stdout"
        },
        {
          "output_type": "display_data",
          "data": {
            "image/png": "[encoded data removed]",
            "text/plain": [
              "<Figure size 432x288 with 1 Axes>"
            ]
          },
          "metadata": {
            "tags": [],
            "needs_background": "light"
          }
        }
      ]
    },
    {
      "cell_type": "markdown",
      "metadata": {
        "id": "2iOgvxC5GZti",
        "colab_type": "text"
      },
      "source": [
        "## Performance Evaluation"
      ]
    },
    {
      "cell_type": "markdown",
      "metadata": {
        "id": "yD6U5gIVGb1A",
        "colab_type": "text"
      },
      "source": [
        "Here we can evaluate the performance of the classifiers using the metrics previously computed"
      ]
    },
    {
      "cell_type": "code",
      "metadata": {
        "id": "tw5E5D0kGrFl",
        "colab_type": "code",
        "outputId": "b94be049-309e-4cae-dfb2-ff3a29b6c470",
        "colab": {
          "base_uri": "https://localhost:8080/",
          "height": 1000
        }
      },
      "source": [
        "for c in classifiers:\n",
        "  print(\"========\", c, \"========\")\n",
        "  for fm in feature_methods:\n",
        "    if metrics_dict.get(c) != None and metrics_dict.get(c).get(fm) != None:\n",
        "      print(\"#\", fm, \"#\")\n",
        "      for m in metrics_dict[c][fm]:\n",
        "        print(\"[{}]\".format(m[0]))\n",
        "        print(\"{}\".format(m[1]))\n",
        "  print(\"===========================\\n\")"
      ],
      "execution_count": 21,
      "outputs": [
        {
          "output_type": "stream",
          "text": [
            "======== SVM ========\n",
            "# mfcc13 #\n",
            "[Accuracy]\n",
            "0.94\n",
            "[ConfusionMatrix]\n",
            "[[20  0  0  0  0  0  0  0  0  0]\n",
            " [ 0 19  0  0  0  1  0  0  0  0]\n",
            " [ 0  0 19  1  0  0  0  0  0  0]\n",
            " [ 1  0  1 18  0  0  0  0  0  0]\n",
            " [ 0  0  0  0 19  1  0  0  0  0]\n",
            " [ 0  0  0  0  0 20  0  0  0  0]\n",
            " [ 0  0  0  0  0  0 20  0  0  0]\n",
            " [ 0  0  0  0  0  0  0 20  0  0]\n",
            " [ 0  0  0  0  0  0  1  0 19  0]\n",
            " [ 0  2  0  0  0  1  0  3  0 14]]\n",
            "# mfcc20 #\n",
            "[Accuracy]\n",
            "0.965\n",
            "[ConfusionMatrix]\n",
            "[[20  0  0  0  0  0  0  0  0  0]\n",
            " [ 0 20  0  0  0  0  0  0  0  0]\n",
            " [ 0  0 19  1  0  0  0  0  0  0]\n",
            " [ 1  0  0 19  0  0  0  0  0  0]\n",
            " [ 0  0  0  0 20  0  0  0  0  0]\n",
            " [ 0  0  0  0  0 20  0  0  0  0]\n",
            " [ 0  0  0  0  0  0 20  0  0  0]\n",
            " [ 0  0  0  0  0  0  0 20  0  0]\n",
            " [ 0  0  0  0  0  0  1  0 19  0]\n",
            " [ 0  1  0  0  0  0  0  3  0 16]]\n",
            "# zcr #\n",
            "[Accuracy]\n",
            "0.56\n",
            "[ConfusionMatrix]\n",
            "[[12  0  0  0  6  1  0  1  0  0]\n",
            " [ 0 10  0  0  1  0  1  0  5  3]\n",
            " [ 1  0  9  2  1  0  4  2  0  1]\n",
            " [ 3  0  2  7  0  0  3  1  2  2]\n",
            " [ 0  2  0  2 10  1  1  1  2  1]\n",
            " [ 0  3  0  0  1  9  0  0  5  2]\n",
            " [ 0  0  1  1  0  0 17  1  0  0]\n",
            " [ 0  1  1  1  1  0  2 13  1  0]\n",
            " [ 0  0  0  0  4  2  2  0 12  0]\n",
            " [ 1  1  0  0  2  2  1  0  0 13]]\n",
            "# zcr+mfcc20 #\n",
            "[Accuracy]\n",
            "0.555\n",
            "[ConfusionMatrix]\n",
            "[[12  0  0  0  6  1  0  1  0  0]\n",
            " [ 0 10  0  0  1  0  1  0  5  3]\n",
            " [ 1  0  9  2  1  0  4  2  0  1]\n",
            " [ 3  0  2  6  0  0  3  2  2  2]\n",
            " [ 0  2  0  2 10  1  1  1  2  1]\n",
            " [ 0  4  0  0  1  9  0  0  4  2]\n",
            " [ 0  0  1  1  0  0 17  1  0  0]\n",
            " [ 0  1  1  1  1  0  2 13  1  0]\n",
            " [ 0  0  0  0  4  2  2  0 12  0]\n",
            " [ 1  1  0  0  2  2  1  0  0 13]]\n",
            "===========================\n",
            "\n",
            "======== RFC ========\n",
            "# mfcc13 #\n",
            "[Accuracy]\n",
            "0.93\n",
            "[ConfusionMatrix]\n",
            "[[20  0  0  0  0  0  0  0  0  0]\n",
            " [ 0 16  0  0  0  0  0  0  0  4]\n",
            " [ 0  0 20  0  0  0  0  0  0  0]\n",
            " [ 0  0  3 17  0  0  0  0  0  0]\n",
            " [ 0  0  0  0 20  0  0  0  0  0]\n",
            " [ 0  0  0  0  0 20  0  0  0  0]\n",
            " [ 0  0  0  1  0  0 19  0  0  0]\n",
            " [ 0  0  0  0  0  0  0 20  0  0]\n",
            " [ 0  0  0  0  0  0  1  0 19  0]\n",
            " [ 0  3  0  0  0  0  0  2  0 15]]\n",
            "# mfcc20 #\n",
            "[Accuracy]\n",
            "0.945\n",
            "[ConfusionMatrix]\n",
            "[[20  0  0  0  0  0  0  0  0  0]\n",
            " [ 0 16  0  0  0  0  0  0  0  4]\n",
            " [ 0  0 20  0  0  0  0  0  0  0]\n",
            " [ 0  0  2 18  0  0  0  0  0  0]\n",
            " [ 0  0  0  0 20  0  0  0  0  0]\n",
            " [ 0  0  0  0  0 20  0  0  0  0]\n",
            " [ 0  0  0  0  0  0 20  0  0  0]\n",
            " [ 0  0  0  0  0  0  0 20  0  0]\n",
            " [ 0  0  0  0  0  0  1  0 19  0]\n",
            " [ 0  2  0  0  0  0  0  2  0 16]]\n",
            "# zcr #\n",
            "[Accuracy]\n",
            "0.67\n",
            "[ConfusionMatrix]\n",
            "[[15  0  0  1  4  0  0  0  0  0]\n",
            " [ 0 15  0  0  0  0  2  0  1  2]\n",
            " [ 2  0 15  2  0  0  1  0  0  0]\n",
            " [ 2  0  5  8  1  0  1  0  1  2]\n",
            " [ 0  2  0  3  9  0  0  1  3  2]\n",
            " [ 0  0  1  0  1 13  0  0  4  1]\n",
            " [ 1  0  0  0  0  1 18  0  0  0]\n",
            " [ 0  0  0  0  2  0  2 15  1  0]\n",
            " [ 0  2  0  0  3  0  1  1 13  0]\n",
            " [ 2  1  0  0  2  2  0  0  0 13]]\n",
            "# zcr+mfcc20 #\n",
            "[Accuracy]\n",
            "0.95\n",
            "[ConfusionMatrix]\n",
            "[[19  0  0  0  1  0  0  0  0  0]\n",
            " [ 0 17  0  0  0  0  0  1  0  2]\n",
            " [ 0  0 20  0  0  0  0  0  0  0]\n",
            " [ 1  0  2 17  0  0  0  0  0  0]\n",
            " [ 0  0  0  0 20  0  0  0  0  0]\n",
            " [ 0  0  0  0  0 20  0  0  0  0]\n",
            " [ 0  0  0  0  0  0 20  0  0  0]\n",
            " [ 0  0  0  0  0  0  0 20  0  0]\n",
            " [ 0  0  0  0  0  0  1  0 19  0]\n",
            " [ 0  0  0  0  0  0  0  2  0 18]]\n",
            "===========================\n",
            "\n",
            "======== NN ========\n",
            "# mfcc20 #\n",
            "[Accuracy]\n",
            "0.715\n",
            "[ConfusionMatrix]\n",
            "[[17  0  0  3  0  0  0  0  0  0]\n",
            " [ 0 12  0  0  7  1  0  0  0  0]\n",
            " [ 4  0 12  4  0  0  0  0  0  0]\n",
            " [ 2  0  5 12  0  0  0  0  0  1]\n",
            " [ 2  0  0  0 18  0  0  0  0  0]\n",
            " [ 0  0  0  0  2 18  0  0  0  0]\n",
            " [ 3  0  0  5  0  0  6  1  5  0]\n",
            " [ 1  0  0  0  0  3  0 15  1  0]\n",
            " [ 0  0  0  0  0  0  1  0 19  0]\n",
            " [ 0  3  0  0  0  1  0  2  0 14]]\n",
            "===========================\n",
            "\n"
          ],
          "name": "stdout"
        }
      ]
    },
    {
      "cell_type": "markdown",
      "metadata": {
        "id": "2VrB-nUTDMYM",
        "colab_type": "text"
      },
      "source": [
        "## Google Dataset Results"
      ]
    },
    {
      "cell_type": "code",
      "metadata": {
        "id": "wrqrgU_DDLvk",
        "colab_type": "code",
        "outputId": "da894cb8-83e6-470d-8c4c-baac71635358",
        "colab": {
          "base_uri": "https://localhost:8080/",
          "height": 67,
          "referenced_widgets": [
            "7555712e9fa24ec39ad6207535a8abd0",
            "d20138236eb14789aff510fba3645816",
            "21bddb1720874530a7f6fbe3a94b7446",
            "d8ac50f51b8940d7ac1d186b695a535f",
            "2f51801bd3914546b6d1c9a5975d0fa5",
            "b2f98de5166b48ae81b1ddc9a4fb00d1",
            "58590034945243a8b485a898013224bf",
            "76424012ddb54d06b0e833049ae3f215"
          ]
        }
      },
      "source": [
        "fm = 'mfcc20'\n",
        "clf = 'RFC'\n",
        "\n",
        "# Y_GD labels are ints\n",
        "y_test = np.char.mod('%d', Y_GD)\n",
        "\n",
        "#ohe_y_test  = ohe.fit_transform(Y_GD .astype(int).reshape(-1, 1)).toarray()\n",
        "\n",
        "# Feature extraction\n",
        "test_features = feature_extraction(X_GD, fm)\n",
        "# Feature scaling\n",
        "scalers_dict[fm].transform(test_features)\n",
        "\n",
        "# Confusion Matrix Plot\n",
        "plt.rcParams['figure.figsize'] = [10, 10]\n",
        "y_pred = RFC_dict[fm].predict(test_features)\n",
        "#y_pred = model.predict(test_features)\n",
        "'''\n",
        "pred = list()\n",
        "for i in range(len(y_pred)):\n",
        "    pred.append(np.argmax(y_pred[i]))\n",
        "#Converting one hot encoded test label to label\n",
        "test = list()\n",
        "for i in range(len(ohe_y_test)):\n",
        "    test.append(np.argmax(ohe_y_test[i]))\n",
        "   ''' \n",
        "print(accuracy_score(y_test, y_pred))\n",
        "#disp = plot_confusion_matrix(RFC_dict[fm], test_features, y_test)\n",
        "#disp.ax_.set_title(fm)\n",
        "#plt.show()"
      ],
      "execution_count": 26,
      "outputs": [
        {
          "output_type": "display_data",
          "data": {
            "application/vnd.jupyter.widget-view+json": {
              "model_id": "7555712e9fa24ec39ad6207535a8abd0",
              "version_minor": 0,
              "version_major": 2
            },
            "text/plain": [
              "HBox(children=(IntProgress(value=1, bar_style='info', description='Feature extracion... [mfcc20]', max=1, styl…"
            ]
          },
          "metadata": {
            "tags": []
          }
        },
        {
          "output_type": "stream",
          "text": [
            "0.3919969576607792\n"
          ],
          "name": "stdout"
        }
      ]
    },
    {
      "cell_type": "markdown",
      "metadata": {
        "id": "LFhB1sClJTMv",
        "colab_type": "text"
      },
      "source": [
        "## Style"
      ]
    },
    {
      "cell_type": "code",
      "metadata": {
        "id": "VrXMakXHJceG",
        "colab_type": "code",
        "colab": {}
      },
      "source": [
        "import matplotlib as mpl\n",
        "COLOR = 'darkgrey'\n",
        "mpl.rcParams['text.color'] = COLOR\n",
        "mpl.rcParams['axes.labelcolor'] = COLOR\n",
        "mpl.rcParams['xtick.color'] = COLOR\n",
        "mpl.rcParams['ytick.color'] = COLOR"
      ],
      "execution_count": 0,
      "outputs": []
    }
  ]
}